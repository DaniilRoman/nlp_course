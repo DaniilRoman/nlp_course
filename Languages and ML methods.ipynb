{
  "nbformat": 4,
  "nbformat_minor": 0,
  "metadata": {
    "kernelspec": {
      "display_name": "Python 3",
      "language": "python",
      "name": "python3"
    },
    "language_info": {
      "codemirror_mode": {
        "name": "ipython",
        "version": 3
      },
      "file_extension": ".py",
      "mimetype": "text/x-python",
      "name": "python",
      "nbconvert_exporter": "python",
      "pygments_lexer": "ipython3",
      "version": "3.8.2"
    },
    "colab": {
      "name": "Naming baseline.ipynb",
      "provenance": [],
      "collapsed_sections": []
    }
  },
  "cells": [
    {
      "cell_type": "code",
      "metadata": {
        "colab": {
          "base_uri": "https://localhost:8080/"
        },
        "id": "onPkNqnAP18W",
        "outputId": "7aa9efa5-5272-41dc-de08-9e2489ab6fa7"
      },
      "source": [
        "%pylab inline\n",
        "plt.style.use(\"bmh\")"
      ],
      "execution_count": null,
      "outputs": [
        {
          "output_type": "stream",
          "text": [
            "Populating the interactive namespace from numpy and matplotlib\n"
          ],
          "name": "stdout"
        }
      ]
    },
    {
      "cell_type": "code",
      "metadata": {
        "id": "uUTcjyebP18Y"
      },
      "source": [
        "import pathlib\n",
        "import pandas as pd\n",
        "\n",
        "from sklearn.metrics import classification_report, f1_score\n",
        "from sklearn.model_selection import StratifiedShuffleSplit\n",
        "from sklearn.ensemble import RandomForestClassifier\n",
        "from sklearn.linear_model import LogisticRegression"
      ],
      "execution_count": null,
      "outputs": []
    },
    {
      "cell_type": "code",
      "metadata": {
        "id": "s-XRrnAsP18Y"
      },
      "source": [
        "from tqdm import tqdm\n",
        "tqdm.pandas()"
      ],
      "execution_count": null,
      "outputs": []
    },
    {
      "cell_type": "code",
      "metadata": {
        "id": "-l8ffefnP18Y"
      },
      "source": [
        "RS = 7345"
      ],
      "execution_count": null,
      "outputs": []
    },
    {
      "cell_type": "markdown",
      "metadata": {
        "id": "Zflf35pIP18Y"
      },
      "source": [
        "# Загрузка данных"
      ]
    },
    {
      "cell_type": "code",
      "metadata": {
        "colab": {
          "base_uri": "https://localhost:8080/"
        },
        "id": "SoiSVGtGQHM7",
        "outputId": "2d78ccaf-e50e-47be-876d-461de005c454"
      },
      "source": [
        "from google.colab import drive\n",
        "drive.mount('/content/drive')"
      ],
      "execution_count": null,
      "outputs": [
        {
          "output_type": "stream",
          "text": [
            "Mounted at /content/drive\n"
          ],
          "name": "stdout"
        }
      ]
    },
    {
      "cell_type": "code",
      "metadata": {
        "id": "6YaDMZ4aP18Y"
      },
      "source": [
        "DATA_DIR = pathlib.Path(\"/content/drive/My Drive/sibur/\")"
      ],
      "execution_count": null,
      "outputs": []
    },
    {
      "cell_type": "code",
      "metadata": {
        "id": "8iZMNOy0P18Y"
      },
      "source": [
        "train = pd.read_csv(DATA_DIR.joinpath(\"train.csv\"), index_col=\"pair_id\")\n",
        "test = pd.read_csv(DATA_DIR.joinpath(\"test.csv\"), index_col=\"pair_id\")"
      ],
      "execution_count": null,
      "outputs": []
    },
    {
      "cell_type": "code",
      "metadata": {
        "colab": {
          "base_uri": "https://localhost:8080/",
          "height": 235
        },
        "id": "NDI2Oy9CP18Z",
        "outputId": "6525b783-2c72-4f3f-f7bf-d9643b267c8c"
      },
      "source": [
        "train.head()"
      ],
      "execution_count": null,
      "outputs": [
        {
          "output_type": "execute_result",
          "data": {
            "text/html": [
              "<div>\n",
              "<style scoped>\n",
              "    .dataframe tbody tr th:only-of-type {\n",
              "        vertical-align: middle;\n",
              "    }\n",
              "\n",
              "    .dataframe tbody tr th {\n",
              "        vertical-align: top;\n",
              "    }\n",
              "\n",
              "    .dataframe thead th {\n",
              "        text-align: right;\n",
              "    }\n",
              "</style>\n",
              "<table border=\"1\" class=\"dataframe\">\n",
              "  <thead>\n",
              "    <tr style=\"text-align: right;\">\n",
              "      <th></th>\n",
              "      <th>name_1</th>\n",
              "      <th>name_2</th>\n",
              "      <th>is_duplicate</th>\n",
              "    </tr>\n",
              "    <tr>\n",
              "      <th>pair_id</th>\n",
              "      <th></th>\n",
              "      <th></th>\n",
              "      <th></th>\n",
              "    </tr>\n",
              "  </thead>\n",
              "  <tbody>\n",
              "    <tr>\n",
              "      <th>1</th>\n",
              "      <td>Iko Industries Ltd.</td>\n",
              "      <td>Enormous Industrial Trade Pvt., Ltd.</td>\n",
              "      <td>0</td>\n",
              "    </tr>\n",
              "    <tr>\n",
              "      <th>2</th>\n",
              "      <td>Apcotex Industries Ltd.</td>\n",
              "      <td>Technocraft Industries (India) Ltd.</td>\n",
              "      <td>0</td>\n",
              "    </tr>\n",
              "    <tr>\n",
              "      <th>3</th>\n",
              "      <td>Rishichem Distributors Pvt., Ltd.</td>\n",
              "      <td>Dsa</td>\n",
              "      <td>0</td>\n",
              "    </tr>\n",
              "    <tr>\n",
              "      <th>4</th>\n",
              "      <td>Powermax Rubber Factory</td>\n",
              "      <td>Co. One</td>\n",
              "      <td>0</td>\n",
              "    </tr>\n",
              "    <tr>\n",
              "      <th>5</th>\n",
              "      <td>Tress A/S</td>\n",
              "      <td>Longyou Industries Park Zhejiang</td>\n",
              "      <td>0</td>\n",
              "    </tr>\n",
              "  </tbody>\n",
              "</table>\n",
              "</div>"
            ],
            "text/plain": [
              "                                    name_1  ... is_duplicate\n",
              "pair_id                                     ...             \n",
              "1                      Iko Industries Ltd.  ...            0\n",
              "2                  Apcotex Industries Ltd.  ...            0\n",
              "3        Rishichem Distributors Pvt., Ltd.  ...            0\n",
              "4                  Powermax Rubber Factory  ...            0\n",
              "5                                Tress A/S  ...            0\n",
              "\n",
              "[5 rows x 3 columns]"
            ]
          },
          "metadata": {
            "tags": []
          },
          "execution_count": 8
        }
      ]
    },
    {
      "cell_type": "code",
      "metadata": {
        "colab": {
          "base_uri": "https://localhost:8080/",
          "height": 235
        },
        "id": "PbCzybRtP18Z",
        "outputId": "c6ff88ae-d11c-406c-b074-77132ca9ab5c"
      },
      "source": [
        "test.head()"
      ],
      "execution_count": null,
      "outputs": [
        {
          "output_type": "execute_result",
          "data": {
            "text/html": [
              "<div>\n",
              "<style scoped>\n",
              "    .dataframe tbody tr th:only-of-type {\n",
              "        vertical-align: middle;\n",
              "    }\n",
              "\n",
              "    .dataframe tbody tr th {\n",
              "        vertical-align: top;\n",
              "    }\n",
              "\n",
              "    .dataframe thead th {\n",
              "        text-align: right;\n",
              "    }\n",
              "</style>\n",
              "<table border=\"1\" class=\"dataframe\">\n",
              "  <thead>\n",
              "    <tr style=\"text-align: right;\">\n",
              "      <th></th>\n",
              "      <th>name_1</th>\n",
              "      <th>name_2</th>\n",
              "    </tr>\n",
              "    <tr>\n",
              "      <th>pair_id</th>\n",
              "      <th></th>\n",
              "      <th></th>\n",
              "    </tr>\n",
              "  </thead>\n",
              "  <tbody>\n",
              "    <tr>\n",
              "      <th>1</th>\n",
              "      <td>Sun Blinds Decoration Inc.</td>\n",
              "      <td>Indl De Cuautitlan Sa Cv</td>\n",
              "    </tr>\n",
              "    <tr>\n",
              "      <th>2</th>\n",
              "      <td>Eih Ltd.</td>\n",
              "      <td>Dongguan Wei Shi Plastic Product Co., Ltd.</td>\n",
              "    </tr>\n",
              "    <tr>\n",
              "      <th>3</th>\n",
              "      <td>Jsh Ltd. (Hk)</td>\n",
              "      <td>Arab Shipbuilding And Repair Yard C</td>\n",
              "    </tr>\n",
              "    <tr>\n",
              "      <th>4</th>\n",
              "      <td>Better Industrial Ltd.</td>\n",
              "      <td>Farmacap Industria E Comercio Ltda</td>\n",
              "    </tr>\n",
              "    <tr>\n",
              "      <th>5</th>\n",
              "      <td>Equipos Inoxidables Del Norte Sa De Cv</td>\n",
              "      <td>Bel Inc.</td>\n",
              "    </tr>\n",
              "  </tbody>\n",
              "</table>\n",
              "</div>"
            ],
            "text/plain": [
              "                                         name_1                                      name_2\n",
              "pair_id                                                                                    \n",
              "1                    Sun Blinds Decoration Inc.                    Indl De Cuautitlan Sa Cv\n",
              "2                                      Eih Ltd.  Dongguan Wei Shi Plastic Product Co., Ltd.\n",
              "3                                 Jsh Ltd. (Hk)         Arab Shipbuilding And Repair Yard C\n",
              "4                        Better Industrial Ltd.          Farmacap Industria E Comercio Ltda\n",
              "5        Equipos Inoxidables Del Norte Sa De Cv                                    Bel Inc."
            ]
          },
          "metadata": {
            "tags": []
          },
          "execution_count": 9
        }
      ]
    },
    {
      "cell_type": "code",
      "metadata": {
        "colab": {
          "base_uri": "https://localhost:8080/"
        },
        "id": "b8bsubJ4P18Z",
        "outputId": "7946607e-3f17-4f94-ebb3-94c2caaa5463"
      },
      "source": [
        "train.info()"
      ],
      "execution_count": null,
      "outputs": [
        {
          "output_type": "stream",
          "text": [
            "<class 'pandas.core.frame.DataFrame'>\n",
            "Int64Index: 497819 entries, 1 to 497819\n",
            "Data columns (total 3 columns):\n",
            " #   Column        Non-Null Count   Dtype \n",
            "---  ------        --------------   ----- \n",
            " 0   name_1        497819 non-null  object\n",
            " 1   name_2        497819 non-null  object\n",
            " 2   is_duplicate  497819 non-null  int64 \n",
            "dtypes: int64(1), object(2)\n",
            "memory usage: 15.2+ MB\n"
          ],
          "name": "stdout"
        }
      ]
    },
    {
      "cell_type": "code",
      "metadata": {
        "colab": {
          "base_uri": "https://localhost:8080/"
        },
        "id": "7dOtSpiHP18Z",
        "outputId": "d9f83451-f1be-464d-8dc3-7b3091c2769a"
      },
      "source": [
        "test.info()"
      ],
      "execution_count": null,
      "outputs": [
        {
          "output_type": "stream",
          "text": [
            "<class 'pandas.core.frame.DataFrame'>\n",
            "Int64Index: 213249 entries, 1 to 213249\n",
            "Data columns (total 2 columns):\n",
            " #   Column  Non-Null Count   Dtype \n",
            "---  ------  --------------   ----- \n",
            " 0   name_1  213249 non-null  object\n",
            " 1   name_2  213249 non-null  object\n",
            "dtypes: object(2)\n",
            "memory usage: 4.9+ MB\n"
          ],
          "name": "stdout"
        }
      ]
    },
    {
      "cell_type": "markdown",
      "metadata": {
        "id": "2mfiJ5RmP18Z"
      },
      "source": [
        "# Статистика таргета"
      ]
    },
    {
      "cell_type": "code",
      "metadata": {
        "id": "G01rdY9VP18Z"
      },
      "source": [
        "train.is_duplicate.value_counts()"
      ],
      "execution_count": null,
      "outputs": []
    },
    {
      "cell_type": "code",
      "metadata": {
        "colab": {
          "base_uri": "https://localhost:8080/",
          "height": 545
        },
        "id": "lDr6udz9P18Z",
        "outputId": "8ef4daa3-0168-41fd-bfca-53e986d447c8"
      },
      "source": [
        "train[train.is_duplicate==1].sample(15)"
      ],
      "execution_count": null,
      "outputs": [
        {
          "output_type": "execute_result",
          "data": {
            "text/html": [
              "<div>\n",
              "<style scoped>\n",
              "    .dataframe tbody tr th:only-of-type {\n",
              "        vertical-align: middle;\n",
              "    }\n",
              "\n",
              "    .dataframe tbody tr th {\n",
              "        vertical-align: top;\n",
              "    }\n",
              "\n",
              "    .dataframe thead th {\n",
              "        text-align: right;\n",
              "    }\n",
              "</style>\n",
              "<table border=\"1\" class=\"dataframe\">\n",
              "  <thead>\n",
              "    <tr style=\"text-align: right;\">\n",
              "      <th></th>\n",
              "      <th>name_1</th>\n",
              "      <th>name_2</th>\n",
              "      <th>is_duplicate</th>\n",
              "    </tr>\n",
              "    <tr>\n",
              "      <th>pair_id</th>\n",
              "      <th></th>\n",
              "      <th></th>\n",
              "      <th></th>\n",
              "    </tr>\n",
              "  </thead>\n",
              "  <tbody>\n",
              "    <tr>\n",
              "      <th>212631</th>\n",
              "      <td>Sika Kimia Sdn. Bhd.</td>\n",
              "      <td>Sika Lanka (Pvt) Ltd.</td>\n",
              "      <td>1</td>\n",
              "    </tr>\n",
              "    <tr>\n",
              "      <th>263042</th>\n",
              "      <td>Bridgestone De Costa Rica S.A.</td>\n",
              "      <td>Bridgestone International Group</td>\n",
              "      <td>1</td>\n",
              "    </tr>\n",
              "    <tr>\n",
              "      <th>495980</th>\n",
              "      <td>Bridgestone Firestone Venezolana C</td>\n",
              "      <td>Bridgestone (Huizhou) Tire Co., Ltd.</td>\n",
              "      <td>1</td>\n",
              "    </tr>\n",
              "    <tr>\n",
              "      <th>128297</th>\n",
              "      <td>Basf India Ltd.</td>\n",
              "      <td>Basf Quimica Colombiana S.A.</td>\n",
              "      <td>1</td>\n",
              "    </tr>\n",
              "    <tr>\n",
              "      <th>485849</th>\n",
              "      <td>Pirelli Neumaticos Sa De Cv.</td>\n",
              "      <td>Pirelli Tyre Co., Ltd.</td>\n",
              "      <td>1</td>\n",
              "    </tr>\n",
              "    <tr>\n",
              "      <th>4000</th>\n",
              "      <td>Basf Bangladesh Ltd.</td>\n",
              "      <td>Basf Sa</td>\n",
              "      <td>1</td>\n",
              "    </tr>\n",
              "    <tr>\n",
              "      <th>205628</th>\n",
              "      <td>Basf Japan Ltd.</td>\n",
              "      <td>Basf Japan Ltd. 6 10 1 Roppongi</td>\n",
              "      <td>1</td>\n",
              "    </tr>\n",
              "    <tr>\n",
              "      <th>330109</th>\n",
              "      <td>Brenntag Peru S.A.C.</td>\n",
              "      <td>Brenntag Vietnam Co., Ltd.</td>\n",
              "      <td>1</td>\n",
              "    </tr>\n",
              "    <tr>\n",
              "      <th>59436</th>\n",
              "      <td>Evonik India</td>\n",
              "      <td>Evonik Degussa Brasil Ltda</td>\n",
              "      <td>1</td>\n",
              "    </tr>\n",
              "    <tr>\n",
              "      <th>181890</th>\n",
              "      <td>Pt Bridgestone Tire Indonesia</td>\n",
              "      <td>Bridgestone Do Brasil Industria &amp; Comercio Ltda</td>\n",
              "      <td>1</td>\n",
              "    </tr>\n",
              "    <tr>\n",
              "      <th>197882</th>\n",
              "      <td>Contitech Mexicana Sa De Cv</td>\n",
              "      <td>Contitech Chile S.A.</td>\n",
              "      <td>1</td>\n",
              "    </tr>\n",
              "    <tr>\n",
              "      <th>475482</th>\n",
              "      <td>Zeon F&amp;B Co., Ltd</td>\n",
              "      <td>ZEON Corporation (TSE:4205)</td>\n",
              "      <td>1</td>\n",
              "    </tr>\n",
              "    <tr>\n",
              "      <th>390310</th>\n",
              "      <td>Bridgestone Tire Co.</td>\n",
              "      <td>Bridgestone (Huizhou) Tire Co., Ltd.</td>\n",
              "      <td>1</td>\n",
              "    </tr>\n",
              "    <tr>\n",
              "      <th>204732</th>\n",
              "      <td>Pirelli Neumaticos Sa</td>\n",
              "      <td>Pirelli Pneus Ltda</td>\n",
              "      <td>1</td>\n",
              "    </tr>\n",
              "    <tr>\n",
              "      <th>171496</th>\n",
              "      <td>Sumitomo Rubber Industries Usa</td>\n",
              "      <td>Sumitomo Warehouse (Usa.) Inc.</td>\n",
              "      <td>1</td>\n",
              "    </tr>\n",
              "  </tbody>\n",
              "</table>\n",
              "</div>"
            ],
            "text/plain": [
              "                                     name_1  ... is_duplicate\n",
              "pair_id                                      ...             \n",
              "212631                 Sika Kimia Sdn. Bhd.  ...            1\n",
              "263042       Bridgestone De Costa Rica S.A.  ...            1\n",
              "495980   Bridgestone Firestone Venezolana C  ...            1\n",
              "128297                      Basf India Ltd.  ...            1\n",
              "485849         Pirelli Neumaticos Sa De Cv.  ...            1\n",
              "4000                   Basf Bangladesh Ltd.  ...            1\n",
              "205628                      Basf Japan Ltd.  ...            1\n",
              "330109                 Brenntag Peru S.A.C.  ...            1\n",
              "59436                          Evonik India  ...            1\n",
              "181890        Pt Bridgestone Tire Indonesia  ...            1\n",
              "197882          Contitech Mexicana Sa De Cv  ...            1\n",
              "475482                    Zeon F&B Co., Ltd  ...            1\n",
              "390310                 Bridgestone Tire Co.  ...            1\n",
              "204732                Pirelli Neumaticos Sa  ...            1\n",
              "171496       Sumitomo Rubber Industries Usa  ...            1\n",
              "\n",
              "[15 rows x 3 columns]"
            ]
          },
          "metadata": {
            "tags": []
          },
          "execution_count": 14
        }
      ]
    },
    {
      "cell_type": "code",
      "metadata": {
        "colab": {
          "base_uri": "https://localhost:8080/",
          "height": 545
        },
        "id": "ut1_0PSnP18Z",
        "outputId": "bdbe5397-abbf-462a-d3e7-0aa03ad298ff"
      },
      "source": [
        "train[train.is_duplicate==0].sample(15)"
      ],
      "execution_count": null,
      "outputs": [
        {
          "output_type": "execute_result",
          "data": {
            "text/html": [
              "<div>\n",
              "<style scoped>\n",
              "    .dataframe tbody tr th:only-of-type {\n",
              "        vertical-align: middle;\n",
              "    }\n",
              "\n",
              "    .dataframe tbody tr th {\n",
              "        vertical-align: top;\n",
              "    }\n",
              "\n",
              "    .dataframe thead th {\n",
              "        text-align: right;\n",
              "    }\n",
              "</style>\n",
              "<table border=\"1\" class=\"dataframe\">\n",
              "  <thead>\n",
              "    <tr style=\"text-align: right;\">\n",
              "      <th></th>\n",
              "      <th>name_1</th>\n",
              "      <th>name_2</th>\n",
              "      <th>is_duplicate</th>\n",
              "    </tr>\n",
              "    <tr>\n",
              "      <th>pair_id</th>\n",
              "      <th></th>\n",
              "      <th></th>\n",
              "      <th></th>\n",
              "    </tr>\n",
              "  </thead>\n",
              "  <tbody>\n",
              "    <tr>\n",
              "      <th>284714</th>\n",
              "      <td>Sarnia On</td>\n",
              "      <td>Fei Side Electrical Connection Device (Beijing...</td>\n",
              "      <td>0</td>\n",
              "    </tr>\n",
              "    <tr>\n",
              "      <th>417418</th>\n",
              "      <td>Rymar Synthetic Grass</td>\n",
              "      <td>Dsm Xian Da Synthetic Resin (Foshan) Co., Ltd.</td>\n",
              "      <td>0</td>\n",
              "    </tr>\n",
              "    <tr>\n",
              "      <th>268945</th>\n",
              "      <td>Benore Logistics Systems</td>\n",
              "      <td>Combined Logistics Llc</td>\n",
              "      <td>0</td>\n",
              "    </tr>\n",
              "    <tr>\n",
              "      <th>18127</th>\n",
              "      <td>G.P. (Pvt) Ltd.</td>\n",
              "      <td>Cargo World Llc</td>\n",
              "      <td>0</td>\n",
              "    </tr>\n",
              "    <tr>\n",
              "      <th>438243</th>\n",
              "      <td>Cauchos Industriales S.A.</td>\n",
              "      <td>Adcrete Industries (Pty) Ltd.</td>\n",
              "      <td>0</td>\n",
              "    </tr>\n",
              "    <tr>\n",
              "      <th>171281</th>\n",
              "      <td>Timer Sports</td>\n",
              "      <td>Wei Transportes Eireli Me</td>\n",
              "      <td>0</td>\n",
              "    </tr>\n",
              "    <tr>\n",
              "      <th>393829</th>\n",
              "      <td>Orotec S.A.</td>\n",
              "      <td>Nr Rubber Tech Industries Sdn. Bhd.</td>\n",
              "      <td>0</td>\n",
              "    </tr>\n",
              "    <tr>\n",
              "      <th>466088</th>\n",
              "      <td>V.D.</td>\n",
              "      <td>Trelleborg Istanbul Endustriyel Hortumlar Sana...</td>\n",
              "      <td>0</td>\n",
              "    </tr>\n",
              "    <tr>\n",
              "      <th>340585</th>\n",
              "      <td>Wellcare Trading &amp; Contracting Will</td>\n",
              "      <td>Cota S.A.</td>\n",
              "      <td>0</td>\n",
              "    </tr>\n",
              "    <tr>\n",
              "      <th>342998</th>\n",
              "      <td>Sds Trans</td>\n",
              "      <td>Stylites Shoes Trading Llc</td>\n",
              "      <td>0</td>\n",
              "    </tr>\n",
              "    <tr>\n",
              "      <th>329223</th>\n",
              "      <td>St.Marys Rubbers Pvt., Ltd.</td>\n",
              "      <td>Qingdao Wangyu Rubber Co., Ltd.</td>\n",
              "      <td>0</td>\n",
              "    </tr>\n",
              "    <tr>\n",
              "      <th>260065</th>\n",
              "      <td>Kratonpolymersu.S.Llc.</td>\n",
              "      <td>Fairmont Polymers (India) Pvt., Ltd.</td>\n",
              "      <td>0</td>\n",
              "    </tr>\n",
              "    <tr>\n",
              "      <th>467008</th>\n",
              "      <td>Beeline Logistics Inc.</td>\n",
              "      <td>Oceanbridge Logistics Inc.</td>\n",
              "      <td>0</td>\n",
              "    </tr>\n",
              "    <tr>\n",
              "      <th>260149</th>\n",
              "      <td>Diamond Luxury Lifestyle Srl</td>\n",
              "      <td>Luxor International Pvt., Ltd.</td>\n",
              "      <td>0</td>\n",
              "    </tr>\n",
              "    <tr>\n",
              "      <th>314181</th>\n",
              "      <td>Shenzhen Jincaihong Plastic Co., Ltd.</td>\n",
              "      <td>Mti Llc</td>\n",
              "      <td>0</td>\n",
              "    </tr>\n",
              "  </tbody>\n",
              "</table>\n",
              "</div>"
            ],
            "text/plain": [
              "                                        name_1  ... is_duplicate\n",
              "pair_id                                         ...             \n",
              "284714                               Sarnia On  ...            0\n",
              "417418                   Rymar Synthetic Grass  ...            0\n",
              "268945                Benore Logistics Systems  ...            0\n",
              "18127                          G.P. (Pvt) Ltd.  ...            0\n",
              "438243               Cauchos Industriales S.A.  ...            0\n",
              "171281                            Timer Sports  ...            0\n",
              "393829                             Orotec S.A.  ...            0\n",
              "466088                                    V.D.  ...            0\n",
              "340585     Wellcare Trading & Contracting Will  ...            0\n",
              "342998                               Sds Trans  ...            0\n",
              "329223             St.Marys Rubbers Pvt., Ltd.  ...            0\n",
              "260065                  Kratonpolymersu.S.Llc.  ...            0\n",
              "467008                  Beeline Logistics Inc.  ...            0\n",
              "260149            Diamond Luxury Lifestyle Srl  ...            0\n",
              "314181   Shenzhen Jincaihong Plastic Co., Ltd.  ...            0\n",
              "\n",
              "[15 rows x 3 columns]"
            ]
          },
          "metadata": {
            "tags": []
          },
          "execution_count": 15
        }
      ]
    },
    {
      "cell_type": "markdown",
      "metadata": {
        "id": "uc8MYZEfP18Z"
      },
      "source": [
        "# Очистка данных"
      ]
    },
    {
      "cell_type": "code",
      "metadata": {
        "colab": {
          "base_uri": "https://localhost:8080/"
        },
        "id": "yK97ZYk9P18Z",
        "outputId": "33e1f089-62f5-437a-c238-67bc3357407f"
      },
      "source": [
        "!pip install pycountry\n",
        "import pycountry\n",
        "import re"
      ],
      "execution_count": null,
      "outputs": [
        {
          "output_type": "stream",
          "text": [
            "Collecting pycountry\n",
            "\u001b[?25l  Downloading https://files.pythonhosted.org/packages/76/73/6f1a412f14f68c273feea29a6ea9b9f1e268177d32e0e69ad6790d306312/pycountry-20.7.3.tar.gz (10.1MB)\n",
            "\u001b[K     |████████████████████████████████| 10.1MB 5.1MB/s \n",
            "\u001b[?25hBuilding wheels for collected packages: pycountry\n",
            "  Building wheel for pycountry (setup.py) ... \u001b[?25l\u001b[?25hdone\n",
            "  Created wheel for pycountry: filename=pycountry-20.7.3-py2.py3-none-any.whl size=10746865 sha256=ec9e994ae27076da324ba36829f2c9f8dda479e8930c84daa4356e9eacf0ae49\n",
            "  Stored in directory: /root/.cache/pip/wheels/33/4e/a6/be297e6b83567e537bed9df4a93f8590ec01c1acfbcd405348\n",
            "Successfully built pycountry\n",
            "Installing collected packages: pycountry\n",
            "Successfully installed pycountry-20.7.3\n"
          ],
          "name": "stdout"
        }
      ]
    },
    {
      "cell_type": "code",
      "metadata": {
        "id": "ej_KwtZ7P18Z"
      },
      "source": [
        "countries = [country.name.lower() for country in pycountry.countries]"
      ],
      "execution_count": null,
      "outputs": []
    },
    {
      "cell_type": "code",
      "metadata": {
        "id": "q2BTXrCZP18Z"
      },
      "source": [
        "train[\"name_1\"] = train[\"name_1\"].str.lower()\n",
        "train[\"name_2\"] = train[\"name_2\"].str.lower()\n",
        "\n",
        "test[\"name_1\"] = test[\"name_1\"].str.lower()\n",
        "test[\"name_2\"] = test[\"name_2\"].str.lower()"
      ],
      "execution_count": null,
      "outputs": []
    },
    {
      "cell_type": "code",
      "metadata": {
        "colab": {
          "base_uri": "https://localhost:8080/",
          "height": 450
        },
        "id": "-7C_XgrMP18Z",
        "outputId": "98c28a33-55a5-4773-cf80-f7efb8288a7b"
      },
      "source": [
        "train[train.name_1.str.contains(\"gmbh\")]"
      ],
      "execution_count": null,
      "outputs": [
        {
          "output_type": "execute_result",
          "data": {
            "text/html": [
              "<div>\n",
              "<style scoped>\n",
              "    .dataframe tbody tr th:only-of-type {\n",
              "        vertical-align: middle;\n",
              "    }\n",
              "\n",
              "    .dataframe tbody tr th {\n",
              "        vertical-align: top;\n",
              "    }\n",
              "\n",
              "    .dataframe thead th {\n",
              "        text-align: right;\n",
              "    }\n",
              "</style>\n",
              "<table border=\"1\" class=\"dataframe\">\n",
              "  <thead>\n",
              "    <tr style=\"text-align: right;\">\n",
              "      <th></th>\n",
              "      <th>name_1</th>\n",
              "      <th>name_2</th>\n",
              "      <th>is_duplicate</th>\n",
              "    </tr>\n",
              "    <tr>\n",
              "      <th>pair_id</th>\n",
              "      <th></th>\n",
              "      <th></th>\n",
              "      <th></th>\n",
              "    </tr>\n",
              "  </thead>\n",
              "  <tbody>\n",
              "    <tr>\n",
              "      <th>40</th>\n",
              "      <td>isoliererzeugnisse grobrohrsdorf gmbh</td>\n",
              "      <td>total rumunia</td>\n",
              "      <td>0</td>\n",
              "    </tr>\n",
              "    <tr>\n",
              "      <th>410</th>\n",
              "      <td>dortmunder gussasphalt gmbh &amp; co. kg</td>\n",
              "      <td>bitoumina s.a.</td>\n",
              "      <td>0</td>\n",
              "    </tr>\n",
              "    <tr>\n",
              "      <th>440</th>\n",
              "      <td>celanese chemicals europe gmbh</td>\n",
              "      <td>inreco - emulsja sp. z o.o.</td>\n",
              "      <td>0</td>\n",
              "    </tr>\n",
              "    <tr>\n",
              "      <th>583</th>\n",
              "      <td>tremco illbruck group gmbh</td>\n",
              "      <td>wakol gmbh</td>\n",
              "      <td>0</td>\n",
              "    </tr>\n",
              "    <tr>\n",
              "      <th>681</th>\n",
              "      <td>rasco bitumentechnik gmbh</td>\n",
              "      <td>technpvinyl polymers india ltd.</td>\n",
              "      <td>0</td>\n",
              "    </tr>\n",
              "    <tr>\n",
              "      <th>...</th>\n",
              "      <td>...</td>\n",
              "      <td>...</td>\n",
              "      <td>...</td>\n",
              "    </tr>\n",
              "    <tr>\n",
              "      <th>497197</th>\n",
              "      <td>binne &amp; sohn gmbh &amp; co kg</td>\n",
              "      <td>buscher hoffmann</td>\n",
              "      <td>0</td>\n",
              "    </tr>\n",
              "    <tr>\n",
              "      <th>497306</th>\n",
              "      <td>mct gmbh &amp; co. kg</td>\n",
              "      <td>valli zabban</td>\n",
              "      <td>0</td>\n",
              "    </tr>\n",
              "    <tr>\n",
              "      <th>497366</th>\n",
              "      <td>mct misch &amp; compoundier technik gmbh</td>\n",
              "      <td>nknh</td>\n",
              "      <td>0</td>\n",
              "    </tr>\n",
              "    <tr>\n",
              "      <th>497772</th>\n",
              "      <td>saint-gobain isover austria gmbh</td>\n",
              "      <td>soprema soprema sas</td>\n",
              "      <td>0</td>\n",
              "    </tr>\n",
              "    <tr>\n",
              "      <th>497798</th>\n",
              "      <td>famos gmbh &amp; co. kg</td>\n",
              "      <td>soprema drummondville</td>\n",
              "      <td>0</td>\n",
              "    </tr>\n",
              "  </tbody>\n",
              "</table>\n",
              "<p>3382 rows × 3 columns</p>\n",
              "</div>"
            ],
            "text/plain": [
              "                                        name_1  ... is_duplicate\n",
              "pair_id                                         ...             \n",
              "40       isoliererzeugnisse grobrohrsdorf gmbh  ...            0\n",
              "410       dortmunder gussasphalt gmbh & co. kg  ...            0\n",
              "440             celanese chemicals europe gmbh  ...            0\n",
              "583                 tremco illbruck group gmbh  ...            0\n",
              "681                  rasco bitumentechnik gmbh  ...            0\n",
              "...                                        ...  ...          ...\n",
              "497197               binne & sohn gmbh & co kg  ...            0\n",
              "497306                       mct gmbh & co. kg  ...            0\n",
              "497366    mct misch & compoundier technik gmbh  ...            0\n",
              "497772        saint-gobain isover austria gmbh  ...            0\n",
              "497798                     famos gmbh & co. kg  ...            0\n",
              "\n",
              "[3382 rows x 3 columns]"
            ]
          },
          "metadata": {
            "tags": []
          },
          "execution_count": 13
        }
      ]
    },
    {
      "cell_type": "code",
      "metadata": {
        "colab": {
          "base_uri": "https://localhost:8080/"
        },
        "id": "ZDoSaLUrP18Z",
        "outputId": "b3804c75-8459-46b7-fcc1-f8fce05352cb"
      },
      "source": [
        "legal_entities = [\"ltd.\", \"co.\", \"inc.\", \"b.v.\", \"s.c.r.l.\", \"gmbh\", \"pvt.\"]\n",
        "\n",
        "for entity in tqdm(legal_entities):\n",
        "    train.replace(re.compile(f\"\\s+{entity}\\s*\"), \"\", inplace=True)\n",
        "    test.replace(re.compile(f\"\\s+{entity}\\s*\"), \"\", inplace=True)"
      ],
      "execution_count": null,
      "outputs": [
        {
          "output_type": "stream",
          "text": [
            "100%|██████████| 7/7 [00:14<00:00,  2.10s/it]\n"
          ],
          "name": "stderr"
        }
      ]
    },
    {
      "cell_type": "code",
      "metadata": {
        "colab": {
          "base_uri": "https://localhost:8080/",
          "height": 235
        },
        "id": "FjfDoBBcP18Z",
        "outputId": "c0b0f5ab-7890-4de7-e38f-89009fc2e110"
      },
      "source": [
        "train.head()"
      ],
      "execution_count": null,
      "outputs": [
        {
          "output_type": "execute_result",
          "data": {
            "text/html": [
              "<div>\n",
              "<style scoped>\n",
              "    .dataframe tbody tr th:only-of-type {\n",
              "        vertical-align: middle;\n",
              "    }\n",
              "\n",
              "    .dataframe tbody tr th {\n",
              "        vertical-align: top;\n",
              "    }\n",
              "\n",
              "    .dataframe thead th {\n",
              "        text-align: right;\n",
              "    }\n",
              "</style>\n",
              "<table border=\"1\" class=\"dataframe\">\n",
              "  <thead>\n",
              "    <tr style=\"text-align: right;\">\n",
              "      <th></th>\n",
              "      <th>name_1</th>\n",
              "      <th>name_2</th>\n",
              "      <th>is_duplicate</th>\n",
              "    </tr>\n",
              "    <tr>\n",
              "      <th>pair_id</th>\n",
              "      <th></th>\n",
              "      <th></th>\n",
              "      <th></th>\n",
              "    </tr>\n",
              "  </thead>\n",
              "  <tbody>\n",
              "    <tr>\n",
              "      <th>1</th>\n",
              "      <td>iko industries</td>\n",
              "      <td>enormous industrial trade,</td>\n",
              "      <td>0</td>\n",
              "    </tr>\n",
              "    <tr>\n",
              "      <th>2</th>\n",
              "      <td>apcotex industries</td>\n",
              "      <td>technocraft industries</td>\n",
              "      <td>0</td>\n",
              "    </tr>\n",
              "    <tr>\n",
              "      <th>3</th>\n",
              "      <td>rishichem distributors,</td>\n",
              "      <td>dsa</td>\n",
              "      <td>0</td>\n",
              "    </tr>\n",
              "    <tr>\n",
              "      <th>4</th>\n",
              "      <td>powermax rubber factory</td>\n",
              "      <td>co. one</td>\n",
              "      <td>0</td>\n",
              "    </tr>\n",
              "    <tr>\n",
              "      <th>5</th>\n",
              "      <td>tress a/s</td>\n",
              "      <td>longyou industries park zhejiang</td>\n",
              "      <td>0</td>\n",
              "    </tr>\n",
              "  </tbody>\n",
              "</table>\n",
              "</div>"
            ],
            "text/plain": [
              "                          name_1  ... is_duplicate\n",
              "pair_id                           ...             \n",
              "1                 iko industries  ...            0\n",
              "2             apcotex industries  ...            0\n",
              "3        rishichem distributors,  ...            0\n",
              "4        powermax rubber factory  ...            0\n",
              "5                      tress a/s  ...            0\n",
              "\n",
              "[5 rows x 3 columns]"
            ]
          },
          "metadata": {
            "tags": []
          },
          "execution_count": 35
        }
      ]
    },
    {
      "cell_type": "code",
      "metadata": {
        "colab": {
          "base_uri": "https://localhost:8080/",
          "height": 235
        },
        "id": "nTAbeg7FP18Z",
        "outputId": "4e055b1e-ef00-4312-87b3-7816a1e15e7a"
      },
      "source": [
        "test.head()"
      ],
      "execution_count": null,
      "outputs": [
        {
          "output_type": "execute_result",
          "data": {
            "text/html": [
              "<div>\n",
              "<style scoped>\n",
              "    .dataframe tbody tr th:only-of-type {\n",
              "        vertical-align: middle;\n",
              "    }\n",
              "\n",
              "    .dataframe tbody tr th {\n",
              "        vertical-align: top;\n",
              "    }\n",
              "\n",
              "    .dataframe thead th {\n",
              "        text-align: right;\n",
              "    }\n",
              "</style>\n",
              "<table border=\"1\" class=\"dataframe\">\n",
              "  <thead>\n",
              "    <tr style=\"text-align: right;\">\n",
              "      <th></th>\n",
              "      <th>name_1</th>\n",
              "      <th>name_2</th>\n",
              "    </tr>\n",
              "    <tr>\n",
              "      <th>pair_id</th>\n",
              "      <th></th>\n",
              "      <th></th>\n",
              "    </tr>\n",
              "  </thead>\n",
              "  <tbody>\n",
              "    <tr>\n",
              "      <th>1</th>\n",
              "      <td>sun blinds decoration</td>\n",
              "      <td>indl de cuautitlan sa cv</td>\n",
              "    </tr>\n",
              "    <tr>\n",
              "      <th>2</th>\n",
              "      <td>eih</td>\n",
              "      <td>dongguan wei shi plastic product,</td>\n",
              "    </tr>\n",
              "    <tr>\n",
              "      <th>3</th>\n",
              "      <td>jsh(hk)</td>\n",
              "      <td>arab shipbuilding and repair yard c</td>\n",
              "    </tr>\n",
              "    <tr>\n",
              "      <th>4</th>\n",
              "      <td>better industrial</td>\n",
              "      <td>farmacap industria eercio</td>\n",
              "    </tr>\n",
              "    <tr>\n",
              "      <th>5</th>\n",
              "      <td>equipos inoxidables del norte sa de cv</td>\n",
              "      <td>bel</td>\n",
              "    </tr>\n",
              "  </tbody>\n",
              "</table>\n",
              "</div>"
            ],
            "text/plain": [
              "                                         name_1                               name_2\n",
              "pair_id                                                                             \n",
              "1                         sun blinds decoration             indl de cuautitlan sa cv\n",
              "2                                           eih    dongguan wei shi plastic product,\n",
              "3                                       jsh(hk)  arab shipbuilding and repair yard c\n",
              "4                             better industrial            farmacap industria eercio\n",
              "5        equipos inoxidables del norte sa de cv                                  bel"
            ]
          },
          "metadata": {
            "tags": []
          },
          "execution_count": 24
        }
      ]
    },
    {
      "cell_type": "code",
      "metadata": {
        "id": "nNjgPVP2P18Z"
      },
      "source": [
        "train.replace(re.compile(r\"\\s+\\(.*\\)\"), \"\", inplace=True)\n",
        "test.replace(re.compile(r\"\\s+\\(.*\\)\"), \"\", inplace=True)"
      ],
      "execution_count": null,
      "outputs": []
    },
    {
      "cell_type": "code",
      "metadata": {
        "id": "Y3Uq2JJmP18Z"
      },
      "source": [
        "for country in tqdm(countries):\n",
        "    train.replace(re.compile(country), \"\", inplace=True)\n",
        "    test.replace(re.compile(country), \"\", inplace=True)"
      ],
      "execution_count": null,
      "outputs": []
    },
    {
      "cell_type": "code",
      "metadata": {
        "id": "jMsgDAB_P18Z"
      },
      "source": [
        "train.replace(re.compile(r\"[^\\w\\s]\"), \"\", inplace=True)\n",
        "test.replace(re.compile(r\"[^\\w\\s]\"), \"\", inplace=True)"
      ],
      "execution_count": null,
      "outputs": []
    },
    {
      "cell_type": "code",
      "metadata": {
        "id": "3qkD-NsDP18Z"
      },
      "source": [
        "train.sample(25)"
      ],
      "execution_count": null,
      "outputs": []
    },
    {
      "cell_type": "code",
      "metadata": {
        "id": "YsgKKkFeP18Z"
      },
      "source": [
        "test.sample(25)"
      ],
      "execution_count": null,
      "outputs": []
    },
    {
      "cell_type": "code",
      "metadata": {
        "colab": {
          "base_uri": "https://localhost:8080/"
        },
        "id": "DMsEPWVbBIjE",
        "outputId": "3018b939-0383-4185-cf47-c75322cb4277"
      },
      "source": [
        "!pip install nltk\n",
        "import nltk\n",
        "nltk.download('stopwords')\n",
        "from nltk.corpus import stopwords\n",
        "stop_words = stopwords.words('english')\n",
        "\n",
        "def remove_stop_words(text):\n",
        "    return ' '.join([word for word in text.split() if word.lower() not in stop_words])"
      ],
      "execution_count": 43,
      "outputs": [
        {
          "output_type": "stream",
          "text": [
            "Requirement already satisfied: nltk in /usr/local/lib/python3.6/dist-packages (3.2.5)\n",
            "Requirement already satisfied: six in /usr/local/lib/python3.6/dist-packages (from nltk) (1.15.0)\n",
            "[nltk_data] Downloading package stopwords to /root/nltk_data...\n",
            "[nltk_data]   Package stopwords is already up-to-date!\n"
          ],
          "name": "stdout"
        }
      ]
    },
    {
      "cell_type": "code",
      "metadata": {
        "id": "fE0T7FoeGQvQ"
      },
      "source": [
        "train['name_1'] = train['name_1'].apply(remove_stop_words)\n",
        "train['name_2'] = train['name_2'].apply(remove_stop_words)"
      ],
      "execution_count": 45,
      "outputs": []
    },
    {
      "cell_type": "code",
      "metadata": {
        "id": "y8Cn7dZmGirG"
      },
      "source": [
        "test['name_1'] = test['name_1'].apply(remove_stop_words)\n",
        "test['name_2'] = test['name_2'].apply(remove_stop_words)"
      ],
      "execution_count": 46,
      "outputs": []
    },
    {
      "cell_type": "markdown",
      "metadata": {
        "id": "EAKs6_uYRo8-"
      },
      "source": [
        "# Детектирование языков"
      ]
    },
    {
      "cell_type": "code",
      "metadata": {
        "colab": {
          "base_uri": "https://localhost:8080/"
        },
        "id": "GSgmVQ5IZ-y0",
        "outputId": "2c171704-e5b6-4661-81c6-72ebe6317cac"
      },
      "source": [
        "!pip install langdetect\n",
        "import langdetect"
      ],
      "execution_count": null,
      "outputs": [
        {
          "output_type": "stream",
          "text": [
            "Collecting langdetect\n",
            "\u001b[?25l  Downloading https://files.pythonhosted.org/packages/56/a3/8407c1e62d5980188b4acc45ef3d94b933d14a2ebc9ef3505f22cf772570/langdetect-1.0.8.tar.gz (981kB)\n",
            "\u001b[K     |████████████████████████████████| 983kB 4.2MB/s \n",
            "\u001b[?25hRequirement already satisfied: six in /usr/local/lib/python3.6/dist-packages (from langdetect) (1.15.0)\n",
            "Building wheels for collected packages: langdetect\n",
            "  Building wheel for langdetect (setup.py) ... \u001b[?25l\u001b[?25hdone\n",
            "  Created wheel for langdetect: filename=langdetect-1.0.8-cp36-none-any.whl size=993195 sha256=02d546f05b2b0c59857a7ea6451c2d7e70d89dbb909657ada23409e242275941\n",
            "  Stored in directory: /root/.cache/pip/wheels/8d/b3/aa/6d99de9f3841d7d3d40a60ea06e6d669e8e5012e6c8b947a57\n",
            "Successfully built langdetect\n",
            "Installing collected packages: langdetect\n",
            "Successfully installed langdetect-1.0.8\n"
          ],
          "name": "stdout"
        }
      ]
    },
    {
      "cell_type": "code",
      "metadata": {
        "colab": {
          "base_uri": "https://localhost:8080/",
          "height": 35
        },
        "id": "WSPf-HXHaLhm",
        "outputId": "22f136cb-690f-4ae6-c74f-0c3af9214961"
      },
      "source": [
        "langdetect.detect(\"War doesn't show who's right, just who's left.\")"
      ],
      "execution_count": null,
      "outputs": [
        {
          "output_type": "execute_result",
          "data": {
            "application/vnd.google.colaboratory.intrinsic+json": {
              "type": "string"
            },
            "text/plain": [
              "'en'"
            ]
          },
          "metadata": {
            "tags": []
          },
          "execution_count": 38
        }
      ]
    },
    {
      "cell_type": "code",
      "metadata": {
        "id": "qMPVG05bbamb"
      },
      "source": [
        "lang_dict = {}"
      ],
      "execution_count": null,
      "outputs": []
    },
    {
      "cell_type": "code",
      "metadata": {
        "id": "9_gVvBR7Rt2X"
      },
      "source": [
        "for index, row in train.iterrows():\n",
        "  lang = langdetect.detect(row['name_1'] + ' ' + row['name_2'])\n",
        "  lang_dict[lang] = lang_dict.get(lang, 0) + 1"
      ],
      "execution_count": null,
      "outputs": []
    },
    {
      "cell_type": "code",
      "metadata": {
        "colab": {
          "base_uri": "https://localhost:8080/"
        },
        "id": "OwZzRNZ-0-RG",
        "outputId": "334b67c6-81fe-4fa4-fa7f-c4e887c9bf56"
      },
      "source": [
        "lang_dict"
      ],
      "execution_count": null,
      "outputs": [
        {
          "output_type": "execute_result",
          "data": {
            "text/plain": [
              "{'af': 9483,\n",
              " 'bg': 597,\n",
              " 'ca': 38271,\n",
              " 'cs': 661,\n",
              " 'cy': 2450,\n",
              " 'da': 4467,\n",
              " 'de': 6894,\n",
              " 'en': 231708,\n",
              " 'es': 35725,\n",
              " 'et': 7861,\n",
              " 'fi': 1533,\n",
              " 'fr': 14275,\n",
              " 'hr': 2391,\n",
              " 'hu': 541,\n",
              " 'id': 22574,\n",
              " 'it': 42357,\n",
              " 'lt': 1994,\n",
              " 'lv': 1380,\n",
              " 'mk': 342,\n",
              " 'nl': 6238,\n",
              " 'no': 6744,\n",
              " 'pl': 2312,\n",
              " 'pt': 12450,\n",
              " 'ro': 13645,\n",
              " 'ru': 458,\n",
              " 'sk': 1630,\n",
              " 'sl': 3080,\n",
              " 'so': 1741,\n",
              " 'sq': 1559,\n",
              " 'sv': 6850,\n",
              " 'sw': 1429,\n",
              " 'tl': 10732,\n",
              " 'tr': 3249,\n",
              " 'vi': 198}"
            ]
          },
          "metadata": {
            "tags": []
          },
          "execution_count": 52
        }
      ]
    },
    {
      "cell_type": "code",
      "metadata": {
        "id": "SzTBJ_bD2amb"
      },
      "source": [
        "lang_dict2 = {}\n",
        "for index, row in test.iterrows():\n",
        "  lang = langdetect.detect(row['name_1'])\n",
        "  lang_dict2[lang] = lang_dict2.get(lang, 0) + 1\n",
        "  if index % 10000 == 0:\n",
        "    print(index)"
      ],
      "execution_count": null,
      "outputs": []
    },
    {
      "cell_type": "code",
      "metadata": {
        "id": "eqtMxlvnCufA",
        "colab": {
          "base_uri": "https://localhost:8080/"
        },
        "outputId": "8b6043bf-484a-4592-ec39-5c7eb39b690b"
      },
      "source": [
        "lang_dict2"
      ],
      "execution_count": null,
      "outputs": [
        {
          "output_type": "execute_result",
          "data": {
            "text/plain": [
              "{'af': 5714,\n",
              " 'bg': 56,\n",
              " 'ca': 16829,\n",
              " 'cs': 1282,\n",
              " 'cy': 3770,\n",
              " 'da': 3408,\n",
              " 'de': 3778,\n",
              " 'en': 72188,\n",
              " 'es': 12994,\n",
              " 'et': 4428,\n",
              " 'fi': 1539,\n",
              " 'fr': 6726,\n",
              " 'hr': 1376,\n",
              " 'hu': 502,\n",
              " 'id': 9514,\n",
              " 'it': 19551,\n",
              " 'lt': 2334,\n",
              " 'lv': 2415,\n",
              " 'mk': 55,\n",
              " 'nl': 3081,\n",
              " 'no': 4638,\n",
              " 'pl': 1174,\n",
              " 'pt': 6159,\n",
              " 'ro': 7760,\n",
              " 'ru': 127,\n",
              " 'sk': 1296,\n",
              " 'sl': 2124,\n",
              " 'so': 2110,\n",
              " 'sq': 1846,\n",
              " 'sv': 3616,\n",
              " 'sw': 1645,\n",
              " 'tl': 6762,\n",
              " 'tr': 1839,\n",
              " 'vi': 613}"
            ]
          },
          "metadata": {
            "tags": []
          },
          "execution_count": 17
        }
      ]
    },
    {
      "cell_type": "code",
      "metadata": {
        "colab": {
          "base_uri": "https://localhost:8080/"
        },
        "id": "qUwav09Cg3L2",
        "outputId": "cb50452a-f816-4f71-e7ae-6b76138183db"
      },
      "source": [
        "!pip install transliterate"
      ],
      "execution_count": 57,
      "outputs": [
        {
          "output_type": "stream",
          "text": [
            "Collecting transliterate\n",
            "\u001b[?25l  Downloading https://files.pythonhosted.org/packages/a1/6e/9a9d597dbdd6d0172427c8cc07c35736471e631060df9e59eeb87687f817/transliterate-1.10.2-py2.py3-none-any.whl (45kB)\n",
            "\r\u001b[K     |███████▏                        | 10kB 16.6MB/s eta 0:00:01\r\u001b[K     |██████████████▎                 | 20kB 22.1MB/s eta 0:00:01\r\u001b[K     |█████████████████████▌          | 30kB 9.9MB/s eta 0:00:01\r\u001b[K     |████████████████████████████▋   | 40kB 8.9MB/s eta 0:00:01\r\u001b[K     |████████████████████████████████| 51kB 2.6MB/s \n",
            "\u001b[?25hRequirement already satisfied: six>=1.1.0 in /usr/local/lib/python3.6/dist-packages (from transliterate) (1.15.0)\n",
            "Installing collected packages: transliterate\n",
            "Successfully installed transliterate-1.10.2\n"
          ],
          "name": "stdout"
        }
      ]
    },
    {
      "cell_type": "code",
      "metadata": {
        "id": "CbsrJDo3g7MP"
      },
      "source": [
        "from transliterate import translit, get_available_language_codes, slugify"
      ],
      "execution_count": 65,
      "outputs": []
    },
    {
      "cell_type": "code",
      "metadata": {
        "colab": {
          "base_uri": "https://localhost:8080/"
        },
        "id": "Gl4kIZb5hFPo",
        "outputId": "95e6196c-0b30-4b80-964a-16a8f941d0f4"
      },
      "source": [
        "print(slugify('тестирование'))"
      ],
      "execution_count": 73,
      "outputs": [
        {
          "output_type": "stream",
          "text": [
            "testirovanie\n"
          ],
          "name": "stdout"
        }
      ]
    },
    {
      "cell_type": "code",
      "metadata": {
        "id": "L6Ff_YmKjeZ6"
      },
      "source": [
        "def transliterate_text(text):\n",
        "  t = slugify(text)\n",
        "  return t if t is not None else text"
      ],
      "execution_count": 75,
      "outputs": []
    },
    {
      "cell_type": "code",
      "metadata": {
        "colab": {
          "base_uri": "https://localhost:8080/",
          "height": 35
        },
        "id": "3gF-l-z2j2fu",
        "outputId": "abf4af5d-ae45-4645-dab0-d14c942314a6"
      },
      "source": [
        "transliterate_text('test')"
      ],
      "execution_count": 76,
      "outputs": [
        {
          "output_type": "execute_result",
          "data": {
            "application/vnd.google.colaboratory.intrinsic+json": {
              "type": "string"
            },
            "text/plain": [
              "'test'"
            ]
          },
          "metadata": {
            "tags": []
          },
          "execution_count": 76
        }
      ]
    },
    {
      "cell_type": "code",
      "metadata": {
        "colab": {
          "base_uri": "https://localhost:8080/",
          "height": 35
        },
        "id": "vAP0Ibbrj4hh",
        "outputId": "3b4312d8-0226-4237-ec61-e89baea30a75"
      },
      "source": [
        "transliterate_text('мимикрия')"
      ],
      "execution_count": 77,
      "outputs": [
        {
          "output_type": "execute_result",
          "data": {
            "application/vnd.google.colaboratory.intrinsic+json": {
              "type": "string"
            },
            "text/plain": [
              "'mimikrija'"
            ]
          },
          "metadata": {
            "tags": []
          },
          "execution_count": 77
        }
      ]
    },
    {
      "cell_type": "code",
      "metadata": {
        "id": "75H6ioptixV6"
      },
      "source": [
        "train['name_1'] = train['name_1'].apply(transliterate_text)\n",
        "train['name_2'] = train['name_2'].apply(transliterate_text)"
      ],
      "execution_count": 80,
      "outputs": []
    },
    {
      "cell_type": "code",
      "metadata": {
        "id": "ozKBW9Yckkt4"
      },
      "source": [
        "test['name_1'] = test['name_1'].apply(transliterate_text)\n",
        "test['name_2'] = test['name_2'].apply(transliterate_text)"
      ],
      "execution_count": 81,
      "outputs": []
    },
    {
      "cell_type": "markdown",
      "metadata": {
        "id": "BjGs9jSTP18Z"
      },
      "source": [
        "# Простые метрики сходства строк"
      ]
    },
    {
      "cell_type": "code",
      "metadata": {
        "id": "54XYPG_aP18Z",
        "colab": {
          "base_uri": "https://localhost:8080/"
        },
        "outputId": "c57131ef-5c13-4c4a-822a-9960c729b58b"
      },
      "source": [
        "!pip install strsimpy\n",
        "from strsimpy.levenshtein import Levenshtein\n",
        "from strsimpy.normalized_levenshtein import NormalizedLevenshtein"
      ],
      "execution_count": 20,
      "outputs": [
        {
          "output_type": "stream",
          "text": [
            "Collecting strsimpy\n",
            "\u001b[?25l  Downloading https://files.pythonhosted.org/packages/1e/c7/a957569f1ccfdff4e1886d571369318f1656e1372e287e880be1f495de04/strsimpy-0.1.9-py3-none-any.whl (45kB)\n",
            "\r\u001b[K     |███████▏                        | 10kB 14.5MB/s eta 0:00:01\r\u001b[K     |██████████████▎                 | 20kB 14.3MB/s eta 0:00:01\r\u001b[K     |█████████████████████▍          | 30kB 9.7MB/s eta 0:00:01\r\u001b[K     |████████████████████████████▋   | 40kB 8.2MB/s eta 0:00:01\r\u001b[K     |████████████████████████████████| 51kB 2.7MB/s \n",
            "\u001b[?25hInstalling collected packages: strsimpy\n",
            "Successfully installed strsimpy-0.1.9\n"
          ],
          "name": "stdout"
        }
      ]
    },
    {
      "cell_type": "code",
      "metadata": {
        "id": "xy-iT9EsP18Z",
        "colab": {
          "base_uri": "https://localhost:8080/"
        },
        "outputId": "89970144-3fcc-4548-ffe4-7e8d08d45f56"
      },
      "source": [
        "levenshtein = Levenshtein()\n",
        "\n",
        "train[\"levenstein\"] = train.progress_apply(lambda r: levenshtein.distance(r.name_1, r.name_2), axis=1)\n",
        "test[\"levenstein\"] = test.progress_apply(lambda r: levenshtein.distance(r.name_1, r.name_2), axis=1)"
      ],
      "execution_count": 21,
      "outputs": [
        {
          "output_type": "stream",
          "text": [
            "100%|██████████| 497819/497819 [01:39<00:00, 5015.32it/s]\n",
            "100%|██████████| 213249/213249 [00:42<00:00, 5042.95it/s]\n"
          ],
          "name": "stderr"
        }
      ]
    },
    {
      "cell_type": "code",
      "metadata": {
        "id": "WnAzW14LP18a",
        "colab": {
          "base_uri": "https://localhost:8080/",
          "height": 235
        },
        "outputId": "97895996-9e11-4f81-9d9c-df67d083be17"
      },
      "source": [
        "train.head()"
      ],
      "execution_count": 22,
      "outputs": [
        {
          "output_type": "execute_result",
          "data": {
            "text/html": [
              "<div>\n",
              "<style scoped>\n",
              "    .dataframe tbody tr th:only-of-type {\n",
              "        vertical-align: middle;\n",
              "    }\n",
              "\n",
              "    .dataframe tbody tr th {\n",
              "        vertical-align: top;\n",
              "    }\n",
              "\n",
              "    .dataframe thead th {\n",
              "        text-align: right;\n",
              "    }\n",
              "</style>\n",
              "<table border=\"1\" class=\"dataframe\">\n",
              "  <thead>\n",
              "    <tr style=\"text-align: right;\">\n",
              "      <th></th>\n",
              "      <th>name_1</th>\n",
              "      <th>name_2</th>\n",
              "      <th>is_duplicate</th>\n",
              "      <th>levenstein</th>\n",
              "    </tr>\n",
              "    <tr>\n",
              "      <th>pair_id</th>\n",
              "      <th></th>\n",
              "      <th></th>\n",
              "      <th></th>\n",
              "      <th></th>\n",
              "    </tr>\n",
              "  </thead>\n",
              "  <tbody>\n",
              "    <tr>\n",
              "      <th>1</th>\n",
              "      <td>iko industries</td>\n",
              "      <td>enormous industrial trade,</td>\n",
              "      <td>0</td>\n",
              "      <td>15.0</td>\n",
              "    </tr>\n",
              "    <tr>\n",
              "      <th>2</th>\n",
              "      <td>apcotex industries</td>\n",
              "      <td>technocraft industries (india)</td>\n",
              "      <td>0</td>\n",
              "      <td>17.0</td>\n",
              "    </tr>\n",
              "    <tr>\n",
              "      <th>3</th>\n",
              "      <td>rishichem distributors,</td>\n",
              "      <td>dsa</td>\n",
              "      <td>0</td>\n",
              "      <td>21.0</td>\n",
              "    </tr>\n",
              "    <tr>\n",
              "      <th>4</th>\n",
              "      <td>powermax rubber factory</td>\n",
              "      <td>co. one</td>\n",
              "      <td>0</td>\n",
              "      <td>20.0</td>\n",
              "    </tr>\n",
              "    <tr>\n",
              "      <th>5</th>\n",
              "      <td>tress a/s</td>\n",
              "      <td>longyou industries park zhejiang</td>\n",
              "      <td>0</td>\n",
              "      <td>26.0</td>\n",
              "    </tr>\n",
              "  </tbody>\n",
              "</table>\n",
              "</div>"
            ],
            "text/plain": [
              "                          name_1  ... levenstein\n",
              "pair_id                           ...           \n",
              "1                 iko industries  ...       15.0\n",
              "2             apcotex industries  ...       17.0\n",
              "3        rishichem distributors,  ...       21.0\n",
              "4        powermax rubber factory  ...       20.0\n",
              "5                      tress a/s  ...       26.0\n",
              "\n",
              "[5 rows x 4 columns]"
            ]
          },
          "metadata": {
            "tags": []
          },
          "execution_count": 22
        }
      ]
    },
    {
      "cell_type": "code",
      "metadata": {
        "id": "PCXHr8QBP18a",
        "colab": {
          "base_uri": "https://localhost:8080/"
        },
        "outputId": "3b7cd84c-9282-4e20-835d-bb93c37d74ec"
      },
      "source": [
        "normalized_levenshtein = NormalizedLevenshtein()\n",
        "\n",
        "train[\"norm_levenstein\"] = train.progress_apply(lambda r: normalized_levenshtein.distance(r.name_1, r.name_2),\n",
        "                                                axis=1)\n",
        "test[\"norm_levenstein\"] = test.progress_apply(lambda r: normalized_levenshtein.distance(r.name_1, r.name_2),\n",
        "                                              axis=1)"
      ],
      "execution_count": 23,
      "outputs": [
        {
          "output_type": "stream",
          "text": [
            "100%|██████████| 497819/497819 [01:43<00:00, 4813.54it/s]\n",
            "100%|██████████| 213249/213249 [00:43<00:00, 4944.24it/s]\n"
          ],
          "name": "stderr"
        }
      ]
    },
    {
      "cell_type": "code",
      "metadata": {
        "id": "GHtf1Zu5P18a",
        "colab": {
          "base_uri": "https://localhost:8080/",
          "height": 235
        },
        "outputId": "6ebcec18-a41e-4267-b439-641c322a6b9f"
      },
      "source": [
        "train.head()"
      ],
      "execution_count": 24,
      "outputs": [
        {
          "output_type": "execute_result",
          "data": {
            "text/html": [
              "<div>\n",
              "<style scoped>\n",
              "    .dataframe tbody tr th:only-of-type {\n",
              "        vertical-align: middle;\n",
              "    }\n",
              "\n",
              "    .dataframe tbody tr th {\n",
              "        vertical-align: top;\n",
              "    }\n",
              "\n",
              "    .dataframe thead th {\n",
              "        text-align: right;\n",
              "    }\n",
              "</style>\n",
              "<table border=\"1\" class=\"dataframe\">\n",
              "  <thead>\n",
              "    <tr style=\"text-align: right;\">\n",
              "      <th></th>\n",
              "      <th>name_1</th>\n",
              "      <th>name_2</th>\n",
              "      <th>is_duplicate</th>\n",
              "      <th>levenstein</th>\n",
              "      <th>norm_levenstein</th>\n",
              "    </tr>\n",
              "    <tr>\n",
              "      <th>pair_id</th>\n",
              "      <th></th>\n",
              "      <th></th>\n",
              "      <th></th>\n",
              "      <th></th>\n",
              "      <th></th>\n",
              "    </tr>\n",
              "  </thead>\n",
              "  <tbody>\n",
              "    <tr>\n",
              "      <th>1</th>\n",
              "      <td>iko industries</td>\n",
              "      <td>enormous industrial trade,</td>\n",
              "      <td>0</td>\n",
              "      <td>15.0</td>\n",
              "      <td>0.576923</td>\n",
              "    </tr>\n",
              "    <tr>\n",
              "      <th>2</th>\n",
              "      <td>apcotex industries</td>\n",
              "      <td>technocraft industries (india)</td>\n",
              "      <td>0</td>\n",
              "      <td>17.0</td>\n",
              "      <td>0.566667</td>\n",
              "    </tr>\n",
              "    <tr>\n",
              "      <th>3</th>\n",
              "      <td>rishichem distributors,</td>\n",
              "      <td>dsa</td>\n",
              "      <td>0</td>\n",
              "      <td>21.0</td>\n",
              "      <td>0.913043</td>\n",
              "    </tr>\n",
              "    <tr>\n",
              "      <th>4</th>\n",
              "      <td>powermax rubber factory</td>\n",
              "      <td>co. one</td>\n",
              "      <td>0</td>\n",
              "      <td>20.0</td>\n",
              "      <td>0.869565</td>\n",
              "    </tr>\n",
              "    <tr>\n",
              "      <th>5</th>\n",
              "      <td>tress a/s</td>\n",
              "      <td>longyou industries park zhejiang</td>\n",
              "      <td>0</td>\n",
              "      <td>26.0</td>\n",
              "      <td>0.812500</td>\n",
              "    </tr>\n",
              "  </tbody>\n",
              "</table>\n",
              "</div>"
            ],
            "text/plain": [
              "                          name_1  ... norm_levenstein\n",
              "pair_id                           ...                \n",
              "1                 iko industries  ...        0.576923\n",
              "2             apcotex industries  ...        0.566667\n",
              "3        rishichem distributors,  ...        0.913043\n",
              "4        powermax rubber factory  ...        0.869565\n",
              "5                      tress a/s  ...        0.812500\n",
              "\n",
              "[5 rows x 5 columns]"
            ]
          },
          "metadata": {
            "tags": []
          },
          "execution_count": 24
        }
      ]
    },
    {
      "cell_type": "code",
      "metadata": {
        "id": "ue9m9f4WP18a",
        "colab": {
          "base_uri": "https://localhost:8080/",
          "height": 235
        },
        "outputId": "cd3116ce-1dae-4189-c373-d98cee1307bb"
      },
      "source": [
        "test.head()"
      ],
      "execution_count": 25,
      "outputs": [
        {
          "output_type": "execute_result",
          "data": {
            "text/html": [
              "<div>\n",
              "<style scoped>\n",
              "    .dataframe tbody tr th:only-of-type {\n",
              "        vertical-align: middle;\n",
              "    }\n",
              "\n",
              "    .dataframe tbody tr th {\n",
              "        vertical-align: top;\n",
              "    }\n",
              "\n",
              "    .dataframe thead th {\n",
              "        text-align: right;\n",
              "    }\n",
              "</style>\n",
              "<table border=\"1\" class=\"dataframe\">\n",
              "  <thead>\n",
              "    <tr style=\"text-align: right;\">\n",
              "      <th></th>\n",
              "      <th>name_1</th>\n",
              "      <th>name_2</th>\n",
              "      <th>levenstein</th>\n",
              "      <th>norm_levenstein</th>\n",
              "    </tr>\n",
              "    <tr>\n",
              "      <th>pair_id</th>\n",
              "      <th></th>\n",
              "      <th></th>\n",
              "      <th></th>\n",
              "      <th></th>\n",
              "    </tr>\n",
              "  </thead>\n",
              "  <tbody>\n",
              "    <tr>\n",
              "      <th>1</th>\n",
              "      <td>sun blinds decoration</td>\n",
              "      <td>indl de cuautitlan sa cv</td>\n",
              "      <td>20.0</td>\n",
              "      <td>0.833333</td>\n",
              "    </tr>\n",
              "    <tr>\n",
              "      <th>2</th>\n",
              "      <td>eih</td>\n",
              "      <td>dongguan wei shi plastic product,</td>\n",
              "      <td>30.0</td>\n",
              "      <td>0.909091</td>\n",
              "    </tr>\n",
              "    <tr>\n",
              "      <th>3</th>\n",
              "      <td>jsh(hk)</td>\n",
              "      <td>arab shipbuilding and repair yard c</td>\n",
              "      <td>33.0</td>\n",
              "      <td>0.942857</td>\n",
              "    </tr>\n",
              "    <tr>\n",
              "      <th>4</th>\n",
              "      <td>better industrial</td>\n",
              "      <td>farmacap industria eercio</td>\n",
              "      <td>15.0</td>\n",
              "      <td>0.600000</td>\n",
              "    </tr>\n",
              "    <tr>\n",
              "      <th>5</th>\n",
              "      <td>equipos inoxidables del norte sa de cv</td>\n",
              "      <td>bel</td>\n",
              "      <td>35.0</td>\n",
              "      <td>0.921053</td>\n",
              "    </tr>\n",
              "  </tbody>\n",
              "</table>\n",
              "</div>"
            ],
            "text/plain": [
              "                                         name_1  ... norm_levenstein\n",
              "pair_id                                          ...                \n",
              "1                         sun blinds decoration  ...        0.833333\n",
              "2                                           eih  ...        0.909091\n",
              "3                                       jsh(hk)  ...        0.942857\n",
              "4                             better industrial  ...        0.600000\n",
              "5        equipos inoxidables del norte sa de cv  ...        0.921053\n",
              "\n",
              "[5 rows x 4 columns]"
            ]
          },
          "metadata": {
            "tags": []
          },
          "execution_count": 25
        }
      ]
    },
    {
      "cell_type": "code",
      "metadata": {
        "id": "uZFVAdVeP18a",
        "colab": {
          "base_uri": "https://localhost:8080/",
          "height": 401
        },
        "outputId": "a03a83ff-7cb3-4980-ee0a-93fbc28e0c00"
      },
      "source": [
        "plt.figure(figsize=(6,6))\n",
        "\n",
        "train.boxplot(\"levenstein\", by=\"is_duplicate\", ax=plt.gca())\n",
        "plt.suptitle(\"\")\n",
        "plt.title(\"Levenstein  distance\", fontsize=12);"
      ],
      "execution_count": 26,
      "outputs": [
        {
          "output_type": "display_data",
          "data": {
            "image/png": "[encoded data removed]",
            "text/plain": [
              "<Figure size 432x432 with 1 Axes>"
            ]
          },
          "metadata": {
            "tags": [],
            "needs_background": "light"
          }
        }
      ]
    },
    {
      "cell_type": "code",
      "metadata": {
        "id": "o-n62L1mP18a",
        "colab": {
          "base_uri": "https://localhost:8080/",
          "height": 401
        },
        "outputId": "66269d9d-c0b9-4caf-b6dd-a7a7da0e80e7"
      },
      "source": [
        "plt.figure(figsize=(6,6))\n",
        "\n",
        "train.boxplot(\"norm_levenstein\", by=\"is_duplicate\", ax=plt.gca())\n",
        "plt.suptitle(\"\")\n",
        "plt.title(\"Normalized levenstein  distance\", fontsize=12);"
      ],
      "execution_count": 27,
      "outputs": [
        {
          "output_type": "display_data",
          "data": {
            "image/png": "[encoded data removed]",
            "text/plain": [
              "<Figure size 432x432 with 1 Axes>"
            ]
          },
          "metadata": {
            "tags": [],
            "needs_background": "light"
          }
        }
      ]
    },
    {
      "cell_type": "markdown",
      "metadata": {
        "id": "IvPcon___ZOe"
      },
      "source": [
        "# Методы машинного обучения"
      ]
    },
    {
      "cell_type": "code",
      "metadata": {
        "id": "hFTzFmRTA4iq"
      },
      "source": [
        "from sklearn.feature_extraction.text import CountVectorizer, TfidfVectorizer\n",
        "from sklearn.neighbors import KNeighborsClassifier\n",
        "from sklearn.ensemble import RandomForestClassifier\n",
        "from sklearn.linear_model import LogisticRegression\n",
        "from sklearn.model_selection import train_test_split"
      ],
      "execution_count": 47,
      "outputs": []
    },
    {
      "cell_type": "code",
      "metadata": {
        "id": "8fQEYI9YMYj1"
      },
      "source": [
        "def bow(train, test):\n",
        "    bow_vectorizer = CountVectorizer()\n",
        "    train_vec = bow_vectorizer.fit_transform(train)\n",
        "    test_vec = bow_vectorizer.transform(test)\n",
        "    return train_vec, test_vec"
      ],
      "execution_count": 48,
      "outputs": []
    },
    {
      "cell_type": "code",
      "metadata": {
        "id": "Nz5Zv-3EMalT"
      },
      "source": [
        "def tf_idf(train, test):\n",
        "    tfidf_vectorizer = TfidfVectorizer()\n",
        "    train_vec = tfidf_vectorizer.fit_transform(train)\n",
        "    test_vec = tfidf_vectorizer.transform(test)\n",
        "    return train_vec, test_vec"
      ],
      "execution_count": 49,
      "outputs": []
    },
    {
      "cell_type": "code",
      "metadata": {
        "id": "8egeA1b1MdFu"
      },
      "source": [
        "def knn_score(trainX, trainY, testX, testY):\n",
        "    knn_classifier = KNeighborsClassifier()\n",
        "    knn_classifier.fit(trainX, trainY)\n",
        "    return knn_classifier.score(testX, testY)"
      ],
      "execution_count": 50,
      "outputs": []
    },
    {
      "cell_type": "code",
      "metadata": {
        "id": "6ZPItXwqMe8k"
      },
      "source": [
        "def random_forest_score(trainX, trainY, testX, testY):\n",
        "    rf_classifier = RandomForestClassifier()\n",
        "    rf_classifier.fit(trainX, trainY)\n",
        "    return rf_classifier.score(testX, testY)"
      ],
      "execution_count": 53,
      "outputs": []
    },
    {
      "cell_type": "code",
      "metadata": {
        "id": "J2JyopwMMggT"
      },
      "source": [
        "def lr_score(trainX, trainY, testX, testY):\n",
        "    lr_classifier = LogisticRegression()\n",
        "    lr_classifier.fit(trainX, trainY)\n",
        "    return lr_classifier.score(testX, testY)"
      ],
      "execution_count": 52,
      "outputs": []
    },
    {
      "cell_type": "code",
      "metadata": {
        "id": "7tgkR6cvMr8y"
      },
      "source": [
        "def visualize_results(score):\n",
        "    print(score)\n",
        "\n",
        "def base_pipeline(train_x, train_y, test_x, test_y,\n",
        "                  vectorizer, scorer):\n",
        "    vectorized_train_x, vectorized_test_x = vectorizer(train_x, test_x)\n",
        "    score = scorer(vectorized_train_x, train_y, vectorized_test_x, test_y)\n",
        "    visualize_results(score)"
      ],
      "execution_count": 54,
      "outputs": []
    },
    {
      "cell_type": "markdown",
      "metadata": {
        "id": "n9QRaBt-P18a"
      },
      "source": [
        "# Базовая модель"
      ]
    },
    {
      "cell_type": "code",
      "metadata": {
        "id": "IYVWsUTuP18a"
      },
      "source": [
        "FTS = [\"levenstein\", \"norm_levenstein\"]\n",
        "THR = 0.9"
      ],
      "execution_count": 56,
      "outputs": []
    },
    {
      "cell_type": "code",
      "metadata": {
        "id": "BcycRITwP18a"
      },
      "source": [
        "split = StratifiedShuffleSplit(1, train_size=0.8, random_state=RS)\n",
        "tridx, cvidx = list(split.split(train[FTS], train[\"is_duplicate\"]))[0]"
      ],
      "execution_count": null,
      "outputs": []
    },
    {
      "cell_type": "code",
      "metadata": {
        "id": "pN4tT281P18a"
      },
      "source": [
        "model = LogisticRegression(class_weight=\"balanced\")\n",
        "model.fit(train.iloc[tridx][FTS].values,\n",
        "          train.iloc[tridx][\"is_duplicate\"].values)"
      ],
      "execution_count": null,
      "outputs": []
    },
    {
      "cell_type": "code",
      "metadata": {
        "id": "-5MPIX8PP18a"
      },
      "source": [
        "tr_preds = model.predict_proba(train.iloc[tridx][FTS].values)\n",
        "cv_preds = model.predict_proba(train.iloc[cvidx][FTS].values)"
      ],
      "execution_count": null,
      "outputs": []
    },
    {
      "cell_type": "code",
      "metadata": {
        "id": "MYfm3-jNP18a"
      },
      "source": [
        "tr_preds = (tr_preds[:, 1] > THR).astype(np.int)\n",
        "cv_preds = (cv_preds[:, 1] > THR).astype(np.int)"
      ],
      "execution_count": null,
      "outputs": []
    },
    {
      "cell_type": "code",
      "metadata": {
        "id": "SX0Pw0WhP18a"
      },
      "source": [
        "print(classification_report(train.iloc[tridx][\"is_duplicate\"].values, tr_preds))"
      ],
      "execution_count": null,
      "outputs": []
    },
    {
      "cell_type": "code",
      "metadata": {
        "id": "avElf-0UP18a"
      },
      "source": [
        "print(classification_report(train.iloc[cvidx][\"is_duplicate\"].values, cv_preds))"
      ],
      "execution_count": null,
      "outputs": []
    },
    {
      "cell_type": "code",
      "metadata": {
        "id": "xp_C2tZAP18a"
      },
      "source": [
        "print(f1_score(train.iloc[tridx][\"is_duplicate\"].values, tr_preds))\n",
        "print(f1_score(train.iloc[cvidx][\"is_duplicate\"].values, cv_preds))"
      ],
      "execution_count": null,
      "outputs": []
    },
    {
      "cell_type": "markdown",
      "metadata": {
        "id": "PS_ZdbWTP18a"
      },
      "source": [
        "# Генерация сабмита"
      ]
    },
    {
      "cell_type": "code",
      "metadata": {
        "id": "873fR7IWP18a"
      },
      "source": [
        "sample_sub = pd.read_csv(DATA_DIR.joinpath(\"sample_submission.csv\"), index_col=\"pair_id\")"
      ],
      "execution_count": null,
      "outputs": []
    },
    {
      "cell_type": "code",
      "metadata": {
        "id": "nO-eDyiEP18a"
      },
      "source": [
        "sample_sub"
      ],
      "execution_count": null,
      "outputs": []
    },
    {
      "cell_type": "code",
      "metadata": {
        "id": "-mYfKeYWP18a"
      },
      "source": [
        "sample_sub[\"is_duplicate\"] = (model.predict_proba(test[FTS].values)[:, 1] > THR).astype(np.int)"
      ],
      "execution_count": null,
      "outputs": []
    },
    {
      "cell_type": "code",
      "metadata": {
        "id": "eMoXoI6SP18a"
      },
      "source": [
        "sample_sub.is_duplicate.value_counts()"
      ],
      "execution_count": null,
      "outputs": []
    },
    {
      "cell_type": "code",
      "metadata": {
        "id": "b-t0lqinP18a"
      },
      "source": [
        "sample_sub.to_csv(DATA_DIR.joinpath(\"baseline_submission.csv\"))"
      ],
      "execution_count": null,
      "outputs": []
    },
    {
      "cell_type": "code",
      "metadata": {
        "id": "jHrdNKj_P18a"
      },
      "source": [
        ""
      ],
      "execution_count": null,
      "outputs": []
    }
  ]
}