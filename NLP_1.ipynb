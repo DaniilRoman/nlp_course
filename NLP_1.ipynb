{
 "cells": [
  {
   "cell_type": "code",
   "execution_count": 4,
   "metadata": {
    "id": "uHUidi_S6JC3"
   },
   "outputs": [],
   "source": [
    "import pandas as pd\n",
    "import matplotlib.pyplot as plt\n",
    "import re\n",
    "import os\n",
    "from sklearn.feature_extraction.text import CountVectorizer, TfidfVectorizer\n",
    "from sklearn.neighbors import KNeighborsClassifier\n",
    "from sklearn.ensemble import RandomForestClassifier\n",
    "from sklearn.linear_model import LogisticRegression"
   ]
  },
  {
   "cell_type": "code",
   "execution_count": 5,
   "metadata": {
    "colab": {
     "base_uri": "https://localhost:8080/",
     "height": 54
    },
    "id": "mQYi0n328wHI",
    "outputId": "5d0e7e3e-66eb-462e-e6b2-c48dd548d7a1"
   },
   "outputs": [],
   "source": [
    "try:\n",
    "    from google.colab import drive\n",
    "    drive.mount('/content/drive')\n",
    "    data_prefix = '/content/drive/My Drive/NLP'\n",
    "except ModuleNotFoundError:\n",
    "    data_prefix = '../Datasets/SO'"
   ]
  },
  {
   "cell_type": "code",
   "execution_count": 6,
   "metadata": {
    "id": "on4Ta9G67Dm2"
   },
   "outputs": [],
   "source": [
    "train = pd.read_parquet(os.path.join(data_prefix, 'train.parquet'))\n",
    "test  = pd.read_parquet(os.path.join(data_prefix, 'test.parquet'))"
   ]
  },
  {
   "cell_type": "code",
   "execution_count": 7,
   "metadata": {
    "colab": {
     "base_uri": "https://localhost:8080/",
     "height": 225
    },
    "id": "-LBvkkyR7-rI",
    "outputId": "3d4e5fa3-4617-4265-bcc5-d6b1eb282b57"
   },
   "outputs": [
    {
     "data": {
      "text/html": [
       "<div>\n",
       "<style scoped>\n",
       "    .dataframe tbody tr th:only-of-type {\n",
       "        vertical-align: middle;\n",
       "    }\n",
       "\n",
       "    .dataframe tbody tr th {\n",
       "        vertical-align: top;\n",
       "    }\n",
       "\n",
       "    .dataframe thead th {\n",
       "        text-align: right;\n",
       "    }\n",
       "</style>\n",
       "<table border=\"1\" class=\"dataframe\">\n",
       "  <thead>\n",
       "    <tr style=\"text-align: right;\">\n",
       "      <th></th>\n",
       "      <th>Body</th>\n",
       "      <th>Tags</th>\n",
       "      <th>Title</th>\n",
       "      <th>target</th>\n",
       "    </tr>\n",
       "    <tr>\n",
       "      <th>Id</th>\n",
       "      <th></th>\n",
       "      <th></th>\n",
       "      <th></th>\n",
       "      <th></th>\n",
       "    </tr>\n",
       "  </thead>\n",
       "  <tbody>\n",
       "    <tr>\n",
       "      <th>34862324</th>\n",
       "      <td>Algorithmm:\\r\\n\\r\\n**input :** Graph G\\r\\n\\r\\n...</td>\n",
       "      <td>&lt;java&gt;&lt;algorithm&gt;&lt;graph-algorithm&gt;</td>\n",
       "      <td>I am implementing a Minimum Spanning Forrest a...</td>\n",
       "      <td>2</td>\n",
       "    </tr>\n",
       "    <tr>\n",
       "      <th>47303682</th>\n",
       "      <td>While converting the data frame to HTML, Date ...</td>\n",
       "      <td>&lt;html&gt;&lt;r&gt;&lt;dataframe&gt;</td>\n",
       "      <td>R Studio: Date is getting converted to number,...</td>\n",
       "      <td>2</td>\n",
       "    </tr>\n",
       "    <tr>\n",
       "      <th>46431243</th>\n",
       "      <td>&lt;p&gt;This should be an easy one, but somehow I c...</td>\n",
       "      <td>&lt;python&gt;&lt;pandas&gt;&lt;dataframe&gt;&lt;pandas-groupby&gt;</td>\n",
       "      <td>Pandas - dataframe groupby - how to get sum of...</td>\n",
       "      <td>0</td>\n",
       "    </tr>\n",
       "    <tr>\n",
       "      <th>45306324</th>\n",
       "      <td>&lt;p&gt;Let say I have a component in Angular 2 tha...</td>\n",
       "      <td>&lt;angular&gt;&lt;typescript&gt;&lt;rxjs&gt;</td>\n",
       "      <td>Casting results from Observable.forkJoin to th...</td>\n",
       "      <td>0</td>\n",
       "    </tr>\n",
       "    <tr>\n",
       "      <th>49479547</th>\n",
       "      <td>&lt;p&gt;I'm setting a var using \\n&lt;code&gt;set TEST_VA...</td>\n",
       "      <td>&lt;c&gt;&lt;windows&gt;&lt;batch-file&gt;</td>\n",
       "      <td>Environment variable set in batch file cannot ...</td>\n",
       "      <td>1</td>\n",
       "    </tr>\n",
       "  </tbody>\n",
       "</table>\n",
       "</div>"
      ],
      "text/plain": [
       "                                                       Body  \\\n",
       "Id                                                            \n",
       "34862324  Algorithmm:\\r\\n\\r\\n**input :** Graph G\\r\\n\\r\\n...   \n",
       "47303682  While converting the data frame to HTML, Date ...   \n",
       "46431243  <p>This should be an easy one, but somehow I c...   \n",
       "45306324  <p>Let say I have a component in Angular 2 tha...   \n",
       "49479547  <p>I'm setting a var using \\n<code>set TEST_VA...   \n",
       "\n",
       "                                                 Tags  \\\n",
       "Id                                                      \n",
       "34862324           <java><algorithm><graph-algorithm>   \n",
       "47303682                         <html><r><dataframe>   \n",
       "46431243  <python><pandas><dataframe><pandas-groupby>   \n",
       "45306324                  <angular><typescript><rxjs>   \n",
       "49479547                     <c><windows><batch-file>   \n",
       "\n",
       "                                                      Title  target  \n",
       "Id                                                                   \n",
       "34862324  I am implementing a Minimum Spanning Forrest a...       2  \n",
       "47303682  R Studio: Date is getting converted to number,...       2  \n",
       "46431243  Pandas - dataframe groupby - how to get sum of...       0  \n",
       "45306324  Casting results from Observable.forkJoin to th...       0  \n",
       "49479547  Environment variable set in batch file cannot ...       1  "
      ]
     },
     "execution_count": 7,
     "metadata": {},
     "output_type": "execute_result"
    }
   ],
   "source": [
    "train.head()"
   ]
  },
  {
   "cell_type": "markdown",
   "metadata": {},
   "source": [
    "# Предварительная обработка данных"
   ]
  },
  {
   "cell_type": "code",
   "execution_count": 8,
   "metadata": {},
   "outputs": [],
   "source": [
    "from data_preprocessing import remove_html_tags, stay_only_a_z, tokenize_by_word"
   ]
  },
  {
   "cell_type": "code",
   "execution_count": 9,
   "metadata": {},
   "outputs": [
    {
     "data": {
      "text/plain": [
       "\"\\nнадо пересмотреть эту функцию\\n\\n\\ndef clean_text(dataframe, field='text'):\\n    def clean_str(text): \\n        text = text.lower()\\n        text = re.sub(r'[^(a-zA-Z)\\\\s]','', text)\\n        return text\\n  dataframe[field] = data[field].apply(clean_str)\\n  return dataframe\\n\\ndata = clean_text(data)\""
      ]
     },
     "execution_count": 9,
     "metadata": {},
     "output_type": "execute_result"
    }
   ],
   "source": [
    "'''\n",
    "надо пересмотреть эту функцию\n",
    "\n",
    "\n",
    "def clean_text(dataframe, field='text'):\n",
    "    def clean_str(text): \n",
    "        text = text.lower()\n",
    "        text = re.sub(r'[^(a-zA-Z)\\s]','', text)\n",
    "        return text\n",
    "  dataframe[field] = data[field].apply(clean_str)\n",
    "  return dataframe\n",
    "\n",
    "data = clean_text(data)'''"
   ]
  },
  {
   "cell_type": "markdown",
   "metadata": {},
   "source": [
    "## Демонстрация работы препроцессингов"
   ]
  },
  {
   "cell_type": "code",
   "execution_count": 10,
   "metadata": {},
   "outputs": [
    {
     "name": "stderr",
     "output_type": "stream",
     "text": [
      "/home/agladyshev/Documents/UNN/NLP/nlp_course/data_preprocessing.py:11: GuessedAtParserWarning: No parser was explicitly specified, so I'm using the best available HTML parser for this system (\"html.parser\"). This usually isn't a problem, but if you run this code on another system, or in a different virtual environment, it may use a different parser and behave differently.\n",
      "\n",
      "The code that caused this warning is on line 11 of the file /home/agladyshev/Documents/UNN/NLP/nlp_course/data_preprocessing.py. To get rid of this warning, pass the additional argument 'features=\"html.parser\"' to the BeautifulSoup constructor.\n",
      "\n",
      "  return BeautifulSoup(html).get_text()\n"
     ]
    },
    {
     "data": {
      "text/plain": [
       "'\\nI am using nltk. However, I\\'ve just got up to the method like\\nmy_text = [\\'This\\', \\'is\\', \\'my\\', \\'text\\']\\n\\nI\\'d like to discover any way to input my \"text\" as:\\nmy_text = \"This is my text, this is a nice way to input text.\"\\n\\n'"
      ]
     },
     "execution_count": 10,
     "metadata": {},
     "output_type": "execute_result"
    }
   ],
   "source": [
    "remove_html_tags('''\n",
    "<p>I am using nltk. However, I've just got up to the method like</p>\n",
    "\n",
    "<pre><code>my_text = ['This', 'is', 'my', 'text']\n",
    "</code></pre>\n",
    "\n",
    "<p>I'd like to discover any way to input my \"text\" as:</p>\n",
    "\n",
    "<pre><code>my_text = \"This is my text, this is a nice way to input text.\"\n",
    "</code></pre>\n",
    "''')"
   ]
  },
  {
   "cell_type": "code",
   "execution_count": 11,
   "metadata": {},
   "outputs": [
    {
     "data": {
      "text/plain": [
       "'Algorithmm\\r\\n\\r\\ninput  Graph G\\r\\n\\r\\noutput Set of MSTs T\\r\\n\\r\\nbegin'"
      ]
     },
     "execution_count": 11,
     "metadata": {},
     "output_type": "execute_result"
    }
   ],
   "source": [
    "stay_only_a_z(\"Algorithmm:\\r\\n\\r\\n**input :** Graph G\\r\\n\\r\\n**output:** Set of MSTs T\\r\\n\\r\\n**begin*\")"
   ]
  },
  {
   "cell_type": "code",
   "execution_count": 12,
   "metadata": {},
   "outputs": [
    {
     "data": {
      "text/plain": [
       "'Algorithmm : ** input :** Graph G ** output :** Set of MSTs T ** begin *'"
      ]
     },
     "execution_count": 12,
     "metadata": {},
     "output_type": "execute_result"
    }
   ],
   "source": [
    "tokenize_by_word(\"Algorithmm:\\r\\n\\r\\n**input :** Graph G\\r\\n\\r\\n**output:** Set of MSTs T\\r\\n\\r\\n**begin*\")"
   ]
  },
  {
   "cell_type": "markdown",
   "metadata": {},
   "source": [
    "## Препроцессинг для Body"
   ]
  },
  {
   "cell_type": "code",
   "execution_count": 13,
   "metadata": {},
   "outputs": [],
   "source": [
    "def body_preprocess(text):\n",
    "#     text = remove_html_tags(text)\n",
    "    text = stay_only_a_z(text)\n",
    "    text = tokenize_by_word(text)\n",
    "    return text.lower()"
   ]
  },
  {
   "cell_type": "code",
   "execution_count": 14,
   "metadata": {},
   "outputs": [
    {
     "data": {
      "text/plain": [
       "'algorithmm input graph g output set of msts t begin tnull egedges for all vertices in g create a tree t having single vertex b add t to t end for repeat find an edge e e having minimum weight such that one end belongs to t t and the other end does not belongs to any of the trees in t add e to t until e null im stuck on the logic for the highlighted block ive used simple objects for vertexedge and tree and for their sets used array of objects'"
      ]
     },
     "execution_count": 14,
     "metadata": {},
     "output_type": "execute_result"
    }
   ],
   "source": [
    "body_preprocess('''\n",
    "Algorithmm:\n",
    "\n",
    "**input :** Graph G\n",
    "\n",
    "**output:** Set of MSTs T\n",
    "\n",
    "**begin**\n",
    "\n",
    "T=null;\n",
    "E=G.Edges;\n",
    "\n",
    "for all vertices in G,\n",
    "Create a tree t having single vertex b\n",
    "\n",
    "add t to T\n",
    "\n",
    "end for\n",
    "\n",
    "     repeat\n",
    "        Find an edge e ∈ E having minimum weight\n",
    "        such that one end belongs to t ∈ T and the other\n",
    "        end does not belongs to any of the trees in T\n",
    "        Add e to t\n",
    "      until e = NULL\n",
    "\n",
    "I'm stuck on the logic for the highlighted block.\n",
    "I've used simple objects for vertex,edge and tree. And for their sets, used array of Objects.''')"
   ]
  },
  {
   "cell_type": "markdown",
   "metadata": {},
   "source": [
    "### Выполним препроцессинг для данных"
   ]
  },
  {
   "cell_type": "code",
   "execution_count": 15,
   "metadata": {},
   "outputs": [],
   "source": [
    "train['Body'] = train['Body'].apply(body_preprocess)\n",
    "test ['Body'] = test ['Body'].apply(body_preprocess)"
   ]
  },
  {
   "cell_type": "code",
   "execution_count": 16,
   "metadata": {},
   "outputs": [
    {
     "data": {
      "text/html": [
       "<div>\n",
       "<style scoped>\n",
       "    .dataframe tbody tr th:only-of-type {\n",
       "        vertical-align: middle;\n",
       "    }\n",
       "\n",
       "    .dataframe tbody tr th {\n",
       "        vertical-align: top;\n",
       "    }\n",
       "\n",
       "    .dataframe thead th {\n",
       "        text-align: right;\n",
       "    }\n",
       "</style>\n",
       "<table border=\"1\" class=\"dataframe\">\n",
       "  <thead>\n",
       "    <tr style=\"text-align: right;\">\n",
       "      <th></th>\n",
       "      <th>Body</th>\n",
       "      <th>Tags</th>\n",
       "      <th>Title</th>\n",
       "      <th>target</th>\n",
       "    </tr>\n",
       "    <tr>\n",
       "      <th>Id</th>\n",
       "      <th></th>\n",
       "      <th></th>\n",
       "      <th></th>\n",
       "      <th></th>\n",
       "    </tr>\n",
       "  </thead>\n",
       "  <tbody>\n",
       "    <tr>\n",
       "      <th>34862324</th>\n",
       "      <td>algorithmm input graph g output set of msts t ...</td>\n",
       "      <td>&lt;java&gt;&lt;algorithm&gt;&lt;graph-algorithm&gt;</td>\n",
       "      <td>I am implementing a Minimum Spanning Forrest a...</td>\n",
       "      <td>2</td>\n",
       "    </tr>\n",
       "    <tr>\n",
       "      <th>47303682</th>\n",
       "      <td>while converting the data frame to html date i...</td>\n",
       "      <td>&lt;html&gt;&lt;r&gt;&lt;dataframe&gt;</td>\n",
       "      <td>R Studio: Date is getting converted to number,...</td>\n",
       "      <td>2</td>\n",
       "    </tr>\n",
       "    <tr>\n",
       "      <th>46431243</th>\n",
       "      <td>pthis should be an easy one but somehow i coul...</td>\n",
       "      <td>&lt;python&gt;&lt;pandas&gt;&lt;dataframe&gt;&lt;pandas-groupby&gt;</td>\n",
       "      <td>Pandas - dataframe groupby - how to get sum of...</td>\n",
       "      <td>0</td>\n",
       "    </tr>\n",
       "    <tr>\n",
       "      <th>45306324</th>\n",
       "      <td>plet say i have a component in angular that ne...</td>\n",
       "      <td>&lt;angular&gt;&lt;typescript&gt;&lt;rxjs&gt;</td>\n",
       "      <td>Casting results from Observable.forkJoin to th...</td>\n",
       "      <td>0</td>\n",
       "    </tr>\n",
       "    <tr>\n",
       "      <th>49479547</th>\n",
       "      <td>pim setting a var using codeset testvarcode an...</td>\n",
       "      <td>&lt;c&gt;&lt;windows&gt;&lt;batch-file&gt;</td>\n",
       "      <td>Environment variable set in batch file cannot ...</td>\n",
       "      <td>1</td>\n",
       "    </tr>\n",
       "  </tbody>\n",
       "</table>\n",
       "</div>"
      ],
      "text/plain": [
       "                                                       Body  \\\n",
       "Id                                                            \n",
       "34862324  algorithmm input graph g output set of msts t ...   \n",
       "47303682  while converting the data frame to html date i...   \n",
       "46431243  pthis should be an easy one but somehow i coul...   \n",
       "45306324  plet say i have a component in angular that ne...   \n",
       "49479547  pim setting a var using codeset testvarcode an...   \n",
       "\n",
       "                                                 Tags  \\\n",
       "Id                                                      \n",
       "34862324           <java><algorithm><graph-algorithm>   \n",
       "47303682                         <html><r><dataframe>   \n",
       "46431243  <python><pandas><dataframe><pandas-groupby>   \n",
       "45306324                  <angular><typescript><rxjs>   \n",
       "49479547                     <c><windows><batch-file>   \n",
       "\n",
       "                                                      Title  target  \n",
       "Id                                                                   \n",
       "34862324  I am implementing a Minimum Spanning Forrest a...       2  \n",
       "47303682  R Studio: Date is getting converted to number,...       2  \n",
       "46431243  Pandas - dataframe groupby - how to get sum of...       0  \n",
       "45306324  Casting results from Observable.forkJoin to th...       0  \n",
       "49479547  Environment variable set in batch file cannot ...       1  "
      ]
     },
     "execution_count": 16,
     "metadata": {},
     "output_type": "execute_result"
    }
   ],
   "source": [
    "train.head()"
   ]
  },
  {
   "cell_type": "markdown",
   "metadata": {},
   "source": [
    "## Препроцессинг для Title"
   ]
  },
  {
   "cell_type": "code",
   "execution_count": 17,
   "metadata": {},
   "outputs": [],
   "source": [
    "def title_preprocessing(text):\n",
    "    text = stay_only_a_z(text)\n",
    "    text = tokenize_by_word(text)\n",
    "    return text.lower()"
   ]
  },
  {
   "cell_type": "code",
   "execution_count": 18,
   "metadata": {},
   "outputs": [],
   "source": [
    "train['Title'] = train['Title'].apply(title_preprocessing)\n",
    "test ['Title'] = test ['Title'].apply(title_preprocessing)"
   ]
  },
  {
   "cell_type": "code",
   "execution_count": 19,
   "metadata": {},
   "outputs": [
    {
     "data": {
      "text/html": [
       "<div>\n",
       "<style scoped>\n",
       "    .dataframe tbody tr th:only-of-type {\n",
       "        vertical-align: middle;\n",
       "    }\n",
       "\n",
       "    .dataframe tbody tr th {\n",
       "        vertical-align: top;\n",
       "    }\n",
       "\n",
       "    .dataframe thead th {\n",
       "        text-align: right;\n",
       "    }\n",
       "</style>\n",
       "<table border=\"1\" class=\"dataframe\">\n",
       "  <thead>\n",
       "    <tr style=\"text-align: right;\">\n",
       "      <th></th>\n",
       "      <th>Body</th>\n",
       "      <th>Tags</th>\n",
       "      <th>Title</th>\n",
       "      <th>target</th>\n",
       "    </tr>\n",
       "    <tr>\n",
       "      <th>Id</th>\n",
       "      <th></th>\n",
       "      <th></th>\n",
       "      <th></th>\n",
       "      <th></th>\n",
       "    </tr>\n",
       "  </thead>\n",
       "  <tbody>\n",
       "    <tr>\n",
       "      <th>34862324</th>\n",
       "      <td>algorithmm input graph g output set of msts t ...</td>\n",
       "      <td>&lt;java&gt;&lt;algorithm&gt;&lt;graph-algorithm&gt;</td>\n",
       "      <td>i am implementing a minimum spanning forrest a...</td>\n",
       "      <td>2</td>\n",
       "    </tr>\n",
       "    <tr>\n",
       "      <th>47303682</th>\n",
       "      <td>while converting the data frame to html date i...</td>\n",
       "      <td>&lt;html&gt;&lt;r&gt;&lt;dataframe&gt;</td>\n",
       "      <td>r studio date is getting converted to number w...</td>\n",
       "      <td>2</td>\n",
       "    </tr>\n",
       "    <tr>\n",
       "      <th>46431243</th>\n",
       "      <td>pthis should be an easy one but somehow i coul...</td>\n",
       "      <td>&lt;python&gt;&lt;pandas&gt;&lt;dataframe&gt;&lt;pandas-groupby&gt;</td>\n",
       "      <td>pandas dataframe groupby how to get sum of mul...</td>\n",
       "      <td>0</td>\n",
       "    </tr>\n",
       "    <tr>\n",
       "      <th>45306324</th>\n",
       "      <td>plet say i have a component in angular that ne...</td>\n",
       "      <td>&lt;angular&gt;&lt;typescript&gt;&lt;rxjs&gt;</td>\n",
       "      <td>casting results from observableforkjoin to the...</td>\n",
       "      <td>0</td>\n",
       "    </tr>\n",
       "    <tr>\n",
       "      <th>49479547</th>\n",
       "      <td>pim setting a var using codeset testvarcode an...</td>\n",
       "      <td>&lt;c&gt;&lt;windows&gt;&lt;batch-file&gt;</td>\n",
       "      <td>environment variable set in batch file cannot ...</td>\n",
       "      <td>1</td>\n",
       "    </tr>\n",
       "  </tbody>\n",
       "</table>\n",
       "</div>"
      ],
      "text/plain": [
       "                                                       Body  \\\n",
       "Id                                                            \n",
       "34862324  algorithmm input graph g output set of msts t ...   \n",
       "47303682  while converting the data frame to html date i...   \n",
       "46431243  pthis should be an easy one but somehow i coul...   \n",
       "45306324  plet say i have a component in angular that ne...   \n",
       "49479547  pim setting a var using codeset testvarcode an...   \n",
       "\n",
       "                                                 Tags  \\\n",
       "Id                                                      \n",
       "34862324           <java><algorithm><graph-algorithm>   \n",
       "47303682                         <html><r><dataframe>   \n",
       "46431243  <python><pandas><dataframe><pandas-groupby>   \n",
       "45306324                  <angular><typescript><rxjs>   \n",
       "49479547                     <c><windows><batch-file>   \n",
       "\n",
       "                                                      Title  target  \n",
       "Id                                                                   \n",
       "34862324  i am implementing a minimum spanning forrest a...       2  \n",
       "47303682  r studio date is getting converted to number w...       2  \n",
       "46431243  pandas dataframe groupby how to get sum of mul...       0  \n",
       "45306324  casting results from observableforkjoin to the...       0  \n",
       "49479547  environment variable set in batch file cannot ...       1  "
      ]
     },
     "execution_count": 19,
     "metadata": {},
     "output_type": "execute_result"
    }
   ],
   "source": [
    "train.head()"
   ]
  },
  {
   "cell_type": "code",
   "execution_count": 20,
   "metadata": {
    "id": "YlmAgFAA-jNC"
   },
   "outputs": [],
   "source": [
    "train['text'] = train['Title'] + ' ' + train['Body']\n",
    "data = train.drop(['Tags', 'Title', 'Body'], axis=1)"
   ]
  },
  {
   "cell_type": "code",
   "execution_count": 21,
   "metadata": {
    "colab": {
     "base_uri": "https://localhost:8080/",
     "height": 225
    },
    "id": "hC9z6u23Cmd-",
    "outputId": "fad210f3-e317-4396-8db0-6b2e1ee73c57"
   },
   "outputs": [
    {
     "data": {
      "text/html": [
       "<div>\n",
       "<style scoped>\n",
       "    .dataframe tbody tr th:only-of-type {\n",
       "        vertical-align: middle;\n",
       "    }\n",
       "\n",
       "    .dataframe tbody tr th {\n",
       "        vertical-align: top;\n",
       "    }\n",
       "\n",
       "    .dataframe thead th {\n",
       "        text-align: right;\n",
       "    }\n",
       "</style>\n",
       "<table border=\"1\" class=\"dataframe\">\n",
       "  <thead>\n",
       "    <tr style=\"text-align: right;\">\n",
       "      <th></th>\n",
       "      <th>target</th>\n",
       "      <th>text</th>\n",
       "    </tr>\n",
       "    <tr>\n",
       "      <th>Id</th>\n",
       "      <th></th>\n",
       "      <th></th>\n",
       "    </tr>\n",
       "  </thead>\n",
       "  <tbody>\n",
       "    <tr>\n",
       "      <th>34862324</th>\n",
       "      <td>2</td>\n",
       "      <td>i am implementing a minimum spanning forrest a...</td>\n",
       "    </tr>\n",
       "    <tr>\n",
       "      <th>47303682</th>\n",
       "      <td>2</td>\n",
       "      <td>r studio date is getting converted to number w...</td>\n",
       "    </tr>\n",
       "    <tr>\n",
       "      <th>46431243</th>\n",
       "      <td>0</td>\n",
       "      <td>pandas dataframe groupby how to get sum of mul...</td>\n",
       "    </tr>\n",
       "    <tr>\n",
       "      <th>45306324</th>\n",
       "      <td>0</td>\n",
       "      <td>casting results from observableforkjoin to the...</td>\n",
       "    </tr>\n",
       "    <tr>\n",
       "      <th>49479547</th>\n",
       "      <td>1</td>\n",
       "      <td>environment variable set in batch file cannot ...</td>\n",
       "    </tr>\n",
       "  </tbody>\n",
       "</table>\n",
       "</div>"
      ],
      "text/plain": [
       "          target                                               text\n",
       "Id                                                                 \n",
       "34862324       2  i am implementing a minimum spanning forrest a...\n",
       "47303682       2  r studio date is getting converted to number w...\n",
       "46431243       0  pandas dataframe groupby how to get sum of mul...\n",
       "45306324       0  casting results from observableforkjoin to the...\n",
       "49479547       1  environment variable set in batch file cannot ..."
      ]
     },
     "execution_count": 21,
     "metadata": {},
     "output_type": "execute_result"
    }
   ],
   "source": [
    "data.head()"
   ]
  },
  {
   "cell_type": "code",
   "execution_count": 22,
   "metadata": {
    "colab": {
     "base_uri": "https://localhost:8080/",
     "height": 626
    },
    "id": "xJiB1Z0NCnOj",
    "outputId": "25ac7c3e-5628-4713-9d58-20b351604a08"
   },
   "outputs": [
    {
     "data": {
      "image/png": "[encoded data removed]",
      "text/plain": [
       "<Figure size 1280x720 with 1 Axes>"
      ]
     },
     "metadata": {},
     "output_type": "display_data"
    }
   ],
   "source": [
    "labels = ['HQ', 'LQ_CLOSE', 'LQ_EDIT']\n",
    "values = [len(data[data['target'] == 0]), len(data[data['target'] == 1]), len(data[data['target'] == 2])]\n",
    "plt.style.use('classic')\n",
    "plt.figure(figsize=(16, 9))\n",
    "plt.pie(x=values, labels=labels, autopct=\"%1.1f%%\")\n",
    "plt.title(\"Target Value Distribution\")\n",
    "plt.show()"
   ]
  },
  {
   "cell_type": "markdown",
   "metadata": {
    "id": "Ert464av2FcC"
   },
   "source": [
    "Данные распределены равномерно по категориям текста.\n",
    "\n",
    "Проведем очистку данных"
   ]
  },
  {
   "cell_type": "markdown",
   "metadata": {
    "id": "TMv5l-ir89v9"
   },
   "source": [
    "# Разделение данных на тренировочную и тестовую выборки"
   ]
  },
  {
   "cell_type": "code",
   "execution_count": 23,
   "metadata": {
    "colab": {
     "base_uri": "https://localhost:8080/",
     "height": 50
    },
    "id": "HQrvLiuH802O",
    "outputId": "7845e904-2a1c-4bd0-b024-28fd4556e610"
   },
   "outputs": [
    {
     "name": "stdout",
     "output_type": "stream",
     "text": [
      "Training Data Shape: (36000,)\n",
      "Test Data Shape: (12000,)\n"
     ]
    }
   ],
   "source": [
    "def split(data):\n",
    "    split_pcent = 0.25\n",
    "    split = int(split_pcent * len(data))\n",
    "\n",
    "    data = data.sample(frac=1).reset_index(drop=True)\n",
    "\n",
    "    train = data[split:]\n",
    "    trainX = train['text']\n",
    "    trainY = train['target'].values\n",
    "\n",
    "    test = data[:split]\n",
    "    testX = test['text']\n",
    "    testY = test['target'].values\n",
    "\n",
    "    print(f\"Training Data Shape: {trainX.shape}\\nTest Data Shape: {testX.shape}\")\n",
    "    return trainX, trainY, testX, testY\n",
    "\n",
    "trainX, trainY, testX, testY = split(data)"
   ]
  },
  {
   "cell_type": "code",
   "execution_count": 24,
   "metadata": {
    "colab": {
     "base_uri": "https://localhost:8080/",
     "height": 34
    },
    "id": "jaWO8KGN9kQv",
    "outputId": "785db366-c824-4d26-da69-e932bb67bbfa"
   },
   "outputs": [
    {
     "data": {
      "text/plain": [
       "[11957, 12086, 11957]"
      ]
     },
     "execution_count": 24,
     "metadata": {},
     "output_type": "execute_result"
    }
   ],
   "source": [
    "[len(trainY[trainY == 0]), len(trainY[trainY == 1]), len(trainY[trainY == 2])]"
   ]
  },
  {
   "cell_type": "markdown",
   "metadata": {
    "id": "-sfomX7KCdU-"
   },
   "source": [
    "# Векторизация данных"
   ]
  },
  {
   "cell_type": "markdown",
   "metadata": {
    "id": "iq4cxmmXCoEJ"
   },
   "source": [
    "## 1. BOW (Bag of words)"
   ]
  },
  {
   "cell_type": "code",
   "execution_count": 25,
   "metadata": {
    "id": "mJ64NclEIMo2"
   },
   "outputs": [],
   "source": [
    "def bow(train, test):\n",
    "    bow_vectorizer = CountVectorizer()\n",
    "    train_vec = bow_vectorizer.fit_transform(train)\n",
    "    test_vec = bow_vectorizer.transform(test)\n",
    "    return train_vec, test_vec"
   ]
  },
  {
   "cell_type": "markdown",
   "metadata": {
    "id": "oUHByJaxIEyC"
   },
   "source": [
    "## 2. tf-idf"
   ]
  },
  {
   "cell_type": "code",
   "execution_count": 26,
   "metadata": {
    "id": "kusXPLLDCiWR"
   },
   "outputs": [],
   "source": [
    "def tf_idf(train, test):\n",
    "    tfidf_vectorizer = TfidfVectorizer()\n",
    "    train_vec = tfidf_vectorizer.fit_transform(train)\n",
    "    test_vec = tfidf_vectorizer.transform(test)\n",
    "\n",
    "    return train_vec, test_vec"
   ]
  },
  {
   "cell_type": "markdown",
   "metadata": {
    "id": "gp8HDPeKJadX"
   },
   "source": [
    "# Построение классификаторов\n"
   ]
  },
  {
   "cell_type": "markdown",
   "metadata": {
    "id": "-TB9am4TJhBM"
   },
   "source": [
    "## 1. kNN"
   ]
  },
  {
   "cell_type": "code",
   "execution_count": 27,
   "metadata": {
    "id": "kv0xxyvMJ8x6"
   },
   "outputs": [],
   "source": [
    "def knn_score(trainX, trainY, testX, testY):\n",
    "    knn_classifier = KNeighborsClassifier()\n",
    "    knn_classifier.fit(trainX, trainY)\n",
    "    return knn_classifier.score(testX, testY)"
   ]
  },
  {
   "cell_type": "markdown",
   "metadata": {
    "id": "cKuzGUa4JoSD"
   },
   "source": [
    "## 2. Random Forests"
   ]
  },
  {
   "cell_type": "code",
   "execution_count": 28,
   "metadata": {
    "id": "LaMW8OEJJj-a"
   },
   "outputs": [],
   "source": [
    "def random_forest_score(trainX, trainY, testX, testY):\n",
    "    rf_classifier = RandomForestClassifier()\n",
    "    rf_classifier.fit(trainX, trainY)\n",
    "    return rf_classifier.score(testX, testY)"
   ]
  },
  {
   "cell_type": "markdown",
   "metadata": {
    "id": "PTCHZxyhKhIj"
   },
   "source": [
    "## 3. Логистическая регрессия"
   ]
  },
  {
   "cell_type": "code",
   "execution_count": 29,
   "metadata": {
    "id": "phyDRDQbKgpe"
   },
   "outputs": [],
   "source": [
    "def lr_score(trainX, trainY, testX, testY):\n",
    "    lr_classifier = LogisticRegression()\n",
    "    lr_classifier.fit(trainX, trainY)\n",
    "    return lr_classifier.score(testX, testY)"
   ]
  },
  {
   "cell_type": "code",
   "execution_count": 30,
   "metadata": {
    "id": "803CUXuNlpoR"
   },
   "outputs": [
    {
     "ename": "SyntaxError",
     "evalue": "invalid syntax (<ipython-input-30-a6ef4eeeaba4>, line 1)",
     "output_type": "error",
     "traceback": [
      "\u001b[0;36m  File \u001b[0;32m\"<ipython-input-30-a6ef4eeeaba4>\"\u001b[0;36m, line \u001b[0;32m1\u001b[0m\n\u001b[0;31m    ========================================================================================================================\u001b[0m\n\u001b[0m     ^\u001b[0m\n\u001b[0;31mSyntaxError\u001b[0m\u001b[0;31m:\u001b[0m invalid syntax\n"
     ]
    }
   ],
   "source": [
    "========================================================================================================================\n",
    "========================================================================================================================\n",
    "========================================================================================================================"
   ]
  },
  {
   "cell_type": "code",
   "execution_count": 31,
   "metadata": {
    "colab": {
     "base_uri": "https://localhost:8080/",
     "height": 67
    },
    "id": "XTUyvezPlu3r",
    "outputId": "b2ae5aae-0dc9-4358-cbf8-6a505610feab"
   },
   "outputs": [
    {
     "name": "stdout",
     "output_type": "stream",
     "text": [
      "Training Data Shape: (36000,)\n",
      "Test Data Shape: (12000,)\n",
      "0.8308333333333333\n"
     ]
    }
   ],
   "source": [
    "# data = data[:1000]\n",
    "\n",
    "def visualize_results(score):\n",
    "    print(score)\n",
    "\n",
    "def base_pipeline(data, spliter, vectorizer, scorer):\n",
    "    train_x, train_y, test_x, test_y = spliter(data)\n",
    "    vectorized_train_x, vectorized_test_x = vectorizer(train_x, test_x)\n",
    "    score = scorer(vectorized_train_x, train_y, vectorized_test_x, test_y)\n",
    "\n",
    "    visualize_results(score)\n",
    "\n",
    "\n",
    "\n",
    "# 1 attempt: basic cleaner, bow, knn \n",
    "base_pipeline(data, split, bow, random_forest_score)"
   ]
  },
  {
   "cell_type": "code",
   "execution_count": 32,
   "metadata": {
    "id": "tQ1u7-AQput5"
   },
   "outputs": [
    {
     "name": "stdout",
     "output_type": "stream",
     "text": [
      "Training Data Shape: (36000,)\n",
      "Test Data Shape: (12000,)\n",
      "0.882\n"
     ]
    },
    {
     "name": "stderr",
     "output_type": "stream",
     "text": [
      "/home/agladyshev/anaconda3/envs/unn-nlp/lib/python3.7/site-packages/sklearn/linear_model/_logistic.py:764: ConvergenceWarning: lbfgs failed to converge (status=1):\n",
      "STOP: TOTAL NO. of ITERATIONS REACHED LIMIT.\n",
      "\n",
      "Increase the number of iterations (max_iter) or scale the data as shown in:\n",
      "    https://scikit-learn.org/stable/modules/preprocessing.html\n",
      "Please also refer to the documentation for alternative solver options:\n",
      "    https://scikit-learn.org/stable/modules/linear_model.html#logistic-regression\n",
      "  extra_warning_msg=_LOGISTIC_SOLVER_CONVERGENCE_MSG)\n"
     ]
    }
   ],
   "source": [
    "base_pipeline(data, split, bow, lr_score)"
   ]
  },
  {
   "cell_type": "code",
   "execution_count": 33,
   "metadata": {},
   "outputs": [
    {
     "name": "stdout",
     "output_type": "stream",
     "text": [
      "Training Data Shape: (36000,)\n",
      "Test Data Shape: (12000,)\n",
      "0.86975\n"
     ]
    },
    {
     "name": "stderr",
     "output_type": "stream",
     "text": [
      "/home/agladyshev/anaconda3/envs/unn-nlp/lib/python3.7/site-packages/sklearn/linear_model/_logistic.py:764: ConvergenceWarning: lbfgs failed to converge (status=1):\n",
      "STOP: TOTAL NO. of ITERATIONS REACHED LIMIT.\n",
      "\n",
      "Increase the number of iterations (max_iter) or scale the data as shown in:\n",
      "    https://scikit-learn.org/stable/modules/preprocessing.html\n",
      "Please also refer to the documentation for alternative solver options:\n",
      "    https://scikit-learn.org/stable/modules/linear_model.html#logistic-regression\n",
      "  extra_warning_msg=_LOGISTIC_SOLVER_CONVERGENCE_MSG)\n"
     ]
    }
   ],
   "source": [
    "base_pipeline(data, split, tf_idf, lr_score)"
   ]
  },
  {
   "cell_type": "code",
   "execution_count": null,
   "metadata": {},
   "outputs": [],
   "source": []
  },
  {
   "cell_type": "code",
   "execution_count": null,
   "metadata": {},
   "outputs": [],
   "source": []
  }
 ],
 "metadata": {
  "colab": {
   "collapsed_sections": [],
   "name": "NLP_1.ipynb",
   "provenance": []
  },
  "kernelspec": {
   "display_name": "Python (myenv)",
   "language": "python",
   "name": "unn-nlp"
  },
  "language_info": {
   "codemirror_mode": {
    "name": "ipython",
    "version": 3
   },
   "file_extension": ".py",
   "mimetype": "text/x-python",
   "name": "python",
   "nbconvert_exporter": "python",
   "pygments_lexer": "ipython3",
   "version": "3.7.7"
  }
 },
 "nbformat": 4,
 "nbformat_minor": 1
}
