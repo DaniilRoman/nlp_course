{
  "nbformat": 4,
  "nbformat_minor": 0,
  "metadata": {
    "colab": {
      "name": "Naming baseline.ipynb",
      "provenance": [],
      "collapsed_sections": [
        "VMWARSktXEri",
        "XU4DAVcdc-Hi",
        "napIuPS7xqtZ",
        "Xk2UM-3eZ6FL",
        "rgcPs6K_Eeqi",
        "4WKQU1qExqta",
        "QTeusfay5gyS",
        "0MTRniWAxqtb"
      ],
      "toc_visible": true
    },
    "kernelspec": {
      "display_name": "Python 3",
      "language": "python",
      "name": "python3"
    },
    "language_info": {
      "codemirror_mode": {
        "name": "ipython",
        "version": 3
      },
      "file_extension": ".py",
      "mimetype": "text/x-python",
      "name": "python",
      "nbconvert_exporter": "python",
      "pygments_lexer": "ipython3",
      "version": "3.8.2"
    }
  },
  "cells": [
    {
      "cell_type": "code",
      "metadata": {
        "colab": {
          "base_uri": "https://localhost:8080/"
        },
        "id": "ZlV27lMwxqtV",
        "outputId": "ce2acd89-0e08-4342-ab59-df4ea7f2b2dd"
      },
      "source": [
        "%pylab inline\n",
        "plt.style.use(\"bmh\")"
      ],
      "execution_count": null,
      "outputs": [
        {
          "output_type": "stream",
          "text": [
            "Populating the interactive namespace from numpy and matplotlib\n"
          ],
          "name": "stdout"
        }
      ]
    },
    {
      "cell_type": "code",
      "metadata": {
        "id": "5FtvY9dPxqtX"
      },
      "source": [
        "import pathlib\n",
        "import pandas as pd\n",
        "\n",
        "from sklearn.metrics import classification_report, f1_score\n",
        "from sklearn.model_selection import StratifiedShuffleSplit\n",
        "from sklearn.ensemble import RandomForestClassifier\n",
        "from sklearn.linear_model import LogisticRegression"
      ],
      "execution_count": null,
      "outputs": []
    },
    {
      "cell_type": "code",
      "metadata": {
        "id": "RVokqkcvxqtX"
      },
      "source": [
        "from tqdm import tqdm\n",
        "tqdm.pandas()"
      ],
      "execution_count": null,
      "outputs": []
    },
    {
      "cell_type": "code",
      "metadata": {
        "id": "PPzqhvclxqtX"
      },
      "source": [
        "RS = 7345"
      ],
      "execution_count": null,
      "outputs": []
    },
    {
      "cell_type": "markdown",
      "metadata": {
        "id": "rPK-98h_xqtY"
      },
      "source": [
        "# Загрузка данных"
      ]
    },
    {
      "cell_type": "code",
      "metadata": {
        "id": "5NjEfazGxqtY"
      },
      "source": [
        "DATA_DIR = pathlib.Path(\"../data/names/uploads\")"
      ],
      "execution_count": null,
      "outputs": []
    },
    {
      "cell_type": "code",
      "metadata": {
        "id": "DNxknZRlxqtY"
      },
      "source": [
        "train = pd.read_csv(\"train.csv\", index_col=\"pair_id\")\n",
        "test = pd.read_csv(\"test.csv\", index_col=\"pair_id\")"
      ],
      "execution_count": null,
      "outputs": []
    },
    {
      "cell_type": "code",
      "metadata": {
        "colab": {
          "base_uri": "https://localhost:8080/",
          "height": 228
        },
        "id": "pyHRx1aaxqtY",
        "outputId": "f793c6cb-5f44-4a0e-e681-1883cd6c65c0"
      },
      "source": [
        "train.head()"
      ],
      "execution_count": null,
      "outputs": [
        {
          "output_type": "execute_result",
          "data": {
            "text/html": [
              "<div>\n",
              "<style scoped>\n",
              "    .dataframe tbody tr th:only-of-type {\n",
              "        vertical-align: middle;\n",
              "    }\n",
              "\n",
              "    .dataframe tbody tr th {\n",
              "        vertical-align: top;\n",
              "    }\n",
              "\n",
              "    .dataframe thead th {\n",
              "        text-align: right;\n",
              "    }\n",
              "</style>\n",
              "<table border=\"1\" class=\"dataframe\">\n",
              "  <thead>\n",
              "    <tr style=\"text-align: right;\">\n",
              "      <th></th>\n",
              "      <th>name_1</th>\n",
              "      <th>name_2</th>\n",
              "      <th>is_duplicate</th>\n",
              "    </tr>\n",
              "    <tr>\n",
              "      <th>pair_id</th>\n",
              "      <th></th>\n",
              "      <th></th>\n",
              "      <th></th>\n",
              "    </tr>\n",
              "  </thead>\n",
              "  <tbody>\n",
              "    <tr>\n",
              "      <th>1</th>\n",
              "      <td>Iko Industries Ltd.</td>\n",
              "      <td>Enormous Industrial Trade Pvt., Ltd.</td>\n",
              "      <td>0</td>\n",
              "    </tr>\n",
              "    <tr>\n",
              "      <th>2</th>\n",
              "      <td>Apcotex Industries Ltd.</td>\n",
              "      <td>Technocraft Industries (India) Ltd.</td>\n",
              "      <td>0</td>\n",
              "    </tr>\n",
              "    <tr>\n",
              "      <th>3</th>\n",
              "      <td>Rishichem Distributors Pvt., Ltd.</td>\n",
              "      <td>Dsa</td>\n",
              "      <td>0</td>\n",
              "    </tr>\n",
              "    <tr>\n",
              "      <th>4</th>\n",
              "      <td>Powermax Rubber Factory</td>\n",
              "      <td>Co. One</td>\n",
              "      <td>0</td>\n",
              "    </tr>\n",
              "    <tr>\n",
              "      <th>5</th>\n",
              "      <td>Tress A/S</td>\n",
              "      <td>Longyou Industries Park Zhejiang</td>\n",
              "      <td>0</td>\n",
              "    </tr>\n",
              "  </tbody>\n",
              "</table>\n",
              "</div>"
            ],
            "text/plain": [
              "                                    name_1  ... is_duplicate\n",
              "pair_id                                     ...             \n",
              "1                      Iko Industries Ltd.  ...            0\n",
              "2                  Apcotex Industries Ltd.  ...            0\n",
              "3        Rishichem Distributors Pvt., Ltd.  ...            0\n",
              "4                  Powermax Rubber Factory  ...            0\n",
              "5                                Tress A/S  ...            0\n",
              "\n",
              "[5 rows x 3 columns]"
            ]
          },
          "metadata": {
            "tags": []
          },
          "execution_count": 5
        }
      ]
    },
    {
      "cell_type": "code",
      "metadata": {
        "colab": {
          "base_uri": "https://localhost:8080/",
          "height": 228
        },
        "id": "a8OK3jfxxqtY",
        "outputId": "5352c0ed-5604-45fe-b25e-732c23f6ca14"
      },
      "source": [
        "test.head()"
      ],
      "execution_count": null,
      "outputs": [
        {
          "output_type": "execute_result",
          "data": {
            "text/html": [
              "<div>\n",
              "<style scoped>\n",
              "    .dataframe tbody tr th:only-of-type {\n",
              "        vertical-align: middle;\n",
              "    }\n",
              "\n",
              "    .dataframe tbody tr th {\n",
              "        vertical-align: top;\n",
              "    }\n",
              "\n",
              "    .dataframe thead th {\n",
              "        text-align: right;\n",
              "    }\n",
              "</style>\n",
              "<table border=\"1\" class=\"dataframe\">\n",
              "  <thead>\n",
              "    <tr style=\"text-align: right;\">\n",
              "      <th></th>\n",
              "      <th>name_1</th>\n",
              "      <th>name_2</th>\n",
              "    </tr>\n",
              "    <tr>\n",
              "      <th>pair_id</th>\n",
              "      <th></th>\n",
              "      <th></th>\n",
              "    </tr>\n",
              "  </thead>\n",
              "  <tbody>\n",
              "    <tr>\n",
              "      <th>1</th>\n",
              "      <td>Sun Blinds Decoration Inc.</td>\n",
              "      <td>Indl De Cuautitlan Sa Cv</td>\n",
              "    </tr>\n",
              "    <tr>\n",
              "      <th>2</th>\n",
              "      <td>Eih Ltd.</td>\n",
              "      <td>Dongguan Wei Shi Plastic Product Co., Ltd.</td>\n",
              "    </tr>\n",
              "    <tr>\n",
              "      <th>3</th>\n",
              "      <td>Jsh Ltd. (Hk)</td>\n",
              "      <td>Arab Shipbuilding And Repair Yard C</td>\n",
              "    </tr>\n",
              "    <tr>\n",
              "      <th>4</th>\n",
              "      <td>Better Industrial Ltd.</td>\n",
              "      <td>Farmacap Industria E Comercio Ltda</td>\n",
              "    </tr>\n",
              "    <tr>\n",
              "      <th>5</th>\n",
              "      <td>Equipos Inoxidables Del Norte Sa De Cv</td>\n",
              "      <td>Bel Inc.</td>\n",
              "    </tr>\n",
              "  </tbody>\n",
              "</table>\n",
              "</div>"
            ],
            "text/plain": [
              "                                         name_1                                      name_2\n",
              "pair_id                                                                                    \n",
              "1                    Sun Blinds Decoration Inc.                    Indl De Cuautitlan Sa Cv\n",
              "2                                      Eih Ltd.  Dongguan Wei Shi Plastic Product Co., Ltd.\n",
              "3                                 Jsh Ltd. (Hk)         Arab Shipbuilding And Repair Yard C\n",
              "4                        Better Industrial Ltd.          Farmacap Industria E Comercio Ltda\n",
              "5        Equipos Inoxidables Del Norte Sa De Cv                                    Bel Inc."
            ]
          },
          "metadata": {
            "tags": []
          },
          "execution_count": 6
        }
      ]
    },
    {
      "cell_type": "code",
      "metadata": {
        "colab": {
          "base_uri": "https://localhost:8080/"
        },
        "id": "yTF9UQ6vxqtY",
        "outputId": "6ed55ba6-2d41-4cce-a8ff-19c289357cbb"
      },
      "source": [
        "train.info()"
      ],
      "execution_count": null,
      "outputs": [
        {
          "output_type": "stream",
          "text": [
            "<class 'pandas.core.frame.DataFrame'>\n",
            "Int64Index: 497819 entries, 1 to 497819\n",
            "Data columns (total 3 columns):\n",
            " #   Column        Non-Null Count   Dtype \n",
            "---  ------        --------------   ----- \n",
            " 0   name_1        497819 non-null  object\n",
            " 1   name_2        497819 non-null  object\n",
            " 2   is_duplicate  497819 non-null  int64 \n",
            "dtypes: int64(1), object(2)\n",
            "memory usage: 15.2+ MB\n"
          ],
          "name": "stdout"
        }
      ]
    },
    {
      "cell_type": "code",
      "metadata": {
        "colab": {
          "base_uri": "https://localhost:8080/"
        },
        "id": "SzQBw2bkxqtY",
        "outputId": "f4f32e66-71f6-48d9-c0e4-bb7aa462742f"
      },
      "source": [
        "test.info()"
      ],
      "execution_count": null,
      "outputs": [
        {
          "output_type": "stream",
          "text": [
            "<class 'pandas.core.frame.DataFrame'>\n",
            "Int64Index: 213249 entries, 1 to 213249\n",
            "Data columns (total 2 columns):\n",
            " #   Column  Non-Null Count   Dtype \n",
            "---  ------  --------------   ----- \n",
            " 0   name_1  213249 non-null  object\n",
            " 1   name_2  213249 non-null  object\n",
            "dtypes: object(2)\n",
            "memory usage: 4.9+ MB\n"
          ],
          "name": "stdout"
        }
      ]
    },
    {
      "cell_type": "markdown",
      "metadata": {
        "id": "VMWARSktXEri"
      },
      "source": [
        "# Contries and cities"
      ]
    },
    {
      "cell_type": "code",
      "metadata": {
        "colab": {
          "base_uri": "https://localhost:8080/",
          "height": 359
        },
        "id": "Kwn0FoR7dKB6",
        "outputId": "505e566a-b9f8-4131-9052-907bd1c60423"
      },
      "source": [
        "cities = pd.read_csv(\"cities.csv\", header=None, encoding='iso-8859-1')\n",
        "cities.head(10)"
      ],
      "execution_count": null,
      "outputs": [
        {
          "output_type": "execute_result",
          "data": {
            "text/html": [
              "<div>\n",
              "<style scoped>\n",
              "    .dataframe tbody tr th:only-of-type {\n",
              "        vertical-align: middle;\n",
              "    }\n",
              "\n",
              "    .dataframe tbody tr th {\n",
              "        vertical-align: top;\n",
              "    }\n",
              "\n",
              "    .dataframe thead th {\n",
              "        text-align: right;\n",
              "    }\n",
              "</style>\n",
              "<table border=\"1\" class=\"dataframe\">\n",
              "  <thead>\n",
              "    <tr style=\"text-align: right;\">\n",
              "      <th></th>\n",
              "      <th>0</th>\n",
              "      <th>1</th>\n",
              "      <th>2</th>\n",
              "      <th>3</th>\n",
              "    </tr>\n",
              "  </thead>\n",
              "  <tbody>\n",
              "    <tr>\n",
              "      <th>0</th>\n",
              "      <td>les Escaldes</td>\n",
              "      <td>les Escaldes</td>\n",
              "      <td>Ehskal'des-Ehndzhordani,Escaldes,Escaldes-Engo...</td>\n",
              "      <td>AD</td>\n",
              "    </tr>\n",
              "    <tr>\n",
              "      <th>1</th>\n",
              "      <td>Andorra la Vella</td>\n",
              "      <td>Andorra la Vella</td>\n",
              "      <td>ALV,Ando-la-Vyey,Andora,Andora la Vela,Andora ...</td>\n",
              "      <td>AD</td>\n",
              "    </tr>\n",
              "    <tr>\n",
              "      <th>2</th>\n",
              "      <td>Umm Al Quwain City</td>\n",
              "      <td>Umm Al Quwain City</td>\n",
              "      <td>Oumm al Qaiwain,Oumm al Qaïwaïn,Um al Kawain,U...</td>\n",
              "      <td>AE</td>\n",
              "    </tr>\n",
              "    <tr>\n",
              "      <th>3</th>\n",
              "      <td>Ras Al Khaimah City</td>\n",
              "      <td>Ras Al Khaimah City</td>\n",
              "      <td>Julfa,Khaimah,RAK City,RKT,Ra's al Khaymah,Ra'...</td>\n",
              "      <td>AE</td>\n",
              "    </tr>\n",
              "    <tr>\n",
              "      <th>4</th>\n",
              "      <td>Zayed City</td>\n",
              "      <td>Zayed City</td>\n",
              "      <td>Bid' Zayed,Bid Zayed,Madinat Za'id,Madinat Za...</td>\n",
              "      <td>AE</td>\n",
              "    </tr>\n",
              "    <tr>\n",
              "      <th>5</th>\n",
              "      <td>Khawr Fakk?n</td>\n",
              "      <td>Khawr Fakkan</td>\n",
              "      <td>Fakkan,Fakk?n,Khawr Fakkan,Khawr Fakk?n,Khawr ...</td>\n",
              "      <td>AE</td>\n",
              "    </tr>\n",
              "    <tr>\n",
              "      <th>6</th>\n",
              "      <td>Dubai</td>\n",
              "      <td>Dubai</td>\n",
              "      <td>DXB,Dabei,Dibai,Dibay,Doubayi,Dubae,Dubai,Duba...</td>\n",
              "      <td>AE</td>\n",
              "    </tr>\n",
              "    <tr>\n",
              "      <th>7</th>\n",
              "      <td>Dibba Al-Fujairah</td>\n",
              "      <td>Dibba Al-Fujairah</td>\n",
              "      <td>Al-Fujairah,BYB,Dibba Al-Fujairah,dba alfjyrt,...</td>\n",
              "      <td>AE</td>\n",
              "    </tr>\n",
              "    <tr>\n",
              "      <th>8</th>\n",
              "      <td>Dibba Al-Hisn</td>\n",
              "      <td>Dibba Al-Hisn</td>\n",
              "      <td>BYB,Daba,Daba al-Hisn,Dab?,Dab? al-?i?n,Diba,D...</td>\n",
              "      <td>AE</td>\n",
              "    </tr>\n",
              "    <tr>\n",
              "      <th>9</th>\n",
              "      <td>Sharjah</td>\n",
              "      <td>Sharjah</td>\n",
              "      <td>Al Sharjah,Ash 'Mariqah,Ash Shariqa,Ash Shariq...</td>\n",
              "      <td>AE</td>\n",
              "    </tr>\n",
              "  </tbody>\n",
              "</table>\n",
              "</div>"
            ],
            "text/plain": [
              "                     0  ...   3\n",
              "0         les Escaldes  ...  AD\n",
              "1     Andorra la Vella  ...  AD\n",
              "2   Umm Al Quwain City  ...  AE\n",
              "3  Ras Al Khaimah City  ...  AE\n",
              "4           Zayed City  ...  AE\n",
              "5         Khawr Fakk?n  ...  AE\n",
              "6                Dubai  ...  AE\n",
              "7    Dibba Al-Fujairah  ...  AE\n",
              "8        Dibba Al-Hisn  ...  AE\n",
              "9              Sharjah  ...  AE\n",
              "\n",
              "[10 rows x 4 columns]"
            ]
          },
          "metadata": {
            "tags": []
          },
          "execution_count": 64
        }
      ]
    },
    {
      "cell_type": "code",
      "metadata": {
        "id": "6CZsQc8rdKFH"
      },
      "source": [
        "stop_cities = []"
      ],
      "execution_count": null,
      "outputs": []
    },
    {
      "cell_type": "markdown",
      "metadata": {
        "id": "XU4DAVcdc-Hi"
      },
      "source": [
        "# Companies"
      ]
    },
    {
      "cell_type": "code",
      "metadata": {
        "colab": {
          "base_uri": "https://localhost:8080/",
          "height": 359
        },
        "id": "a3m0JZPmXIZr",
        "outputId": "85593b08-f760-4ee5-e387-98073172f601"
      },
      "source": [
        "companies = pd.read_csv(\"2020-11-19_elf-code-list-v1.3.csv\")\n",
        "companies[['Entity Legal Form name Local name', 'Entity Legal Form name Transliterated name (per ISO 01-140-10)']].head(10)"
      ],
      "execution_count": null,
      "outputs": [
        {
          "output_type": "execute_result",
          "data": {
            "text/html": [
              "<div>\n",
              "<style scoped>\n",
              "    .dataframe tbody tr th:only-of-type {\n",
              "        vertical-align: middle;\n",
              "    }\n",
              "\n",
              "    .dataframe tbody tr th {\n",
              "        vertical-align: top;\n",
              "    }\n",
              "\n",
              "    .dataframe thead th {\n",
              "        text-align: right;\n",
              "    }\n",
              "</style>\n",
              "<table border=\"1\" class=\"dataframe\">\n",
              "  <thead>\n",
              "    <tr style=\"text-align: right;\">\n",
              "      <th></th>\n",
              "      <th>Entity Legal Form name Local name</th>\n",
              "      <th>Entity Legal Form name Transliterated name (per ISO 01-140-10)</th>\n",
              "    </tr>\n",
              "  </thead>\n",
              "  <tbody>\n",
              "    <tr>\n",
              "      <th>0</th>\n",
              "      <td>NaN</td>\n",
              "      <td>NaN</td>\n",
              "    </tr>\n",
              "    <tr>\n",
              "      <th>1</th>\n",
              "      <td>NaN</td>\n",
              "      <td>NaN</td>\n",
              "    </tr>\n",
              "    <tr>\n",
              "      <th>2</th>\n",
              "      <td>International Business Corporation</td>\n",
              "      <td>International Business Corporation</td>\n",
              "    </tr>\n",
              "    <tr>\n",
              "      <th>3</th>\n",
              "      <td>Sociedad Anonima</td>\n",
              "      <td>Sociedad Anonima</td>\n",
              "    </tr>\n",
              "    <tr>\n",
              "      <th>4</th>\n",
              "      <td>Sociedad Cooperativa</td>\n",
              "      <td>Sociedad Cooperativa</td>\n",
              "    </tr>\n",
              "    <tr>\n",
              "      <th>5</th>\n",
              "      <td>Sociedad Anonima Unipersonal</td>\n",
              "      <td>Sociedad Anonima Unipersonal</td>\n",
              "    </tr>\n",
              "    <tr>\n",
              "      <th>6</th>\n",
              "      <td>Stichting</td>\n",
              "      <td>Stichting</td>\n",
              "    </tr>\n",
              "    <tr>\n",
              "      <th>7</th>\n",
              "      <td>Vennootschap onder firma</td>\n",
              "      <td>Vennootschap onder firma</td>\n",
              "    </tr>\n",
              "    <tr>\n",
              "      <th>8</th>\n",
              "      <td>Commanditaire vennootschap (1)</td>\n",
              "      <td>Commanditaire vennootschap (1)</td>\n",
              "    </tr>\n",
              "    <tr>\n",
              "      <th>9</th>\n",
              "      <td>Besloten vennootschap</td>\n",
              "      <td>Besloten vennootschap</td>\n",
              "    </tr>\n",
              "  </tbody>\n",
              "</table>\n",
              "</div>"
            ],
            "text/plain": [
              "    Entity Legal Form name Local name Entity Legal Form name Transliterated name (per ISO 01-140-10)\n",
              "0                                 NaN                                                NaN            \n",
              "1                                 NaN                                                NaN            \n",
              "2  International Business Corporation                 International Business Corporation            \n",
              "3                    Sociedad Anonima                                   Sociedad Anonima            \n",
              "4                Sociedad Cooperativa                               Sociedad Cooperativa            \n",
              "5        Sociedad Anonima Unipersonal                       Sociedad Anonima Unipersonal            \n",
              "6                           Stichting                                          Stichting            \n",
              "7            Vennootschap onder firma                           Vennootschap onder firma            \n",
              "8      Commanditaire vennootschap (1)                     Commanditaire vennootschap (1)            \n",
              "9               Besloten vennootschap                              Besloten vennootschap            "
            ]
          },
          "metadata": {
            "tags": []
          },
          "execution_count": 34
        }
      ]
    },
    {
      "cell_type": "code",
      "metadata": {
        "id": "efaazoeTZeQb"
      },
      "source": [
        "companies = companies[['Entity Legal Form name Local name', 'Entity Legal Form name Transliterated name (per ISO 01-140-10)']]\n",
        "\n",
        "duplicate_companies = []\n",
        "for i, (name_1, name_2) in companies.iterrows():\n",
        "    if isinstance(name_1, str) and isinstance(name_2, str):\n",
        "        if name_1 != name_2:\n",
        "            duplicate_companies.append((name_1, name_2))\n",
        "    "
      ],
      "execution_count": null,
      "outputs": []
    },
    {
      "cell_type": "code",
      "metadata": {
        "colab": {
          "base_uri": "https://localhost:8080/"
        },
        "id": "2GIai8hJbKhv",
        "outputId": "18fcf76b-cec2-4967-c110-3e351943a985"
      },
      "source": [
        "duplicate_companies[:10]"
      ],
      "execution_count": null,
      "outputs": [
        {
          "output_type": "execute_result",
          "data": {
            "text/plain": [
              "[('Закрытае акцыянернае таварыства', 'Zakrytae akcyyanernae tavarystva'),\n",
              " ('Закрытое акционерное общество', 'Zakrytoe akcionernoe obshchestvo'),\n",
              " ('Унітарнае прадпрыемства', 'Unіtarnae pradpryemstva'),\n",
              " ('Унитарное предприятие', 'Unitarnoe predpriyatie'),\n",
              " ('Таварыства з абмежаванай адказнасцю',\n",
              "  'Tavarystva z abmezhavanaj adkaznascyu'),\n",
              " ('Общество с ограниченной ответственностью',\n",
              "  \"Obshchestvo s ogranichennoj otvetstvennost'yu\"),\n",
              " ('Таварыства з дадатковай адказнасцю', 'Tavarystva z dadatkovaj adkaznascyu'),\n",
              " ('Общество с дополнительной ответственностью',\n",
              "  \"Obshchestvo s dopolnitel'noj otvetstvennost'yu\"),\n",
              " ('Адкрытае акцыянернае таварыства', 'Adkrytae akcyyanernae tavarystva'),\n",
              " ('Открытое акционерное общество', 'Otkrytoe akcionernoe obshchestvo')]"
            ]
          },
          "metadata": {
            "tags": []
          },
          "execution_count": 58
        }
      ]
    },
    {
      "cell_type": "code",
      "metadata": {
        "id": "lCGuy6aTzEaY"
      },
      "source": [
        "rus2en = {'a': 'а', 'b': 'б'}"
      ],
      "execution_count": null,
      "outputs": []
    },
    {
      "cell_type": "code",
      "metadata": {
        "colab": {
          "base_uri": "https://localhost:8080/"
        },
        "id": "w1icbBvTuGNN",
        "outputId": "e5390661-16da-4d4e-dbee-bc20651e1396"
      },
      "source": [
        "len(duplicate_companies)"
      ],
      "execution_count": null,
      "outputs": [
        {
          "output_type": "execute_result",
          "data": {
            "text/plain": [
              "343"
            ]
          },
          "metadata": {
            "tags": []
          },
          "execution_count": 65
        }
      ]
    },
    {
      "cell_type": "markdown",
      "metadata": {
        "id": "napIuPS7xqtZ"
      },
      "source": [
        "# Статистика таргета"
      ]
    },
    {
      "cell_type": "code",
      "metadata": {
        "colab": {
          "base_uri": "https://localhost:8080/"
        },
        "id": "A4SOpUDfxqtZ",
        "outputId": "30b47a4b-ac4d-4682-b196-7d3d6e06bdd5"
      },
      "source": [
        "train.is_duplicate.value_counts()"
      ],
      "execution_count": null,
      "outputs": [
        {
          "output_type": "execute_result",
          "data": {
            "text/plain": [
              "0    494161\n",
              "1      3658\n",
              "Name: is_duplicate, dtype: int64"
            ]
          },
          "metadata": {
            "tags": []
          },
          "execution_count": 10
        }
      ]
    },
    {
      "cell_type": "code",
      "metadata": {
        "colab": {
          "base_uri": "https://localhost:8080/",
          "height": 545
        },
        "id": "TfCqxcrFxqtZ",
        "outputId": "99bca3ce-c5b0-4bf7-af7c-d074e03a5fe2"
      },
      "source": [
        "train[train.is_duplicate==1].sample(15)"
      ],
      "execution_count": null,
      "outputs": [
        {
          "output_type": "execute_result",
          "data": {
            "text/html": [
              "<div>\n",
              "<style scoped>\n",
              "    .dataframe tbody tr th:only-of-type {\n",
              "        vertical-align: middle;\n",
              "    }\n",
              "\n",
              "    .dataframe tbody tr th {\n",
              "        vertical-align: top;\n",
              "    }\n",
              "\n",
              "    .dataframe thead th {\n",
              "        text-align: right;\n",
              "    }\n",
              "</style>\n",
              "<table border=\"1\" class=\"dataframe\">\n",
              "  <thead>\n",
              "    <tr style=\"text-align: right;\">\n",
              "      <th></th>\n",
              "      <th>name_1</th>\n",
              "      <th>name_2</th>\n",
              "      <th>is_duplicate</th>\n",
              "    </tr>\n",
              "    <tr>\n",
              "      <th>pair_id</th>\n",
              "      <th></th>\n",
              "      <th></th>\n",
              "      <th></th>\n",
              "    </tr>\n",
              "  </thead>\n",
              "  <tbody>\n",
              "    <tr>\n",
              "      <th>395382</th>\n",
              "      <td>Ikea Distribution Services Gmb H</td>\n",
              "      <td>Ikea Distribution Service(Shanghai)</td>\n",
              "      <td>1</td>\n",
              "    </tr>\n",
              "    <tr>\n",
              "      <th>209566</th>\n",
              "      <td>Bridgestone Tire</td>\n",
              "      <td>Bridgestone (China) Research And Development C...</td>\n",
              "      <td>1</td>\n",
              "    </tr>\n",
              "    <tr>\n",
              "      <th>263594</th>\n",
              "      <td>Dow Chemical Thailand Ltd.</td>\n",
              "      <td>Dow Chemical Pacific</td>\n",
              "      <td>1</td>\n",
              "    </tr>\n",
              "    <tr>\n",
              "      <th>458214</th>\n",
              "      <td>Freudenberg Nok De Mexico Sa De Cv</td>\n",
              "      <td>Freudenberg Nok Componentes Brasil Ltda</td>\n",
              "      <td>1</td>\n",
              "    </tr>\n",
              "    <tr>\n",
              "      <th>388667</th>\n",
              "      <td>Arlanxeo Brasil Sa</td>\n",
              "      <td>Arlanxeo Singapore Pte.</td>\n",
              "      <td>1</td>\n",
              "    </tr>\n",
              "    <tr>\n",
              "      <th>158075</th>\n",
              "      <td>Basf Pakistan (Private) Ltd.</td>\n",
              "      <td>Basf Co., Ltd.</td>\n",
              "      <td>1</td>\n",
              "    </tr>\n",
              "    <tr>\n",
              "      <th>163396</th>\n",
              "      <td>Soprema Canada</td>\n",
              "      <td>SOPREMA OBERROSSBACH</td>\n",
              "      <td>1</td>\n",
              "    </tr>\n",
              "    <tr>\n",
              "      <th>390723</th>\n",
              "      <td>Sumitomo Rubber (Changshu) Co., Ltd.</td>\n",
              "      <td>Sumitomo Rubber Do Brasil Ltda</td>\n",
              "      <td>1</td>\n",
              "    </tr>\n",
              "    <tr>\n",
              "      <th>56580</th>\n",
              "      <td>Yokohama Tire Canada</td>\n",
              "      <td>Yokohama Re Mfg.</td>\n",
              "      <td>1</td>\n",
              "    </tr>\n",
              "    <tr>\n",
              "      <th>114960</th>\n",
              "      <td>Bridgestone (Tianjin) Tire Co., Ltd.</td>\n",
              "      <td>Bridgestone (Huizhou) Tire Co., Ltd.</td>\n",
              "      <td>1</td>\n",
              "    </tr>\n",
              "    <tr>\n",
              "      <th>19122</th>\n",
              "      <td>Bridgestone India Automotive Products Private ...</td>\n",
              "      <td>Bridgestone International Group</td>\n",
              "      <td>1</td>\n",
              "    </tr>\n",
              "    <tr>\n",
              "      <th>291037</th>\n",
              "      <td>Bridgestone International Group</td>\n",
              "      <td>Bridgestone Canada Inc.</td>\n",
              "      <td>1</td>\n",
              "    </tr>\n",
              "    <tr>\n",
              "      <th>70705</th>\n",
              "      <td>Bridgestone International Group</td>\n",
              "      <td>Bridgestone India Pvt., Ltd.</td>\n",
              "      <td>1</td>\n",
              "    </tr>\n",
              "    <tr>\n",
              "      <th>214980</th>\n",
              "      <td>ARLANXEO</td>\n",
              "      <td>ARLANXEO BRASIL S.A.</td>\n",
              "      <td>1</td>\n",
              "    </tr>\n",
              "    <tr>\n",
              "      <th>20824</th>\n",
              "      <td>Pirelli Neumaticos S.A. De Cv</td>\n",
              "      <td>Pirelli Neumaticos Sa De</td>\n",
              "      <td>1</td>\n",
              "    </tr>\n",
              "  </tbody>\n",
              "</table>\n",
              "</div>"
            ],
            "text/plain": [
              "                                                    name_1  ... is_duplicate\n",
              "pair_id                                                     ...             \n",
              "395382                    Ikea Distribution Services Gmb H  ...            1\n",
              "209566                                    Bridgestone Tire  ...            1\n",
              "263594                          Dow Chemical Thailand Ltd.  ...            1\n",
              "458214                  Freudenberg Nok De Mexico Sa De Cv  ...            1\n",
              "388667                                  Arlanxeo Brasil Sa  ...            1\n",
              "158075                        Basf Pakistan (Private) Ltd.  ...            1\n",
              "163396                                      Soprema Canada  ...            1\n",
              "390723                Sumitomo Rubber (Changshu) Co., Ltd.  ...            1\n",
              "56580                                 Yokohama Tire Canada  ...            1\n",
              "114960                Bridgestone (Tianjin) Tire Co., Ltd.  ...            1\n",
              "19122    Bridgestone India Automotive Products Private ...  ...            1\n",
              "291037                     Bridgestone International Group  ...            1\n",
              "70705                      Bridgestone International Group  ...            1\n",
              "214980                                           ARLANXEO   ...            1\n",
              "20824                        Pirelli Neumaticos S.A. De Cv  ...            1\n",
              "\n",
              "[15 rows x 3 columns]"
            ]
          },
          "metadata": {
            "tags": []
          },
          "execution_count": 11
        }
      ]
    },
    {
      "cell_type": "code",
      "metadata": {
        "colab": {
          "base_uri": "https://localhost:8080/",
          "height": 545
        },
        "id": "KZRWMaKcxqtZ",
        "outputId": "addff9ca-ddf9-4854-aff7-ff4b416d1028"
      },
      "source": [
        "train[train.is_duplicate==0].sample(15)"
      ],
      "execution_count": null,
      "outputs": [
        {
          "output_type": "execute_result",
          "data": {
            "text/html": [
              "<div>\n",
              "<style scoped>\n",
              "    .dataframe tbody tr th:only-of-type {\n",
              "        vertical-align: middle;\n",
              "    }\n",
              "\n",
              "    .dataframe tbody tr th {\n",
              "        vertical-align: top;\n",
              "    }\n",
              "\n",
              "    .dataframe thead th {\n",
              "        text-align: right;\n",
              "    }\n",
              "</style>\n",
              "<table border=\"1\" class=\"dataframe\">\n",
              "  <thead>\n",
              "    <tr style=\"text-align: right;\">\n",
              "      <th></th>\n",
              "      <th>name_1</th>\n",
              "      <th>name_2</th>\n",
              "      <th>is_duplicate</th>\n",
              "    </tr>\n",
              "    <tr>\n",
              "      <th>pair_id</th>\n",
              "      <th></th>\n",
              "      <th></th>\n",
              "      <th></th>\n",
              "    </tr>\n",
              "  </thead>\n",
              "  <tbody>\n",
              "    <tr>\n",
              "      <th>130514</th>\n",
              "      <td>R.H. Claydon Ltd.(Saxham)</td>\n",
              "      <td>R.I.Intl</td>\n",
              "      <td>0</td>\n",
              "    </tr>\n",
              "    <tr>\n",
              "      <th>213799</th>\n",
              "      <td>Solid Cement</td>\n",
              "      <td>Lg Chem Ltd.</td>\n",
              "      <td>0</td>\n",
              "    </tr>\n",
              "    <tr>\n",
              "      <th>237941</th>\n",
              "      <td>Zara Brasil Ltd. Av Ribeirao Dos Cri</td>\n",
              "      <td>V.D.</td>\n",
              "      <td>0</td>\n",
              "    </tr>\n",
              "    <tr>\n",
              "      <th>62414</th>\n",
              "      <td>Carlton Overseas Pvt., Ltd.</td>\n",
              "      <td>Infusion Overseas Private Ltd.</td>\n",
              "      <td>0</td>\n",
              "    </tr>\n",
              "    <tr>\n",
              "      <th>275797</th>\n",
              "      <td>Sportworx 2012 Ltd.</td>\n",
              "      <td>Elisei Nastri Trasportatori</td>\n",
              "      <td>0</td>\n",
              "    </tr>\n",
              "    <tr>\n",
              "      <th>138235</th>\n",
              "      <td>Genius Industrial Supply Co., Ltd.</td>\n",
              "      <td>D S International</td>\n",
              "      <td>0</td>\n",
              "    </tr>\n",
              "    <tr>\n",
              "      <th>154412</th>\n",
              "      <td>Great Worldwide Logistics</td>\n",
              "      <td>Ez Logistics Llc</td>\n",
              "      <td>0</td>\n",
              "    </tr>\n",
              "    <tr>\n",
              "      <th>284958</th>\n",
              "      <td>Hps North America Inc.</td>\n",
              "      <td>Icl America Ltd.</td>\n",
              "      <td>0</td>\n",
              "    </tr>\n",
              "    <tr>\n",
              "      <th>150053</th>\n",
              "      <td>Gates India P. Ltd.</td>\n",
              "      <td>Indo Rama Synthetics (India) Ltd.</td>\n",
              "      <td>0</td>\n",
              "    </tr>\n",
              "    <tr>\n",
              "      <th>201895</th>\n",
              "      <td>Industria Servimetal Sa De Cv</td>\n",
              "      <td>Shenzhen Z P C Industry Development Co., Ltd.</td>\n",
              "      <td>0</td>\n",
              "    </tr>\n",
              "    <tr>\n",
              "      <th>439434</th>\n",
              "      <td>Roar Logistics Inc.</td>\n",
              "      <td>Task Logistica Transportes Nacionais E Interna...</td>\n",
              "      <td>0</td>\n",
              "    </tr>\n",
              "    <tr>\n",
              "      <th>254332</th>\n",
              "      <td>Ict</td>\n",
              "      <td>Dura De Mexico Sa De Cv</td>\n",
              "      <td>0</td>\n",
              "    </tr>\n",
              "    <tr>\n",
              "      <th>26284</th>\n",
              "      <td>Han Gia Co., Ltd.</td>\n",
              "      <td>Shanghai Medical Technology Co., Ltd. Will Be ...</td>\n",
              "      <td>0</td>\n",
              "    </tr>\n",
              "    <tr>\n",
              "      <th>305484</th>\n",
              "      <td>Dsi</td>\n",
              "      <td>Cauchos Vulcanizados Colombia Ltda</td>\n",
              "      <td>0</td>\n",
              "    </tr>\n",
              "    <tr>\n",
              "      <th>275632</th>\n",
              "      <td>Shanghai Smith Adhesive Tape Development Co., ...</td>\n",
              "      <td>I B International</td>\n",
              "      <td>0</td>\n",
              "    </tr>\n",
              "  </tbody>\n",
              "</table>\n",
              "</div>"
            ],
            "text/plain": [
              "                                                    name_1  ... is_duplicate\n",
              "pair_id                                                     ...             \n",
              "130514                           R.H. Claydon Ltd.(Saxham)  ...            0\n",
              "213799                                        Solid Cement  ...            0\n",
              "237941                Zara Brasil Ltd. Av Ribeirao Dos Cri  ...            0\n",
              "62414                          Carlton Overseas Pvt., Ltd.  ...            0\n",
              "275797                                 Sportworx 2012 Ltd.  ...            0\n",
              "138235                  Genius Industrial Supply Co., Ltd.  ...            0\n",
              "154412                           Great Worldwide Logistics  ...            0\n",
              "284958                              Hps North America Inc.  ...            0\n",
              "150053                                 Gates India P. Ltd.  ...            0\n",
              "201895                       Industria Servimetal Sa De Cv  ...            0\n",
              "439434                                 Roar Logistics Inc.  ...            0\n",
              "254332                                                 Ict  ...            0\n",
              "26284                                    Han Gia Co., Ltd.  ...            0\n",
              "305484                                                 Dsi  ...            0\n",
              "275632   Shanghai Smith Adhesive Tape Development Co., ...  ...            0\n",
              "\n",
              "[15 rows x 3 columns]"
            ]
          },
          "metadata": {
            "tags": []
          },
          "execution_count": 12
        }
      ]
    },
    {
      "cell_type": "markdown",
      "metadata": {
        "id": "Eo0ykkbVxqtZ"
      },
      "source": [
        "# Очистка данных"
      ]
    },
    {
      "cell_type": "code",
      "metadata": {
        "colab": {
          "base_uri": "https://localhost:8080/"
        },
        "id": "9g_G3LY1zN7r",
        "outputId": "417b2369-af80-446a-86eb-ae9708945b02"
      },
      "source": [
        "!pip install pycountry"
      ],
      "execution_count": null,
      "outputs": [
        {
          "output_type": "stream",
          "text": [
            "Collecting pycountry\n",
            "\u001b[?25l  Downloading https://files.pythonhosted.org/packages/76/73/6f1a412f14f68c273feea29a6ea9b9f1e268177d32e0e69ad6790d306312/pycountry-20.7.3.tar.gz (10.1MB)\n",
            "\u001b[K     |████████████████████████████████| 10.1MB 5.4MB/s \n",
            "\u001b[?25hBuilding wheels for collected packages: pycountry\n",
            "  Building wheel for pycountry (setup.py) ... \u001b[?25l\u001b[?25hdone\n",
            "  Created wheel for pycountry: filename=pycountry-20.7.3-py2.py3-none-any.whl size=10746865 sha256=bfcaab18323fc5b15af5af3b8f2727e9e877ac10156c580bd932cebc8c2be2d6\n",
            "  Stored in directory: /root/.cache/pip/wheels/33/4e/a6/be297e6b83567e537bed9df4a93f8590ec01c1acfbcd405348\n",
            "Successfully built pycountry\n",
            "Installing collected packages: pycountry\n",
            "Successfully installed pycountry-20.7.3\n"
          ],
          "name": "stdout"
        }
      ]
    },
    {
      "cell_type": "code",
      "metadata": {
        "id": "HYkZMvVSxqtZ"
      },
      "source": [
        "import pycountry\n",
        "import re"
      ],
      "execution_count": null,
      "outputs": []
    },
    {
      "cell_type": "code",
      "metadata": {
        "id": "loHuAf58xqtZ"
      },
      "source": [
        "countries = [country.name.lower() for country in pycountry.countries]"
      ],
      "execution_count": null,
      "outputs": []
    },
    {
      "cell_type": "code",
      "metadata": {
        "id": "I1ogOvbdxqtZ"
      },
      "source": [
        "train[\"name_1\"] = train[\"name_1\"].str.lower()\n",
        "train[\"name_2\"] = train[\"name_2\"].str.lower()\n",
        "\n",
        "test[\"name_1\"] = test[\"name_1\"].str.lower()\n",
        "test[\"name_2\"] = test[\"name_2\"].str.lower()"
      ],
      "execution_count": null,
      "outputs": []
    },
    {
      "cell_type": "code",
      "metadata": {
        "colab": {
          "base_uri": "https://localhost:8080/",
          "height": 437
        },
        "id": "sLAfbun7xqtZ",
        "outputId": "c91c6dbc-6363-4368-d105-6d6d2f544bd8"
      },
      "source": [
        "train[train.name_1.str.contains(\"gmbh\")]"
      ],
      "execution_count": null,
      "outputs": [
        {
          "output_type": "execute_result",
          "data": {
            "text/html": [
              "<div>\n",
              "<style scoped>\n",
              "    .dataframe tbody tr th:only-of-type {\n",
              "        vertical-align: middle;\n",
              "    }\n",
              "\n",
              "    .dataframe tbody tr th {\n",
              "        vertical-align: top;\n",
              "    }\n",
              "\n",
              "    .dataframe thead th {\n",
              "        text-align: right;\n",
              "    }\n",
              "</style>\n",
              "<table border=\"1\" class=\"dataframe\">\n",
              "  <thead>\n",
              "    <tr style=\"text-align: right;\">\n",
              "      <th></th>\n",
              "      <th>name_1</th>\n",
              "      <th>name_2</th>\n",
              "      <th>is_duplicate</th>\n",
              "    </tr>\n",
              "    <tr>\n",
              "      <th>pair_id</th>\n",
              "      <th></th>\n",
              "      <th></th>\n",
              "      <th></th>\n",
              "    </tr>\n",
              "  </thead>\n",
              "  <tbody>\n",
              "    <tr>\n",
              "      <th>40</th>\n",
              "      <td>isoliererzeugnisse grobrohrsdorf gmbh</td>\n",
              "      <td>total rumunia</td>\n",
              "      <td>0</td>\n",
              "    </tr>\n",
              "    <tr>\n",
              "      <th>410</th>\n",
              "      <td>dortmunder gussasphalt gmbh &amp; co. kg</td>\n",
              "      <td>bitoumina s.a.</td>\n",
              "      <td>0</td>\n",
              "    </tr>\n",
              "    <tr>\n",
              "      <th>440</th>\n",
              "      <td>celanese chemicals europe gmbh</td>\n",
              "      <td>inreco - emulsja sp. z o.o.</td>\n",
              "      <td>0</td>\n",
              "    </tr>\n",
              "    <tr>\n",
              "      <th>583</th>\n",
              "      <td>tremco illbruck group gmbh</td>\n",
              "      <td>wakol gmbh</td>\n",
              "      <td>0</td>\n",
              "    </tr>\n",
              "    <tr>\n",
              "      <th>681</th>\n",
              "      <td>rasco bitumentechnik gmbh</td>\n",
              "      <td>technpvinyl polymers india ltd.</td>\n",
              "      <td>0</td>\n",
              "    </tr>\n",
              "    <tr>\n",
              "      <th>...</th>\n",
              "      <td>...</td>\n",
              "      <td>...</td>\n",
              "      <td>...</td>\n",
              "    </tr>\n",
              "    <tr>\n",
              "      <th>497197</th>\n",
              "      <td>binne &amp; sohn gmbh &amp; co kg</td>\n",
              "      <td>buscher hoffmann</td>\n",
              "      <td>0</td>\n",
              "    </tr>\n",
              "    <tr>\n",
              "      <th>497306</th>\n",
              "      <td>mct gmbh &amp; co. kg</td>\n",
              "      <td>valli zabban</td>\n",
              "      <td>0</td>\n",
              "    </tr>\n",
              "    <tr>\n",
              "      <th>497366</th>\n",
              "      <td>mct misch &amp; compoundier technik gmbh</td>\n",
              "      <td>nknh</td>\n",
              "      <td>0</td>\n",
              "    </tr>\n",
              "    <tr>\n",
              "      <th>497772</th>\n",
              "      <td>saint-gobain isover austria gmbh</td>\n",
              "      <td>soprema soprema sas</td>\n",
              "      <td>0</td>\n",
              "    </tr>\n",
              "    <tr>\n",
              "      <th>497798</th>\n",
              "      <td>famos gmbh &amp; co. kg</td>\n",
              "      <td>soprema drummondville</td>\n",
              "      <td>0</td>\n",
              "    </tr>\n",
              "  </tbody>\n",
              "</table>\n",
              "<p>3382 rows × 3 columns</p>\n",
              "</div>"
            ],
            "text/plain": [
              "                                        name_1  ... is_duplicate\n",
              "pair_id                                         ...             \n",
              "40       isoliererzeugnisse grobrohrsdorf gmbh  ...            0\n",
              "410       dortmunder gussasphalt gmbh & co. kg  ...            0\n",
              "440             celanese chemicals europe gmbh  ...            0\n",
              "583                 tremco illbruck group gmbh  ...            0\n",
              "681                  rasco bitumentechnik gmbh  ...            0\n",
              "...                                        ...  ...          ...\n",
              "497197               binne & sohn gmbh & co kg  ...            0\n",
              "497306                       mct gmbh & co. kg  ...            0\n",
              "497366    mct misch & compoundier technik gmbh  ...            0\n",
              "497772        saint-gobain isover austria gmbh  ...            0\n",
              "497798                     famos gmbh & co. kg  ...            0\n",
              "\n",
              "[3382 rows x 3 columns]"
            ]
          },
          "metadata": {
            "tags": []
          },
          "execution_count": 9
        }
      ]
    },
    {
      "cell_type": "code",
      "metadata": {
        "colab": {
          "base_uri": "https://localhost:8080/"
        },
        "id": "nKuGRuc3xqtZ",
        "outputId": "f41c74db-e1f0-449b-e50a-be953ba13629"
      },
      "source": [
        "legal_entities = [\"ltd.\", \"co.\", \"inc.\", \"b.v.\", \"s.c.r.l.\", \"gmbh\", \"pvt.\"]\n",
        "\n",
        "for entity in tqdm(legal_entities):\n",
        "    train.replace(re.compile(f\"\\s+{entity}\\s*\"), \"\", inplace=True)\n",
        "    test.replace(re.compile(f\"\\s+{entity}\\s*\"), \"\", inplace=True)"
      ],
      "execution_count": null,
      "outputs": [
        {
          "output_type": "stream",
          "text": [
            "100%|██████████| 7/7 [00:14<00:00,  2.10s/it]\n"
          ],
          "name": "stderr"
        }
      ]
    },
    {
      "cell_type": "code",
      "metadata": {
        "colab": {
          "base_uri": "https://localhost:8080/",
          "height": 228
        },
        "id": "ygWHiGDBxqtZ",
        "outputId": "9ceb7ffc-de8a-4e5f-ddf5-2b34eab0fa11"
      },
      "source": [
        "train.head()"
      ],
      "execution_count": null,
      "outputs": [
        {
          "output_type": "execute_result",
          "data": {
            "text/html": [
              "<div>\n",
              "<style scoped>\n",
              "    .dataframe tbody tr th:only-of-type {\n",
              "        vertical-align: middle;\n",
              "    }\n",
              "\n",
              "    .dataframe tbody tr th {\n",
              "        vertical-align: top;\n",
              "    }\n",
              "\n",
              "    .dataframe thead th {\n",
              "        text-align: right;\n",
              "    }\n",
              "</style>\n",
              "<table border=\"1\" class=\"dataframe\">\n",
              "  <thead>\n",
              "    <tr style=\"text-align: right;\">\n",
              "      <th></th>\n",
              "      <th>name_1</th>\n",
              "      <th>name_2</th>\n",
              "      <th>is_duplicate</th>\n",
              "    </tr>\n",
              "    <tr>\n",
              "      <th>pair_id</th>\n",
              "      <th></th>\n",
              "      <th></th>\n",
              "      <th></th>\n",
              "    </tr>\n",
              "  </thead>\n",
              "  <tbody>\n",
              "    <tr>\n",
              "      <th>1</th>\n",
              "      <td>iko industries</td>\n",
              "      <td>enormous industrial trade,</td>\n",
              "      <td>0</td>\n",
              "    </tr>\n",
              "    <tr>\n",
              "      <th>2</th>\n",
              "      <td>apcotex industries</td>\n",
              "      <td>technocraft industries (india)</td>\n",
              "      <td>0</td>\n",
              "    </tr>\n",
              "    <tr>\n",
              "      <th>3</th>\n",
              "      <td>rishichem distributors,</td>\n",
              "      <td>dsa</td>\n",
              "      <td>0</td>\n",
              "    </tr>\n",
              "    <tr>\n",
              "      <th>4</th>\n",
              "      <td>powermax rubber factory</td>\n",
              "      <td>co. one</td>\n",
              "      <td>0</td>\n",
              "    </tr>\n",
              "    <tr>\n",
              "      <th>5</th>\n",
              "      <td>tress a/s</td>\n",
              "      <td>longyou industries park zhejiang</td>\n",
              "      <td>0</td>\n",
              "    </tr>\n",
              "  </tbody>\n",
              "</table>\n",
              "</div>"
            ],
            "text/plain": [
              "                          name_1  ... is_duplicate\n",
              "pair_id                           ...             \n",
              "1                 iko industries  ...            0\n",
              "2             apcotex industries  ...            0\n",
              "3        rishichem distributors,  ...            0\n",
              "4        powermax rubber factory  ...            0\n",
              "5                      tress a/s  ...            0\n",
              "\n",
              "[5 rows x 3 columns]"
            ]
          },
          "metadata": {
            "tags": []
          },
          "execution_count": 13
        }
      ]
    },
    {
      "cell_type": "code",
      "metadata": {
        "colab": {
          "base_uri": "https://localhost:8080/",
          "height": 228
        },
        "id": "K-oKXYk3xqta",
        "outputId": "27eba06c-612d-4f40-c15d-cf170500ea69"
      },
      "source": [
        "test.head()"
      ],
      "execution_count": null,
      "outputs": [
        {
          "output_type": "execute_result",
          "data": {
            "text/html": [
              "<div>\n",
              "<style scoped>\n",
              "    .dataframe tbody tr th:only-of-type {\n",
              "        vertical-align: middle;\n",
              "    }\n",
              "\n",
              "    .dataframe tbody tr th {\n",
              "        vertical-align: top;\n",
              "    }\n",
              "\n",
              "    .dataframe thead th {\n",
              "        text-align: right;\n",
              "    }\n",
              "</style>\n",
              "<table border=\"1\" class=\"dataframe\">\n",
              "  <thead>\n",
              "    <tr style=\"text-align: right;\">\n",
              "      <th></th>\n",
              "      <th>name_1</th>\n",
              "      <th>name_2</th>\n",
              "    </tr>\n",
              "    <tr>\n",
              "      <th>pair_id</th>\n",
              "      <th></th>\n",
              "      <th></th>\n",
              "    </tr>\n",
              "  </thead>\n",
              "  <tbody>\n",
              "    <tr>\n",
              "      <th>1</th>\n",
              "      <td>sun blinds decoration</td>\n",
              "      <td>indl de cuautitlan sa cv</td>\n",
              "    </tr>\n",
              "    <tr>\n",
              "      <th>2</th>\n",
              "      <td>eih</td>\n",
              "      <td>dongguan wei shi plastic product,</td>\n",
              "    </tr>\n",
              "    <tr>\n",
              "      <th>3</th>\n",
              "      <td>jsh(hk)</td>\n",
              "      <td>arab shipbuilding and repair yard c</td>\n",
              "    </tr>\n",
              "    <tr>\n",
              "      <th>4</th>\n",
              "      <td>better industrial</td>\n",
              "      <td>farmacap industria eercio</td>\n",
              "    </tr>\n",
              "    <tr>\n",
              "      <th>5</th>\n",
              "      <td>equipos inoxidables del norte sa de cv</td>\n",
              "      <td>bel</td>\n",
              "    </tr>\n",
              "  </tbody>\n",
              "</table>\n",
              "</div>"
            ],
            "text/plain": [
              "                                         name_1                               name_2\n",
              "pair_id                                                                             \n",
              "1                         sun blinds decoration             indl de cuautitlan sa cv\n",
              "2                                           eih    dongguan wei shi plastic product,\n",
              "3                                       jsh(hk)  arab shipbuilding and repair yard c\n",
              "4                             better industrial            farmacap industria eercio\n",
              "5        equipos inoxidables del norte sa de cv                                  bel"
            ]
          },
          "metadata": {
            "tags": []
          },
          "execution_count": 14
        }
      ]
    },
    {
      "cell_type": "code",
      "metadata": {
        "id": "0-debyUvxqta"
      },
      "source": [
        "train.replace(re.compile(r\"\\s+\\(.*\\)\"), \"\", inplace=True)\n",
        "test.replace(re.compile(r\"\\s+\\(.*\\)\"), \"\", inplace=True)"
      ],
      "execution_count": null,
      "outputs": []
    },
    {
      "cell_type": "code",
      "metadata": {
        "colab": {
          "base_uri": "https://localhost:8080/"
        },
        "id": "QnGcXh3oxqta",
        "outputId": "b2985b94-9013-4737-9072-da33081c37f6"
      },
      "source": [
        "for country in tqdm(countries):\n",
        "    train.replace(re.compile(country), \"\", inplace=True)\n",
        "    test.replace(re.compile(country), \"\", inplace=True)"
      ],
      "execution_count": null,
      "outputs": [
        {
          "output_type": "stream",
          "text": [
            "100%|██████████| 249/249 [06:43<00:00,  1.62s/it]\n"
          ],
          "name": "stderr"
        }
      ]
    },
    {
      "cell_type": "code",
      "metadata": {
        "id": "Sjvfu20Gxqta"
      },
      "source": [
        "train.replace(re.compile(r\"[^\\w\\s]\"), \"\", inplace=True)\n",
        "test.replace(re.compile(r\"[^\\w\\s]\"), \"\", inplace=True)"
      ],
      "execution_count": null,
      "outputs": []
    },
    {
      "cell_type": "code",
      "metadata": {
        "colab": {
          "base_uri": "https://localhost:8080/",
          "height": 228
        },
        "id": "XH3g86qXxqta",
        "outputId": "0bc25e23-282e-45e1-e09c-1930638d86f2"
      },
      "source": [
        "train.sample(5)"
      ],
      "execution_count": null,
      "outputs": [
        {
          "output_type": "execute_result",
          "data": {
            "text/html": [
              "<div>\n",
              "<style scoped>\n",
              "    .dataframe tbody tr th:only-of-type {\n",
              "        vertical-align: middle;\n",
              "    }\n",
              "\n",
              "    .dataframe tbody tr th {\n",
              "        vertical-align: top;\n",
              "    }\n",
              "\n",
              "    .dataframe thead th {\n",
              "        text-align: right;\n",
              "    }\n",
              "</style>\n",
              "<table border=\"1\" class=\"dataframe\">\n",
              "  <thead>\n",
              "    <tr style=\"text-align: right;\">\n",
              "      <th></th>\n",
              "      <th>name_1</th>\n",
              "      <th>name_2</th>\n",
              "      <th>is_duplicate</th>\n",
              "    </tr>\n",
              "    <tr>\n",
              "      <th>pair_id</th>\n",
              "      <th></th>\n",
              "      <th></th>\n",
              "      <th></th>\n",
              "    </tr>\n",
              "  </thead>\n",
              "  <tbody>\n",
              "    <tr>\n",
              "      <th>361098</th>\n",
              "      <td>luis philipps saic gomas</td>\n",
              "      <td>pgm as</td>\n",
              "      <td>0</td>\n",
              "    </tr>\n",
              "    <tr>\n",
              "      <th>325757</th>\n",
              "      <td>rfe international</td>\n",
              "      <td>nazeer engineering</td>\n",
              "      <td>0</td>\n",
              "    </tr>\n",
              "    <tr>\n",
              "      <th>345992</th>\n",
              "      <td>hln rubber industries sdn bhd</td>\n",
              "      <td>sr industries</td>\n",
              "      <td>0</td>\n",
              "    </tr>\n",
              "    <tr>\n",
              "      <th>334673</th>\n",
              "      <td>molex  private</td>\n",
              "      <td>continental  private</td>\n",
              "      <td>0</td>\n",
              "    </tr>\n",
              "    <tr>\n",
              "      <th>226181</th>\n",
              "      <td>dongguan jiacun business and trade</td>\n",
              "      <td>island international</td>\n",
              "      <td>0</td>\n",
              "    </tr>\n",
              "  </tbody>\n",
              "</table>\n",
              "</div>"
            ],
            "text/plain": [
              "                                     name_1                name_2  is_duplicate\n",
              "pair_id                                                                        \n",
              "361098             luis philipps saic gomas                pgm as             0\n",
              "325757                    rfe international    nazeer engineering             0\n",
              "345992        hln rubber industries sdn bhd         sr industries             0\n",
              "334673                       molex  private  continental  private             0\n",
              "226181   dongguan jiacun business and trade  island international             0"
            ]
          },
          "metadata": {
            "tags": []
          },
          "execution_count": 14
        }
      ]
    },
    {
      "cell_type": "code",
      "metadata": {
        "colab": {
          "base_uri": "https://localhost:8080/",
          "height": 228
        },
        "id": "XpFwzIuOxqta",
        "outputId": "f757d58a-b935-4eb3-8456-0a30f2581255"
      },
      "source": [
        "test.sample(5)"
      ],
      "execution_count": null,
      "outputs": [
        {
          "output_type": "execute_result",
          "data": {
            "text/html": [
              "<div>\n",
              "<style scoped>\n",
              "    .dataframe tbody tr th:only-of-type {\n",
              "        vertical-align: middle;\n",
              "    }\n",
              "\n",
              "    .dataframe tbody tr th {\n",
              "        vertical-align: top;\n",
              "    }\n",
              "\n",
              "    .dataframe thead th {\n",
              "        text-align: right;\n",
              "    }\n",
              "</style>\n",
              "<table border=\"1\" class=\"dataframe\">\n",
              "  <thead>\n",
              "    <tr style=\"text-align: right;\">\n",
              "      <th></th>\n",
              "      <th>name_1</th>\n",
              "      <th>name_2</th>\n",
              "    </tr>\n",
              "    <tr>\n",
              "      <th>pair_id</th>\n",
              "      <th></th>\n",
              "      <th></th>\n",
              "    </tr>\n",
              "  </thead>\n",
              "  <tbody>\n",
              "    <tr>\n",
              "      <th>15927</th>\n",
              "      <td>litrans logistica international de transportesepp</td>\n",
              "      <td>nrs logisticsas agent for</td>\n",
              "    </tr>\n",
              "    <tr>\n",
              "      <th>38955</th>\n",
              "      <td>apl logistics for</td>\n",
              "      <td>ares international logistics</td>\n",
              "    </tr>\n",
              "    <tr>\n",
              "      <th>63827</th>\n",
              "      <td>ubi banca</td>\n",
              "      <td>i b international</td>\n",
              "    </tr>\n",
              "    <tr>\n",
              "      <th>86003</th>\n",
              "      <td>beyond materials</td>\n",
              "      <td>chem trendercial sa de cv</td>\n",
              "    </tr>\n",
              "    <tr>\n",
              "      <th>168249</th>\n",
              "      <td>volkswagen  private</td>\n",
              "      <td>sas engineering</td>\n",
              "    </tr>\n",
              "  </tbody>\n",
              "</table>\n",
              "</div>"
            ],
            "text/plain": [
              "                                                    name_1                        name_2\n",
              "pair_id                                                                                 \n",
              "15927    litrans logistica international de transportesepp     nrs logisticsas agent for\n",
              "38955                                    apl logistics for  ares international logistics\n",
              "63827                                            ubi banca             i b international\n",
              "86003                                     beyond materials     chem trendercial sa de cv\n",
              "168249                                 volkswagen  private               sas engineering"
            ]
          },
          "metadata": {
            "tags": []
          },
          "execution_count": 19
        }
      ]
    },
    {
      "cell_type": "markdown",
      "metadata": {
        "id": "-FGBrocv_3IH"
      },
      "source": [
        "# Lemmatizer"
      ]
    },
    {
      "cell_type": "code",
      "metadata": {
        "colab": {
          "base_uri": "https://localhost:8080/"
        },
        "id": "dfRTLoyFAkm0",
        "outputId": "d6f62118-4d15-4a45-e5bf-4318cad23ccc"
      },
      "source": [
        "import nltk\n",
        "from nltk.stem import PorterStemmer, WordNetLemmatizer\n",
        "from nltk.corpus import wordnet\n",
        "\n",
        "nltk.download('wordnet')\n",
        "nltk.download('punkt')\n",
        "nltk.download('stopwords')"
      ],
      "execution_count": null,
      "outputs": [
        {
          "output_type": "stream",
          "text": [
            "[nltk_data] Downloading package wordnet to /root/nltk_data...\n",
            "[nltk_data]   Package wordnet is already up-to-date!\n",
            "[nltk_data] Downloading package punkt to /root/nltk_data...\n",
            "[nltk_data]   Package punkt is already up-to-date!\n",
            "[nltk_data] Downloading package stopwords to /root/nltk_data...\n",
            "[nltk_data]   Package stopwords is already up-to-date!\n"
          ],
          "name": "stdout"
        },
        {
          "output_type": "execute_result",
          "data": {
            "text/plain": [
              "True"
            ]
          },
          "metadata": {
            "tags": []
          },
          "execution_count": 15
        }
      ]
    },
    {
      "cell_type": "code",
      "metadata": {
        "id": "LnLqfmfnCW8c"
      },
      "source": [
        "lemmatizer = WordNetLemmatizer() #  lemmatizer.lemmatize(word)\n",
        "stemmer = PorterStemmer() # stemmer.stem(word)\n",
        "\n",
        "train['lemm_name_1'] = train['name_1'].apply(lambda sentence: ' '.join([lemmatizer.lemmatize(w) for w in sentence.rstrip().split()])) \n",
        "test['lemm_name_1']  = test['name_1'].apply(lambda sentence: ' '.join([lemmatizer.lemmatize(w) for w in sentence.rstrip().split()])) \n",
        "\n",
        "train['lemm_name_2'] = train['name_2'].apply(lambda sentence: ' '.join([lemmatizer.lemmatize(w) for w in sentence.rstrip().split()])) \n",
        "test['lemm_name_2']  = test['name_2'].apply(lambda sentence: ' '.join([lemmatizer.lemmatize(w) for w in sentence.rstrip().split()])) "
      ],
      "execution_count": null,
      "outputs": []
    },
    {
      "cell_type": "code",
      "metadata": {
        "id": "CFBr8379DjHC"
      },
      "source": [
        "from nltk.corpus import stopwords\n",
        "\n",
        "en = stopwords.words(\"english\")\n",
        "rus = stopwords.words(\"russian\")\n",
        "stop_words = en + rus\n",
        "\n",
        "train['stopw_name_1'] = train['lemm_name_1'].apply(lambda sentence: ' '.join([w for w in sentence.rstrip().split() if not w in stop_words])) \n",
        "test['stopw_name_1']  = test['lemm_name_1'].apply(lambda sentence: ' '.join([w for w in sentence.rstrip().split() if not w in stop_words])) \n",
        "\n",
        "train['stopw_name_2'] = train['lemm_name_2'].apply(lambda sentence: ' '.join([w for w in sentence.rstrip().split() if not w in stop_words])) \n",
        "test['stopw_name_2']  = test['lemm_name_2'].apply(lambda sentence: ' '.join([w for w in sentence.rstrip().split() if not w in stop_words])) "
      ],
      "execution_count": null,
      "outputs": []
    },
    {
      "cell_type": "code",
      "metadata": {
        "colab": {
          "base_uri": "https://localhost:8080/",
          "height": 263
        },
        "id": "eXE8NbrSUjb-",
        "outputId": "312d0ab8-79a2-47a7-a602-3a3773988ebc"
      },
      "source": [
        "train.head()"
      ],
      "execution_count": null,
      "outputs": [
        {
          "output_type": "execute_result",
          "data": {
            "text/html": [
              "<div>\n",
              "<style scoped>\n",
              "    .dataframe tbody tr th:only-of-type {\n",
              "        vertical-align: middle;\n",
              "    }\n",
              "\n",
              "    .dataframe tbody tr th {\n",
              "        vertical-align: top;\n",
              "    }\n",
              "\n",
              "    .dataframe thead th {\n",
              "        text-align: right;\n",
              "    }\n",
              "</style>\n",
              "<table border=\"1\" class=\"dataframe\">\n",
              "  <thead>\n",
              "    <tr style=\"text-align: right;\">\n",
              "      <th></th>\n",
              "      <th>name_1</th>\n",
              "      <th>name_2</th>\n",
              "      <th>is_duplicate</th>\n",
              "      <th>lemm_name_1</th>\n",
              "      <th>lemm_name_2</th>\n",
              "      <th>stopw_name_1</th>\n",
              "      <th>stopw_name_2</th>\n",
              "    </tr>\n",
              "    <tr>\n",
              "      <th>pair_id</th>\n",
              "      <th></th>\n",
              "      <th></th>\n",
              "      <th></th>\n",
              "      <th></th>\n",
              "      <th></th>\n",
              "      <th></th>\n",
              "      <th></th>\n",
              "    </tr>\n",
              "  </thead>\n",
              "  <tbody>\n",
              "    <tr>\n",
              "      <th>1</th>\n",
              "      <td>iko industries</td>\n",
              "      <td>enormous industrial trade</td>\n",
              "      <td>0</td>\n",
              "      <td>iko industry</td>\n",
              "      <td>enormous industrial trade</td>\n",
              "      <td>iko industry</td>\n",
              "      <td>enormous industrial trade</td>\n",
              "    </tr>\n",
              "    <tr>\n",
              "      <th>2</th>\n",
              "      <td>apcotex industries</td>\n",
              "      <td>technocraft industries</td>\n",
              "      <td>0</td>\n",
              "      <td>apcotex industry</td>\n",
              "      <td>technocraft industry</td>\n",
              "      <td>apcotex industry</td>\n",
              "      <td>technocraft industry</td>\n",
              "    </tr>\n",
              "    <tr>\n",
              "      <th>3</th>\n",
              "      <td>rishichem distributors</td>\n",
              "      <td>dsa</td>\n",
              "      <td>0</td>\n",
              "      <td>rishichem distributor</td>\n",
              "      <td>dsa</td>\n",
              "      <td>rishichem distributor</td>\n",
              "      <td>dsa</td>\n",
              "    </tr>\n",
              "    <tr>\n",
              "      <th>4</th>\n",
              "      <td>powermax rubber factory</td>\n",
              "      <td>co one</td>\n",
              "      <td>0</td>\n",
              "      <td>powermax rubber factory</td>\n",
              "      <td>co one</td>\n",
              "      <td>powermax rubber factory</td>\n",
              "      <td>co one</td>\n",
              "    </tr>\n",
              "    <tr>\n",
              "      <th>5</th>\n",
              "      <td>tress as</td>\n",
              "      <td>longyou industries park zhejiang</td>\n",
              "      <td>0</td>\n",
              "      <td>tress a</td>\n",
              "      <td>longyou industry park zhejiang</td>\n",
              "      <td>tress</td>\n",
              "      <td>longyou industry park zhejiang</td>\n",
              "    </tr>\n",
              "  </tbody>\n",
              "</table>\n",
              "</div>"
            ],
            "text/plain": [
              "                          name_1  ...                    stopw_name_2\n",
              "pair_id                           ...                                \n",
              "1                 iko industries  ...       enormous industrial trade\n",
              "2             apcotex industries  ...            technocraft industry\n",
              "3         rishichem distributors  ...                             dsa\n",
              "4        powermax rubber factory  ...                          co one\n",
              "5                       tress as  ...  longyou industry park zhejiang\n",
              "\n",
              "[5 rows x 7 columns]"
            ]
          },
          "metadata": {
            "tags": []
          },
          "execution_count": 21
        }
      ]
    },
    {
      "cell_type": "code",
      "metadata": {
        "id": "pyXeP_nFXbp-"
      },
      "source": [
        "train.to_csv('train_lemmatizer.csv', index=True)\n",
        "test.to_csv('test_lemmatizer.csv', index=True)"
      ],
      "execution_count": null,
      "outputs": []
    },
    {
      "cell_type": "code",
      "metadata": {
        "colab": {
          "base_uri": "https://localhost:8080/",
          "height": 233
        },
        "id": "jvUHVtWUZOSa",
        "outputId": "40b5f03b-2683-47ec-ebed-8ccbb96cda32"
      },
      "source": [
        "train = pd.read_csv('train_lemmatizer.csv')\n",
        "test = pd.read_csv('test_lemmatizer.csv')\n",
        "train.head()"
      ],
      "execution_count": null,
      "outputs": [
        {
          "output_type": "execute_result",
          "data": {
            "text/html": [
              "<div>\n",
              "<style scoped>\n",
              "    .dataframe tbody tr th:only-of-type {\n",
              "        vertical-align: middle;\n",
              "    }\n",
              "\n",
              "    .dataframe tbody tr th {\n",
              "        vertical-align: top;\n",
              "    }\n",
              "\n",
              "    .dataframe thead th {\n",
              "        text-align: right;\n",
              "    }\n",
              "</style>\n",
              "<table border=\"1\" class=\"dataframe\">\n",
              "  <thead>\n",
              "    <tr style=\"text-align: right;\">\n",
              "      <th></th>\n",
              "      <th>name_1</th>\n",
              "      <th>name_2</th>\n",
              "      <th>is_duplicate</th>\n",
              "      <th>lemm_name_1</th>\n",
              "      <th>lemm_name_2</th>\n",
              "      <th>stopw_name_1</th>\n",
              "      <th>stopw_name_2</th>\n",
              "    </tr>\n",
              "  </thead>\n",
              "  <tbody>\n",
              "    <tr>\n",
              "      <th>0</th>\n",
              "      <td>iko industries</td>\n",
              "      <td>enormous industrial trade</td>\n",
              "      <td>0</td>\n",
              "      <td>iko industry</td>\n",
              "      <td>enormous industrial trade</td>\n",
              "      <td>iko industry</td>\n",
              "      <td>enormous industrial trade</td>\n",
              "    </tr>\n",
              "    <tr>\n",
              "      <th>1</th>\n",
              "      <td>apcotex industries</td>\n",
              "      <td>technocraft industries</td>\n",
              "      <td>0</td>\n",
              "      <td>apcotex industry</td>\n",
              "      <td>technocraft industry</td>\n",
              "      <td>apcotex industry</td>\n",
              "      <td>technocraft industry</td>\n",
              "    </tr>\n",
              "    <tr>\n",
              "      <th>2</th>\n",
              "      <td>rishichem distributors</td>\n",
              "      <td>dsa</td>\n",
              "      <td>0</td>\n",
              "      <td>rishichem distributor</td>\n",
              "      <td>dsa</td>\n",
              "      <td>rishichem distributor</td>\n",
              "      <td>dsa</td>\n",
              "    </tr>\n",
              "    <tr>\n",
              "      <th>3</th>\n",
              "      <td>powermax rubber factory</td>\n",
              "      <td>co one</td>\n",
              "      <td>0</td>\n",
              "      <td>powermax rubber factory</td>\n",
              "      <td>co one</td>\n",
              "      <td>powermax rubber factory</td>\n",
              "      <td>co one</td>\n",
              "    </tr>\n",
              "    <tr>\n",
              "      <th>4</th>\n",
              "      <td>tress as</td>\n",
              "      <td>longyou industries park zhejiang</td>\n",
              "      <td>0</td>\n",
              "      <td>tress a</td>\n",
              "      <td>longyou industry park zhejiang</td>\n",
              "      <td>tress</td>\n",
              "      <td>longyou industry park zhejiang</td>\n",
              "    </tr>\n",
              "  </tbody>\n",
              "</table>\n",
              "</div>"
            ],
            "text/plain": [
              "                    name_1  ...                    stopw_name_2\n",
              "0           iko industries  ...       enormous industrial trade\n",
              "1       apcotex industries  ...            technocraft industry\n",
              "2   rishichem distributors  ...                             dsa\n",
              "3  powermax rubber factory  ...                          co one\n",
              "4                 tress as  ...  longyou industry park zhejiang\n",
              "\n",
              "[5 rows x 7 columns]"
            ]
          },
          "metadata": {
            "tags": []
          },
          "execution_count": 5
        }
      ]
    },
    {
      "cell_type": "markdown",
      "metadata": {
        "id": "Xk2UM-3eZ6FL"
      },
      "source": [
        "# CountVectorizer"
      ]
    },
    {
      "cell_type": "code",
      "metadata": {
        "id": "WK6i87qAZ7xu"
      },
      "source": [
        "from sklearn.feature_extraction.text import CountVectorizer\n",
        "\n",
        "documents = pd.concat([train['stopw_name_1'], train['stopw_name_2']]).values.astype('U')\n",
        "count_vectorizer = CountVectorizer(max_features=1000) # memory limit: ngram_range=(2, 5),\n",
        "values = count_vectorizer.fit_transform(documents)\n",
        "frequency = values.toarray().sum(axis=0)\n",
        "\n",
        "feature_names = count_vectorizer.get_feature_names()\n",
        "count_train = pd.DataFrame({'feature_names': feature_names, 'frequency': frequency})"
      ],
      "execution_count": null,
      "outputs": []
    },
    {
      "cell_type": "code",
      "metadata": {
        "colab": {
          "base_uri": "https://localhost:8080/",
          "height": 348
        },
        "id": "8Fm2Z6D6cDAu",
        "outputId": "b1c326cd-538e-4586-bccc-27bd496fa9fb"
      },
      "source": [
        "# count_train = count_train.sort_values(by=['frequency'], ascending=False)\n",
        "count_train.head(10)"
      ],
      "execution_count": null,
      "outputs": [
        {
          "output_type": "execute_result",
          "data": {
            "text/html": [
              "<div>\n",
              "<style scoped>\n",
              "    .dataframe tbody tr th:only-of-type {\n",
              "        vertical-align: middle;\n",
              "    }\n",
              "\n",
              "    .dataframe tbody tr th {\n",
              "        vertical-align: top;\n",
              "    }\n",
              "\n",
              "    .dataframe thead th {\n",
              "        text-align: right;\n",
              "    }\n",
              "</style>\n",
              "<table border=\"1\" class=\"dataframe\">\n",
              "  <thead>\n",
              "    <tr style=\"text-align: right;\">\n",
              "      <th></th>\n",
              "      <th>feature_names</th>\n",
              "      <th>frequency</th>\n",
              "    </tr>\n",
              "  </thead>\n",
              "  <tbody>\n",
              "    <tr>\n",
              "      <th>433</th>\n",
              "      <td>international</td>\n",
              "      <td>96481</td>\n",
              "    </tr>\n",
              "    <tr>\n",
              "      <th>207</th>\n",
              "      <td>de</td>\n",
              "      <td>88605</td>\n",
              "    </tr>\n",
              "    <tr>\n",
              "      <th>421</th>\n",
              "      <td>industry</td>\n",
              "      <td>73258</td>\n",
              "    </tr>\n",
              "    <tr>\n",
              "      <th>736</th>\n",
              "      <td>sa</td>\n",
              "      <td>72389</td>\n",
              "    </tr>\n",
              "    <tr>\n",
              "      <th>900</th>\n",
              "      <td>trading</td>\n",
              "      <td>50473</td>\n",
              "    </tr>\n",
              "    <tr>\n",
              "      <th>508</th>\n",
              "      <td>logistics</td>\n",
              "      <td>49826</td>\n",
              "    </tr>\n",
              "    <tr>\n",
              "      <th>198</th>\n",
              "      <td>cv</td>\n",
              "      <td>46391</td>\n",
              "    </tr>\n",
              "    <tr>\n",
              "      <th>731</th>\n",
              "      <td>rubber</td>\n",
              "      <td>38804</td>\n",
              "    </tr>\n",
              "    <tr>\n",
              "      <th>672</th>\n",
              "      <td>private</td>\n",
              "      <td>33319</td>\n",
              "    </tr>\n",
              "    <tr>\n",
              "      <th>502</th>\n",
              "      <td>llc</td>\n",
              "      <td>31425</td>\n",
              "    </tr>\n",
              "  </tbody>\n",
              "</table>\n",
              "</div>"
            ],
            "text/plain": [
              "     feature_names  frequency\n",
              "433  international      96481\n",
              "207             de      88605\n",
              "421       industry      73258\n",
              "736             sa      72389\n",
              "900        trading      50473\n",
              "508      logistics      49826\n",
              "198             cv      46391\n",
              "731         rubber      38804\n",
              "672        private      33319\n",
              "502            llc      31425"
            ]
          },
          "metadata": {
            "tags": []
          },
          "execution_count": 68
        }
      ]
    },
    {
      "cell_type": "code",
      "metadata": {
        "id": "delss0wpdxu-"
      },
      "source": [
        "count_train.to_csv('train_counter.csv', index=False)"
      ],
      "execution_count": null,
      "outputs": []
    },
    {
      "cell_type": "markdown",
      "metadata": {
        "id": "rgcPs6K_Eeqi"
      },
      "source": [
        "# TF-IDF"
      ]
    },
    {
      "cell_type": "code",
      "metadata": {
        "id": "FMnG2uLvEeKY"
      },
      "source": [
        "from sklearn.feature_extraction.text import TfidfVectorizer\n",
        "\n",
        "documents = pd.concat([train['stopw_name_1'], train['stopw_name_2']]).values.astype('U')\n",
        "tfidf_vectorizer = TfidfVectorizer(max_features=1000) # memory limit: ngram_range=(2, 5),\n",
        "values = tfidf_vectorizer.fit_transform(documents)\n",
        "frequency = values.toarray().sum(axis=0)\n",
        "\n",
        "# Show the Model as a pandas DataFrame\n",
        "feature_names = tfidf_vectorizer.get_feature_names()\n",
        "tf_idf_train = pd.DataFrame({'feature_names': feature_names, 'frequency': frequency})"
      ],
      "execution_count": null,
      "outputs": []
    },
    {
      "cell_type": "code",
      "metadata": {
        "colab": {
          "base_uri": "https://localhost:8080/",
          "height": 348
        },
        "id": "EB0_nd5vdmks",
        "outputId": "d374ca3f-9edf-4cb7-ef90-5439b3d86f35"
      },
      "source": [
        "tf_idf_train = tf_idf_train.sort_values(by=['frequency'], ascending=False)\n",
        "tf_idf_train.head(10)"
      ],
      "execution_count": null,
      "outputs": [
        {
          "output_type": "execute_result",
          "data": {
            "text/html": [
              "<div>\n",
              "<style scoped>\n",
              "    .dataframe tbody tr th:only-of-type {\n",
              "        vertical-align: middle;\n",
              "    }\n",
              "\n",
              "    .dataframe tbody tr th {\n",
              "        vertical-align: top;\n",
              "    }\n",
              "\n",
              "    .dataframe thead th {\n",
              "        text-align: right;\n",
              "    }\n",
              "</style>\n",
              "<table border=\"1\" class=\"dataframe\">\n",
              "  <thead>\n",
              "    <tr style=\"text-align: right;\">\n",
              "      <th></th>\n",
              "      <th>feature_names</th>\n",
              "      <th>frequency</th>\n",
              "    </tr>\n",
              "  </thead>\n",
              "  <tbody>\n",
              "    <tr>\n",
              "      <th>433</th>\n",
              "      <td>international</td>\n",
              "      <td>54241.109687</td>\n",
              "    </tr>\n",
              "    <tr>\n",
              "      <th>421</th>\n",
              "      <td>industry</td>\n",
              "      <td>45633.147254</td>\n",
              "    </tr>\n",
              "    <tr>\n",
              "      <th>736</th>\n",
              "      <td>sa</td>\n",
              "      <td>37276.041315</td>\n",
              "    </tr>\n",
              "    <tr>\n",
              "      <th>207</th>\n",
              "      <td>de</td>\n",
              "      <td>33893.185439</td>\n",
              "    </tr>\n",
              "    <tr>\n",
              "      <th>508</th>\n",
              "      <td>logistics</td>\n",
              "      <td>30495.161240</td>\n",
              "    </tr>\n",
              "    <tr>\n",
              "      <th>900</th>\n",
              "      <td>trading</td>\n",
              "      <td>30255.941137</td>\n",
              "    </tr>\n",
              "    <tr>\n",
              "      <th>731</th>\n",
              "      <td>rubber</td>\n",
              "      <td>22605.982851</td>\n",
              "    </tr>\n",
              "    <tr>\n",
              "      <th>672</th>\n",
              "      <td>private</td>\n",
              "      <td>22603.325698</td>\n",
              "    </tr>\n",
              "    <tr>\n",
              "      <th>198</th>\n",
              "      <td>cv</td>\n",
              "      <td>20228.930637</td>\n",
              "    </tr>\n",
              "    <tr>\n",
              "      <th>502</th>\n",
              "      <td>llc</td>\n",
              "      <td>17986.533492</td>\n",
              "    </tr>\n",
              "  </tbody>\n",
              "</table>\n",
              "</div>"
            ],
            "text/plain": [
              "     feature_names     frequency\n",
              "433  international  54241.109687\n",
              "421       industry  45633.147254\n",
              "736             sa  37276.041315\n",
              "207             de  33893.185439\n",
              "508      logistics  30495.161240\n",
              "900        trading  30255.941137\n",
              "731         rubber  22605.982851\n",
              "672        private  22603.325698\n",
              "198             cv  20228.930637\n",
              "502            llc  17986.533492"
            ]
          },
          "metadata": {
            "tags": []
          },
          "execution_count": 61
        }
      ]
    },
    {
      "cell_type": "code",
      "metadata": {
        "id": "_KOnGodddtTi"
      },
      "source": [
        "tf_idf_train.to_csv('train_tf_idf.csv', index=False)"
      ],
      "execution_count": null,
      "outputs": []
    },
    {
      "cell_type": "code",
      "metadata": {
        "colab": {
          "base_uri": "https://localhost:8080/",
          "height": 282
        },
        "id": "xL2HBqk3e7bK",
        "outputId": "ad4049a5-c8a1-41d3-b015-8d445e2bb48e"
      },
      "source": [
        "tf_idf_train['frequency'].hist(bins=50)"
      ],
      "execution_count": null,
      "outputs": [
        {
          "output_type": "execute_result",
          "data": {
            "text/plain": [
              "<matplotlib.axes._subplots.AxesSubplot at 0x7f6db9be0ef0>"
            ]
          },
          "metadata": {
            "tags": []
          },
          "execution_count": 75
        },
        {
          "output_type": "display_data",
          "data": {
            "image/png": "[encoded data removed]",
            "text/plain": [
              "<Figure size 432x288 with 1 Axes>"
            ]
          },
          "metadata": {
            "tags": []
          }
        }
      ]
    },
    {
      "cell_type": "code",
      "metadata": {
        "colab": {
          "base_uri": "https://localhost:8080/",
          "height": 420
        },
        "id": "4wj_N_BofG0a",
        "outputId": "dc2ce749-6e19-4afb-d8b9-3d01ef9252c5"
      },
      "source": [
        "import matplotlib.pyplot as plt\n",
        "\n",
        "plt.hist(tf_idf_train['frequency'], bins=20)"
      ],
      "execution_count": null,
      "outputs": [
        {
          "output_type": "execute_result",
          "data": {
            "text/plain": [
              "(array([951.,  19.,   9.,   5.,   4.,   2.,   1.,   1.,   2.,   0.,   0.,\n",
              "          2.,   1.,   1.,   0.,   0.,   1.,   0.,   0.,   1.]),\n",
              " array([  163.83206312,  2867.69594429,  5571.55982547,  8275.42370665,\n",
              "        10979.28758783, 13683.15146901, 16387.01535019, 19090.87923136,\n",
              "        21794.74311254, 24498.60699372, 27202.4708749 , 29906.33475608,\n",
              "        32610.19863725, 35314.06251843, 38017.92639961, 40721.79028079,\n",
              "        43425.65416197, 46129.51804314, 48833.38192432, 51537.2458055 ,\n",
              "        54241.10968668]),\n",
              " <a list of 20 Patch objects>)"
            ]
          },
          "metadata": {
            "tags": []
          },
          "execution_count": 81
        },
        {
          "output_type": "display_data",
          "data": {
            "image/png": "[encoded data removed]",
            "text/plain": [
              "<Figure size 432x288 with 1 Axes>"
            ]
          },
          "metadata": {
            "tags": []
          }
        }
      ]
    },
    {
      "cell_type": "markdown",
      "metadata": {
        "id": "54q11dCeeAfQ"
      },
      "source": [
        "# Delete popular words"
      ]
    },
    {
      "cell_type": "code",
      "metadata": {
        "id": "IeddUq1LeCnc"
      },
      "source": [
        "# remove 20% most popular words\n",
        "\n",
        "perc = 0.2\n",
        "size = int(len(count_train) * perc)\n",
        "\n",
        "count_stop = count_train['feature_names'].iloc[:size].values\n",
        "tf_idf_stop = tf_idf_train['feature_names'].iloc[:size].values"
      ],
      "execution_count": null,
      "outputs": []
    },
    {
      "cell_type": "code",
      "metadata": {
        "colab": {
          "base_uri": "https://localhost:8080/"
        },
        "id": "XmfbNShVjqZ0",
        "outputId": "c21b7fc5-90da-4b38-fa81-24ce32913bac"
      },
      "source": [
        "train.dtypes"
      ],
      "execution_count": null,
      "outputs": [
        {
          "output_type": "execute_result",
          "data": {
            "text/plain": [
              "name_1          object\n",
              "name_2          object\n",
              "is_duplicate     int64\n",
              "lemm_name_1     object\n",
              "lemm_name_2     object\n",
              "stopw_name_1    object\n",
              "stopw_name_2    object\n",
              "dtype: object"
            ]
          },
          "metadata": {
            "tags": []
          },
          "execution_count": 99
        }
      ]
    },
    {
      "cell_type": "code",
      "metadata": {
        "id": "W7QFco9tjWAD"
      },
      "source": [
        "popular_words = set(count_stop) | set(tf_idf_stop)"
      ],
      "execution_count": null,
      "outputs": []
    },
    {
      "cell_type": "code",
      "metadata": {
        "id": "DdiH1P0EkdHo"
      },
      "source": [
        "train.fillna('', inplace=True)\n",
        "test.fillna('', inplace=True)"
      ],
      "execution_count": null,
      "outputs": []
    },
    {
      "cell_type": "code",
      "metadata": {
        "id": "EgHiG8dkjAxT"
      },
      "source": [
        "train['clean_name_1'] = train['stopw_name_1'].apply(lambda s: ' '.join([w for w in s.rstrip().split() if not w in popular_words])) \n",
        "train['clean_name_2'] = train['stopw_name_2'].apply(lambda s: ' '.join([w for w in s.rstrip().split() if not w in popular_words])) \n",
        "\n",
        "test['clean_name_1'] = test['stopw_name_1'].apply(lambda s: ' '.join([w for w in s.rstrip().split() if not w in popular_words]))\n",
        "test['clean_name_2'] = test['stopw_name_2'].apply(lambda s: ' '.join([w for w in s.rstrip().split() if not w in popular_words])) "
      ],
      "execution_count": null,
      "outputs": []
    },
    {
      "cell_type": "code",
      "metadata": {
        "colab": {
          "base_uri": "https://localhost:8080/",
          "height": 302
        },
        "id": "3C4dr0IwknTW",
        "outputId": "1dc9d778-15fb-4a3c-f2da-c19d39736601"
      },
      "source": [
        "train[train.is_duplicate == True].head()"
      ],
      "execution_count": null,
      "outputs": [
        {
          "output_type": "execute_result",
          "data": {
            "text/html": [
              "<div>\n",
              "<style scoped>\n",
              "    .dataframe tbody tr th:only-of-type {\n",
              "        vertical-align: middle;\n",
              "    }\n",
              "\n",
              "    .dataframe tbody tr th {\n",
              "        vertical-align: top;\n",
              "    }\n",
              "\n",
              "    .dataframe thead th {\n",
              "        text-align: right;\n",
              "    }\n",
              "</style>\n",
              "<table border=\"1\" class=\"dataframe\">\n",
              "  <thead>\n",
              "    <tr style=\"text-align: right;\">\n",
              "      <th></th>\n",
              "      <th>name_1</th>\n",
              "      <th>name_2</th>\n",
              "      <th>is_duplicate</th>\n",
              "      <th>lemm_name_1</th>\n",
              "      <th>lemm_name_2</th>\n",
              "      <th>stopw_name_1</th>\n",
              "      <th>stopw_name_2</th>\n",
              "      <th>clean_name_1</th>\n",
              "      <th>clean_name_2</th>\n",
              "    </tr>\n",
              "  </thead>\n",
              "  <tbody>\n",
              "    <tr>\n",
              "      <th>161</th>\n",
              "      <td>jx nippon oil  gas exploration</td>\n",
              "      <td>jx nippon oil  gas exploration technical servi...</td>\n",
              "      <td>1</td>\n",
              "      <td>jx nippon oil gas exploration</td>\n",
              "      <td>jx nippon oil gas exploration technical servic...</td>\n",
              "      <td>jx nippon oil gas exploration</td>\n",
              "      <td>jx nippon oil gas exploration technical servic...</td>\n",
              "      <td>jx nippon oil gas exploration</td>\n",
              "      <td>jx nippon oil gas exploration technical servic...</td>\n",
              "    </tr>\n",
              "    <tr>\n",
              "      <th>603</th>\n",
              "      <td>pirelli neumaticos saic</td>\n",
              "      <td>pirelli tyre</td>\n",
              "      <td>1</td>\n",
              "      <td>pirelli neumaticos saic</td>\n",
              "      <td>pirelli tyre</td>\n",
              "      <td>pirelli neumaticos saic</td>\n",
              "      <td>pirelli tyre</td>\n",
              "      <td>pirelli neumaticos saic</td>\n",
              "      <td>pirelli</td>\n",
              "    </tr>\n",
              "    <tr>\n",
              "      <th>835</th>\n",
              "      <td>brenntag</td>\n",
              "      <td>brenntag group</td>\n",
              "      <td>1</td>\n",
              "      <td>brenntag</td>\n",
              "      <td>brenntag group</td>\n",
              "      <td>brenntag</td>\n",
              "      <td>brenntag group</td>\n",
              "      <td>brenntag</td>\n",
              "      <td>brenntag</td>\n",
              "    </tr>\n",
              "    <tr>\n",
              "      <th>1328</th>\n",
              "      <td>paul bauderkg bochum plant</td>\n",
              "      <td>paul bauder ag</td>\n",
              "      <td>1</td>\n",
              "      <td>paul bauderkg bochum plant</td>\n",
              "      <td>paul bauder ag</td>\n",
              "      <td>paul bauderkg bochum plant</td>\n",
              "      <td>paul bauder ag</td>\n",
              "      <td>paul bauderkg bochum plant</td>\n",
              "      <td>paul bauder</td>\n",
              "    </tr>\n",
              "    <tr>\n",
              "      <th>1562</th>\n",
              "      <td>total ceska republika sro</td>\n",
              "      <td>total</td>\n",
              "      <td>1</td>\n",
              "      <td>total ceska republika sro</td>\n",
              "      <td>total</td>\n",
              "      <td>total ceska republika sro</td>\n",
              "      <td>total</td>\n",
              "      <td>ceska republika sro</td>\n",
              "      <td></td>\n",
              "    </tr>\n",
              "  </tbody>\n",
              "</table>\n",
              "</div>"
            ],
            "text/plain": [
              "                              name_1  ...                                       clean_name_2\n",
              "161   jx nippon oil  gas exploration  ...  jx nippon oil gas exploration technical servic...\n",
              "603          pirelli neumaticos saic  ...                                            pirelli\n",
              "835                        brenntag   ...                                           brenntag\n",
              "1328      paul bauderkg bochum plant  ...                                        paul bauder\n",
              "1562       total ceska republika sro  ...                                                   \n",
              "\n",
              "[5 rows x 9 columns]"
            ]
          },
          "metadata": {
            "tags": []
          },
          "execution_count": 108
        }
      ]
    },
    {
      "cell_type": "code",
      "metadata": {
        "colab": {
          "base_uri": "https://localhost:8080/"
        },
        "id": "WOT5ueeYl8yi",
        "outputId": "0f9a66a1-2d14-4369-fdb1-2c60d2982117"
      },
      "source": [
        "train[train['lemm_name_2'] == ''].shape"
      ],
      "execution_count": null,
      "outputs": [
        {
          "output_type": "execute_result",
          "data": {
            "text/plain": [
              "(0, 9)"
            ]
          },
          "metadata": {
            "tags": []
          },
          "execution_count": 130
        }
      ]
    },
    {
      "cell_type": "markdown",
      "metadata": {
        "id": "4WKQU1qExqta"
      },
      "source": [
        "# Простые метрики сходства строк"
      ]
    },
    {
      "cell_type": "code",
      "metadata": {
        "colab": {
          "base_uri": "https://localhost:8080/"
        },
        "id": "JWE5KGvw1ahZ",
        "outputId": "a839358d-5281-4d5b-f925-c482b1f0b8c5"
      },
      "source": [
        "!pip install strsimpy"
      ],
      "execution_count": null,
      "outputs": [
        {
          "output_type": "stream",
          "text": [
            "Collecting strsimpy\n",
            "\u001b[?25l  Downloading https://files.pythonhosted.org/packages/1e/c7/a957569f1ccfdff4e1886d571369318f1656e1372e287e880be1f495de04/strsimpy-0.1.9-py3-none-any.whl (45kB)\n",
            "\r\u001b[K     |███████▏                        | 10kB 14.5MB/s eta 0:00:01\r\u001b[K     |██████████████▎                 | 20kB 12.1MB/s eta 0:00:01\r\u001b[K     |█████████████████████▍          | 30kB 8.9MB/s eta 0:00:01\r\u001b[K     |████████████████████████████▋   | 40kB 6.9MB/s eta 0:00:01\r\u001b[K     |████████████████████████████████| 51kB 2.9MB/s \n",
            "\u001b[?25hInstalling collected packages: strsimpy\n",
            "Successfully installed strsimpy-0.1.9\n"
          ],
          "name": "stdout"
        }
      ]
    },
    {
      "cell_type": "code",
      "metadata": {
        "id": "N9oFLdb4xqta"
      },
      "source": [
        "from strsimpy.levenshtein import Levenshtein\n",
        "from strsimpy.normalized_levenshtein import NormalizedLevenshtein"
      ],
      "execution_count": null,
      "outputs": []
    },
    {
      "cell_type": "code",
      "metadata": {
        "colab": {
          "base_uri": "https://localhost:8080/"
        },
        "id": "AGFz-Ri6xqta",
        "outputId": "0f96028a-65c0-42be-81f8-10fd5e529b13"
      },
      "source": [
        "levenshtein = Levenshtein()\n",
        "\n",
        "train[\"levenstein\"] = train.progress_apply(lambda r: levenshtein.distance(r.name_1, r.name_2), axis=1)\n",
        "test[\"levenstein\"] = test.progress_apply(lambda r: levenshtein.distance(r.name_1, r.name_2), axis=1)"
      ],
      "execution_count": null,
      "outputs": [
        {
          "output_type": "stream",
          "text": [
            "100%|██████████| 497819/497819 [01:25<00:00, 5838.60it/s]\n",
            "100%|██████████| 213249/213249 [00:36<00:00, 5851.94it/s]\n"
          ],
          "name": "stderr"
        }
      ]
    },
    {
      "cell_type": "code",
      "metadata": {
        "id": "VfzhX-pRxqta"
      },
      "source": [
        "train.head()"
      ],
      "execution_count": null,
      "outputs": []
    },
    {
      "cell_type": "code",
      "metadata": {
        "colab": {
          "base_uri": "https://localhost:8080/"
        },
        "id": "a_SvrZ0lxqta",
        "outputId": "7fc9193c-d194-49fd-b437-d7d425281d8c"
      },
      "source": [
        "normalized_levenshtein = NormalizedLevenshtein()\n",
        "\n",
        "train[\"norm_levenstein\"] = train.progress_apply(lambda r: normalized_levenshtein.distance(r.name_1, r.name_2),\n",
        "                                                axis=1)\n",
        "test[\"norm_levenstein\"] = test.progress_apply(lambda r: normalized_levenshtein.distance(r.name_1, r.name_2),\n",
        "                                              axis=1)"
      ],
      "execution_count": null,
      "outputs": [
        {
          "output_type": "stream",
          "text": [
            "100%|██████████| 497819/497819 [01:35<00:00, 5191.53it/s]\n",
            "100%|██████████| 213249/213249 [00:37<00:00, 5691.00it/s]\n"
          ],
          "name": "stderr"
        }
      ]
    },
    {
      "cell_type": "code",
      "metadata": {
        "colab": {
          "base_uri": "https://localhost:8080/",
          "height": 228
        },
        "id": "LQG3Db6Vxqta",
        "outputId": "9284d2c0-9b99-4eb7-b0c3-ae98890fe10e"
      },
      "source": [
        "train.head()"
      ],
      "execution_count": null,
      "outputs": [
        {
          "output_type": "execute_result",
          "data": {
            "text/html": [
              "<div>\n",
              "<style scoped>\n",
              "    .dataframe tbody tr th:only-of-type {\n",
              "        vertical-align: middle;\n",
              "    }\n",
              "\n",
              "    .dataframe tbody tr th {\n",
              "        vertical-align: top;\n",
              "    }\n",
              "\n",
              "    .dataframe thead th {\n",
              "        text-align: right;\n",
              "    }\n",
              "</style>\n",
              "<table border=\"1\" class=\"dataframe\">\n",
              "  <thead>\n",
              "    <tr style=\"text-align: right;\">\n",
              "      <th></th>\n",
              "      <th>name_1</th>\n",
              "      <th>name_2</th>\n",
              "      <th>is_duplicate</th>\n",
              "      <th>levenstein</th>\n",
              "      <th>norm_levenstein</th>\n",
              "    </tr>\n",
              "    <tr>\n",
              "      <th>pair_id</th>\n",
              "      <th></th>\n",
              "      <th></th>\n",
              "      <th></th>\n",
              "      <th></th>\n",
              "      <th></th>\n",
              "    </tr>\n",
              "  </thead>\n",
              "  <tbody>\n",
              "    <tr>\n",
              "      <th>1</th>\n",
              "      <td>iko industries</td>\n",
              "      <td>enormous industrial trade</td>\n",
              "      <td>0</td>\n",
              "      <td>15.0</td>\n",
              "      <td>0.600000</td>\n",
              "    </tr>\n",
              "    <tr>\n",
              "      <th>2</th>\n",
              "      <td>apcotex industries</td>\n",
              "      <td>technocraft industries</td>\n",
              "      <td>0</td>\n",
              "      <td>9.0</td>\n",
              "      <td>0.409091</td>\n",
              "    </tr>\n",
              "    <tr>\n",
              "      <th>3</th>\n",
              "      <td>rishichem distributors</td>\n",
              "      <td>dsa</td>\n",
              "      <td>0</td>\n",
              "      <td>20.0</td>\n",
              "      <td>0.909091</td>\n",
              "    </tr>\n",
              "    <tr>\n",
              "      <th>4</th>\n",
              "      <td>powermax rubber factory</td>\n",
              "      <td>co one</td>\n",
              "      <td>0</td>\n",
              "      <td>20.0</td>\n",
              "      <td>0.869565</td>\n",
              "    </tr>\n",
              "    <tr>\n",
              "      <th>5</th>\n",
              "      <td>tress as</td>\n",
              "      <td>longyou industries park zhejiang</td>\n",
              "      <td>0</td>\n",
              "      <td>26.0</td>\n",
              "      <td>0.812500</td>\n",
              "    </tr>\n",
              "  </tbody>\n",
              "</table>\n",
              "</div>"
            ],
            "text/plain": [
              "                          name_1  ... norm_levenstein\n",
              "pair_id                           ...                \n",
              "1                 iko industries  ...        0.600000\n",
              "2             apcotex industries  ...        0.409091\n",
              "3         rishichem distributors  ...        0.909091\n",
              "4        powermax rubber factory  ...        0.869565\n",
              "5                       tress as  ...        0.812500\n",
              "\n",
              "[5 rows x 5 columns]"
            ]
          },
          "metadata": {
            "tags": []
          },
          "execution_count": 37
        }
      ]
    },
    {
      "cell_type": "code",
      "metadata": {
        "colab": {
          "base_uri": "https://localhost:8080/",
          "height": 228
        },
        "id": "b_wKqJ0txqta",
        "outputId": "632761d2-1bdd-4fbe-fa7a-28428d6a2d3e"
      },
      "source": [
        "test.head()"
      ],
      "execution_count": null,
      "outputs": [
        {
          "output_type": "execute_result",
          "data": {
            "text/html": [
              "<div>\n",
              "<style scoped>\n",
              "    .dataframe tbody tr th:only-of-type {\n",
              "        vertical-align: middle;\n",
              "    }\n",
              "\n",
              "    .dataframe tbody tr th {\n",
              "        vertical-align: top;\n",
              "    }\n",
              "\n",
              "    .dataframe thead th {\n",
              "        text-align: right;\n",
              "    }\n",
              "</style>\n",
              "<table border=\"1\" class=\"dataframe\">\n",
              "  <thead>\n",
              "    <tr style=\"text-align: right;\">\n",
              "      <th></th>\n",
              "      <th>name_1</th>\n",
              "      <th>name_2</th>\n",
              "      <th>levenstein</th>\n",
              "      <th>norm_levenstein</th>\n",
              "    </tr>\n",
              "    <tr>\n",
              "      <th>pair_id</th>\n",
              "      <th></th>\n",
              "      <th></th>\n",
              "      <th></th>\n",
              "      <th></th>\n",
              "    </tr>\n",
              "  </thead>\n",
              "  <tbody>\n",
              "    <tr>\n",
              "      <th>1</th>\n",
              "      <td>sun blinds decoration</td>\n",
              "      <td>indl de cuautitlan sa cv</td>\n",
              "      <td>20.0</td>\n",
              "      <td>0.833333</td>\n",
              "    </tr>\n",
              "    <tr>\n",
              "      <th>2</th>\n",
              "      <td>eih</td>\n",
              "      <td>dongguan wei shi plastic product</td>\n",
              "      <td>29.0</td>\n",
              "      <td>0.906250</td>\n",
              "    </tr>\n",
              "    <tr>\n",
              "      <th>3</th>\n",
              "      <td>jshhk</td>\n",
              "      <td>arab shipbuilding and repair yard c</td>\n",
              "      <td>33.0</td>\n",
              "      <td>0.942857</td>\n",
              "    </tr>\n",
              "    <tr>\n",
              "      <th>4</th>\n",
              "      <td>better industrial</td>\n",
              "      <td>farmacap industria eercio</td>\n",
              "      <td>15.0</td>\n",
              "      <td>0.600000</td>\n",
              "    </tr>\n",
              "    <tr>\n",
              "      <th>5</th>\n",
              "      <td>equipos inoxidables del norte sa de cv</td>\n",
              "      <td>bel</td>\n",
              "      <td>35.0</td>\n",
              "      <td>0.921053</td>\n",
              "    </tr>\n",
              "  </tbody>\n",
              "</table>\n",
              "</div>"
            ],
            "text/plain": [
              "                                         name_1  ... norm_levenstein\n",
              "pair_id                                          ...                \n",
              "1                         sun blinds decoration  ...        0.833333\n",
              "2                                           eih  ...        0.906250\n",
              "3                                         jshhk  ...        0.942857\n",
              "4                             better industrial  ...        0.600000\n",
              "5        equipos inoxidables del norte sa de cv  ...        0.921053\n",
              "\n",
              "[5 rows x 4 columns]"
            ]
          },
          "metadata": {
            "tags": []
          },
          "execution_count": 38
        }
      ]
    },
    {
      "cell_type": "code",
      "metadata": {
        "colab": {
          "base_uri": "https://localhost:8080/",
          "height": 401
        },
        "id": "7YoOfO8hxqta",
        "outputId": "6f322af9-4edd-4766-d68c-c5e690ae1438"
      },
      "source": [
        "plt.figure(figsize=(6,6))\n",
        "\n",
        "train.boxplot(\"levenstein\", by=\"is_duplicate\", ax=plt.gca())\n",
        "plt.suptitle(\"\")\n",
        "plt.title(\"Levenstein  distance\", fontsize=12);"
      ],
      "execution_count": null,
      "outputs": [
        {
          "output_type": "display_data",
          "data": {
            "image/png": "[encoded data removed]",
            "text/plain": [
              "<Figure size 432x432 with 1 Axes>"
            ]
          },
          "metadata": {
            "tags": []
          }
        }
      ]
    },
    {
      "cell_type": "code",
      "metadata": {
        "colab": {
          "base_uri": "https://localhost:8080/",
          "height": 401
        },
        "id": "8IbYoD0rxqtb",
        "outputId": "e6f94e65-cc76-4b65-bc64-360a87cae52b"
      },
      "source": [
        "plt.figure(figsize=(6,6))\n",
        "\n",
        "train.boxplot(\"norm_levenstein\", by=\"is_duplicate\", ax=plt.gca())\n",
        "plt.suptitle(\"\")\n",
        "plt.title(\"Normalized levenstein  distance\", fontsize=12);"
      ],
      "execution_count": null,
      "outputs": [
        {
          "output_type": "display_data",
          "data": {
            "image/png": "[encoded data removed]",
            "text/plain": [
              "<Figure size 432x432 with 1 Axes>"
            ]
          },
          "metadata": {
            "tags": []
          }
        }
      ]
    },
    {
      "cell_type": "markdown",
      "metadata": {
        "id": "QTeusfay5gyS"
      },
      "source": [
        "# Мои расстояния"
      ]
    },
    {
      "cell_type": "code",
      "metadata": {
        "colab": {
          "base_uri": "https://localhost:8080/"
        },
        "id": "6Ljud8Cn5kfd",
        "outputId": "9c0f71bd-b5f9-4f4b-e4ca-d2f83e89c046"
      },
      "source": [
        "!pip install fuzzywuzzy"
      ],
      "execution_count": null,
      "outputs": [
        {
          "output_type": "stream",
          "text": [
            "Collecting fuzzywuzzy\n",
            "  Downloading https://files.pythonhosted.org/packages/43/ff/74f23998ad2f93b945c0309f825be92e04e0348e062026998b5eefef4c33/fuzzywuzzy-0.18.0-py2.py3-none-any.whl\n",
            "Installing collected packages: fuzzywuzzy\n",
            "Successfully installed fuzzywuzzy-0.18.0\n"
          ],
          "name": "stdout"
        }
      ]
    },
    {
      "cell_type": "code",
      "metadata": {
        "colab": {
          "base_uri": "https://localhost:8080/"
        },
        "id": "dNVaEwxp5ki3",
        "outputId": "b141cea5-f380-4f58-98f2-2216e95e0e42"
      },
      "source": [
        "from fuzzywuzzy import fuzz\n",
        "from fuzzywuzzy import process"
      ],
      "execution_count": null,
      "outputs": [
        {
          "output_type": "stream",
          "text": [
            "/usr/local/lib/python3.6/dist-packages/fuzzywuzzy/fuzz.py:11: UserWarning: Using slow pure-python SequenceMatcher. Install python-Levenshtein to remove this warning\n",
            "  warnings.warn('Using slow pure-python SequenceMatcher. Install python-Levenshtein to remove this warning')\n"
          ],
          "name": "stderr"
        }
      ]
    },
    {
      "cell_type": "code",
      "metadata": {
        "colab": {
          "base_uri": "https://localhost:8080/"
        },
        "id": "bX9qz3_K6I9z",
        "outputId": "e83ecfcb-3dd8-423e-fbfd-21edc654fedd"
      },
      "source": [
        "train[\"partial_ratio\"] = train.progress_apply(lambda r: fuzz.partial_ratio(r.name_1, r.name_2) / 100, axis=1)\n",
        "test[\"partial_ratio\"] = test.progress_apply(lambda r: fuzz.partial_ratio(r.name_1, r.name_2) / 100, axis=1)\n",
        "\n",
        "train[\"token_sort_ratio\"] = train.progress_apply(lambda r: fuzz.token_sort_ratio(r.name_1, r.name_2) / 100, axis=1)\n",
        "test[\"token_sort_ratio\"] = test.progress_apply(lambda r: fuzz.token_sort_ratio(r.name_1, r.name_2)  / 100, axis=1)\n",
        "\n",
        "train[\"token_set_ratio\"] = train.progress_apply(lambda r: fuzz.token_set_ratio(r.name_1, r.name_2) / 100, axis=1)\n",
        "test[\"token_set_ratio\"] = test.progress_apply(lambda r: fuzz.token_set_ratio(r.name_1, r.name_2) / 100, axis=1)\n",
        "\n",
        "train[\"WRatio\"] = train.progress_apply(lambda r: fuzz.WRatio(r.name_1, r.name_2) / 100, axis=1)\n",
        "test[\"WRatio\"] = test.progress_apply(lambda r: fuzz.WRatio(r.name_1, r.name_2) / 100, axis=1)"
      ],
      "execution_count": null,
      "outputs": [
        {
          "output_type": "stream",
          "text": [
            "100%|██████████| 497819/497819 [00:53<00:00, 9304.53it/s]\n",
            "100%|██████████| 213249/213249 [00:22<00:00, 9603.26it/s]\n",
            "100%|██████████| 497819/497819 [01:04<00:00, 7659.35it/s]\n",
            "100%|██████████| 213249/213249 [00:27<00:00, 7694.32it/s]\n",
            "100%|██████████| 497819/497819 [04:46<00:00, 1738.42it/s]\n",
            "100%|██████████| 213249/213249 [02:05<00:00, 1704.92it/s]\n"
          ],
          "name": "stderr"
        }
      ]
    },
    {
      "cell_type": "code",
      "metadata": {
        "colab": {
          "base_uri": "https://localhost:8080/"
        },
        "id": "jDqsahApFOEz",
        "outputId": "51f9a3af-25d7-4916-d869-e67dd02ecb7a"
      },
      "source": [
        "train[\"partial_ratio\"] = train.progress_apply(lambda r: fuzz.partial_ratio(r.stopw_name_1, r.stopw_name_2) / 100, axis=1)\n",
        "test[\"partial_ratio\"] = test.progress_apply(lambda r: fuzz.partial_ratio(r.stopw_name_1, r.stopw_name_2) / 100, axis=1)\n",
        "\n",
        "train[\"token_sort_ratio\"] = train.progress_apply(lambda r: fuzz.token_sort_ratio(r.stopw_name_1, r.stopw_name_2) / 100, axis=1)\n",
        "test[\"token_sort_ratio\"] = test.progress_apply(lambda r: fuzz.token_sort_ratio(r.stopw_name_1, r.stopw_name_2)  / 100, axis=1)\n",
        "\n",
        "train[\"token_set_ratio\"] = train.progress_apply(lambda r: fuzz.token_set_ratio(r.stopw_name_1, r.stopw_name_2) / 100, axis=1)\n",
        "test[\"token_set_ratio\"] = test.progress_apply(lambda r: fuzz.token_set_ratio(r.stopw_name_1, r.stopw_name_2) / 100, axis=1)\n",
        "\n",
        "train[\"WRatio\"] = train.progress_apply(lambda r: fuzz.WRatio(r.stopw_name_1, r.stopw_name_2) / 100, axis=1)\n",
        "test[\"WRatio\"] = test.progress_apply(lambda r: fuzz.WRatio(r.stopw_name_1, r.stopw_name_2) / 100, axis=1)"
      ],
      "execution_count": null,
      "outputs": [
        {
          "output_type": "stream",
          "text": [
            "100%|██████████| 497819/497819 [24:27<00:00, 339.23it/s]\n",
            "100%|██████████| 213249/213249 [10:36<00:00, 334.95it/s]\n",
            "100%|██████████| 497819/497819 [01:04<00:00, 7739.45it/s]\n",
            "100%|██████████| 213249/213249 [00:28<00:00, 7529.55it/s]\n",
            "100%|██████████| 497819/497819 [01:09<00:00, 7131.89it/s]\n",
            "100%|██████████| 213249/213249 [00:29<00:00, 7144.97it/s]\n",
            "100%|██████████| 497819/497819 [18:12<00:00, 455.87it/s]\n",
            " 13%|█▎        | 28496/213249 [01:00<06:26, 478.62it/s]"
          ],
          "name": "stderr"
        }
      ]
    },
    {
      "cell_type": "markdown",
      "metadata": {
        "id": "P_LxDhvgP_Ab"
      },
      "source": [
        "# textdistance"
      ]
    },
    {
      "cell_type": "code",
      "metadata": {
        "colab": {
          "base_uri": "https://localhost:8080/"
        },
        "id": "bzAebJViP_WL",
        "outputId": "e866792f-b433-4b6c-b0b0-33374b276e75"
      },
      "source": [
        "!pip install textdistance"
      ],
      "execution_count": null,
      "outputs": [
        {
          "output_type": "stream",
          "text": [
            "Collecting textdistance\n",
            "  Downloading https://files.pythonhosted.org/packages/35/71/87133323736b9b0180f600d477507318dae0abde613a54df33bfd0248614/textdistance-4.2.0-py3-none-any.whl\n",
            "Installing collected packages: textdistance\n",
            "Successfully installed textdistance-4.2.0\n"
          ],
          "name": "stdout"
        }
      ]
    },
    {
      "cell_type": "code",
      "metadata": {
        "id": "Nb5vzdGTQBu8"
      },
      "source": [
        "import textdistance as dist"
      ],
      "execution_count": null,
      "outputs": []
    },
    {
      "cell_type": "code",
      "metadata": {
        "id": "g5DPBJ72gWoj"
      },
      "source": [
        "def normalize(values):\n",
        "    return (values - values.min()) / (values.max() - values.min()) "
      ],
      "execution_count": null,
      "outputs": []
    },
    {
      "cell_type": "code",
      "metadata": {
        "id": "BeUDWHsjQBzK"
      },
      "source": [
        "def calculate_distance(df, col_1, col_2, prefix=\"\"):\n",
        "    df[prefix + \"jaccard\"] = df.apply(lambda r: dist.jaccard(r[col_1], r[col_2]), axis=1)\n",
        "    df[prefix + \"cosine\"]  = df.apply(lambda r: dist.cosine(r[col_1], r[col_2]), axis=1)\n",
        "    df[prefix + \"mra\"]     = df.apply(lambda r: dist.mra(r[col_1], r[col_2]), axis=1)\n",
        "\n",
        "    dist.jaro_winkler.external = False \n",
        "    df[prefix + \"jaro_winkler\"] = df.apply(lambda r: dist.jaro_winkler(r[col_1], r[col_2]), axis=1)\n",
        "\n",
        "    df[prefix + \"hamming\"] = df.apply(lambda r: dist.hamming(r[col_1], r[col_2]), axis=1)\n",
        "    df[prefix + \"mlipns\"]  = df.apply(lambda r: dist.mlipns(r[col_1], r[col_2]), axis=1)\n",
        "    df[prefix + \"damerau_levenshtein\"] = df.apply(lambda r: dist.damerau_levenshtein(r[col_1], r[col_2]), axis=1)\n",
        "    df[prefix + \"strcmp95\"] = df.apply(lambda r: dist.strcmp95(r[col_1], r[col_2]), axis=1)\n",
        "    df[prefix + \"needleman_wunsch\"] = df.apply(lambda r: dist.needleman_wunsch(r[col_1], r[col_2]), axis=1)\n",
        "\n",
        "    # error # df[prefix + \"gotoh\"] = df.apply(lambda r: dist.gotoh(r[col_1], r[col_2]), axis=1)\n",
        "    df[prefix + \"sorensen\"] = df.apply(lambda r: dist.sorensen(r[col_1], r[col_2]), axis=1)\n",
        "    df[prefix + \"tversky\"]  = df.apply(lambda r: dist.tversky(r[col_1], r[col_2]), axis=1)\n",
        "    df[prefix + \"overlap\"]  = df.apply(lambda r: dist.overlap(r[col_1], r[col_2]), axis=1)\n",
        "    #  many inf #df[prefix + \"tanimoto\"] = df.apply(lambda r: dist.tanimoto(r[col_1], r[col_2]), axis=1)\n",
        "    df[prefix + \"monge_elkan\"] = df.apply(lambda r: dist.monge_elkan(r[col_1], r[col_2]), axis=1)\n",
        "    \n",
        "    df[prefix + \"bag\"]    = df.apply(lambda r: dist.bag(r[col_1], r[col_2]), axis=1)\n",
        "    df[prefix + \"lcsseq\"] = df.apply(lambda r: dist.lcsseq(r[col_1], r[col_2]), axis=1)\n",
        "    df[prefix + \"lcsstr\"] = df.apply(lambda r: dist.lcsstr(r[col_1], r[col_2]), axis=1)\n",
        "    df[prefix + \"ratcliff_obershelp\"] = df.apply(lambda r: dist.ratcliff_obershelp(r[col_1], r[col_2]), axis=1)\n",
        "    return df"
      ],
      "execution_count": 221,
      "outputs": []
    },
    {
      "cell_type": "code",
      "metadata": {
        "colab": {
          "base_uri": "https://localhost:8080/",
          "height": 267
        },
        "id": "lU3IrEpemr9s",
        "outputId": "251b52f0-4260-4e3f-91f9-c31c9d9ed6ae"
      },
      "source": [
        "train.head()"
      ],
      "execution_count": null,
      "outputs": [
        {
          "output_type": "execute_result",
          "data": {
            "text/html": [
              "<div>\n",
              "<style scoped>\n",
              "    .dataframe tbody tr th:only-of-type {\n",
              "        vertical-align: middle;\n",
              "    }\n",
              "\n",
              "    .dataframe tbody tr th {\n",
              "        vertical-align: top;\n",
              "    }\n",
              "\n",
              "    .dataframe thead th {\n",
              "        text-align: right;\n",
              "    }\n",
              "</style>\n",
              "<table border=\"1\" class=\"dataframe\">\n",
              "  <thead>\n",
              "    <tr style=\"text-align: right;\">\n",
              "      <th></th>\n",
              "      <th>name_1</th>\n",
              "      <th>name_2</th>\n",
              "      <th>is_duplicate</th>\n",
              "      <th>lemm_name_1</th>\n",
              "      <th>lemm_name_2</th>\n",
              "      <th>stopw_name_1</th>\n",
              "      <th>stopw_name_2</th>\n",
              "      <th>clean_name_1</th>\n",
              "      <th>clean_name_2</th>\n",
              "    </tr>\n",
              "  </thead>\n",
              "  <tbody>\n",
              "    <tr>\n",
              "      <th>0</th>\n",
              "      <td>iko industries</td>\n",
              "      <td>enormous industrial trade</td>\n",
              "      <td>0</td>\n",
              "      <td>iko industry</td>\n",
              "      <td>enormous industrial trade</td>\n",
              "      <td>iko industry</td>\n",
              "      <td>enormous industrial trade</td>\n",
              "      <td>iko</td>\n",
              "      <td>enormous</td>\n",
              "    </tr>\n",
              "    <tr>\n",
              "      <th>1</th>\n",
              "      <td>apcotex industries</td>\n",
              "      <td>technocraft industries</td>\n",
              "      <td>0</td>\n",
              "      <td>apcotex industry</td>\n",
              "      <td>technocraft industry</td>\n",
              "      <td>apcotex industry</td>\n",
              "      <td>technocraft industry</td>\n",
              "      <td>apcotex</td>\n",
              "      <td>technocraft</td>\n",
              "    </tr>\n",
              "    <tr>\n",
              "      <th>2</th>\n",
              "      <td>rishichem distributors</td>\n",
              "      <td>dsa</td>\n",
              "      <td>0</td>\n",
              "      <td>rishichem distributor</td>\n",
              "      <td>dsa</td>\n",
              "      <td>rishichem distributor</td>\n",
              "      <td>dsa</td>\n",
              "      <td>rishichem distributor</td>\n",
              "      <td></td>\n",
              "    </tr>\n",
              "    <tr>\n",
              "      <th>3</th>\n",
              "      <td>powermax rubber factory</td>\n",
              "      <td>co one</td>\n",
              "      <td>0</td>\n",
              "      <td>powermax rubber factory</td>\n",
              "      <td>co one</td>\n",
              "      <td>powermax rubber factory</td>\n",
              "      <td>co one</td>\n",
              "      <td>powermax factory</td>\n",
              "      <td></td>\n",
              "    </tr>\n",
              "    <tr>\n",
              "      <th>4</th>\n",
              "      <td>tress as</td>\n",
              "      <td>longyou industries park zhejiang</td>\n",
              "      <td>0</td>\n",
              "      <td>tress a</td>\n",
              "      <td>longyou industry park zhejiang</td>\n",
              "      <td>tress</td>\n",
              "      <td>longyou industry park zhejiang</td>\n",
              "      <td>tress</td>\n",
              "      <td>longyou park</td>\n",
              "    </tr>\n",
              "  </tbody>\n",
              "</table>\n",
              "</div>"
            ],
            "text/plain": [
              "                    name_1  ...  clean_name_2\n",
              "0           iko industries  ...      enormous\n",
              "1       apcotex industries  ...   technocraft\n",
              "2   rishichem distributors  ...              \n",
              "3  powermax rubber factory  ...              \n",
              "4                 tress as  ...  longyou park\n",
              "\n",
              "[5 rows x 9 columns]"
            ]
          },
          "metadata": {
            "tags": []
          },
          "execution_count": 132
        }
      ]
    },
    {
      "cell_type": "code",
      "metadata": {
        "id": "F2q3hkWulKxY"
      },
      "source": [
        "train = calculate_distance(train, col_1='clean_name_1', col_2='clean_name_2', prefix='clean_')\n",
        "test  = calculate_distance(test, col_1='clean_name_1', col_2='clean_name_2', prefix='clean_')\n",
        "\n",
        "train = calculate_distance(train, col_1='lemm_name_1', col_2='lemm_name_2', prefix='lemm_')\n",
        "test  = calculate_distance(test, col_1='lemm_name_1', col_2='lemm_name_2', prefix='lemm_')"
      ],
      "execution_count": 223,
      "outputs": []
    },
    {
      "cell_type": "code",
      "metadata": {
        "id": "o0YlRpeLnYQF"
      },
      "source": [
        "train.to_csv('train_dist.csv', index=True)\n",
        "test.to_csv('test_dist.csv', index=True)"
      ],
      "execution_count": 224,
      "outputs": []
    },
    {
      "cell_type": "markdown",
      "metadata": {
        "id": "0f93Unux62s7"
      },
      "source": [
        "# Мои модели"
      ]
    },
    {
      "cell_type": "markdown",
      "metadata": {
        "id": "MB0eeb2iCEun"
      },
      "source": [
        "C norm_levenstein - максимально 0.27 на пороге 0.85\n",
        "Без него 0.38 на пороге 0.9"
      ]
    },
    {
      "cell_type": "code",
      "metadata": {
        "id": "iFq-2cowns2t"
      },
      "source": [
        "FTS = train.loc[:, train.dtypes != 'object'].columns.values\n",
        "FTS = np.delete(FTS, np.where(FTS == 'is_duplicate'))"
      ],
      "execution_count": 175,
      "outputs": []
    },
    {
      "cell_type": "code",
      "metadata": {
        "colab": {
          "base_uri": "https://localhost:8080/"
        },
        "id": "vmXun_vLrh8_",
        "outputId": "672e871b-a9f3-4fb4-ab42-508b69c1d8f3"
      },
      "source": [
        "FTS"
      ],
      "execution_count": 176,
      "outputs": [
        {
          "output_type": "execute_result",
          "data": {
            "text/plain": [
              "array(['cleanjaccard', 'cleancosine', 'cleanmra', 'cleanjaro_winkler',\n",
              "       'cleanhamming', 'cleanmlipns', 'cleandamerau_levenshtein',\n",
              "       'cleanstrcmp95', 'cleanneedleman_wunsch', 'cleansorensen',\n",
              "       'cleantversky', 'cleanoverlap', 'cleantanimoto',\n",
              "       'cleanmonge_elkan', 'cleanbag', 'cleanratcliff_obershelp',\n",
              "       'lemm_sorensen', 'lemm_tversky', 'lemm_overlap', 'lemm_tanimoto',\n",
              "       'lemm_monge_elkan', 'lemm_bag', 'lemm_ratcliff_obershelp'],\n",
              "      dtype=object)"
            ]
          },
          "metadata": {
            "tags": []
          },
          "execution_count": 176
        }
      ]
    },
    {
      "cell_type": "code",
      "metadata": {
        "id": "LvWq55AP7C6Q"
      },
      "source": [
        "# FTS = [\"partial_ratio\", \"token_sort_ratio\", \"token_set_ratio\", \"WRatio\"]\n",
        "THR = 0.9"
      ],
      "execution_count": 177,
      "outputs": []
    },
    {
      "cell_type": "code",
      "metadata": {
        "id": "fWg2UP7k6-9Q"
      },
      "source": [
        "split = StratifiedShuffleSplit(1, train_size=0.8, random_state=42)\n",
        "tridx, cvidx = list(split.split(train[FTS], train[\"is_duplicate\"]))[0]"
      ],
      "execution_count": 179,
      "outputs": []
    },
    {
      "cell_type": "code",
      "metadata": {
        "colab": {
          "base_uri": "https://localhost:8080/"
        },
        "id": "X0ElyB0T66AY",
        "outputId": "0ea22d1c-66d7-40ed-e782-83d11a6e59b5"
      },
      "source": [
        "model = LogisticRegression(class_weight=\"balanced\", max_iter=500)\n",
        "model.fit(train.iloc[tridx][FTS].values,\n",
        "          train.iloc[tridx][\"is_duplicate\"].values)"
      ],
      "execution_count": 195,
      "outputs": [
        {
          "output_type": "stream",
          "text": [
            "/usr/local/lib/python3.6/dist-packages/sklearn/linear_model/_logistic.py:940: ConvergenceWarning: lbfgs failed to converge (status=1):\n",
            "STOP: TOTAL NO. of ITERATIONS REACHED LIMIT.\n",
            "\n",
            "Increase the number of iterations (max_iter) or scale the data as shown in:\n",
            "    https://scikit-learn.org/stable/modules/preprocessing.html\n",
            "Please also refer to the documentation for alternative solver options:\n",
            "    https://scikit-learn.org/stable/modules/linear_model.html#logistic-regression\n",
            "  extra_warning_msg=_LOGISTIC_SOLVER_CONVERGENCE_MSG)\n"
          ],
          "name": "stderr"
        },
        {
          "output_type": "execute_result",
          "data": {
            "text/plain": [
              "LogisticRegression(C=1.0, class_weight='balanced', dual=False,\n",
              "                   fit_intercept=True, intercept_scaling=1, l1_ratio=None,\n",
              "                   max_iter=500, multi_class='auto', n_jobs=None, penalty='l2',\n",
              "                   random_state=None, solver='lbfgs', tol=0.0001, verbose=0,\n",
              "                   warm_start=False)"
            ]
          },
          "metadata": {
            "tags": []
          },
          "execution_count": 195
        }
      ]
    },
    {
      "cell_type": "code",
      "metadata": {
        "id": "t9FxkOwBubJl"
      },
      "source": [
        "from sklearn.ensemble import RandomForestClassifier\n",
        "from sklearn.model_selection import GridSearchCV\n",
        "\n",
        "clf = RandomForestClassifier(random_state=42)\n",
        "parameters = {'criterion' : ['gini', 'entropy'],\n",
        "              'n_estimators' : [50, 100, 200, 300, 500],\n",
        "              'max_depth': [2, 3, 5, 7, 9],\n",
        "              'max_features': ['auto', 'sqrt', 'log2'],\n",
        "            #   'class_weight': ['balanced', 'balanced_subsample']\n",
        "              }\n",
        "cv = GridSearchCV(clf, parameters, scoring='f1', cv=3)\n",
        "cv.fit(train.iloc[tridx][FTS].values, train.iloc[tridx][\"is_duplicate\"].values)\n",
        "print(cv.best_score_, cv.best_params_)\n",
        "\n",
        "\n",
        "# clf.fit(train.iloc[tridx][FTS].values, train.iloc[tridx][\"is_duplicate\"].values)"
      ],
      "execution_count": null,
      "outputs": []
    },
    {
      "cell_type": "code",
      "metadata": {
        "id": "xru8D8DYuJZi"
      },
      "source": [
        "def choose_thr(model, train, tridx, cvidx):\n",
        "    tr_preds = model.predict_proba(train.iloc[tridx][FTS].values)\n",
        "    cv_preds = model.predict_proba(train.iloc[cvidx][FTS].values)\n",
        "\n",
        "    for thr in np.arange(0.5, 1, 0.05):\n",
        "        tr_pred = (tr_preds[:, 1] > thr).astype(np.int)\n",
        "        cv_pred = (cv_preds[:, 1] > thr).astype(np.int)\n",
        "\n",
        "        print(\"thr =\", thr, f1_score(train.iloc[tridx][\"is_duplicate\"].values, tr_pred))\n",
        "        print(\"thr =\", thr, f1_score(train.iloc[cvidx][\"is_duplicate\"].values, cv_pred))"
      ],
      "execution_count": 196,
      "outputs": []
    },
    {
      "cell_type": "code",
      "metadata": {
        "id": "lYTGv-cJCO8U"
      },
      "source": [
        "# rfc = \n",
        "choose_thr(model, train, tridx, cvidx)"
      ],
      "execution_count": null,
      "outputs": []
    },
    {
      "cell_type": "code",
      "metadata": {
        "colab": {
          "base_uri": "https://localhost:8080/"
        },
        "id": "N9qqkKxy9KxR",
        "outputId": "33c17785-035c-4780-bc67-043f9d8f39d7"
      },
      "source": [
        "# logistic regression with default params\n",
        "choose_thr(model, train, tridx, cvidx)"
      ],
      "execution_count": 197,
      "outputs": [
        {
          "output_type": "stream",
          "text": [
            "thr = 0.5 0.0765595784463709\n",
            "thr = 0.5 0.07717614804660727\n",
            "thr = 0.55 0.08974358974358976\n",
            "thr = 0.55 0.0915682967959528\n",
            "thr = 0.6000000000000001 0.10594689715853216\n",
            "thr = 0.6000000000000001 0.10764693490625657\n",
            "thr = 0.6500000000000001 0.12466001813236628\n",
            "thr = 0.6500000000000001 0.12353174079450968\n",
            "thr = 0.7000000000000002 0.14973571192599933\n",
            "thr = 0.7000000000000002 0.1494949494949495\n",
            "thr = 0.7500000000000002 0.1814124023593177\n",
            "thr = 0.7500000000000002 0.1817789291882556\n",
            "thr = 0.8000000000000003 0.22969148032833284\n",
            "thr = 0.8000000000000003 0.22604284103720407\n",
            "thr = 0.8500000000000003 0.29258630447085454\n",
            "thr = 0.8500000000000003 0.2838903492301915\n",
            "thr = 0.9000000000000004 0.3511983620378177\n",
            "thr = 0.9000000000000004 0.3494387506100537\n",
            "thr = 0.9500000000000004 0.3759168704156479\n",
            "thr = 0.9500000000000004 0.38289962825278806\n"
          ],
          "name": "stdout"
        }
      ]
    },
    {
      "cell_type": "code",
      "metadata": {
        "colab": {
          "base_uri": "https://localhost:8080/"
        },
        "id": "HlMC3kHP6599",
        "outputId": "6f9fdeb0-b8b8-42a8-bca5-d5ad25b1f104"
      },
      "source": [
        "tr_preds = model.predict_proba(train.iloc[tridx][FTS].values)\n",
        "cv_preds = model.predict_proba(train.iloc[cvidx][FTS].values)\n",
        "\n",
        "for thr in np.arange(0.5, 1, 0.05):\n",
        "    tr_pred = (tr_preds[:, 1] > thr).astype(np.int)\n",
        "    cv_pred = (cv_preds[:, 1] > thr).astype(np.int)\n",
        "\n",
        "    print(\"thr =\", thr, f1_score(train.iloc[tridx][\"is_duplicate\"].values, tr_pred))\n",
        "    print(\"thr =\", thr, f1_score(train.iloc[cvidx][\"is_duplicate\"].values, cv_pred))"
      ],
      "execution_count": null,
      "outputs": [
        {
          "output_type": "stream",
          "text": [
            "thr = 0.5 0.04444945848375451\n",
            "thr = 0.5 0.0450729450393642\n",
            "thr = 0.55 0.04764859429158287\n",
            "thr = 0.55 0.04782737968823005\n",
            "thr = 0.6000000000000001 0.051907449910055206\n",
            "thr = 0.6000000000000001 0.05205264191710862\n",
            "thr = 0.6500000000000001 0.06104809050138887\n",
            "thr = 0.6500000000000001 0.06102737619194094\n",
            "thr = 0.7000000000000002 0.07705787006614974\n",
            "thr = 0.7000000000000002 0.07738919667590027\n",
            "thr = 0.7500000000000002 0.10032351883925361\n",
            "thr = 0.7500000000000002 0.10167310167310166\n",
            "thr = 0.8000000000000003 0.17763257863546572\n",
            "thr = 0.8000000000000003 0.18252776943860705\n",
            "thr = 0.8500000000000003 0.3360323886639676\n",
            "thr = 0.8500000000000003 0.3521505376344086\n",
            "thr = 0.9000000000000004 0.37960220059246724\n",
            "thr = 0.9000000000000004 0.3882845188284519\n",
            "thr = 0.9500000000000004 0.0\n",
            "thr = 0.9500000000000004 0.0\n"
          ],
          "name": "stdout"
        }
      ]
    },
    {
      "cell_type": "code",
      "metadata": {
        "colab": {
          "base_uri": "https://localhost:8080/"
        },
        "id": "mn57LLQS7XwJ",
        "outputId": "d48d5278-aa5c-42dd-f2fc-0095d6cf75a9"
      },
      "source": [
        "thr = 0.9\n",
        "tr_preds = model.predict_proba(train.iloc[tridx][FTS].values)\n",
        "cv_preds = model.predict_proba(train.iloc[cvidx][FTS].values)\n",
        "\n",
        "tr_preds = (tr_preds[:, 1] > thr).astype(np.int)\n",
        "cv_preds = (cv_preds[:, 1] > thr).astype(np.int)\n",
        "\n",
        "print(f1_score(train.iloc[tridx][\"is_duplicate\"].values, tr_preds))\n",
        "print(f1_score(train.iloc[cvidx][\"is_duplicate\"].values, cv_preds))"
      ],
      "execution_count": null,
      "outputs": [
        {
          "output_type": "stream",
          "text": [
            "0.37960220059246724\n",
            "0.3882845188284519\n"
          ],
          "name": "stdout"
        }
      ]
    },
    {
      "cell_type": "markdown",
      "metadata": {
        "id": "FUK9uVPq-A7S"
      },
      "source": [
        "Best threshold = 0.85"
      ]
    },
    {
      "cell_type": "markdown",
      "metadata": {
        "id": "0MTRniWAxqtb"
      },
      "source": [
        "# Базовая модель"
      ]
    },
    {
      "cell_type": "code",
      "metadata": {
        "id": "hH5j4L2_xqtb"
      },
      "source": [
        "FTS = [\"levenstein\", \"norm_levenstein\"]\n",
        "THR = 0.9"
      ],
      "execution_count": null,
      "outputs": []
    },
    {
      "cell_type": "code",
      "metadata": {
        "id": "-AlJ8vD1xqtb"
      },
      "source": [
        "split = StratifiedShuffleSplit(1, train_size=0.8, random_state=RS)\n",
        "tridx, cvidx = list(split.split(train[FTS], train[\"is_duplicate\"]))[0]"
      ],
      "execution_count": null,
      "outputs": []
    },
    {
      "cell_type": "code",
      "metadata": {
        "colab": {
          "base_uri": "https://localhost:8080/"
        },
        "id": "3Mrd16jMxqtb",
        "outputId": "78346c24-3dac-41aa-cd3e-48c1be8bd060"
      },
      "source": [
        "model = LogisticRegression(class_weight=\"balanced\")\n",
        "model.fit(train.iloc[tridx][FTS].values,\n",
        "          train.iloc[tridx][\"is_duplicate\"].values)"
      ],
      "execution_count": null,
      "outputs": [
        {
          "output_type": "execute_result",
          "data": {
            "text/plain": [
              "LogisticRegression(C=1.0, class_weight='balanced', dual=False,\n",
              "                   fit_intercept=True, intercept_scaling=1, l1_ratio=None,\n",
              "                   max_iter=100, multi_class='auto', n_jobs=None, penalty='l2',\n",
              "                   random_state=None, solver='lbfgs', tol=0.0001, verbose=0,\n",
              "                   warm_start=False)"
            ]
          },
          "metadata": {
            "tags": []
          },
          "execution_count": 45
        }
      ]
    },
    {
      "cell_type": "code",
      "metadata": {
        "id": "L70-zSqGxqtb"
      },
      "source": [
        "tr_preds = model.predict_proba(train.iloc[tridx][FTS].values)\n",
        "cv_preds = model.predict_proba(train.iloc[cvidx][FTS].values)"
      ],
      "execution_count": null,
      "outputs": []
    },
    {
      "cell_type": "code",
      "metadata": {
        "id": "ieaDJ4vbxqtb"
      },
      "source": [
        "tr_preds = (tr_preds[:, 1] > THR).astype(np.int)\n",
        "cv_preds = (cv_preds[:, 1] > THR).astype(np.int)"
      ],
      "execution_count": null,
      "outputs": []
    },
    {
      "cell_type": "code",
      "metadata": {
        "colab": {
          "base_uri": "https://localhost:8080/"
        },
        "id": "_FkoSpa7xqtb",
        "outputId": "657e94bb-f1bb-4fc5-f1cf-8e76e9ff2bba"
      },
      "source": [
        "print(classification_report(train.iloc[tridx][\"is_duplicate\"].values, tr_preds))"
      ],
      "execution_count": null,
      "outputs": [
        {
          "output_type": "stream",
          "text": [
            "              precision    recall  f1-score   support\n",
            "\n",
            "           0       0.99      1.00      0.99    395329\n",
            "           1       0.17      0.13      0.15      2926\n",
            "\n",
            "    accuracy                           0.99    398255\n",
            "   macro avg       0.58      0.56      0.57    398255\n",
            "weighted avg       0.99      0.99      0.99    398255\n",
            "\n"
          ],
          "name": "stdout"
        }
      ]
    },
    {
      "cell_type": "code",
      "metadata": {
        "colab": {
          "base_uri": "https://localhost:8080/"
        },
        "id": "pBlY4g2uxqtb",
        "outputId": "acfecc8a-5776-459c-b6ed-e01742817b9d"
      },
      "source": [
        "print(classification_report(train.iloc[cvidx][\"is_duplicate\"].values, cv_preds))"
      ],
      "execution_count": null,
      "outputs": [
        {
          "output_type": "stream",
          "text": [
            "              precision    recall  f1-score   support\n",
            "\n",
            "           0       0.99      1.00      0.99     98832\n",
            "           1       0.17      0.14      0.15       732\n",
            "\n",
            "    accuracy                           0.99     99564\n",
            "   macro avg       0.58      0.57      0.57     99564\n",
            "weighted avg       0.99      0.99      0.99     99564\n",
            "\n"
          ],
          "name": "stdout"
        }
      ]
    },
    {
      "cell_type": "code",
      "metadata": {
        "colab": {
          "base_uri": "https://localhost:8080/"
        },
        "id": "nlrvosT1xqtb",
        "outputId": "caffb301-176b-4f3a-cdfd-061ccba9f3eb"
      },
      "source": [
        "print(f1_score(train.iloc[tridx][\"is_duplicate\"].values, tr_preds))\n",
        "print(f1_score(train.iloc[cvidx][\"is_duplicate\"].values, cv_preds))"
      ],
      "execution_count": null,
      "outputs": [
        {
          "output_type": "stream",
          "text": [
            "0.14792338327327895\n",
            "0.15128593040847202\n"
          ],
          "name": "stdout"
        }
      ]
    },
    {
      "cell_type": "markdown",
      "metadata": {
        "id": "Ugn5DZy-xqtb"
      },
      "source": [
        "# Генерация сабмита"
      ]
    },
    {
      "cell_type": "code",
      "metadata": {
        "id": "Lq6cT29Sxqtb"
      },
      "source": [
        "sample_sub = pd.read_csv(\"sample_submission.csv\", index_col=\"pair_id\")"
      ],
      "execution_count": 201,
      "outputs": []
    },
    {
      "cell_type": "code",
      "metadata": {
        "id": "hdx7jWvb-KBh"
      },
      "source": [
        "THR = 0.95"
      ],
      "execution_count": 202,
      "outputs": []
    },
    {
      "cell_type": "code",
      "metadata": {
        "id": "d24_gDgPxqtb"
      },
      "source": [
        "sample_sub[\"is_duplicate\"] = (model.predict_proba(test[FTS].values)[:, 1] > THR).astype(np.int)"
      ],
      "execution_count": 225,
      "outputs": []
    },
    {
      "cell_type": "code",
      "metadata": {
        "colab": {
          "base_uri": "https://localhost:8080/"
        },
        "id": "P9kGLQPvxqtc",
        "outputId": "363d6cad-63bf-4c72-8473-596eb6cd1939"
      },
      "source": [
        "sample_sub.is_duplicate.value_counts()"
      ],
      "execution_count": null,
      "outputs": [
        {
          "output_type": "execute_result",
          "data": {
            "text/plain": [
              "0    210909\n",
              "1      2340\n",
              "Name: is_duplicate, dtype: int64"
            ]
          },
          "metadata": {
            "tags": []
          },
          "execution_count": 82
        }
      ]
    },
    {
      "cell_type": "code",
      "metadata": {
        "colab": {
          "base_uri": "https://localhost:8080/"
        },
        "id": "J_hYjIhyBbSI",
        "outputId": "0b116e7c-b159-4b04-c2d1-4e9b369af173"
      },
      "source": [
        "sample_sub.is_duplicate.value_counts()"
      ],
      "execution_count": 226,
      "outputs": [
        {
          "output_type": "execute_result",
          "data": {
            "text/plain": [
              "0    211378\n",
              "1      1871\n",
              "Name: is_duplicate, dtype: int64"
            ]
          },
          "metadata": {
            "tags": []
          },
          "execution_count": 226
        }
      ]
    },
    {
      "cell_type": "code",
      "metadata": {
        "id": "hvUV5_DFxqtc"
      },
      "source": [
        "sample_sub.to_csv(\"my_submission_2.csv\")"
      ],
      "execution_count": 228,
      "outputs": []
    }
  ]
}