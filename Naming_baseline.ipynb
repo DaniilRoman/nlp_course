{
  "nbformat": 4,
  "nbformat_minor": 0,
  "metadata": {
    "kernelspec": {
      "display_name": "Python 3",
      "language": "python",
      "name": "python3"
    },
    "language_info": {
      "codemirror_mode": {
        "name": "ipython",
        "version": 3
      },
      "file_extension": ".py",
      "mimetype": "text/x-python",
      "name": "python",
      "nbconvert_exporter": "python",
      "pygments_lexer": "ipython3",
      "version": "3.8.2"
    },
    "colab": {
      "name": "Naming baseline.ipynb",
      "provenance": [],
      "collapsed_sections": [
        "0MTRniWAxqtb"
      ],
      "toc_visible": true
    }
  },
  "cells": [
    {
      "cell_type": "code",
      "metadata": {
        "colab": {
          "base_uri": "https://localhost:8080/"
        },
        "id": "ZlV27lMwxqtV",
        "outputId": "ce2acd89-0e08-4342-ab59-df4ea7f2b2dd"
      },
      "source": [
        "%pylab inline\n",
        "plt.style.use(\"bmh\")"
      ],
      "execution_count": null,
      "outputs": [
        {
          "output_type": "stream",
          "text": [
            "Populating the interactive namespace from numpy and matplotlib\n"
          ],
          "name": "stdout"
        }
      ]
    },
    {
      "cell_type": "code",
      "metadata": {
        "id": "5FtvY9dPxqtX"
      },
      "source": [
        "import pathlib\n",
        "import pandas as pd\n",
        "\n",
        "from sklearn.metrics import classification_report, f1_score\n",
        "from sklearn.model_selection import StratifiedShuffleSplit\n",
        "from sklearn.ensemble import RandomForestClassifier\n",
        "from sklearn.linear_model import LogisticRegression"
      ],
      "execution_count": 2,
      "outputs": []
    },
    {
      "cell_type": "code",
      "metadata": {
        "id": "RVokqkcvxqtX"
      },
      "source": [
        "from tqdm import tqdm\n",
        "tqdm.pandas()"
      ],
      "execution_count": 3,
      "outputs": []
    },
    {
      "cell_type": "code",
      "metadata": {
        "id": "PPzqhvclxqtX"
      },
      "source": [
        "RS = 7345"
      ],
      "execution_count": 4,
      "outputs": []
    },
    {
      "cell_type": "markdown",
      "metadata": {
        "id": "rPK-98h_xqtY"
      },
      "source": [
        "# Загрузка данных"
      ]
    },
    {
      "cell_type": "code",
      "metadata": {
        "id": "5NjEfazGxqtY"
      },
      "source": [
        "DATA_DIR = pathlib.Path(\"../data/names/uploads\")"
      ],
      "execution_count": null,
      "outputs": []
    },
    {
      "cell_type": "code",
      "metadata": {
        "id": "DNxknZRlxqtY"
      },
      "source": [
        "train = pd.read_csv(\"train.csv\", index_col=\"pair_id\")\n",
        "test = pd.read_csv(\"test.csv\", index_col=\"pair_id\")"
      ],
      "execution_count": 6,
      "outputs": []
    },
    {
      "cell_type": "code",
      "metadata": {
        "colab": {
          "base_uri": "https://localhost:8080/",
          "height": 235
        },
        "id": "pyHRx1aaxqtY",
        "outputId": "a3fbcd18-22ae-46f1-9af9-2ec824c1d9cc"
      },
      "source": [
        "train.head()"
      ],
      "execution_count": 7,
      "outputs": [
        {
          "output_type": "execute_result",
          "data": {
            "text/html": [
              "<div>\n",
              "<style scoped>\n",
              "    .dataframe tbody tr th:only-of-type {\n",
              "        vertical-align: middle;\n",
              "    }\n",
              "\n",
              "    .dataframe tbody tr th {\n",
              "        vertical-align: top;\n",
              "    }\n",
              "\n",
              "    .dataframe thead th {\n",
              "        text-align: right;\n",
              "    }\n",
              "</style>\n",
              "<table border=\"1\" class=\"dataframe\">\n",
              "  <thead>\n",
              "    <tr style=\"text-align: right;\">\n",
              "      <th></th>\n",
              "      <th>name_1</th>\n",
              "      <th>name_2</th>\n",
              "      <th>is_duplicate</th>\n",
              "    </tr>\n",
              "    <tr>\n",
              "      <th>pair_id</th>\n",
              "      <th></th>\n",
              "      <th></th>\n",
              "      <th></th>\n",
              "    </tr>\n",
              "  </thead>\n",
              "  <tbody>\n",
              "    <tr>\n",
              "      <th>1</th>\n",
              "      <td>Iko Industries Ltd.</td>\n",
              "      <td>Enormous Industrial Trade Pvt., Ltd.</td>\n",
              "      <td>0</td>\n",
              "    </tr>\n",
              "    <tr>\n",
              "      <th>2</th>\n",
              "      <td>Apcotex Industries Ltd.</td>\n",
              "      <td>Technocraft Industries (India) Ltd.</td>\n",
              "      <td>0</td>\n",
              "    </tr>\n",
              "    <tr>\n",
              "      <th>3</th>\n",
              "      <td>Rishichem Distributors Pvt., Ltd.</td>\n",
              "      <td>Dsa</td>\n",
              "      <td>0</td>\n",
              "    </tr>\n",
              "    <tr>\n",
              "      <th>4</th>\n",
              "      <td>Powermax Rubber Factory</td>\n",
              "      <td>Co. One</td>\n",
              "      <td>0</td>\n",
              "    </tr>\n",
              "    <tr>\n",
              "      <th>5</th>\n",
              "      <td>Tress A/S</td>\n",
              "      <td>Longyou Industries Park Zhejiang</td>\n",
              "      <td>0</td>\n",
              "    </tr>\n",
              "  </tbody>\n",
              "</table>\n",
              "</div>"
            ],
            "text/plain": [
              "                                    name_1  ... is_duplicate\n",
              "pair_id                                     ...             \n",
              "1                      Iko Industries Ltd.  ...            0\n",
              "2                  Apcotex Industries Ltd.  ...            0\n",
              "3        Rishichem Distributors Pvt., Ltd.  ...            0\n",
              "4                  Powermax Rubber Factory  ...            0\n",
              "5                                Tress A/S  ...            0\n",
              "\n",
              "[5 rows x 3 columns]"
            ]
          },
          "metadata": {
            "tags": []
          },
          "execution_count": 7
        }
      ]
    },
    {
      "cell_type": "code",
      "metadata": {
        "colab": {
          "base_uri": "https://localhost:8080/",
          "height": 235
        },
        "id": "a8OK3jfxxqtY",
        "outputId": "2180d63f-10b1-451b-ce0b-b5bc9d77dae2"
      },
      "source": [
        "test.head()"
      ],
      "execution_count": 8,
      "outputs": [
        {
          "output_type": "execute_result",
          "data": {
            "text/html": [
              "<div>\n",
              "<style scoped>\n",
              "    .dataframe tbody tr th:only-of-type {\n",
              "        vertical-align: middle;\n",
              "    }\n",
              "\n",
              "    .dataframe tbody tr th {\n",
              "        vertical-align: top;\n",
              "    }\n",
              "\n",
              "    .dataframe thead th {\n",
              "        text-align: right;\n",
              "    }\n",
              "</style>\n",
              "<table border=\"1\" class=\"dataframe\">\n",
              "  <thead>\n",
              "    <tr style=\"text-align: right;\">\n",
              "      <th></th>\n",
              "      <th>name_1</th>\n",
              "      <th>name_2</th>\n",
              "    </tr>\n",
              "    <tr>\n",
              "      <th>pair_id</th>\n",
              "      <th></th>\n",
              "      <th></th>\n",
              "    </tr>\n",
              "  </thead>\n",
              "  <tbody>\n",
              "    <tr>\n",
              "      <th>1</th>\n",
              "      <td>Sun Blinds Decoration Inc.</td>\n",
              "      <td>Indl De Cuautitlan Sa Cv</td>\n",
              "    </tr>\n",
              "    <tr>\n",
              "      <th>2</th>\n",
              "      <td>Eih Ltd.</td>\n",
              "      <td>Dongguan Wei Shi Plastic Product Co., Ltd.</td>\n",
              "    </tr>\n",
              "    <tr>\n",
              "      <th>3</th>\n",
              "      <td>Jsh Ltd. (Hk)</td>\n",
              "      <td>Arab Shipbuilding And Repair Yard C</td>\n",
              "    </tr>\n",
              "    <tr>\n",
              "      <th>4</th>\n",
              "      <td>Better Industrial Ltd.</td>\n",
              "      <td>Farmacap Industria E Comercio Ltda</td>\n",
              "    </tr>\n",
              "    <tr>\n",
              "      <th>5</th>\n",
              "      <td>Equipos Inoxidables Del Norte Sa De Cv</td>\n",
              "      <td>Bel Inc.</td>\n",
              "    </tr>\n",
              "  </tbody>\n",
              "</table>\n",
              "</div>"
            ],
            "text/plain": [
              "                                         name_1                                      name_2\n",
              "pair_id                                                                                    \n",
              "1                    Sun Blinds Decoration Inc.                    Indl De Cuautitlan Sa Cv\n",
              "2                                      Eih Ltd.  Dongguan Wei Shi Plastic Product Co., Ltd.\n",
              "3                                 Jsh Ltd. (Hk)         Arab Shipbuilding And Repair Yard C\n",
              "4                        Better Industrial Ltd.          Farmacap Industria E Comercio Ltda\n",
              "5        Equipos Inoxidables Del Norte Sa De Cv                                    Bel Inc."
            ]
          },
          "metadata": {
            "tags": []
          },
          "execution_count": 8
        }
      ]
    },
    {
      "cell_type": "code",
      "metadata": {
        "colab": {
          "base_uri": "https://localhost:8080/"
        },
        "id": "yTF9UQ6vxqtY",
        "outputId": "6ed55ba6-2d41-4cce-a8ff-19c289357cbb"
      },
      "source": [
        "train.info()"
      ],
      "execution_count": 9,
      "outputs": [
        {
          "output_type": "stream",
          "text": [
            "<class 'pandas.core.frame.DataFrame'>\n",
            "Int64Index: 497819 entries, 1 to 497819\n",
            "Data columns (total 3 columns):\n",
            " #   Column        Non-Null Count   Dtype \n",
            "---  ------        --------------   ----- \n",
            " 0   name_1        497819 non-null  object\n",
            " 1   name_2        497819 non-null  object\n",
            " 2   is_duplicate  497819 non-null  int64 \n",
            "dtypes: int64(1), object(2)\n",
            "memory usage: 15.2+ MB\n"
          ],
          "name": "stdout"
        }
      ]
    },
    {
      "cell_type": "code",
      "metadata": {
        "colab": {
          "base_uri": "https://localhost:8080/"
        },
        "id": "SzQBw2bkxqtY",
        "outputId": "f4f32e66-71f6-48d9-c0e4-bb7aa462742f"
      },
      "source": [
        "test.info()"
      ],
      "execution_count": null,
      "outputs": [
        {
          "output_type": "stream",
          "text": [
            "<class 'pandas.core.frame.DataFrame'>\n",
            "Int64Index: 213249 entries, 1 to 213249\n",
            "Data columns (total 2 columns):\n",
            " #   Column  Non-Null Count   Dtype \n",
            "---  ------  --------------   ----- \n",
            " 0   name_1  213249 non-null  object\n",
            " 1   name_2  213249 non-null  object\n",
            "dtypes: object(2)\n",
            "memory usage: 4.9+ MB\n"
          ],
          "name": "stdout"
        }
      ]
    },
    {
      "cell_type": "markdown",
      "metadata": {
        "id": "VMWARSktXEri"
      },
      "source": [
        "# Contries and cities"
      ]
    },
    {
      "cell_type": "code",
      "metadata": {
        "colab": {
          "base_uri": "https://localhost:8080/",
          "height": 359
        },
        "id": "Kwn0FoR7dKB6",
        "outputId": "505e566a-b9f8-4131-9052-907bd1c60423"
      },
      "source": [
        "cities = pd.read_csv(\"cities.csv\", header=None, encoding='iso-8859-1')\n",
        "cities.head(10)"
      ],
      "execution_count": 64,
      "outputs": [
        {
          "output_type": "execute_result",
          "data": {
            "text/html": [
              "<div>\n",
              "<style scoped>\n",
              "    .dataframe tbody tr th:only-of-type {\n",
              "        vertical-align: middle;\n",
              "    }\n",
              "\n",
              "    .dataframe tbody tr th {\n",
              "        vertical-align: top;\n",
              "    }\n",
              "\n",
              "    .dataframe thead th {\n",
              "        text-align: right;\n",
              "    }\n",
              "</style>\n",
              "<table border=\"1\" class=\"dataframe\">\n",
              "  <thead>\n",
              "    <tr style=\"text-align: right;\">\n",
              "      <th></th>\n",
              "      <th>0</th>\n",
              "      <th>1</th>\n",
              "      <th>2</th>\n",
              "      <th>3</th>\n",
              "    </tr>\n",
              "  </thead>\n",
              "  <tbody>\n",
              "    <tr>\n",
              "      <th>0</th>\n",
              "      <td>les Escaldes</td>\n",
              "      <td>les Escaldes</td>\n",
              "      <td>Ehskal'des-Ehndzhordani,Escaldes,Escaldes-Engo...</td>\n",
              "      <td>AD</td>\n",
              "    </tr>\n",
              "    <tr>\n",
              "      <th>1</th>\n",
              "      <td>Andorra la Vella</td>\n",
              "      <td>Andorra la Vella</td>\n",
              "      <td>ALV,Ando-la-Vyey,Andora,Andora la Vela,Andora ...</td>\n",
              "      <td>AD</td>\n",
              "    </tr>\n",
              "    <tr>\n",
              "      <th>2</th>\n",
              "      <td>Umm Al Quwain City</td>\n",
              "      <td>Umm Al Quwain City</td>\n",
              "      <td>Oumm al Qaiwain,Oumm al Qaïwaïn,Um al Kawain,U...</td>\n",
              "      <td>AE</td>\n",
              "    </tr>\n",
              "    <tr>\n",
              "      <th>3</th>\n",
              "      <td>Ras Al Khaimah City</td>\n",
              "      <td>Ras Al Khaimah City</td>\n",
              "      <td>Julfa,Khaimah,RAK City,RKT,Ra's al Khaymah,Ra'...</td>\n",
              "      <td>AE</td>\n",
              "    </tr>\n",
              "    <tr>\n",
              "      <th>4</th>\n",
              "      <td>Zayed City</td>\n",
              "      <td>Zayed City</td>\n",
              "      <td>Bid' Zayed,Bid Zayed,Madinat Za'id,Madinat Za...</td>\n",
              "      <td>AE</td>\n",
              "    </tr>\n",
              "    <tr>\n",
              "      <th>5</th>\n",
              "      <td>Khawr Fakk?n</td>\n",
              "      <td>Khawr Fakkan</td>\n",
              "      <td>Fakkan,Fakk?n,Khawr Fakkan,Khawr Fakk?n,Khawr ...</td>\n",
              "      <td>AE</td>\n",
              "    </tr>\n",
              "    <tr>\n",
              "      <th>6</th>\n",
              "      <td>Dubai</td>\n",
              "      <td>Dubai</td>\n",
              "      <td>DXB,Dabei,Dibai,Dibay,Doubayi,Dubae,Dubai,Duba...</td>\n",
              "      <td>AE</td>\n",
              "    </tr>\n",
              "    <tr>\n",
              "      <th>7</th>\n",
              "      <td>Dibba Al-Fujairah</td>\n",
              "      <td>Dibba Al-Fujairah</td>\n",
              "      <td>Al-Fujairah,BYB,Dibba Al-Fujairah,dba alfjyrt,...</td>\n",
              "      <td>AE</td>\n",
              "    </tr>\n",
              "    <tr>\n",
              "      <th>8</th>\n",
              "      <td>Dibba Al-Hisn</td>\n",
              "      <td>Dibba Al-Hisn</td>\n",
              "      <td>BYB,Daba,Daba al-Hisn,Dab?,Dab? al-?i?n,Diba,D...</td>\n",
              "      <td>AE</td>\n",
              "    </tr>\n",
              "    <tr>\n",
              "      <th>9</th>\n",
              "      <td>Sharjah</td>\n",
              "      <td>Sharjah</td>\n",
              "      <td>Al Sharjah,Ash 'Mariqah,Ash Shariqa,Ash Shariq...</td>\n",
              "      <td>AE</td>\n",
              "    </tr>\n",
              "  </tbody>\n",
              "</table>\n",
              "</div>"
            ],
            "text/plain": [
              "                     0  ...   3\n",
              "0         les Escaldes  ...  AD\n",
              "1     Andorra la Vella  ...  AD\n",
              "2   Umm Al Quwain City  ...  AE\n",
              "3  Ras Al Khaimah City  ...  AE\n",
              "4           Zayed City  ...  AE\n",
              "5         Khawr Fakk?n  ...  AE\n",
              "6                Dubai  ...  AE\n",
              "7    Dibba Al-Fujairah  ...  AE\n",
              "8        Dibba Al-Hisn  ...  AE\n",
              "9              Sharjah  ...  AE\n",
              "\n",
              "[10 rows x 4 columns]"
            ]
          },
          "metadata": {
            "tags": []
          },
          "execution_count": 64
        }
      ]
    },
    {
      "cell_type": "code",
      "metadata": {
        "id": "6CZsQc8rdKFH"
      },
      "source": [
        ""
      ],
      "execution_count": null,
      "outputs": []
    },
    {
      "cell_type": "markdown",
      "metadata": {
        "id": "XU4DAVcdc-Hi"
      },
      "source": [
        "# Companies"
      ]
    },
    {
      "cell_type": "code",
      "metadata": {
        "colab": {
          "base_uri": "https://localhost:8080/",
          "height": 359
        },
        "id": "a3m0JZPmXIZr",
        "outputId": "85593b08-f760-4ee5-e387-98073172f601"
      },
      "source": [
        "companies = pd.read_csv(\"2020-11-19_elf-code-list-v1.3.csv\")\n",
        "companies[['Entity Legal Form name Local name', 'Entity Legal Form name Transliterated name (per ISO 01-140-10)']].head(10)"
      ],
      "execution_count": 34,
      "outputs": [
        {
          "output_type": "execute_result",
          "data": {
            "text/html": [
              "<div>\n",
              "<style scoped>\n",
              "    .dataframe tbody tr th:only-of-type {\n",
              "        vertical-align: middle;\n",
              "    }\n",
              "\n",
              "    .dataframe tbody tr th {\n",
              "        vertical-align: top;\n",
              "    }\n",
              "\n",
              "    .dataframe thead th {\n",
              "        text-align: right;\n",
              "    }\n",
              "</style>\n",
              "<table border=\"1\" class=\"dataframe\">\n",
              "  <thead>\n",
              "    <tr style=\"text-align: right;\">\n",
              "      <th></th>\n",
              "      <th>Entity Legal Form name Local name</th>\n",
              "      <th>Entity Legal Form name Transliterated name (per ISO 01-140-10)</th>\n",
              "    </tr>\n",
              "  </thead>\n",
              "  <tbody>\n",
              "    <tr>\n",
              "      <th>0</th>\n",
              "      <td>NaN</td>\n",
              "      <td>NaN</td>\n",
              "    </tr>\n",
              "    <tr>\n",
              "      <th>1</th>\n",
              "      <td>NaN</td>\n",
              "      <td>NaN</td>\n",
              "    </tr>\n",
              "    <tr>\n",
              "      <th>2</th>\n",
              "      <td>International Business Corporation</td>\n",
              "      <td>International Business Corporation</td>\n",
              "    </tr>\n",
              "    <tr>\n",
              "      <th>3</th>\n",
              "      <td>Sociedad Anonima</td>\n",
              "      <td>Sociedad Anonima</td>\n",
              "    </tr>\n",
              "    <tr>\n",
              "      <th>4</th>\n",
              "      <td>Sociedad Cooperativa</td>\n",
              "      <td>Sociedad Cooperativa</td>\n",
              "    </tr>\n",
              "    <tr>\n",
              "      <th>5</th>\n",
              "      <td>Sociedad Anonima Unipersonal</td>\n",
              "      <td>Sociedad Anonima Unipersonal</td>\n",
              "    </tr>\n",
              "    <tr>\n",
              "      <th>6</th>\n",
              "      <td>Stichting</td>\n",
              "      <td>Stichting</td>\n",
              "    </tr>\n",
              "    <tr>\n",
              "      <th>7</th>\n",
              "      <td>Vennootschap onder firma</td>\n",
              "      <td>Vennootschap onder firma</td>\n",
              "    </tr>\n",
              "    <tr>\n",
              "      <th>8</th>\n",
              "      <td>Commanditaire vennootschap (1)</td>\n",
              "      <td>Commanditaire vennootschap (1)</td>\n",
              "    </tr>\n",
              "    <tr>\n",
              "      <th>9</th>\n",
              "      <td>Besloten vennootschap</td>\n",
              "      <td>Besloten vennootschap</td>\n",
              "    </tr>\n",
              "  </tbody>\n",
              "</table>\n",
              "</div>"
            ],
            "text/plain": [
              "    Entity Legal Form name Local name Entity Legal Form name Transliterated name (per ISO 01-140-10)\n",
              "0                                 NaN                                                NaN            \n",
              "1                                 NaN                                                NaN            \n",
              "2  International Business Corporation                 International Business Corporation            \n",
              "3                    Sociedad Anonima                                   Sociedad Anonima            \n",
              "4                Sociedad Cooperativa                               Sociedad Cooperativa            \n",
              "5        Sociedad Anonima Unipersonal                       Sociedad Anonima Unipersonal            \n",
              "6                           Stichting                                          Stichting            \n",
              "7            Vennootschap onder firma                           Vennootschap onder firma            \n",
              "8      Commanditaire vennootschap (1)                     Commanditaire vennootschap (1)            \n",
              "9               Besloten vennootschap                              Besloten vennootschap            "
            ]
          },
          "metadata": {
            "tags": []
          },
          "execution_count": 34
        }
      ]
    },
    {
      "cell_type": "code",
      "metadata": {
        "id": "efaazoeTZeQb"
      },
      "source": [
        "companies = companies[['Entity Legal Form name Local name', 'Entity Legal Form name Transliterated name (per ISO 01-140-10)']]\n",
        "\n",
        "duplicate_companies = []\n",
        "for i, (name_1, name_2) in companies.iterrows():\n",
        "    if isinstance(name_1, str) and isinstance(name_2, str):\n",
        "        if name_1 != name_2:\n",
        "            duplicate_companies.append((name_1, name_2))\n",
        "    "
      ],
      "execution_count": 56,
      "outputs": []
    },
    {
      "cell_type": "code",
      "metadata": {
        "colab": {
          "base_uri": "https://localhost:8080/"
        },
        "id": "2GIai8hJbKhv",
        "outputId": "18fcf76b-cec2-4967-c110-3e351943a985"
      },
      "source": [
        "duplicate_companies[:10]"
      ],
      "execution_count": 58,
      "outputs": [
        {
          "output_type": "execute_result",
          "data": {
            "text/plain": [
              "[('Закрытае акцыянернае таварыства', 'Zakrytae akcyyanernae tavarystva'),\n",
              " ('Закрытое акционерное общество', 'Zakrytoe akcionernoe obshchestvo'),\n",
              " ('Унітарнае прадпрыемства', 'Unіtarnae pradpryemstva'),\n",
              " ('Унитарное предприятие', 'Unitarnoe predpriyatie'),\n",
              " ('Таварыства з абмежаванай адказнасцю',\n",
              "  'Tavarystva z abmezhavanaj adkaznascyu'),\n",
              " ('Общество с ограниченной ответственностью',\n",
              "  \"Obshchestvo s ogranichennoj otvetstvennost'yu\"),\n",
              " ('Таварыства з дадатковай адказнасцю', 'Tavarystva z dadatkovaj adkaznascyu'),\n",
              " ('Общество с дополнительной ответственностью',\n",
              "  \"Obshchestvo s dopolnitel'noj otvetstvennost'yu\"),\n",
              " ('Адкрытае акцыянернае таварыства', 'Adkrytae akcyyanernae tavarystva'),\n",
              " ('Открытое акционерное общество', 'Otkrytoe akcionernoe obshchestvo')]"
            ]
          },
          "metadata": {
            "tags": []
          },
          "execution_count": 58
        }
      ]
    },
    {
      "cell_type": "markdown",
      "metadata": {
        "id": "napIuPS7xqtZ"
      },
      "source": [
        "# Статистика таргета"
      ]
    },
    {
      "cell_type": "code",
      "metadata": {
        "colab": {
          "base_uri": "https://localhost:8080/"
        },
        "id": "A4SOpUDfxqtZ",
        "outputId": "30b47a4b-ac4d-4682-b196-7d3d6e06bdd5"
      },
      "source": [
        "train.is_duplicate.value_counts()"
      ],
      "execution_count": 10,
      "outputs": [
        {
          "output_type": "execute_result",
          "data": {
            "text/plain": [
              "0    494161\n",
              "1      3658\n",
              "Name: is_duplicate, dtype: int64"
            ]
          },
          "metadata": {
            "tags": []
          },
          "execution_count": 10
        }
      ]
    },
    {
      "cell_type": "code",
      "metadata": {
        "colab": {
          "base_uri": "https://localhost:8080/",
          "height": 545
        },
        "id": "TfCqxcrFxqtZ",
        "outputId": "99bca3ce-c5b0-4bf7-af7c-d074e03a5fe2"
      },
      "source": [
        "train[train.is_duplicate==1].sample(15)"
      ],
      "execution_count": 11,
      "outputs": [
        {
          "output_type": "execute_result",
          "data": {
            "text/html": [
              "<div>\n",
              "<style scoped>\n",
              "    .dataframe tbody tr th:only-of-type {\n",
              "        vertical-align: middle;\n",
              "    }\n",
              "\n",
              "    .dataframe tbody tr th {\n",
              "        vertical-align: top;\n",
              "    }\n",
              "\n",
              "    .dataframe thead th {\n",
              "        text-align: right;\n",
              "    }\n",
              "</style>\n",
              "<table border=\"1\" class=\"dataframe\">\n",
              "  <thead>\n",
              "    <tr style=\"text-align: right;\">\n",
              "      <th></th>\n",
              "      <th>name_1</th>\n",
              "      <th>name_2</th>\n",
              "      <th>is_duplicate</th>\n",
              "    </tr>\n",
              "    <tr>\n",
              "      <th>pair_id</th>\n",
              "      <th></th>\n",
              "      <th></th>\n",
              "      <th></th>\n",
              "    </tr>\n",
              "  </thead>\n",
              "  <tbody>\n",
              "    <tr>\n",
              "      <th>395382</th>\n",
              "      <td>Ikea Distribution Services Gmb H</td>\n",
              "      <td>Ikea Distribution Service(Shanghai)</td>\n",
              "      <td>1</td>\n",
              "    </tr>\n",
              "    <tr>\n",
              "      <th>209566</th>\n",
              "      <td>Bridgestone Tire</td>\n",
              "      <td>Bridgestone (China) Research And Development C...</td>\n",
              "      <td>1</td>\n",
              "    </tr>\n",
              "    <tr>\n",
              "      <th>263594</th>\n",
              "      <td>Dow Chemical Thailand Ltd.</td>\n",
              "      <td>Dow Chemical Pacific</td>\n",
              "      <td>1</td>\n",
              "    </tr>\n",
              "    <tr>\n",
              "      <th>458214</th>\n",
              "      <td>Freudenberg Nok De Mexico Sa De Cv</td>\n",
              "      <td>Freudenberg Nok Componentes Brasil Ltda</td>\n",
              "      <td>1</td>\n",
              "    </tr>\n",
              "    <tr>\n",
              "      <th>388667</th>\n",
              "      <td>Arlanxeo Brasil Sa</td>\n",
              "      <td>Arlanxeo Singapore Pte.</td>\n",
              "      <td>1</td>\n",
              "    </tr>\n",
              "    <tr>\n",
              "      <th>158075</th>\n",
              "      <td>Basf Pakistan (Private) Ltd.</td>\n",
              "      <td>Basf Co., Ltd.</td>\n",
              "      <td>1</td>\n",
              "    </tr>\n",
              "    <tr>\n",
              "      <th>163396</th>\n",
              "      <td>Soprema Canada</td>\n",
              "      <td>SOPREMA OBERROSSBACH</td>\n",
              "      <td>1</td>\n",
              "    </tr>\n",
              "    <tr>\n",
              "      <th>390723</th>\n",
              "      <td>Sumitomo Rubber (Changshu) Co., Ltd.</td>\n",
              "      <td>Sumitomo Rubber Do Brasil Ltda</td>\n",
              "      <td>1</td>\n",
              "    </tr>\n",
              "    <tr>\n",
              "      <th>56580</th>\n",
              "      <td>Yokohama Tire Canada</td>\n",
              "      <td>Yokohama Re Mfg.</td>\n",
              "      <td>1</td>\n",
              "    </tr>\n",
              "    <tr>\n",
              "      <th>114960</th>\n",
              "      <td>Bridgestone (Tianjin) Tire Co., Ltd.</td>\n",
              "      <td>Bridgestone (Huizhou) Tire Co., Ltd.</td>\n",
              "      <td>1</td>\n",
              "    </tr>\n",
              "    <tr>\n",
              "      <th>19122</th>\n",
              "      <td>Bridgestone India Automotive Products Private ...</td>\n",
              "      <td>Bridgestone International Group</td>\n",
              "      <td>1</td>\n",
              "    </tr>\n",
              "    <tr>\n",
              "      <th>291037</th>\n",
              "      <td>Bridgestone International Group</td>\n",
              "      <td>Bridgestone Canada Inc.</td>\n",
              "      <td>1</td>\n",
              "    </tr>\n",
              "    <tr>\n",
              "      <th>70705</th>\n",
              "      <td>Bridgestone International Group</td>\n",
              "      <td>Bridgestone India Pvt., Ltd.</td>\n",
              "      <td>1</td>\n",
              "    </tr>\n",
              "    <tr>\n",
              "      <th>214980</th>\n",
              "      <td>ARLANXEO</td>\n",
              "      <td>ARLANXEO BRASIL S.A.</td>\n",
              "      <td>1</td>\n",
              "    </tr>\n",
              "    <tr>\n",
              "      <th>20824</th>\n",
              "      <td>Pirelli Neumaticos S.A. De Cv</td>\n",
              "      <td>Pirelli Neumaticos Sa De</td>\n",
              "      <td>1</td>\n",
              "    </tr>\n",
              "  </tbody>\n",
              "</table>\n",
              "</div>"
            ],
            "text/plain": [
              "                                                    name_1  ... is_duplicate\n",
              "pair_id                                                     ...             \n",
              "395382                    Ikea Distribution Services Gmb H  ...            1\n",
              "209566                                    Bridgestone Tire  ...            1\n",
              "263594                          Dow Chemical Thailand Ltd.  ...            1\n",
              "458214                  Freudenberg Nok De Mexico Sa De Cv  ...            1\n",
              "388667                                  Arlanxeo Brasil Sa  ...            1\n",
              "158075                        Basf Pakistan (Private) Ltd.  ...            1\n",
              "163396                                      Soprema Canada  ...            1\n",
              "390723                Sumitomo Rubber (Changshu) Co., Ltd.  ...            1\n",
              "56580                                 Yokohama Tire Canada  ...            1\n",
              "114960                Bridgestone (Tianjin) Tire Co., Ltd.  ...            1\n",
              "19122    Bridgestone India Automotive Products Private ...  ...            1\n",
              "291037                     Bridgestone International Group  ...            1\n",
              "70705                      Bridgestone International Group  ...            1\n",
              "214980                                           ARLANXEO   ...            1\n",
              "20824                        Pirelli Neumaticos S.A. De Cv  ...            1\n",
              "\n",
              "[15 rows x 3 columns]"
            ]
          },
          "metadata": {
            "tags": []
          },
          "execution_count": 11
        }
      ]
    },
    {
      "cell_type": "code",
      "metadata": {
        "colab": {
          "base_uri": "https://localhost:8080/",
          "height": 545
        },
        "id": "KZRWMaKcxqtZ",
        "outputId": "addff9ca-ddf9-4854-aff7-ff4b416d1028"
      },
      "source": [
        "train[train.is_duplicate==0].sample(15)"
      ],
      "execution_count": 12,
      "outputs": [
        {
          "output_type": "execute_result",
          "data": {
            "text/html": [
              "<div>\n",
              "<style scoped>\n",
              "    .dataframe tbody tr th:only-of-type {\n",
              "        vertical-align: middle;\n",
              "    }\n",
              "\n",
              "    .dataframe tbody tr th {\n",
              "        vertical-align: top;\n",
              "    }\n",
              "\n",
              "    .dataframe thead th {\n",
              "        text-align: right;\n",
              "    }\n",
              "</style>\n",
              "<table border=\"1\" class=\"dataframe\">\n",
              "  <thead>\n",
              "    <tr style=\"text-align: right;\">\n",
              "      <th></th>\n",
              "      <th>name_1</th>\n",
              "      <th>name_2</th>\n",
              "      <th>is_duplicate</th>\n",
              "    </tr>\n",
              "    <tr>\n",
              "      <th>pair_id</th>\n",
              "      <th></th>\n",
              "      <th></th>\n",
              "      <th></th>\n",
              "    </tr>\n",
              "  </thead>\n",
              "  <tbody>\n",
              "    <tr>\n",
              "      <th>130514</th>\n",
              "      <td>R.H. Claydon Ltd.(Saxham)</td>\n",
              "      <td>R.I.Intl</td>\n",
              "      <td>0</td>\n",
              "    </tr>\n",
              "    <tr>\n",
              "      <th>213799</th>\n",
              "      <td>Solid Cement</td>\n",
              "      <td>Lg Chem Ltd.</td>\n",
              "      <td>0</td>\n",
              "    </tr>\n",
              "    <tr>\n",
              "      <th>237941</th>\n",
              "      <td>Zara Brasil Ltd. Av Ribeirao Dos Cri</td>\n",
              "      <td>V.D.</td>\n",
              "      <td>0</td>\n",
              "    </tr>\n",
              "    <tr>\n",
              "      <th>62414</th>\n",
              "      <td>Carlton Overseas Pvt., Ltd.</td>\n",
              "      <td>Infusion Overseas Private Ltd.</td>\n",
              "      <td>0</td>\n",
              "    </tr>\n",
              "    <tr>\n",
              "      <th>275797</th>\n",
              "      <td>Sportworx 2012 Ltd.</td>\n",
              "      <td>Elisei Nastri Trasportatori</td>\n",
              "      <td>0</td>\n",
              "    </tr>\n",
              "    <tr>\n",
              "      <th>138235</th>\n",
              "      <td>Genius Industrial Supply Co., Ltd.</td>\n",
              "      <td>D S International</td>\n",
              "      <td>0</td>\n",
              "    </tr>\n",
              "    <tr>\n",
              "      <th>154412</th>\n",
              "      <td>Great Worldwide Logistics</td>\n",
              "      <td>Ez Logistics Llc</td>\n",
              "      <td>0</td>\n",
              "    </tr>\n",
              "    <tr>\n",
              "      <th>284958</th>\n",
              "      <td>Hps North America Inc.</td>\n",
              "      <td>Icl America Ltd.</td>\n",
              "      <td>0</td>\n",
              "    </tr>\n",
              "    <tr>\n",
              "      <th>150053</th>\n",
              "      <td>Gates India P. Ltd.</td>\n",
              "      <td>Indo Rama Synthetics (India) Ltd.</td>\n",
              "      <td>0</td>\n",
              "    </tr>\n",
              "    <tr>\n",
              "      <th>201895</th>\n",
              "      <td>Industria Servimetal Sa De Cv</td>\n",
              "      <td>Shenzhen Z P C Industry Development Co., Ltd.</td>\n",
              "      <td>0</td>\n",
              "    </tr>\n",
              "    <tr>\n",
              "      <th>439434</th>\n",
              "      <td>Roar Logistics Inc.</td>\n",
              "      <td>Task Logistica Transportes Nacionais E Interna...</td>\n",
              "      <td>0</td>\n",
              "    </tr>\n",
              "    <tr>\n",
              "      <th>254332</th>\n",
              "      <td>Ict</td>\n",
              "      <td>Dura De Mexico Sa De Cv</td>\n",
              "      <td>0</td>\n",
              "    </tr>\n",
              "    <tr>\n",
              "      <th>26284</th>\n",
              "      <td>Han Gia Co., Ltd.</td>\n",
              "      <td>Shanghai Medical Technology Co., Ltd. Will Be ...</td>\n",
              "      <td>0</td>\n",
              "    </tr>\n",
              "    <tr>\n",
              "      <th>305484</th>\n",
              "      <td>Dsi</td>\n",
              "      <td>Cauchos Vulcanizados Colombia Ltda</td>\n",
              "      <td>0</td>\n",
              "    </tr>\n",
              "    <tr>\n",
              "      <th>275632</th>\n",
              "      <td>Shanghai Smith Adhesive Tape Development Co., ...</td>\n",
              "      <td>I B International</td>\n",
              "      <td>0</td>\n",
              "    </tr>\n",
              "  </tbody>\n",
              "</table>\n",
              "</div>"
            ],
            "text/plain": [
              "                                                    name_1  ... is_duplicate\n",
              "pair_id                                                     ...             \n",
              "130514                           R.H. Claydon Ltd.(Saxham)  ...            0\n",
              "213799                                        Solid Cement  ...            0\n",
              "237941                Zara Brasil Ltd. Av Ribeirao Dos Cri  ...            0\n",
              "62414                          Carlton Overseas Pvt., Ltd.  ...            0\n",
              "275797                                 Sportworx 2012 Ltd.  ...            0\n",
              "138235                  Genius Industrial Supply Co., Ltd.  ...            0\n",
              "154412                           Great Worldwide Logistics  ...            0\n",
              "284958                              Hps North America Inc.  ...            0\n",
              "150053                                 Gates India P. Ltd.  ...            0\n",
              "201895                       Industria Servimetal Sa De Cv  ...            0\n",
              "439434                                 Roar Logistics Inc.  ...            0\n",
              "254332                                                 Ict  ...            0\n",
              "26284                                    Han Gia Co., Ltd.  ...            0\n",
              "305484                                                 Dsi  ...            0\n",
              "275632   Shanghai Smith Adhesive Tape Development Co., ...  ...            0\n",
              "\n",
              "[15 rows x 3 columns]"
            ]
          },
          "metadata": {
            "tags": []
          },
          "execution_count": 12
        }
      ]
    },
    {
      "cell_type": "markdown",
      "metadata": {
        "id": "Eo0ykkbVxqtZ"
      },
      "source": [
        "# Очистка данных"
      ]
    },
    {
      "cell_type": "code",
      "metadata": {
        "colab": {
          "base_uri": "https://localhost:8080/"
        },
        "id": "9g_G3LY1zN7r",
        "outputId": "be16d6a4-ea0e-47f2-b827-8dbb6fae36f2"
      },
      "source": [
        "!pip install pycountry"
      ],
      "execution_count": 13,
      "outputs": [
        {
          "output_type": "stream",
          "text": [
            "Collecting pycountry\n",
            "\u001b[?25l  Downloading https://files.pythonhosted.org/packages/76/73/6f1a412f14f68c273feea29a6ea9b9f1e268177d32e0e69ad6790d306312/pycountry-20.7.3.tar.gz (10.1MB)\n",
            "\u001b[K     |████████████████████████████████| 10.1MB 3.9MB/s \n",
            "\u001b[?25hBuilding wheels for collected packages: pycountry\n",
            "  Building wheel for pycountry (setup.py) ... \u001b[?25l\u001b[?25hdone\n",
            "  Created wheel for pycountry: filename=pycountry-20.7.3-py2.py3-none-any.whl size=10746865 sha256=06bd1e8af7071613df1a84124780d49b7b967a784672da20abe4a9500201af11\n",
            "  Stored in directory: /root/.cache/pip/wheels/33/4e/a6/be297e6b83567e537bed9df4a93f8590ec01c1acfbcd405348\n",
            "Successfully built pycountry\n",
            "Installing collected packages: pycountry\n",
            "Successfully installed pycountry-20.7.3\n"
          ],
          "name": "stdout"
        }
      ]
    },
    {
      "cell_type": "code",
      "metadata": {
        "id": "HYkZMvVSxqtZ"
      },
      "source": [
        "import pycountry\n",
        "import re"
      ],
      "execution_count": 14,
      "outputs": []
    },
    {
      "cell_type": "code",
      "metadata": {
        "colab": {
          "base_uri": "https://localhost:8080/"
        },
        "id": "ZUFquqKpRdhc",
        "outputId": "b1cbfa30-e713-4cae-d0c5-a166ec4fa5a4"
      },
      "source": [
        "!pip install countryinfo"
      ],
      "execution_count": 15,
      "outputs": [
        {
          "output_type": "stream",
          "text": [
            "Collecting countryinfo\n",
            "\u001b[?25l  Downloading https://files.pythonhosted.org/packages/55/16/9fa55d43ae8ee969b75b3977d45f6640bb6c0e52d9912af11593e112a3cc/countryinfo-0.1.2-py3-none-any.whl (602kB)\n",
            "\r\u001b[K     |▌                               | 10kB 15.1MB/s eta 0:00:01\r\u001b[K     |█                               | 20kB 19.9MB/s eta 0:00:01\r\u001b[K     |█▋                              | 30kB 10.7MB/s eta 0:00:01\r\u001b[K     |██▏                             | 40kB 7.5MB/s eta 0:00:01\r\u001b[K     |██▊                             | 51kB 4.3MB/s eta 0:00:01\r\u001b[K     |███▎                            | 61kB 4.5MB/s eta 0:00:01\r\u001b[K     |███▉                            | 71kB 4.9MB/s eta 0:00:01\r\u001b[K     |████▍                           | 81kB 5.0MB/s eta 0:00:01\r\u001b[K     |█████                           | 92kB 5.3MB/s eta 0:00:01\r\u001b[K     |█████▍                          | 102kB 5.6MB/s eta 0:00:01\r\u001b[K     |██████                          | 112kB 5.6MB/s eta 0:00:01\r\u001b[K     |██████▌                         | 122kB 5.6MB/s eta 0:00:01\r\u001b[K     |███████                         | 133kB 5.6MB/s eta 0:00:01\r\u001b[K     |███████▋                        | 143kB 5.6MB/s eta 0:00:01\r\u001b[K     |████████▏                       | 153kB 5.6MB/s eta 0:00:01\r\u001b[K     |████████▊                       | 163kB 5.6MB/s eta 0:00:01\r\u001b[K     |█████████▎                      | 174kB 5.6MB/s eta 0:00:01\r\u001b[K     |█████████▉                      | 184kB 5.6MB/s eta 0:00:01\r\u001b[K     |██████████▍                     | 194kB 5.6MB/s eta 0:00:01\r\u001b[K     |██████████▉                     | 204kB 5.6MB/s eta 0:00:01\r\u001b[K     |███████████▍                    | 215kB 5.6MB/s eta 0:00:01\r\u001b[K     |████████████                    | 225kB 5.6MB/s eta 0:00:01\r\u001b[K     |████████████▌                   | 235kB 5.6MB/s eta 0:00:01\r\u001b[K     |█████████████                   | 245kB 5.6MB/s eta 0:00:01\r\u001b[K     |█████████████▋                  | 256kB 5.6MB/s eta 0:00:01\r\u001b[K     |██████████████▏                 | 266kB 5.6MB/s eta 0:00:01\r\u001b[K     |██████████████▊                 | 276kB 5.6MB/s eta 0:00:01\r\u001b[K     |███████████████▎                | 286kB 5.6MB/s eta 0:00:01\r\u001b[K     |███████████████▉                | 296kB 5.6MB/s eta 0:00:01\r\u001b[K     |████████████████▎               | 307kB 5.6MB/s eta 0:00:01\r\u001b[K     |████████████████▉               | 317kB 5.6MB/s eta 0:00:01\r\u001b[K     |█████████████████▍              | 327kB 5.6MB/s eta 0:00:01\r\u001b[K     |██████████████████              | 337kB 5.6MB/s eta 0:00:01\r\u001b[K     |██████████████████▌             | 348kB 5.6MB/s eta 0:00:01\r\u001b[K     |███████████████████             | 358kB 5.6MB/s eta 0:00:01\r\u001b[K     |███████████████████▋            | 368kB 5.6MB/s eta 0:00:01\r\u001b[K     |████████████████████▏           | 378kB 5.6MB/s eta 0:00:01\r\u001b[K     |████████████████████▊           | 389kB 5.6MB/s eta 0:00:01\r\u001b[K     |█████████████████████▏          | 399kB 5.6MB/s eta 0:00:01\r\u001b[K     |█████████████████████▊          | 409kB 5.6MB/s eta 0:00:01\r\u001b[K     |██████████████████████▎         | 419kB 5.6MB/s eta 0:00:01\r\u001b[K     |██████████████████████▉         | 430kB 5.6MB/s eta 0:00:01\r\u001b[K     |███████████████████████▍        | 440kB 5.6MB/s eta 0:00:01\r\u001b[K     |████████████████████████        | 450kB 5.6MB/s eta 0:00:01\r\u001b[K     |████████████████████████▌       | 460kB 5.6MB/s eta 0:00:01\r\u001b[K     |█████████████████████████       | 471kB 5.6MB/s eta 0:00:01\r\u001b[K     |█████████████████████████▋      | 481kB 5.6MB/s eta 0:00:01\r\u001b[K     |██████████████████████████▏     | 491kB 5.6MB/s eta 0:00:01\r\u001b[K     |██████████████████████████▋     | 501kB 5.6MB/s eta 0:00:01\r\u001b[K     |███████████████████████████▏    | 512kB 5.6MB/s eta 0:00:01\r\u001b[K     |███████████████████████████▊    | 522kB 5.6MB/s eta 0:00:01\r\u001b[K     |████████████████████████████▎   | 532kB 5.6MB/s eta 0:00:01\r\u001b[K     |████████████████████████████▉   | 542kB 5.6MB/s eta 0:00:01\r\u001b[K     |█████████████████████████████▍  | 552kB 5.6MB/s eta 0:00:01\r\u001b[K     |██████████████████████████████  | 563kB 5.6MB/s eta 0:00:01\r\u001b[K     |██████████████████████████████▌ | 573kB 5.6MB/s eta 0:00:01\r\u001b[K     |███████████████████████████████ | 583kB 5.6MB/s eta 0:00:01\r\u001b[K     |███████████████████████████████▋| 593kB 5.6MB/s eta 0:00:01\r\u001b[K     |████████████████████████████████| 604kB 5.6MB/s \n",
            "\u001b[?25hInstalling collected packages: countryinfo\n",
            "Successfully installed countryinfo-0.1.2\n"
          ],
          "name": "stdout"
        }
      ]
    },
    {
      "cell_type": "code",
      "metadata": {
        "colab": {
          "base_uri": "https://localhost:8080/"
        },
        "id": "q8QTRW8HTZOh",
        "outputId": "fe87c21f-ae9b-43f5-ded8-60e6636e7bf5"
      },
      "source": [
        "!pip install textdistance"
      ],
      "execution_count": 24,
      "outputs": [
        {
          "output_type": "stream",
          "text": [
            "Collecting textdistance\n",
            "  Downloading https://files.pythonhosted.org/packages/35/71/87133323736b9b0180f600d477507318dae0abde613a54df33bfd0248614/textdistance-4.2.0-py3-none-any.whl\n",
            "Installing collected packages: textdistance\n",
            "Successfully installed textdistance-4.2.0\n"
          ],
          "name": "stdout"
        }
      ]
    },
    {
      "cell_type": "code",
      "metadata": {
        "id": "zyGzkTpzRfWk"
      },
      "source": [
        "import countryinfo\n",
        "help(countryinfo.CountryInfo)"
      ],
      "execution_count": null,
      "outputs": []
    },
    {
      "cell_type": "code",
      "metadata": {
        "id": "loHuAf58xqtZ"
      },
      "source": [
        "countries = [country.name.lower() for country in pycountry.countries]"
      ],
      "execution_count": null,
      "outputs": []
    },
    {
      "cell_type": "code",
      "metadata": {
        "id": "I1ogOvbdxqtZ"
      },
      "source": [
        "train[\"name_1\"] = train[\"name_1\"].str.lower()\n",
        "train[\"name_2\"] = train[\"name_2\"].str.lower()\n",
        "\n",
        "test[\"name_1\"] = test[\"name_1\"].str.lower()\n",
        "test[\"name_2\"] = test[\"name_2\"].str.lower()"
      ],
      "execution_count": null,
      "outputs": []
    },
    {
      "cell_type": "code",
      "metadata": {
        "colab": {
          "base_uri": "https://localhost:8080/",
          "height": 437
        },
        "id": "sLAfbun7xqtZ",
        "outputId": "a7bf4d86-4ac6-47c7-936c-b73891bacf9d"
      },
      "source": [
        "train[train.name_1.str.contains(\"gmbh\")]"
      ],
      "execution_count": null,
      "outputs": [
        {
          "output_type": "execute_result",
          "data": {
            "text/html": [
              "<div>\n",
              "<style scoped>\n",
              "    .dataframe tbody tr th:only-of-type {\n",
              "        vertical-align: middle;\n",
              "    }\n",
              "\n",
              "    .dataframe tbody tr th {\n",
              "        vertical-align: top;\n",
              "    }\n",
              "\n",
              "    .dataframe thead th {\n",
              "        text-align: right;\n",
              "    }\n",
              "</style>\n",
              "<table border=\"1\" class=\"dataframe\">\n",
              "  <thead>\n",
              "    <tr style=\"text-align: right;\">\n",
              "      <th></th>\n",
              "      <th>name_1</th>\n",
              "      <th>name_2</th>\n",
              "      <th>is_duplicate</th>\n",
              "    </tr>\n",
              "    <tr>\n",
              "      <th>pair_id</th>\n",
              "      <th></th>\n",
              "      <th></th>\n",
              "      <th></th>\n",
              "    </tr>\n",
              "  </thead>\n",
              "  <tbody>\n",
              "    <tr>\n",
              "      <th>40</th>\n",
              "      <td>isoliererzeugnisse grobrohrsdorf gmbh</td>\n",
              "      <td>total rumunia</td>\n",
              "      <td>0</td>\n",
              "    </tr>\n",
              "    <tr>\n",
              "      <th>410</th>\n",
              "      <td>dortmunder gussasphalt gmbh &amp; co. kg</td>\n",
              "      <td>bitoumina s.a.</td>\n",
              "      <td>0</td>\n",
              "    </tr>\n",
              "    <tr>\n",
              "      <th>440</th>\n",
              "      <td>celanese chemicals europe gmbh</td>\n",
              "      <td>inreco - emulsja sp. z o.o.</td>\n",
              "      <td>0</td>\n",
              "    </tr>\n",
              "    <tr>\n",
              "      <th>583</th>\n",
              "      <td>tremco illbruck group gmbh</td>\n",
              "      <td>wakol gmbh</td>\n",
              "      <td>0</td>\n",
              "    </tr>\n",
              "    <tr>\n",
              "      <th>681</th>\n",
              "      <td>rasco bitumentechnik gmbh</td>\n",
              "      <td>technpvinyl polymers india ltd.</td>\n",
              "      <td>0</td>\n",
              "    </tr>\n",
              "    <tr>\n",
              "      <th>...</th>\n",
              "      <td>...</td>\n",
              "      <td>...</td>\n",
              "      <td>...</td>\n",
              "    </tr>\n",
              "    <tr>\n",
              "      <th>497197</th>\n",
              "      <td>binne &amp; sohn gmbh &amp; co kg</td>\n",
              "      <td>buscher hoffmann</td>\n",
              "      <td>0</td>\n",
              "    </tr>\n",
              "    <tr>\n",
              "      <th>497306</th>\n",
              "      <td>mct gmbh &amp; co. kg</td>\n",
              "      <td>valli zabban</td>\n",
              "      <td>0</td>\n",
              "    </tr>\n",
              "    <tr>\n",
              "      <th>497366</th>\n",
              "      <td>mct misch &amp; compoundier technik gmbh</td>\n",
              "      <td>nknh</td>\n",
              "      <td>0</td>\n",
              "    </tr>\n",
              "    <tr>\n",
              "      <th>497772</th>\n",
              "      <td>saint-gobain isover austria gmbh</td>\n",
              "      <td>soprema soprema sas</td>\n",
              "      <td>0</td>\n",
              "    </tr>\n",
              "    <tr>\n",
              "      <th>497798</th>\n",
              "      <td>famos gmbh &amp; co. kg</td>\n",
              "      <td>soprema drummondville</td>\n",
              "      <td>0</td>\n",
              "    </tr>\n",
              "  </tbody>\n",
              "</table>\n",
              "<p>3382 rows × 3 columns</p>\n",
              "</div>"
            ],
            "text/plain": [
              "                                        name_1  ... is_duplicate\n",
              "pair_id                                         ...             \n",
              "40       isoliererzeugnisse grobrohrsdorf gmbh  ...            0\n",
              "410       dortmunder gussasphalt gmbh & co. kg  ...            0\n",
              "440             celanese chemicals europe gmbh  ...            0\n",
              "583                 tremco illbruck group gmbh  ...            0\n",
              "681                  rasco bitumentechnik gmbh  ...            0\n",
              "...                                        ...  ...          ...\n",
              "497197               binne & sohn gmbh & co kg  ...            0\n",
              "497306                       mct gmbh & co. kg  ...            0\n",
              "497366    mct misch & compoundier technik gmbh  ...            0\n",
              "497772        saint-gobain isover austria gmbh  ...            0\n",
              "497798                     famos gmbh & co. kg  ...            0\n",
              "\n",
              "[3382 rows x 3 columns]"
            ]
          },
          "metadata": {
            "tags": []
          },
          "execution_count": 23
        }
      ]
    },
    {
      "cell_type": "code",
      "metadata": {
        "colab": {
          "base_uri": "https://localhost:8080/"
        },
        "id": "nKuGRuc3xqtZ",
        "outputId": "9c25fb49-5770-4545-97d4-94f02732c6b0"
      },
      "source": [
        "legal_entities = [\"ltd.\", \"co.\", \"inc.\", \"b.v.\", \"s.c.r.l.\", \"gmbh\", \"pvt.\"]\n",
        "\n",
        "for entity in tqdm(legal_entities):\n",
        "    train.replace(re.compile(f\"\\s+{entity}\\s*\"), \"\", inplace=True)\n",
        "    test.replace(re.compile(f\"\\s+{entity}\\s*\"), \"\", inplace=True)"
      ],
      "execution_count": null,
      "outputs": [
        {
          "output_type": "stream",
          "text": [
            "100%|██████████| 7/7 [00:14<00:00,  2.08s/it]\n"
          ],
          "name": "stderr"
        }
      ]
    },
    {
      "cell_type": "code",
      "metadata": {
        "colab": {
          "base_uri": "https://localhost:8080/",
          "height": 228
        },
        "id": "ygWHiGDBxqtZ",
        "outputId": "c2d2f178-ca17-4311-8526-88d1250a9e91"
      },
      "source": [
        "train.head()"
      ],
      "execution_count": null,
      "outputs": [
        {
          "output_type": "execute_result",
          "data": {
            "text/html": [
              "<div>\n",
              "<style scoped>\n",
              "    .dataframe tbody tr th:only-of-type {\n",
              "        vertical-align: middle;\n",
              "    }\n",
              "\n",
              "    .dataframe tbody tr th {\n",
              "        vertical-align: top;\n",
              "    }\n",
              "\n",
              "    .dataframe thead th {\n",
              "        text-align: right;\n",
              "    }\n",
              "</style>\n",
              "<table border=\"1\" class=\"dataframe\">\n",
              "  <thead>\n",
              "    <tr style=\"text-align: right;\">\n",
              "      <th></th>\n",
              "      <th>name_1</th>\n",
              "      <th>name_2</th>\n",
              "      <th>is_duplicate</th>\n",
              "    </tr>\n",
              "    <tr>\n",
              "      <th>pair_id</th>\n",
              "      <th></th>\n",
              "      <th></th>\n",
              "      <th></th>\n",
              "    </tr>\n",
              "  </thead>\n",
              "  <tbody>\n",
              "    <tr>\n",
              "      <th>1</th>\n",
              "      <td>iko industries</td>\n",
              "      <td>enormous industrial trade,</td>\n",
              "      <td>0</td>\n",
              "    </tr>\n",
              "    <tr>\n",
              "      <th>2</th>\n",
              "      <td>apcotex industries</td>\n",
              "      <td>technocraft industries (india)</td>\n",
              "      <td>0</td>\n",
              "    </tr>\n",
              "    <tr>\n",
              "      <th>3</th>\n",
              "      <td>rishichem distributors,</td>\n",
              "      <td>dsa</td>\n",
              "      <td>0</td>\n",
              "    </tr>\n",
              "    <tr>\n",
              "      <th>4</th>\n",
              "      <td>powermax rubber factory</td>\n",
              "      <td>co. one</td>\n",
              "      <td>0</td>\n",
              "    </tr>\n",
              "    <tr>\n",
              "      <th>5</th>\n",
              "      <td>tress a/s</td>\n",
              "      <td>longyou industries park zhejiang</td>\n",
              "      <td>0</td>\n",
              "    </tr>\n",
              "  </tbody>\n",
              "</table>\n",
              "</div>"
            ],
            "text/plain": [
              "                          name_1  ... is_duplicate\n",
              "pair_id                           ...             \n",
              "1                 iko industries  ...            0\n",
              "2             apcotex industries  ...            0\n",
              "3        rishichem distributors,  ...            0\n",
              "4        powermax rubber factory  ...            0\n",
              "5                      tress a/s  ...            0\n",
              "\n",
              "[5 rows x 3 columns]"
            ]
          },
          "metadata": {
            "tags": []
          },
          "execution_count": 25
        }
      ]
    },
    {
      "cell_type": "code",
      "metadata": {
        "colab": {
          "base_uri": "https://localhost:8080/",
          "height": 228
        },
        "id": "K-oKXYk3xqta",
        "outputId": "9b5484c8-9d9c-4f9a-eb8a-88d9fbb996c7"
      },
      "source": [
        "test.head()"
      ],
      "execution_count": null,
      "outputs": [
        {
          "output_type": "execute_result",
          "data": {
            "text/html": [
              "<div>\n",
              "<style scoped>\n",
              "    .dataframe tbody tr th:only-of-type {\n",
              "        vertical-align: middle;\n",
              "    }\n",
              "\n",
              "    .dataframe tbody tr th {\n",
              "        vertical-align: top;\n",
              "    }\n",
              "\n",
              "    .dataframe thead th {\n",
              "        text-align: right;\n",
              "    }\n",
              "</style>\n",
              "<table border=\"1\" class=\"dataframe\">\n",
              "  <thead>\n",
              "    <tr style=\"text-align: right;\">\n",
              "      <th></th>\n",
              "      <th>name_1</th>\n",
              "      <th>name_2</th>\n",
              "    </tr>\n",
              "    <tr>\n",
              "      <th>pair_id</th>\n",
              "      <th></th>\n",
              "      <th></th>\n",
              "    </tr>\n",
              "  </thead>\n",
              "  <tbody>\n",
              "    <tr>\n",
              "      <th>1</th>\n",
              "      <td>sun blinds decoration</td>\n",
              "      <td>indl de cuautitlan sa cv</td>\n",
              "    </tr>\n",
              "    <tr>\n",
              "      <th>2</th>\n",
              "      <td>eih</td>\n",
              "      <td>dongguan wei shi plastic product,</td>\n",
              "    </tr>\n",
              "    <tr>\n",
              "      <th>3</th>\n",
              "      <td>jsh(hk)</td>\n",
              "      <td>arab shipbuilding and repair yard c</td>\n",
              "    </tr>\n",
              "    <tr>\n",
              "      <th>4</th>\n",
              "      <td>better industrial</td>\n",
              "      <td>farmacap industria eercio</td>\n",
              "    </tr>\n",
              "    <tr>\n",
              "      <th>5</th>\n",
              "      <td>equipos inoxidables del norte sa de cv</td>\n",
              "      <td>bel</td>\n",
              "    </tr>\n",
              "  </tbody>\n",
              "</table>\n",
              "</div>"
            ],
            "text/plain": [
              "                                         name_1                               name_2\n",
              "pair_id                                                                             \n",
              "1                         sun blinds decoration             indl de cuautitlan sa cv\n",
              "2                                           eih    dongguan wei shi plastic product,\n",
              "3                                       jsh(hk)  arab shipbuilding and repair yard c\n",
              "4                             better industrial            farmacap industria eercio\n",
              "5        equipos inoxidables del norte sa de cv                                  bel"
            ]
          },
          "metadata": {
            "tags": []
          },
          "execution_count": 26
        }
      ]
    },
    {
      "cell_type": "code",
      "metadata": {
        "id": "0-debyUvxqta"
      },
      "source": [
        "train.replace(re.compile(r\"\\s+\\(.*\\)\"), \"\", inplace=True)\n",
        "test.replace(re.compile(r\"\\s+\\(.*\\)\"), \"\", inplace=True)"
      ],
      "execution_count": null,
      "outputs": []
    },
    {
      "cell_type": "code",
      "metadata": {
        "colab": {
          "base_uri": "https://localhost:8080/"
        },
        "id": "QnGcXh3oxqta",
        "outputId": "219b837f-456d-4212-f7f5-38389fe6a87e"
      },
      "source": [
        "for country in tqdm(countries):\n",
        "    train.replace(re.compile(country), \"\", inplace=True)\n",
        "    test.replace(re.compile(country), \"\", inplace=True)"
      ],
      "execution_count": null,
      "outputs": [
        {
          "output_type": "stream",
          "text": [
            "100%|██████████| 249/249 [06:29<00:00,  1.56s/it]\n"
          ],
          "name": "stderr"
        }
      ]
    },
    {
      "cell_type": "code",
      "metadata": {
        "id": "Sjvfu20Gxqta"
      },
      "source": [
        "train.replace(re.compile(r\"[^\\w\\s]\"), \"\", inplace=True)\n",
        "test.replace(re.compile(r\"[^\\w\\s]\"), \"\", inplace=True)"
      ],
      "execution_count": null,
      "outputs": []
    },
    {
      "cell_type": "code",
      "metadata": {
        "colab": {
          "base_uri": "https://localhost:8080/",
          "height": 828
        },
        "id": "XH3g86qXxqta",
        "outputId": "548e5cef-8756-4c79-b4c6-402681a4c45b"
      },
      "source": [
        "train.sample(25)"
      ],
      "execution_count": null,
      "outputs": [
        {
          "output_type": "execute_result",
          "data": {
            "text/html": [
              "<div>\n",
              "<style scoped>\n",
              "    .dataframe tbody tr th:only-of-type {\n",
              "        vertical-align: middle;\n",
              "    }\n",
              "\n",
              "    .dataframe tbody tr th {\n",
              "        vertical-align: top;\n",
              "    }\n",
              "\n",
              "    .dataframe thead th {\n",
              "        text-align: right;\n",
              "    }\n",
              "</style>\n",
              "<table border=\"1\" class=\"dataframe\">\n",
              "  <thead>\n",
              "    <tr style=\"text-align: right;\">\n",
              "      <th></th>\n",
              "      <th>name_1</th>\n",
              "      <th>name_2</th>\n",
              "      <th>is_duplicate</th>\n",
              "    </tr>\n",
              "    <tr>\n",
              "      <th>pair_id</th>\n",
              "      <th></th>\n",
              "      <th></th>\n",
              "      <th></th>\n",
              "    </tr>\n",
              "  </thead>\n",
              "  <tbody>\n",
              "    <tr>\n",
              "      <th>244919</th>\n",
              "      <td>bommer industries</td>\n",
              "      <td>blackwater industry international sac</td>\n",
              "      <td>0</td>\n",
              "    </tr>\n",
              "    <tr>\n",
              "      <th>353290</th>\n",
              "      <td>techmer de  s de rl de cv</td>\n",
              "      <td>riintl</td>\n",
              "      <td>0</td>\n",
              "    </tr>\n",
              "    <tr>\n",
              "      <th>488793</th>\n",
              "      <td>yili engineering plastics technology</td>\n",
              "      <td>deengineering</td>\n",
              "      <td>0</td>\n",
              "    </tr>\n",
              "    <tr>\n",
              "      <th>101085</th>\n",
              "      <td>samsung electronics home appliance</td>\n",
              "      <td>samson international</td>\n",
              "      <td>0</td>\n",
              "    </tr>\n",
              "    <tr>\n",
              "      <th>446269</th>\n",
              "      <td>cmax enterprises</td>\n",
              "      <td>sr enterprises</td>\n",
              "      <td>0</td>\n",
              "    </tr>\n",
              "    <tr>\n",
              "      <th>142987</th>\n",
              "      <td>zam zam enterprises</td>\n",
              "      <td>yk enterprise</td>\n",
              "      <td>0</td>\n",
              "    </tr>\n",
              "    <tr>\n",
              "      <th>78746</th>\n",
              "      <td>david jones private label</td>\n",
              "      <td>hge international private</td>\n",
              "      <td>0</td>\n",
              "    </tr>\n",
              "    <tr>\n",
              "      <th>108862</th>\n",
              "      <td>dass nordeste calcados e artigos esportivos sa</td>\n",
              "      <td>seafrigo</td>\n",
              "      <td>0</td>\n",
              "    </tr>\n",
              "    <tr>\n",
              "      <th>254219</th>\n",
              "      <td>mcl</td>\n",
              "      <td>shri krishan rubber chemical</td>\n",
              "      <td>0</td>\n",
              "    </tr>\n",
              "    <tr>\n",
              "      <th>106409</th>\n",
              "      <td>com international</td>\n",
              "      <td>united cargo management</td>\n",
              "      <td>0</td>\n",
              "    </tr>\n",
              "    <tr>\n",
              "      <th>426664</th>\n",
              "      <td>eia</td>\n",
              "      <td>zhongshan armor industrial</td>\n",
              "      <td>0</td>\n",
              "    </tr>\n",
              "    <tr>\n",
              "      <th>120791</th>\n",
              "      <td>oy beweship ab</td>\n",
              "      <td>fujian mawei shipbuilding</td>\n",
              "      <td>0</td>\n",
              "    </tr>\n",
              "    <tr>\n",
              "      <th>399047</th>\n",
              "      <td>m m r imp  exp llp</td>\n",
              "      <td>ww imp  exp limitada</td>\n",
              "      <td>0</td>\n",
              "    </tr>\n",
              "    <tr>\n",
              "      <th>106098</th>\n",
              "      <td>burlington industiresporate</td>\n",
              "      <td>norprotex</td>\n",
              "      <td>0</td>\n",
              "    </tr>\n",
              "    <tr>\n",
              "      <th>386829</th>\n",
              "      <td>gianni versace sp a</td>\n",
              "      <td>c v international</td>\n",
              "      <td>0</td>\n",
              "    </tr>\n",
              "    <tr>\n",
              "      <th>231833</th>\n",
              "      <td>con tech international</td>\n",
              "      <td>emka  beschlagteile s de rl</td>\n",
              "      <td>0</td>\n",
              "    </tr>\n",
              "    <tr>\n",
              "      <th>178403</th>\n",
              "      <td>taicang guanlian polymeric material</td>\n",
              "      <td>masterlat srl</td>\n",
              "      <td>0</td>\n",
              "    </tr>\n",
              "    <tr>\n",
              "      <th>467950</th>\n",
              "      <td>ceyenar chemicals private</td>\n",
              "      <td>olympia chemicals</td>\n",
              "      <td>0</td>\n",
              "    </tr>\n",
              "    <tr>\n",
              "      <th>234617</th>\n",
              "      <td>stmarys rubbers</td>\n",
              "      <td>siam rubber</td>\n",
              "      <td>0</td>\n",
              "    </tr>\n",
              "    <tr>\n",
              "      <th>383817</th>\n",
              "      <td>jain trading</td>\n",
              "      <td>labnas med general trading llc</td>\n",
              "      <td>0</td>\n",
              "    </tr>\n",
              "    <tr>\n",
              "      <th>163404</th>\n",
              "      <td>oec group boston</td>\n",
              "      <td>co one</td>\n",
              "      <td>0</td>\n",
              "    </tr>\n",
              "    <tr>\n",
              "      <th>289416</th>\n",
              "      <td>bc</td>\n",
              "      <td>banco de credito e inversiones</td>\n",
              "      <td>0</td>\n",
              "    </tr>\n",
              "    <tr>\n",
              "      <th>472725</th>\n",
              "      <td>when ya jie trading</td>\n",
              "      <td>gum base shanghai</td>\n",
              "      <td>0</td>\n",
              "    </tr>\n",
              "    <tr>\n",
              "      <th>325945</th>\n",
              "      <td>legacy agri industries</td>\n",
              "      <td>tata pak industries</td>\n",
              "      <td>0</td>\n",
              "    </tr>\n",
              "    <tr>\n",
              "      <th>159797</th>\n",
              "      <td>delmex de juarez s de rl de cv</td>\n",
              "      <td>naps juarez s de rl de cv</td>\n",
              "      <td>0</td>\n",
              "    </tr>\n",
              "  </tbody>\n",
              "</table>\n",
              "</div>"
            ],
            "text/plain": [
              "                                                 name_1  ... is_duplicate\n",
              "pair_id                                                  ...             \n",
              "244919                                bommer industries  ...            0\n",
              "353290                        techmer de  s de rl de cv  ...            0\n",
              "488793             yili engineering plastics technology  ...            0\n",
              "101085               samsung electronics home appliance  ...            0\n",
              "446269                                 cmax enterprises  ...            0\n",
              "142987                              zam zam enterprises  ...            0\n",
              "78746                         david jones private label  ...            0\n",
              "108862   dass nordeste calcados e artigos esportivos sa  ...            0\n",
              "254219                                              mcl  ...            0\n",
              "106409                                com international  ...            0\n",
              "426664                                              eia  ...            0\n",
              "120791                                   oy beweship ab  ...            0\n",
              "399047                               m m r imp  exp llp  ...            0\n",
              "106098                      burlington industiresporate  ...            0\n",
              "386829                              gianni versace sp a  ...            0\n",
              "231833                           con tech international  ...            0\n",
              "178403              taicang guanlian polymeric material  ...            0\n",
              "467950                        ceyenar chemicals private  ...            0\n",
              "234617                                  stmarys rubbers  ...            0\n",
              "383817                                     jain trading  ...            0\n",
              "163404                                 oec group boston  ...            0\n",
              "289416                                               bc  ...            0\n",
              "472725                              when ya jie trading  ...            0\n",
              "325945                           legacy agri industries  ...            0\n",
              "159797                   delmex de juarez s de rl de cv  ...            0\n",
              "\n",
              "[25 rows x 3 columns]"
            ]
          },
          "metadata": {
            "tags": []
          },
          "execution_count": 30
        }
      ]
    },
    {
      "cell_type": "code",
      "metadata": {
        "colab": {
          "base_uri": "https://localhost:8080/",
          "height": 828
        },
        "id": "XpFwzIuOxqta",
        "outputId": "444ff0a4-5f9c-4279-a27d-95692206a847"
      },
      "source": [
        "test.sample(25)"
      ],
      "execution_count": null,
      "outputs": [
        {
          "output_type": "execute_result",
          "data": {
            "text/html": [
              "<div>\n",
              "<style scoped>\n",
              "    .dataframe tbody tr th:only-of-type {\n",
              "        vertical-align: middle;\n",
              "    }\n",
              "\n",
              "    .dataframe tbody tr th {\n",
              "        vertical-align: top;\n",
              "    }\n",
              "\n",
              "    .dataframe thead th {\n",
              "        text-align: right;\n",
              "    }\n",
              "</style>\n",
              "<table border=\"1\" class=\"dataframe\">\n",
              "  <thead>\n",
              "    <tr style=\"text-align: right;\">\n",
              "      <th></th>\n",
              "      <th>name_1</th>\n",
              "      <th>name_2</th>\n",
              "    </tr>\n",
              "    <tr>\n",
              "      <th>pair_id</th>\n",
              "      <th></th>\n",
              "      <th></th>\n",
              "    </tr>\n",
              "  </thead>\n",
              "  <tbody>\n",
              "    <tr>\n",
              "      <th>61881</th>\n",
              "      <td>guang zhou lead fair plastic</td>\n",
              "      <td>berry plasticsporation</td>\n",
              "    </tr>\n",
              "    <tr>\n",
              "      <th>180095</th>\n",
              "      <td>123 e latin america s de rl de cv</td>\n",
              "      <td>apparel  merchandising</td>\n",
              "    </tr>\n",
              "    <tr>\n",
              "      <th>77672</th>\n",
              "      <td>xiamen gulong imp expco</td>\n",
              "      <td>dongguan global imp  exp</td>\n",
              "    </tr>\n",
              "    <tr>\n",
              "      <th>10059</th>\n",
              "      <td>farmacap industria eercio</td>\n",
              "      <td>balkrishna industria</td>\n",
              "    </tr>\n",
              "    <tr>\n",
              "      <th>101813</th>\n",
              "      <td>jiangsu zhongxiang chemical trading</td>\n",
              "      <td>kia</td>\n",
              "    </tr>\n",
              "    <tr>\n",
              "      <th>161964</th>\n",
              "      <td>nrc industries</td>\n",
              "      <td>makino auto industries</td>\n",
              "    </tr>\n",
              "    <tr>\n",
              "      <th>190318</th>\n",
              "      <td>gp</td>\n",
              "      <td>sperry plast</td>\n",
              "    </tr>\n",
              "    <tr>\n",
              "      <th>207668</th>\n",
              "      <td>adk international</td>\n",
              "      <td>south service trading sa</td>\n",
              "    </tr>\n",
              "    <tr>\n",
              "      <th>71813</th>\n",
              "      <td>ounporation</td>\n",
              "      <td>irrigation products international</td>\n",
              "    </tr>\n",
              "    <tr>\n",
              "      <th>154582</th>\n",
              "      <td>nad international s a de c v</td>\n",
              "      <td>panitex sociedad por acciones simplificada</td>\n",
              "    </tr>\n",
              "    <tr>\n",
              "      <th>87600</th>\n",
              "      <td>hs</td>\n",
              "      <td>hy pro international</td>\n",
              "    </tr>\n",
              "    <tr>\n",
              "      <th>15709</th>\n",
              "      <td>gsk transport equipment</td>\n",
              "      <td>a s international</td>\n",
              "    </tr>\n",
              "    <tr>\n",
              "      <th>208727</th>\n",
              "      <td>inversiones quintero candanoza limitada</td>\n",
              "      <td>pl</td>\n",
              "    </tr>\n",
              "    <tr>\n",
              "      <th>38224</th>\n",
              "      <td>sy shippingp</td>\n",
              "      <td>shipper</td>\n",
              "    </tr>\n",
              "    <tr>\n",
              "      <th>3968</th>\n",
              "      <td>qingdao senhua rubber</td>\n",
              "      <td>qingdao succeed</td>\n",
              "    </tr>\n",
              "    <tr>\n",
              "      <th>31646</th>\n",
              "      <td>toc logistics international llc</td>\n",
              "      <td>kerry logistics do brasil transportes inter</td>\n",
              "    </tr>\n",
              "    <tr>\n",
              "      <th>179650</th>\n",
              "      <td>pcmombia sas</td>\n",
              "      <td>craftombia sas</td>\n",
              "    </tr>\n",
              "    <tr>\n",
              "      <th>194529</th>\n",
              "      <td>office gallery</td>\n",
              "      <td>cjintl</td>\n",
              "    </tr>\n",
              "    <tr>\n",
              "      <th>146796</th>\n",
              "      <td>jain trading</td>\n",
              "      <td>dongguan city three step trading</td>\n",
              "    </tr>\n",
              "    <tr>\n",
              "      <th>101859</th>\n",
              "      <td>dieboldombia sa</td>\n",
              "      <td>glob</td>\n",
              "    </tr>\n",
              "    <tr>\n",
              "      <th>102329</th>\n",
              "      <td>dupont</td>\n",
              "      <td>paul bauder ag</td>\n",
              "    </tr>\n",
              "    <tr>\n",
              "      <th>45484</th>\n",
              "      <td>mir international</td>\n",
              "      <td>tokyo zairyo private</td>\n",
              "    </tr>\n",
              "    <tr>\n",
              "      <th>169779</th>\n",
              "      <td>empirical chemical solutions private</td>\n",
              "      <td>co one</td>\n",
              "    </tr>\n",
              "    <tr>\n",
              "      <th>31613</th>\n",
              "      <td>gme chemicals pte</td>\n",
              "      <td>dow chemical</td>\n",
              "    </tr>\n",
              "    <tr>\n",
              "      <th>186146</th>\n",
              "      <td>act logistics</td>\n",
              "      <td>cma cgm logistics</td>\n",
              "    </tr>\n",
              "  </tbody>\n",
              "</table>\n",
              "</div>"
            ],
            "text/plain": [
              "                                          name_1                                       name_2\n",
              "pair_id                                                                                      \n",
              "61881               guang zhou lead fair plastic                       berry plasticsporation\n",
              "180095         123 e latin america s de rl de cv                       apparel  merchandising\n",
              "77672                    xiamen gulong imp expco                    dongguan global imp  exp \n",
              "10059                  farmacap industria eercio                         balkrishna industria\n",
              "101813       jiangsu zhongxiang chemical trading                                          kia\n",
              "161964                            nrc industries                       makino auto industries\n",
              "190318                                        gp                                 sperry plast\n",
              "207668                         adk international                     south service trading sa\n",
              "71813                                ounporation            irrigation products international\n",
              "154582              nad international s a de c v   panitex sociedad por acciones simplificada\n",
              "87600                                         hs                         hy pro international\n",
              "15709                    gsk transport equipment                            a s international\n",
              "208727   inversiones quintero candanoza limitada                                           pl\n",
              "38224                               sy shippingp                                      shipper\n",
              "3968                       qingdao senhua rubber                              qingdao succeed\n",
              "31646            toc logistics international llc  kerry logistics do brasil transportes inter\n",
              "179650                              pcmombia sas                               craftombia sas\n",
              "194529                            office gallery                                       cjintl\n",
              "146796                              jain trading             dongguan city three step trading\n",
              "101859                           dieboldombia sa                                         glob\n",
              "102329                                    dupont                               paul bauder ag\n",
              "45484                          mir international                         tokyo zairyo private\n",
              "169779      empirical chemical solutions private                                       co one\n",
              "31613                          gme chemicals pte                                 dow chemical\n",
              "186146                             act logistics                            cma cgm logistics"
            ]
          },
          "metadata": {
            "tags": []
          },
          "execution_count": 31
        }
      ]
    },
    {
      "cell_type": "markdown",
      "metadata": {
        "id": "4WKQU1qExqta"
      },
      "source": [
        "# Простые метрики сходства строк"
      ]
    },
    {
      "cell_type": "code",
      "metadata": {
        "colab": {
          "base_uri": "https://localhost:8080/"
        },
        "id": "JWE5KGvw1ahZ",
        "outputId": "a839358d-5281-4d5b-f925-c482b1f0b8c5"
      },
      "source": [
        "!pip install strsimpy"
      ],
      "execution_count": null,
      "outputs": [
        {
          "output_type": "stream",
          "text": [
            "Collecting strsimpy\n",
            "\u001b[?25l  Downloading https://files.pythonhosted.org/packages/1e/c7/a957569f1ccfdff4e1886d571369318f1656e1372e287e880be1f495de04/strsimpy-0.1.9-py3-none-any.whl (45kB)\n",
            "\r\u001b[K     |███████▏                        | 10kB 14.5MB/s eta 0:00:01\r\u001b[K     |██████████████▎                 | 20kB 12.1MB/s eta 0:00:01\r\u001b[K     |█████████████████████▍          | 30kB 8.9MB/s eta 0:00:01\r\u001b[K     |████████████████████████████▋   | 40kB 6.9MB/s eta 0:00:01\r\u001b[K     |████████████████████████████████| 51kB 2.9MB/s \n",
            "\u001b[?25hInstalling collected packages: strsimpy\n",
            "Successfully installed strsimpy-0.1.9\n"
          ],
          "name": "stdout"
        }
      ]
    },
    {
      "cell_type": "code",
      "metadata": {
        "id": "N9oFLdb4xqta"
      },
      "source": [
        "from strsimpy.levenshtein import Levenshtein\n",
        "from strsimpy.normalized_levenshtein import NormalizedLevenshtein"
      ],
      "execution_count": null,
      "outputs": []
    },
    {
      "cell_type": "code",
      "metadata": {
        "colab": {
          "base_uri": "https://localhost:8080/"
        },
        "id": "AGFz-Ri6xqta",
        "outputId": "0f96028a-65c0-42be-81f8-10fd5e529b13"
      },
      "source": [
        "levenshtein = Levenshtein()\n",
        "\n",
        "train[\"levenstein\"] = train.progress_apply(lambda r: levenshtein.distance(r.name_1, r.name_2), axis=1)\n",
        "test[\"levenstein\"] = test.progress_apply(lambda r: levenshtein.distance(r.name_1, r.name_2), axis=1)"
      ],
      "execution_count": null,
      "outputs": [
        {
          "output_type": "stream",
          "text": [
            "100%|██████████| 497819/497819 [01:25<00:00, 5838.60it/s]\n",
            "100%|██████████| 213249/213249 [00:36<00:00, 5851.94it/s]\n"
          ],
          "name": "stderr"
        }
      ]
    },
    {
      "cell_type": "code",
      "metadata": {
        "id": "VfzhX-pRxqta"
      },
      "source": [
        "train.head()"
      ],
      "execution_count": null,
      "outputs": []
    },
    {
      "cell_type": "code",
      "metadata": {
        "colab": {
          "base_uri": "https://localhost:8080/"
        },
        "id": "a_SvrZ0lxqta",
        "outputId": "7fc9193c-d194-49fd-b437-d7d425281d8c"
      },
      "source": [
        "normalized_levenshtein = NormalizedLevenshtein()\n",
        "\n",
        "train[\"norm_levenstein\"] = train.progress_apply(lambda r: normalized_levenshtein.distance(r.name_1, r.name_2),\n",
        "                                                axis=1)\n",
        "test[\"norm_levenstein\"] = test.progress_apply(lambda r: normalized_levenshtein.distance(r.name_1, r.name_2),\n",
        "                                              axis=1)"
      ],
      "execution_count": null,
      "outputs": [
        {
          "output_type": "stream",
          "text": [
            "100%|██████████| 497819/497819 [01:35<00:00, 5191.53it/s]\n",
            "100%|██████████| 213249/213249 [00:37<00:00, 5691.00it/s]\n"
          ],
          "name": "stderr"
        }
      ]
    },
    {
      "cell_type": "code",
      "metadata": {
        "colab": {
          "base_uri": "https://localhost:8080/",
          "height": 228
        },
        "id": "LQG3Db6Vxqta",
        "outputId": "9284d2c0-9b99-4eb7-b0c3-ae98890fe10e"
      },
      "source": [
        "train.head()"
      ],
      "execution_count": null,
      "outputs": [
        {
          "output_type": "execute_result",
          "data": {
            "text/html": [
              "<div>\n",
              "<style scoped>\n",
              "    .dataframe tbody tr th:only-of-type {\n",
              "        vertical-align: middle;\n",
              "    }\n",
              "\n",
              "    .dataframe tbody tr th {\n",
              "        vertical-align: top;\n",
              "    }\n",
              "\n",
              "    .dataframe thead th {\n",
              "        text-align: right;\n",
              "    }\n",
              "</style>\n",
              "<table border=\"1\" class=\"dataframe\">\n",
              "  <thead>\n",
              "    <tr style=\"text-align: right;\">\n",
              "      <th></th>\n",
              "      <th>name_1</th>\n",
              "      <th>name_2</th>\n",
              "      <th>is_duplicate</th>\n",
              "      <th>levenstein</th>\n",
              "      <th>norm_levenstein</th>\n",
              "    </tr>\n",
              "    <tr>\n",
              "      <th>pair_id</th>\n",
              "      <th></th>\n",
              "      <th></th>\n",
              "      <th></th>\n",
              "      <th></th>\n",
              "      <th></th>\n",
              "    </tr>\n",
              "  </thead>\n",
              "  <tbody>\n",
              "    <tr>\n",
              "      <th>1</th>\n",
              "      <td>iko industries</td>\n",
              "      <td>enormous industrial trade</td>\n",
              "      <td>0</td>\n",
              "      <td>15.0</td>\n",
              "      <td>0.600000</td>\n",
              "    </tr>\n",
              "    <tr>\n",
              "      <th>2</th>\n",
              "      <td>apcotex industries</td>\n",
              "      <td>technocraft industries</td>\n",
              "      <td>0</td>\n",
              "      <td>9.0</td>\n",
              "      <td>0.409091</td>\n",
              "    </tr>\n",
              "    <tr>\n",
              "      <th>3</th>\n",
              "      <td>rishichem distributors</td>\n",
              "      <td>dsa</td>\n",
              "      <td>0</td>\n",
              "      <td>20.0</td>\n",
              "      <td>0.909091</td>\n",
              "    </tr>\n",
              "    <tr>\n",
              "      <th>4</th>\n",
              "      <td>powermax rubber factory</td>\n",
              "      <td>co one</td>\n",
              "      <td>0</td>\n",
              "      <td>20.0</td>\n",
              "      <td>0.869565</td>\n",
              "    </tr>\n",
              "    <tr>\n",
              "      <th>5</th>\n",
              "      <td>tress as</td>\n",
              "      <td>longyou industries park zhejiang</td>\n",
              "      <td>0</td>\n",
              "      <td>26.0</td>\n",
              "      <td>0.812500</td>\n",
              "    </tr>\n",
              "  </tbody>\n",
              "</table>\n",
              "</div>"
            ],
            "text/plain": [
              "                          name_1  ... norm_levenstein\n",
              "pair_id                           ...                \n",
              "1                 iko industries  ...        0.600000\n",
              "2             apcotex industries  ...        0.409091\n",
              "3         rishichem distributors  ...        0.909091\n",
              "4        powermax rubber factory  ...        0.869565\n",
              "5                       tress as  ...        0.812500\n",
              "\n",
              "[5 rows x 5 columns]"
            ]
          },
          "metadata": {
            "tags": []
          },
          "execution_count": 37
        }
      ]
    },
    {
      "cell_type": "code",
      "metadata": {
        "colab": {
          "base_uri": "https://localhost:8080/",
          "height": 228
        },
        "id": "b_wKqJ0txqta",
        "outputId": "632761d2-1bdd-4fbe-fa7a-28428d6a2d3e"
      },
      "source": [
        "test.head()"
      ],
      "execution_count": null,
      "outputs": [
        {
          "output_type": "execute_result",
          "data": {
            "text/html": [
              "<div>\n",
              "<style scoped>\n",
              "    .dataframe tbody tr th:only-of-type {\n",
              "        vertical-align: middle;\n",
              "    }\n",
              "\n",
              "    .dataframe tbody tr th {\n",
              "        vertical-align: top;\n",
              "    }\n",
              "\n",
              "    .dataframe thead th {\n",
              "        text-align: right;\n",
              "    }\n",
              "</style>\n",
              "<table border=\"1\" class=\"dataframe\">\n",
              "  <thead>\n",
              "    <tr style=\"text-align: right;\">\n",
              "      <th></th>\n",
              "      <th>name_1</th>\n",
              "      <th>name_2</th>\n",
              "      <th>levenstein</th>\n",
              "      <th>norm_levenstein</th>\n",
              "    </tr>\n",
              "    <tr>\n",
              "      <th>pair_id</th>\n",
              "      <th></th>\n",
              "      <th></th>\n",
              "      <th></th>\n",
              "      <th></th>\n",
              "    </tr>\n",
              "  </thead>\n",
              "  <tbody>\n",
              "    <tr>\n",
              "      <th>1</th>\n",
              "      <td>sun blinds decoration</td>\n",
              "      <td>indl de cuautitlan sa cv</td>\n",
              "      <td>20.0</td>\n",
              "      <td>0.833333</td>\n",
              "    </tr>\n",
              "    <tr>\n",
              "      <th>2</th>\n",
              "      <td>eih</td>\n",
              "      <td>dongguan wei shi plastic product</td>\n",
              "      <td>29.0</td>\n",
              "      <td>0.906250</td>\n",
              "    </tr>\n",
              "    <tr>\n",
              "      <th>3</th>\n",
              "      <td>jshhk</td>\n",
              "      <td>arab shipbuilding and repair yard c</td>\n",
              "      <td>33.0</td>\n",
              "      <td>0.942857</td>\n",
              "    </tr>\n",
              "    <tr>\n",
              "      <th>4</th>\n",
              "      <td>better industrial</td>\n",
              "      <td>farmacap industria eercio</td>\n",
              "      <td>15.0</td>\n",
              "      <td>0.600000</td>\n",
              "    </tr>\n",
              "    <tr>\n",
              "      <th>5</th>\n",
              "      <td>equipos inoxidables del norte sa de cv</td>\n",
              "      <td>bel</td>\n",
              "      <td>35.0</td>\n",
              "      <td>0.921053</td>\n",
              "    </tr>\n",
              "  </tbody>\n",
              "</table>\n",
              "</div>"
            ],
            "text/plain": [
              "                                         name_1  ... norm_levenstein\n",
              "pair_id                                          ...                \n",
              "1                         sun blinds decoration  ...        0.833333\n",
              "2                                           eih  ...        0.906250\n",
              "3                                         jshhk  ...        0.942857\n",
              "4                             better industrial  ...        0.600000\n",
              "5        equipos inoxidables del norte sa de cv  ...        0.921053\n",
              "\n",
              "[5 rows x 4 columns]"
            ]
          },
          "metadata": {
            "tags": []
          },
          "execution_count": 38
        }
      ]
    },
    {
      "cell_type": "code",
      "metadata": {
        "colab": {
          "base_uri": "https://localhost:8080/",
          "height": 401
        },
        "id": "7YoOfO8hxqta",
        "outputId": "6f322af9-4edd-4766-d68c-c5e690ae1438"
      },
      "source": [
        "plt.figure(figsize=(6,6))\n",
        "\n",
        "train.boxplot(\"levenstein\", by=\"is_duplicate\", ax=plt.gca())\n",
        "plt.suptitle(\"\")\n",
        "plt.title(\"Levenstein  distance\", fontsize=12);"
      ],
      "execution_count": null,
      "outputs": [
        {
          "output_type": "display_data",
          "data": {
            "image/png": "[encoded data removed]",
            "text/plain": [
              "<Figure size 432x432 with 1 Axes>"
            ]
          },
          "metadata": {
            "tags": [],
            "needs_background": "light"
          }
        }
      ]
    },
    {
      "cell_type": "code",
      "metadata": {
        "colab": {
          "base_uri": "https://localhost:8080/",
          "height": 401
        },
        "id": "8IbYoD0rxqtb",
        "outputId": "e6f94e65-cc76-4b65-bc64-360a87cae52b"
      },
      "source": [
        "plt.figure(figsize=(6,6))\n",
        "\n",
        "train.boxplot(\"norm_levenstein\", by=\"is_duplicate\", ax=plt.gca())\n",
        "plt.suptitle(\"\")\n",
        "plt.title(\"Normalized levenstein  distance\", fontsize=12);"
      ],
      "execution_count": null,
      "outputs": [
        {
          "output_type": "display_data",
          "data": {
            "image/png": "[encoded data removed]",
            "text/plain": [
              "<Figure size 432x432 with 1 Axes>"
            ]
          },
          "metadata": {
            "tags": [],
            "needs_background": "light"
          }
        }
      ]
    },
    {
      "cell_type": "markdown",
      "metadata": {
        "id": "QTeusfay5gyS"
      },
      "source": [
        "# Мои расстояния"
      ]
    },
    {
      "cell_type": "code",
      "metadata": {
        "colab": {
          "base_uri": "https://localhost:8080/"
        },
        "id": "6Ljud8Cn5kfd",
        "outputId": "9c0f71bd-b5f9-4f4b-e4ca-d2f83e89c046"
      },
      "source": [
        "!pip install fuzzywuzzy"
      ],
      "execution_count": null,
      "outputs": [
        {
          "output_type": "stream",
          "text": [
            "Collecting fuzzywuzzy\n",
            "  Downloading https://files.pythonhosted.org/packages/43/ff/74f23998ad2f93b945c0309f825be92e04e0348e062026998b5eefef4c33/fuzzywuzzy-0.18.0-py2.py3-none-any.whl\n",
            "Installing collected packages: fuzzywuzzy\n",
            "Successfully installed fuzzywuzzy-0.18.0\n"
          ],
          "name": "stdout"
        }
      ]
    },
    {
      "cell_type": "code",
      "metadata": {
        "colab": {
          "base_uri": "https://localhost:8080/"
        },
        "id": "dNVaEwxp5ki3",
        "outputId": "b141cea5-f380-4f58-98f2-2216e95e0e42"
      },
      "source": [
        "from fuzzywuzzy import fuzz\n",
        "from fuzzywuzzy import process"
      ],
      "execution_count": null,
      "outputs": [
        {
          "output_type": "stream",
          "text": [
            "/usr/local/lib/python3.6/dist-packages/fuzzywuzzy/fuzz.py:11: UserWarning: Using slow pure-python SequenceMatcher. Install python-Levenshtein to remove this warning\n",
            "  warnings.warn('Using slow pure-python SequenceMatcher. Install python-Levenshtein to remove this warning')\n"
          ],
          "name": "stderr"
        }
      ]
    },
    {
      "cell_type": "code",
      "metadata": {
        "colab": {
          "base_uri": "https://localhost:8080/"
        },
        "id": "bX9qz3_K6I9z",
        "outputId": "e83ecfcb-3dd8-423e-fbfd-21edc654fedd"
      },
      "source": [
        "train[\"partial_ratio\"] = train.progress_apply(lambda r: fuzz.partial_ratio(r.name_1, r.name_2) / 100, axis=1)\n",
        "test[\"partial_ratio\"] = test.progress_apply(lambda r: fuzz.partial_ratio(r.name_1, r.name_2) / 100, axis=1)\n",
        "\n",
        "train[\"token_sort_ratio\"] = train.progress_apply(lambda r: fuzz.token_sort_ratio(r.name_1, r.name_2) / 100, axis=1)\n",
        "test[\"token_sort_ratio\"] = test.progress_apply(lambda r: fuzz.token_sort_ratio(r.name_1, r.name_2)  / 100, axis=1)\n",
        "\n",
        "train[\"token_set_ratio\"] = train.progress_apply(lambda r: fuzz.token_set_ratio(r.name_1, r.name_2) / 100, axis=1)\n",
        "test[\"token_set_ratio\"] = test.progress_apply(lambda r: fuzz.token_set_ratio(r.name_1, r.name_2) / 100, axis=1)\n",
        "\n",
        "train[\"WRatio\"] = train.progress_apply(lambda r: fuzz.WRatio(r.name_1, r.name_2) / 100, axis=1)\n",
        "test[\"WRatio\"] = test.progress_apply(lambda r: fuzz.WRatio(r.name_1, r.name_2) / 100, axis=1)"
      ],
      "execution_count": null,
      "outputs": [
        {
          "output_type": "stream",
          "text": [
            "100%|██████████| 497819/497819 [00:53<00:00, 9304.53it/s]\n",
            "100%|██████████| 213249/213249 [00:22<00:00, 9603.26it/s]\n",
            "100%|██████████| 497819/497819 [01:04<00:00, 7659.35it/s]\n",
            "100%|██████████| 213249/213249 [00:27<00:00, 7694.32it/s]\n",
            "100%|██████████| 497819/497819 [04:46<00:00, 1738.42it/s]\n",
            "100%|██████████| 213249/213249 [02:05<00:00, 1704.92it/s]\n"
          ],
          "name": "stderr"
        }
      ]
    },
    {
      "cell_type": "code",
      "metadata": {
        "colab": {
          "base_uri": "https://localhost:8080/"
        },
        "id": "jDqsahApFOEz",
        "outputId": "51f9a3af-25d7-4916-d869-e67dd02ecb7a"
      },
      "source": [
        "train[\"partial_ratio\"] = train.progress_apply(lambda r: fuzz.partial_ratio(r.stopw_name_1, r.stopw_name_2) / 100, axis=1)\n",
        "test[\"partial_ratio\"] = test.progress_apply(lambda r: fuzz.partial_ratio(r.stopw_name_1, r.stopw_name_2) / 100, axis=1)\n",
        "\n",
        "train[\"token_sort_ratio\"] = train.progress_apply(lambda r: fuzz.token_sort_ratio(r.stopw_name_1, r.stopw_name_2) / 100, axis=1)\n",
        "test[\"token_sort_ratio\"] = test.progress_apply(lambda r: fuzz.token_sort_ratio(r.stopw_name_1, r.stopw_name_2)  / 100, axis=1)\n",
        "\n",
        "train[\"token_set_ratio\"] = train.progress_apply(lambda r: fuzz.token_set_ratio(r.stopw_name_1, r.stopw_name_2) / 100, axis=1)\n",
        "test[\"token_set_ratio\"] = test.progress_apply(lambda r: fuzz.token_set_ratio(r.stopw_name_1, r.stopw_name_2) / 100, axis=1)\n",
        "\n",
        "train[\"WRatio\"] = train.progress_apply(lambda r: fuzz.WRatio(r.stopw_name_1, r.stopw_name_2) / 100, axis=1)\n",
        "test[\"WRatio\"] = test.progress_apply(lambda r: fuzz.WRatio(r.stopw_name_1, r.stopw_name_2) / 100, axis=1)"
      ],
      "execution_count": null,
      "outputs": [
        {
          "output_type": "stream",
          "text": [
            "100%|██████████| 497819/497819 [24:27<00:00, 339.23it/s]\n",
            "100%|██████████| 213249/213249 [10:36<00:00, 334.95it/s]\n",
            "100%|██████████| 497819/497819 [01:04<00:00, 7739.45it/s]\n",
            "100%|██████████| 213249/213249 [00:28<00:00, 7529.55it/s]\n",
            "100%|██████████| 497819/497819 [01:09<00:00, 7131.89it/s]\n",
            "100%|██████████| 213249/213249 [00:29<00:00, 7144.97it/s]\n",
            "100%|██████████| 497819/497819 [18:12<00:00, 455.87it/s]\n",
            " 13%|█▎        | 28496/213249 [01:00<06:26, 478.62it/s]"
          ],
          "name": "stderr"
        }
      ]
    },
    {
      "cell_type": "markdown",
      "metadata": {
        "id": "-FGBrocv_3IH"
      },
      "source": [
        "# Lemmatizer"
      ]
    },
    {
      "cell_type": "code",
      "metadata": {
        "colab": {
          "base_uri": "https://localhost:8080/"
        },
        "id": "dfRTLoyFAkm0",
        "outputId": "b65f51a6-62f6-4ab4-8a31-873f2e60fae6"
      },
      "source": [
        "import nltk\n",
        "from nltk.stem import PorterStemmer, WordNetLemmatizer\n",
        "from nltk.corpus import wordnet\n",
        "\n",
        "nltk.download('wordnet')\n",
        "nltk.download('punkt')\n",
        "nltk.download('stopwords')"
      ],
      "execution_count": null,
      "outputs": [
        {
          "output_type": "stream",
          "text": [
            "[nltk_data] Downloading package wordnet to /root/nltk_data...\n",
            "[nltk_data]   Package wordnet is already up-to-date!\n",
            "[nltk_data] Downloading package punkt to /root/nltk_data...\n",
            "[nltk_data]   Package punkt is already up-to-date!\n",
            "[nltk_data] Downloading package stopwords to /root/nltk_data...\n",
            "[nltk_data]   Unzipping corpora/stopwords.zip.\n"
          ],
          "name": "stdout"
        },
        {
          "output_type": "execute_result",
          "data": {
            "text/plain": [
              "True"
            ]
          },
          "metadata": {
            "tags": []
          },
          "execution_count": 110
        }
      ]
    },
    {
      "cell_type": "code",
      "metadata": {
        "id": "mD89te59C2kS"
      },
      "source": [
        "lemmatizer = WordNetLemmatizer() #  lemmatizer.lemmatize(word)\n",
        "stemmer = PorterStemmer() # stemmer.stem(word)"
      ],
      "execution_count": null,
      "outputs": []
    },
    {
      "cell_type": "code",
      "metadata": {
        "colab": {
          "base_uri": "https://localhost:8080/"
        },
        "id": "Sk_uza4hAeu_",
        "outputId": "da3a3ced-626b-4a4f-ddc4-1383baaf76a2"
      },
      "source": [
        "words = nltk.word_tokenize(train['name_1'].iloc[1])\n",
        "for word in words:\n",
        "    res = lemmatizer.lemmatize(word)\n",
        "    print(res)"
      ],
      "execution_count": null,
      "outputs": [
        {
          "output_type": "stream",
          "text": [
            "apcotex\n",
            "industry\n"
          ],
          "name": "stdout"
        }
      ]
    },
    {
      "cell_type": "code",
      "metadata": {
        "colab": {
          "base_uri": "https://localhost:8080/"
        },
        "id": "I4DrtpB0BHai",
        "outputId": "ea911a11-bdd7-4c80-c7c4-59a968b6bb95"
      },
      "source": [
        "words = nltk.word_tokenize(train['name_2'].iloc[1])\n",
        "res = [lemmatizer.lemmatize(word) for word in words]\n",
        "print(' '.join([lemmatizer.lemmatize(word) for word in words]))"
      ],
      "execution_count": null,
      "outputs": [
        {
          "output_type": "stream",
          "text": [
            "technocraft industry\n"
          ],
          "name": "stdout"
        }
      ]
    },
    {
      "cell_type": "code",
      "metadata": {
        "colab": {
          "base_uri": "https://localhost:8080/",
          "height": 263
        },
        "id": "oxCW1I_hAa0Y",
        "outputId": "dd562886-da67-433e-9b07-dd147fa26103"
      },
      "source": [
        "train.head()"
      ],
      "execution_count": null,
      "outputs": [
        {
          "output_type": "execute_result",
          "data": {
            "text/html": [
              "<div>\n",
              "<style scoped>\n",
              "    .dataframe tbody tr th:only-of-type {\n",
              "        vertical-align: middle;\n",
              "    }\n",
              "\n",
              "    .dataframe tbody tr th {\n",
              "        vertical-align: top;\n",
              "    }\n",
              "\n",
              "    .dataframe thead th {\n",
              "        text-align: right;\n",
              "    }\n",
              "</style>\n",
              "<table border=\"1\" class=\"dataframe\">\n",
              "  <thead>\n",
              "    <tr style=\"text-align: right;\">\n",
              "      <th></th>\n",
              "      <th>name_1</th>\n",
              "      <th>name_2</th>\n",
              "      <th>is_duplicate</th>\n",
              "      <th>levenstein</th>\n",
              "      <th>norm_levenstein</th>\n",
              "      <th>partial_ratio</th>\n",
              "      <th>token_sort_ratio</th>\n",
              "      <th>token_set_ratio</th>\n",
              "      <th>WRatio</th>\n",
              "    </tr>\n",
              "    <tr>\n",
              "      <th>pair_id</th>\n",
              "      <th></th>\n",
              "      <th></th>\n",
              "      <th></th>\n",
              "      <th></th>\n",
              "      <th></th>\n",
              "      <th></th>\n",
              "      <th></th>\n",
              "      <th></th>\n",
              "      <th></th>\n",
              "    </tr>\n",
              "  </thead>\n",
              "  <tbody>\n",
              "    <tr>\n",
              "      <th>1</th>\n",
              "      <td>iko industries</td>\n",
              "      <td>enormous industrial trade</td>\n",
              "      <td>0</td>\n",
              "      <td>15.0</td>\n",
              "      <td>0.600000</td>\n",
              "      <td>71</td>\n",
              "      <td>56</td>\n",
              "      <td>56</td>\n",
              "      <td>64</td>\n",
              "    </tr>\n",
              "    <tr>\n",
              "      <th>2</th>\n",
              "      <td>apcotex industries</td>\n",
              "      <td>technocraft industries</td>\n",
              "      <td>0</td>\n",
              "      <td>9.0</td>\n",
              "      <td>0.409091</td>\n",
              "      <td>72</td>\n",
              "      <td>50</td>\n",
              "      <td>71</td>\n",
              "      <td>67</td>\n",
              "    </tr>\n",
              "    <tr>\n",
              "      <th>3</th>\n",
              "      <td>rishichem distributors</td>\n",
              "      <td>dsa</td>\n",
              "      <td>0</td>\n",
              "      <td>20.0</td>\n",
              "      <td>0.909091</td>\n",
              "      <td>67</td>\n",
              "      <td>16</td>\n",
              "      <td>16</td>\n",
              "      <td>60</td>\n",
              "    </tr>\n",
              "    <tr>\n",
              "      <th>4</th>\n",
              "      <td>powermax rubber factory</td>\n",
              "      <td>co one</td>\n",
              "      <td>0</td>\n",
              "      <td>20.0</td>\n",
              "      <td>0.869565</td>\n",
              "      <td>36</td>\n",
              "      <td>34</td>\n",
              "      <td>34</td>\n",
              "      <td>43</td>\n",
              "    </tr>\n",
              "    <tr>\n",
              "      <th>5</th>\n",
              "      <td>tress as</td>\n",
              "      <td>longyou industries park zhejiang</td>\n",
              "      <td>0</td>\n",
              "      <td>26.0</td>\n",
              "      <td>0.812500</td>\n",
              "      <td>75</td>\n",
              "      <td>20</td>\n",
              "      <td>20</td>\n",
              "      <td>68</td>\n",
              "    </tr>\n",
              "  </tbody>\n",
              "</table>\n",
              "</div>"
            ],
            "text/plain": [
              "                          name_1  ... WRatio\n",
              "pair_id                           ...       \n",
              "1                 iko industries  ...     64\n",
              "2             apcotex industries  ...     67\n",
              "3         rishichem distributors  ...     60\n",
              "4        powermax rubber factory  ...     43\n",
              "5                       tress as  ...     68\n",
              "\n",
              "[5 rows x 9 columns]"
            ]
          },
          "metadata": {
            "tags": []
          },
          "execution_count": 83
        }
      ]
    },
    {
      "cell_type": "code",
      "metadata": {
        "id": "ZXAxBcIZACo6"
      },
      "source": [
        "from nltk.corpus import stopwords\n",
        "\n",
        "en = stopwords.words(\"english\")\n",
        "rus = stopwords.words(\"russian\")\n",
        "stop_words = en.extend(rus)\n",
        "\n",
        "words = nltk.word_tokenize(sentence)\n",
        "without_stop_words = [word for word in words if not word in stop_words]\n"
      ],
      "execution_count": null,
      "outputs": []
    },
    {
      "cell_type": "code",
      "metadata": {
        "id": "LnLqfmfnCW8c"
      },
      "source": [
        "train['lemm_name_1'] = train['name_1'].apply(lambda sentance: ' '.join([lemmatizer.lemmatize(w) for w in sentance])) \n",
        "test['lemm_name_1']  = test['name_1'].apply(lambda sentance: ' '.join([lemmatizer.lemmatize(w) for w in sentance])) \n",
        "\n",
        "train['lemm_name_2'] = train['name_2'].apply(lambda sentance: ' '.join([lemmatizer.lemmatize(w) for w in sentance])) \n",
        "test['lemm_name_2']  = test['name_2'].apply(lambda sentance: ' '.join([lemmatizer.lemmatize(w) for w in sentance])) "
      ],
      "execution_count": null,
      "outputs": []
    },
    {
      "cell_type": "code",
      "metadata": {
        "id": "CFBr8379DjHC"
      },
      "source": [
        "from nltk.corpus import stopwords\n",
        "\n",
        "en = stopwords.words(\"english\")\n",
        "rus = stopwords.words(\"russian\")\n",
        "stop_words = en + rus\n",
        "\n",
        "train['stopw_name_1'] = train['lemm_name_1'].apply(lambda sentance: ' '.join([w for w in sentance if not w in stop_words])) \n",
        "test['stopw_name_1']  = test['lemm_name_1'].apply(lambda sentance: ' '.join([w for w in sentance if not w in stop_words])) \n",
        "\n",
        "train['stopw_name_2'] = train['lemm_name_2'].apply(lambda sentance: ' '.join([w for w in sentance if not w in stop_words])) \n",
        "test['stopw_name_2']  = test['lemm_name_2'].apply(lambda sentance: ' '.join([w for w in sentance if not w in stop_words])) "
      ],
      "execution_count": null,
      "outputs": []
    },
    {
      "cell_type": "markdown",
      "metadata": {
        "id": "rgcPs6K_Eeqi"
      },
      "source": [
        "# TF-IDF"
      ]
    },
    {
      "cell_type": "code",
      "metadata": {
        "id": "FMnG2uLvEeKY"
      },
      "source": [
        "from sklearn.feature_extraction.text import TfidfVectorizer\n",
        "\n",
        "tfidf_vectorizer = TfidfVectorizer()\n",
        "values = tfidf_vectorizer.fit_transform(documents)\n",
        "\n",
        "# Show the Model as a pandas DataFrame\n",
        "feature_names = tfidf_vectorizer.get_feature_names()\n",
        "pd.DataFrame(values.toarray(), columns = feature_names)"
      ],
      "execution_count": null,
      "outputs": []
    },
    {
      "cell_type": "markdown",
      "metadata": {
        "id": "0f93Unux62s7"
      },
      "source": [
        "# Мои модели"
      ]
    },
    {
      "cell_type": "markdown",
      "metadata": {
        "id": "MB0eeb2iCEun"
      },
      "source": [
        "C norm_levenstein - максимально 0.27 на пороге 0.85\n",
        "Без него 0.38 на пороге 0.9"
      ]
    },
    {
      "cell_type": "code",
      "metadata": {
        "id": "LvWq55AP7C6Q"
      },
      "source": [
        "FTS = [\"partial_ratio\", \"token_sort_ratio\", \"token_set_ratio\", \"WRatio\"]\n",
        "THR = 0.9"
      ],
      "execution_count": null,
      "outputs": []
    },
    {
      "cell_type": "code",
      "metadata": {
        "id": "fWg2UP7k6-9Q"
      },
      "source": [
        "split = StratifiedShuffleSplit(1, train_size=0.8, random_state=RS)\n",
        "tridx, cvidx = list(split.split(train[FTS], train[\"is_duplicate\"]))[0]"
      ],
      "execution_count": null,
      "outputs": []
    },
    {
      "cell_type": "code",
      "metadata": {
        "colab": {
          "base_uri": "https://localhost:8080/"
        },
        "id": "X0ElyB0T66AY",
        "outputId": "fb953ac9-ea7c-421f-d01d-8e92ab096964"
      },
      "source": [
        "model = LogisticRegression(class_weight=\"balanced\")\n",
        "model.fit(train.iloc[tridx][FTS].values,\n",
        "          train.iloc[tridx][\"is_duplicate\"].values)"
      ],
      "execution_count": null,
      "outputs": [
        {
          "output_type": "execute_result",
          "data": {
            "text/plain": [
              "LogisticRegression(C=1.0, class_weight='balanced', dual=False,\n",
              "                   fit_intercept=True, intercept_scaling=1, l1_ratio=None,\n",
              "                   max_iter=100, multi_class='auto', n_jobs=None, penalty='l2',\n",
              "                   random_state=None, solver='lbfgs', tol=0.0001, verbose=0,\n",
              "                   warm_start=False)"
            ]
          },
          "metadata": {
            "tags": []
          },
          "execution_count": 99
        }
      ]
    },
    {
      "cell_type": "code",
      "metadata": {
        "colab": {
          "base_uri": "https://localhost:8080/"
        },
        "id": "HlMC3kHP6599",
        "outputId": "6f9fdeb0-b8b8-42a8-bca5-d5ad25b1f104"
      },
      "source": [
        "tr_preds = model.predict_proba(train.iloc[tridx][FTS].values)\n",
        "cv_preds = model.predict_proba(train.iloc[cvidx][FTS].values)\n",
        "\n",
        "for thr in np.arange(0.5, 1, 0.05):\n",
        "    tr_pred = (tr_preds[:, 1] > thr).astype(np.int)\n",
        "    cv_pred = (cv_preds[:, 1] > thr).astype(np.int)\n",
        "\n",
        "    print(\"thr =\", thr, f1_score(train.iloc[tridx][\"is_duplicate\"].values, tr_pred))\n",
        "    print(\"thr =\", thr, f1_score(train.iloc[cvidx][\"is_duplicate\"].values, cv_pred))"
      ],
      "execution_count": null,
      "outputs": [
        {
          "output_type": "stream",
          "text": [
            "thr = 0.5 0.04444945848375451\n",
            "thr = 0.5 0.0450729450393642\n",
            "thr = 0.55 0.04764859429158287\n",
            "thr = 0.55 0.04782737968823005\n",
            "thr = 0.6000000000000001 0.051907449910055206\n",
            "thr = 0.6000000000000001 0.05205264191710862\n",
            "thr = 0.6500000000000001 0.06104809050138887\n",
            "thr = 0.6500000000000001 0.06102737619194094\n",
            "thr = 0.7000000000000002 0.07705787006614974\n",
            "thr = 0.7000000000000002 0.07738919667590027\n",
            "thr = 0.7500000000000002 0.10032351883925361\n",
            "thr = 0.7500000000000002 0.10167310167310166\n",
            "thr = 0.8000000000000003 0.17763257863546572\n",
            "thr = 0.8000000000000003 0.18252776943860705\n",
            "thr = 0.8500000000000003 0.3360323886639676\n",
            "thr = 0.8500000000000003 0.3521505376344086\n",
            "thr = 0.9000000000000004 0.37960220059246724\n",
            "thr = 0.9000000000000004 0.3882845188284519\n",
            "thr = 0.9500000000000004 0.0\n",
            "thr = 0.9500000000000004 0.0\n"
          ],
          "name": "stdout"
        }
      ]
    },
    {
      "cell_type": "code",
      "metadata": {
        "colab": {
          "base_uri": "https://localhost:8080/"
        },
        "id": "mn57LLQS7XwJ",
        "outputId": "d48d5278-aa5c-42dd-f2fc-0095d6cf75a9"
      },
      "source": [
        "thr = 0.9\n",
        "tr_preds = model.predict_proba(train.iloc[tridx][FTS].values)\n",
        "cv_preds = model.predict_proba(train.iloc[cvidx][FTS].values)\n",
        "\n",
        "tr_preds = (tr_preds[:, 1] > thr).astype(np.int)\n",
        "cv_preds = (cv_preds[:, 1] > thr).astype(np.int)\n",
        "\n",
        "print(f1_score(train.iloc[tridx][\"is_duplicate\"].values, tr_preds))\n",
        "print(f1_score(train.iloc[cvidx][\"is_duplicate\"].values, cv_preds))"
      ],
      "execution_count": null,
      "outputs": [
        {
          "output_type": "stream",
          "text": [
            "0.37960220059246724\n",
            "0.3882845188284519\n"
          ],
          "name": "stdout"
        }
      ]
    },
    {
      "cell_type": "markdown",
      "metadata": {
        "id": "FUK9uVPq-A7S"
      },
      "source": [
        "Best threshold = 0.85"
      ]
    },
    {
      "cell_type": "markdown",
      "metadata": {
        "id": "0MTRniWAxqtb"
      },
      "source": [
        "# Базовая модель"
      ]
    },
    {
      "cell_type": "code",
      "metadata": {
        "id": "hH5j4L2_xqtb"
      },
      "source": [
        "FTS = [\"levenstein\", \"norm_levenstein\"]\n",
        "THR = 0.9"
      ],
      "execution_count": null,
      "outputs": []
    },
    {
      "cell_type": "code",
      "metadata": {
        "id": "-AlJ8vD1xqtb"
      },
      "source": [
        "split = StratifiedShuffleSplit(1, train_size=0.8, random_state=RS)\n",
        "tridx, cvidx = list(split.split(train[FTS], train[\"is_duplicate\"]))[0]"
      ],
      "execution_count": null,
      "outputs": []
    },
    {
      "cell_type": "code",
      "metadata": {
        "colab": {
          "base_uri": "https://localhost:8080/"
        },
        "id": "3Mrd16jMxqtb",
        "outputId": "78346c24-3dac-41aa-cd3e-48c1be8bd060"
      },
      "source": [
        "model = LogisticRegression(class_weight=\"balanced\")\n",
        "model.fit(train.iloc[tridx][FTS].values,\n",
        "          train.iloc[tridx][\"is_duplicate\"].values)"
      ],
      "execution_count": null,
      "outputs": [
        {
          "output_type": "execute_result",
          "data": {
            "text/plain": [
              "LogisticRegression(C=1.0, class_weight='balanced', dual=False,\n",
              "                   fit_intercept=True, intercept_scaling=1, l1_ratio=None,\n",
              "                   max_iter=100, multi_class='auto', n_jobs=None, penalty='l2',\n",
              "                   random_state=None, solver='lbfgs', tol=0.0001, verbose=0,\n",
              "                   warm_start=False)"
            ]
          },
          "metadata": {
            "tags": []
          },
          "execution_count": 45
        }
      ]
    },
    {
      "cell_type": "code",
      "metadata": {
        "id": "L70-zSqGxqtb"
      },
      "source": [
        "tr_preds = model.predict_proba(train.iloc[tridx][FTS].values)\n",
        "cv_preds = model.predict_proba(train.iloc[cvidx][FTS].values)"
      ],
      "execution_count": null,
      "outputs": []
    },
    {
      "cell_type": "code",
      "metadata": {
        "id": "ieaDJ4vbxqtb"
      },
      "source": [
        "tr_preds = (tr_preds[:, 1] > THR).astype(np.int)\n",
        "cv_preds = (cv_preds[:, 1] > THR).astype(np.int)"
      ],
      "execution_count": null,
      "outputs": []
    },
    {
      "cell_type": "code",
      "metadata": {
        "colab": {
          "base_uri": "https://localhost:8080/"
        },
        "id": "_FkoSpa7xqtb",
        "outputId": "657e94bb-f1bb-4fc5-f1cf-8e76e9ff2bba"
      },
      "source": [
        "print(classification_report(train.iloc[tridx][\"is_duplicate\"].values, tr_preds))"
      ],
      "execution_count": null,
      "outputs": [
        {
          "output_type": "stream",
          "text": [
            "              precision    recall  f1-score   support\n",
            "\n",
            "           0       0.99      1.00      0.99    395329\n",
            "           1       0.17      0.13      0.15      2926\n",
            "\n",
            "    accuracy                           0.99    398255\n",
            "   macro avg       0.58      0.56      0.57    398255\n",
            "weighted avg       0.99      0.99      0.99    398255\n",
            "\n"
          ],
          "name": "stdout"
        }
      ]
    },
    {
      "cell_type": "code",
      "metadata": {
        "colab": {
          "base_uri": "https://localhost:8080/"
        },
        "id": "pBlY4g2uxqtb",
        "outputId": "acfecc8a-5776-459c-b6ed-e01742817b9d"
      },
      "source": [
        "print(classification_report(train.iloc[cvidx][\"is_duplicate\"].values, cv_preds))"
      ],
      "execution_count": null,
      "outputs": [
        {
          "output_type": "stream",
          "text": [
            "              precision    recall  f1-score   support\n",
            "\n",
            "           0       0.99      1.00      0.99     98832\n",
            "           1       0.17      0.14      0.15       732\n",
            "\n",
            "    accuracy                           0.99     99564\n",
            "   macro avg       0.58      0.57      0.57     99564\n",
            "weighted avg       0.99      0.99      0.99     99564\n",
            "\n"
          ],
          "name": "stdout"
        }
      ]
    },
    {
      "cell_type": "code",
      "metadata": {
        "colab": {
          "base_uri": "https://localhost:8080/"
        },
        "id": "nlrvosT1xqtb",
        "outputId": "caffb301-176b-4f3a-cdfd-061ccba9f3eb"
      },
      "source": [
        "print(f1_score(train.iloc[tridx][\"is_duplicate\"].values, tr_preds))\n",
        "print(f1_score(train.iloc[cvidx][\"is_duplicate\"].values, cv_preds))"
      ],
      "execution_count": null,
      "outputs": [
        {
          "output_type": "stream",
          "text": [
            "0.14792338327327895\n",
            "0.15128593040847202\n"
          ],
          "name": "stdout"
        }
      ]
    },
    {
      "cell_type": "markdown",
      "metadata": {
        "id": "Ugn5DZy-xqtb"
      },
      "source": [
        "# Генерация сабмита"
      ]
    },
    {
      "cell_type": "code",
      "metadata": {
        "id": "Lq6cT29Sxqtb"
      },
      "source": [
        "sample_sub = pd.read_csv(\"sample_submission.csv\", index_col=\"pair_id\")"
      ],
      "execution_count": null,
      "outputs": []
    },
    {
      "cell_type": "code",
      "metadata": {
        "colab": {
          "base_uri": "https://localhost:8080/",
          "height": 437
        },
        "id": "iFxlLkYKxqtb",
        "outputId": "b757cf63-0816-4bb8-bdf3-47a622d39655"
      },
      "source": [
        "sample_sub"
      ],
      "execution_count": null,
      "outputs": [
        {
          "output_type": "execute_result",
          "data": {
            "text/html": [
              "<div>\n",
              "<style scoped>\n",
              "    .dataframe tbody tr th:only-of-type {\n",
              "        vertical-align: middle;\n",
              "    }\n",
              "\n",
              "    .dataframe tbody tr th {\n",
              "        vertical-align: top;\n",
              "    }\n",
              "\n",
              "    .dataframe thead th {\n",
              "        text-align: right;\n",
              "    }\n",
              "</style>\n",
              "<table border=\"1\" class=\"dataframe\">\n",
              "  <thead>\n",
              "    <tr style=\"text-align: right;\">\n",
              "      <th></th>\n",
              "      <th>is_duplicate</th>\n",
              "    </tr>\n",
              "    <tr>\n",
              "      <th>pair_id</th>\n",
              "      <th></th>\n",
              "    </tr>\n",
              "  </thead>\n",
              "  <tbody>\n",
              "    <tr>\n",
              "      <th>1</th>\n",
              "      <td>1</td>\n",
              "    </tr>\n",
              "    <tr>\n",
              "      <th>2</th>\n",
              "      <td>1</td>\n",
              "    </tr>\n",
              "    <tr>\n",
              "      <th>3</th>\n",
              "      <td>1</td>\n",
              "    </tr>\n",
              "    <tr>\n",
              "      <th>4</th>\n",
              "      <td>1</td>\n",
              "    </tr>\n",
              "    <tr>\n",
              "      <th>5</th>\n",
              "      <td>1</td>\n",
              "    </tr>\n",
              "    <tr>\n",
              "      <th>...</th>\n",
              "      <td>...</td>\n",
              "    </tr>\n",
              "    <tr>\n",
              "      <th>213245</th>\n",
              "      <td>1</td>\n",
              "    </tr>\n",
              "    <tr>\n",
              "      <th>213246</th>\n",
              "      <td>1</td>\n",
              "    </tr>\n",
              "    <tr>\n",
              "      <th>213247</th>\n",
              "      <td>1</td>\n",
              "    </tr>\n",
              "    <tr>\n",
              "      <th>213248</th>\n",
              "      <td>1</td>\n",
              "    </tr>\n",
              "    <tr>\n",
              "      <th>213249</th>\n",
              "      <td>1</td>\n",
              "    </tr>\n",
              "  </tbody>\n",
              "</table>\n",
              "<p>213249 rows × 1 columns</p>\n",
              "</div>"
            ],
            "text/plain": [
              "         is_duplicate\n",
              "pair_id              \n",
              "1                   1\n",
              "2                   1\n",
              "3                   1\n",
              "4                   1\n",
              "5                   1\n",
              "...               ...\n",
              "213245              1\n",
              "213246              1\n",
              "213247              1\n",
              "213248              1\n",
              "213249              1\n",
              "\n",
              "[213249 rows x 1 columns]"
            ]
          },
          "metadata": {
            "tags": []
          },
          "execution_count": 75
        }
      ]
    },
    {
      "cell_type": "code",
      "metadata": {
        "id": "hdx7jWvb-KBh"
      },
      "source": [
        "THR = 0.85"
      ],
      "execution_count": null,
      "outputs": []
    },
    {
      "cell_type": "code",
      "metadata": {
        "id": "d24_gDgPxqtb"
      },
      "source": [
        "sample_sub[\"is_duplicate\"] = (model.predict_proba(test[FTS].values)[:, 1] > THR).astype(np.int)"
      ],
      "execution_count": null,
      "outputs": []
    },
    {
      "cell_type": "code",
      "metadata": {
        "colab": {
          "base_uri": "https://localhost:8080/"
        },
        "id": "P9kGLQPvxqtc",
        "outputId": "363d6cad-63bf-4c72-8473-596eb6cd1939"
      },
      "source": [
        "sample_sub.is_duplicate.value_counts()"
      ],
      "execution_count": null,
      "outputs": [
        {
          "output_type": "execute_result",
          "data": {
            "text/plain": [
              "0    210909\n",
              "1      2340\n",
              "Name: is_duplicate, dtype: int64"
            ]
          },
          "metadata": {
            "tags": []
          },
          "execution_count": 82
        }
      ]
    },
    {
      "cell_type": "code",
      "metadata": {
        "id": "hvUV5_DFxqtc"
      },
      "source": [
        "sample_sub.to_csv(\"my_submission.csv\")"
      ],
      "execution_count": null,
      "outputs": []
    }
  ]
}