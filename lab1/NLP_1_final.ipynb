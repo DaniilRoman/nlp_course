{
  "nbformat": 4,
  "nbformat_minor": 0,
  "metadata": {
    "colab": {
      "name": "NLP_1.ipynb",
      "provenance": [],
      "collapsed_sections": [],
      "toc_visible": true
    },
    "kernelspec": {
      "display_name": "Python (myenv)",
      "language": "python",
      "name": "unn-nlp"
    },
    "language_info": {
      "codemirror_mode": {
        "name": "ipython",
        "version": 3
      },
      "file_extension": ".py",
      "mimetype": "text/x-python",
      "name": "python",
      "nbconvert_exporter": "python",
      "pygments_lexer": "ipython3",
      "version": "3.7.7"
    },
    "accelerator": "GPU"
  },
  "cells": [
    {
      "cell_type": "markdown",
      "metadata": {
        "id": "2Ss4zt_s5i_w"
      },
      "source": [
        "# Классификация вопросов на stackoverflow"
      ]
    },
    {
      "cell_type": "markdown",
      "metadata": {
        "id": "jYZ50_V55sB1"
      },
      "source": [
        "## Загрузка данных\n"
      ]
    },
    {
      "cell_type": "code",
      "metadata": {
        "id": "uHUidi_S6JC3"
      },
      "source": [
        "import pandas as pd\n",
        "import matplotlib.pyplot as plt\n",
        "import numpy as np\n",
        "import re\n",
        "import os\n",
        "from sklearn.feature_extraction.text import CountVectorizer, TfidfVectorizer\n",
        "from sklearn.neighbors import KNeighborsClassifier\n",
        "from sklearn.ensemble import RandomForestClassifier\n",
        "from sklearn.linear_model import LogisticRegression\n",
        "from sklearn.model_selection import train_test_split"
      ],
      "execution_count": 14,
      "outputs": []
    },
    {
      "cell_type": "code",
      "metadata": {
        "id": "mQYi0n328wHI",
        "outputId": "e535e0a5-147b-49f0-c9c0-fecaa8887dac",
        "colab": {
          "base_uri": "https://localhost:8080/"
        }
      },
      "source": [
        "try:\n",
        "    from google.colab import drive\n",
        "    drive.mount('/content/drive')\n",
        "    data_prefix = '/content/drive/My Drive/NLP/'\n",
        "except ModuleNotFoundError:\n",
        "    data_prefix = '../Datasets/SO'"
      ],
      "execution_count": 2,
      "outputs": [
        {
          "output_type": "stream",
          "text": [
            "Mounted at /content/drive\n"
          ],
          "name": "stdout"
        }
      ]
    },
    {
      "cell_type": "code",
      "metadata": {
        "id": "on4Ta9G67Dm2"
      },
      "source": [
        "raw_train = pd.read_parquet(os.path.join(data_prefix, 'train.parquet'))"
      ],
      "execution_count": 3,
      "outputs": []
    },
    {
      "cell_type": "code",
      "metadata": {
        "id": "-LBvkkyR7-rI",
        "outputId": "7f849b6f-d438-4ef1-86d6-3da149b68b22",
        "colab": {
          "base_uri": "https://localhost:8080/",
          "height": 235
        }
      },
      "source": [
        "raw_train.head()"
      ],
      "execution_count": 94,
      "outputs": [
        {
          "output_type": "execute_result",
          "data": {
            "text/html": [
              "<div>\n",
              "<style scoped>\n",
              "    .dataframe tbody tr th:only-of-type {\n",
              "        vertical-align: middle;\n",
              "    }\n",
              "\n",
              "    .dataframe tbody tr th {\n",
              "        vertical-align: top;\n",
              "    }\n",
              "\n",
              "    .dataframe thead th {\n",
              "        text-align: right;\n",
              "    }\n",
              "</style>\n",
              "<table border=\"1\" class=\"dataframe\">\n",
              "  <thead>\n",
              "    <tr style=\"text-align: right;\">\n",
              "      <th></th>\n",
              "      <th>Body</th>\n",
              "      <th>Tags</th>\n",
              "      <th>Title</th>\n",
              "      <th>target</th>\n",
              "    </tr>\n",
              "    <tr>\n",
              "      <th>Id</th>\n",
              "      <th></th>\n",
              "      <th></th>\n",
              "      <th></th>\n",
              "      <th></th>\n",
              "    </tr>\n",
              "  </thead>\n",
              "  <tbody>\n",
              "    <tr>\n",
              "      <th>34862324</th>\n",
              "      <td>Algorithmm:\\r\\n\\r\\n**input :** Graph G\\r\\n\\r\\n...</td>\n",
              "      <td>&lt;java&gt;&lt;algorithm&gt;&lt;graph-algorithm&gt;</td>\n",
              "      <td>I am implementing a Minimum Spanning Forrest a...</td>\n",
              "      <td>2</td>\n",
              "    </tr>\n",
              "    <tr>\n",
              "      <th>47303682</th>\n",
              "      <td>While converting the data frame to HTML, Date ...</td>\n",
              "      <td>&lt;html&gt;&lt;r&gt;&lt;dataframe&gt;</td>\n",
              "      <td>R Studio: Date is getting converted to number,...</td>\n",
              "      <td>2</td>\n",
              "    </tr>\n",
              "    <tr>\n",
              "      <th>46431243</th>\n",
              "      <td>&lt;p&gt;This should be an easy one, but somehow I c...</td>\n",
              "      <td>&lt;python&gt;&lt;pandas&gt;&lt;dataframe&gt;&lt;pandas-groupby&gt;</td>\n",
              "      <td>Pandas - dataframe groupby - how to get sum of...</td>\n",
              "      <td>0</td>\n",
              "    </tr>\n",
              "    <tr>\n",
              "      <th>45306324</th>\n",
              "      <td>&lt;p&gt;Let say I have a component in Angular 2 tha...</td>\n",
              "      <td>&lt;angular&gt;&lt;typescript&gt;&lt;rxjs&gt;</td>\n",
              "      <td>Casting results from Observable.forkJoin to th...</td>\n",
              "      <td>0</td>\n",
              "    </tr>\n",
              "    <tr>\n",
              "      <th>49479547</th>\n",
              "      <td>&lt;p&gt;I'm setting a var using \\n&lt;code&gt;set TEST_VA...</td>\n",
              "      <td>&lt;c&gt;&lt;windows&gt;&lt;batch-file&gt;</td>\n",
              "      <td>Environment variable set in batch file cannot ...</td>\n",
              "      <td>1</td>\n",
              "    </tr>\n",
              "  </tbody>\n",
              "</table>\n",
              "</div>"
            ],
            "text/plain": [
              "                                                       Body  ... target\n",
              "Id                                                           ...       \n",
              "34862324  Algorithmm:\\r\\n\\r\\n**input :** Graph G\\r\\n\\r\\n...  ...      2\n",
              "47303682  While converting the data frame to HTML, Date ...  ...      2\n",
              "46431243  <p>This should be an easy one, but somehow I c...  ...      0\n",
              "45306324  <p>Let say I have a component in Angular 2 tha...  ...      0\n",
              "49479547  <p>I'm setting a var using \\n<code>set TEST_VA...  ...      1\n",
              "\n",
              "[5 rows x 4 columns]"
            ]
          },
          "metadata": {
            "tags": []
          },
          "execution_count": 94
        }
      ]
    },
    {
      "cell_type": "markdown",
      "metadata": {
        "id": "9_AxDRQiRQK8"
      },
      "source": [
        "Круговая диаграмма распределения классов в имеющейся выборке."
      ]
    },
    {
      "cell_type": "code",
      "metadata": {
        "id": "P_KzBFGHL6Yf",
        "outputId": "3e586fe6-d2b9-47a2-d026-1dece4495420",
        "colab": {
          "base_uri": "https://localhost:8080/",
          "height": 626
        }
      },
      "source": [
        "labels = ['HQ', 'LQ_CLOSE', 'LQ_EDIT']\n",
        "values = [len(raw_train[raw_train['target'] == 0]),\n",
        "          len(raw_train[raw_train['target'] == 1]),\n",
        "          len(raw_train[raw_train['target'] == 2])]\n",
        "plt.style.use('classic')\n",
        "plt.figure(figsize=(16, 9))\n",
        "plt.pie(x=values, labels=labels, autopct=\"%1.1f%%\")\n",
        "plt.title(\"Target Value Distribution\")\n",
        "plt.show()"
      ],
      "execution_count": 5,
      "outputs": [
        {
          "output_type": "display_data",
          "data": {
            "image/png": "[encoded data removed]",
            "text/plain": [
              "<Figure size 1280x720 with 1 Axes>"
            ]
          },
          "metadata": {
            "tags": []
          }
        }
      ]
    },
    {
      "cell_type": "markdown",
      "metadata": {
        "id": "t4Vo9acHRcrp"
      },
      "source": [
        "Вывод: классы в нашей выборке распределены равномерно."
      ]
    },
    {
      "cell_type": "markdown",
      "metadata": {
        "id": "-U8nSLRHL6Yj"
      },
      "source": [
        "## Разделение данных на тренировочную и валидационную выборки \n"
      ]
    },
    {
      "cell_type": "code",
      "metadata": {
        "id": "C5PPY9aGL6Yj"
      },
      "source": [
        "raw_target = raw_train['target']\n",
        "raw_data   = raw_train.drop(['target'], axis = 1)"
      ],
      "execution_count": 95,
      "outputs": []
    },
    {
      "cell_type": "code",
      "metadata": {
        "id": "ATQtW-pPL6Yo",
        "outputId": "3f0cb469-b1c1-47d5-9d25-ecf4fc8002ed",
        "colab": {
          "base_uri": "https://localhost:8080/"
        }
      },
      "source": [
        "raw_target.head()"
      ],
      "execution_count": 7,
      "outputs": [
        {
          "output_type": "execute_result",
          "data": {
            "text/plain": [
              "Id\n",
              "34862324    2\n",
              "47303682    2\n",
              "46431243    0\n",
              "45306324    0\n",
              "49479547    1\n",
              "Name: target, dtype: int64"
            ]
          },
          "metadata": {
            "tags": []
          },
          "execution_count": 7
        }
      ]
    },
    {
      "cell_type": "code",
      "metadata": {
        "id": "jQQnMOMcL6Ys",
        "outputId": "7a2037c9-fba3-4fae-8561-6dd3e2383ac1",
        "colab": {
          "base_uri": "https://localhost:8080/",
          "height": 235
        }
      },
      "source": [
        "raw_data.head()"
      ],
      "execution_count": 8,
      "outputs": [
        {
          "output_type": "execute_result",
          "data": {
            "text/html": [
              "<div>\n",
              "<style scoped>\n",
              "    .dataframe tbody tr th:only-of-type {\n",
              "        vertical-align: middle;\n",
              "    }\n",
              "\n",
              "    .dataframe tbody tr th {\n",
              "        vertical-align: top;\n",
              "    }\n",
              "\n",
              "    .dataframe thead th {\n",
              "        text-align: right;\n",
              "    }\n",
              "</style>\n",
              "<table border=\"1\" class=\"dataframe\">\n",
              "  <thead>\n",
              "    <tr style=\"text-align: right;\">\n",
              "      <th></th>\n",
              "      <th>Body</th>\n",
              "      <th>Tags</th>\n",
              "      <th>Title</th>\n",
              "    </tr>\n",
              "    <tr>\n",
              "      <th>Id</th>\n",
              "      <th></th>\n",
              "      <th></th>\n",
              "      <th></th>\n",
              "    </tr>\n",
              "  </thead>\n",
              "  <tbody>\n",
              "    <tr>\n",
              "      <th>34862324</th>\n",
              "      <td>Algorithmm:\\r\\n\\r\\n**input :** Graph G\\r\\n\\r\\n...</td>\n",
              "      <td>&lt;java&gt;&lt;algorithm&gt;&lt;graph-algorithm&gt;</td>\n",
              "      <td>I am implementing a Minimum Spanning Forrest a...</td>\n",
              "    </tr>\n",
              "    <tr>\n",
              "      <th>47303682</th>\n",
              "      <td>While converting the data frame to HTML, Date ...</td>\n",
              "      <td>&lt;html&gt;&lt;r&gt;&lt;dataframe&gt;</td>\n",
              "      <td>R Studio: Date is getting converted to number,...</td>\n",
              "    </tr>\n",
              "    <tr>\n",
              "      <th>46431243</th>\n",
              "      <td>&lt;p&gt;This should be an easy one, but somehow I c...</td>\n",
              "      <td>&lt;python&gt;&lt;pandas&gt;&lt;dataframe&gt;&lt;pandas-groupby&gt;</td>\n",
              "      <td>Pandas - dataframe groupby - how to get sum of...</td>\n",
              "    </tr>\n",
              "    <tr>\n",
              "      <th>45306324</th>\n",
              "      <td>&lt;p&gt;Let say I have a component in Angular 2 tha...</td>\n",
              "      <td>&lt;angular&gt;&lt;typescript&gt;&lt;rxjs&gt;</td>\n",
              "      <td>Casting results from Observable.forkJoin to th...</td>\n",
              "    </tr>\n",
              "    <tr>\n",
              "      <th>49479547</th>\n",
              "      <td>&lt;p&gt;I'm setting a var using \\n&lt;code&gt;set TEST_VA...</td>\n",
              "      <td>&lt;c&gt;&lt;windows&gt;&lt;batch-file&gt;</td>\n",
              "      <td>Environment variable set in batch file cannot ...</td>\n",
              "    </tr>\n",
              "  </tbody>\n",
              "</table>\n",
              "</div>"
            ],
            "text/plain": [
              "                                                       Body  ...                                              Title\n",
              "Id                                                           ...                                                   \n",
              "34862324  Algorithmm:\\r\\n\\r\\n**input :** Graph G\\r\\n\\r\\n...  ...  I am implementing a Minimum Spanning Forrest a...\n",
              "47303682  While converting the data frame to HTML, Date ...  ...  R Studio: Date is getting converted to number,...\n",
              "46431243  <p>This should be an easy one, but somehow I c...  ...  Pandas - dataframe groupby - how to get sum of...\n",
              "45306324  <p>Let say I have a component in Angular 2 tha...  ...  Casting results from Observable.forkJoin to th...\n",
              "49479547  <p>I'm setting a var using \\n<code>set TEST_VA...  ...  Environment variable set in batch file cannot ...\n",
              "\n",
              "[5 rows x 3 columns]"
            ]
          },
          "metadata": {
            "tags": []
          },
          "execution_count": 8
        }
      ]
    },
    {
      "cell_type": "code",
      "metadata": {
        "id": "RhF9VjcVL6Yw"
      },
      "source": [
        "train_data, test_data, train_target, test_target = train_test_split(raw_data, raw_target,\n",
        "                                                                    test_size=0.25, random_state=47)"
      ],
      "execution_count": 96,
      "outputs": []
    },
    {
      "cell_type": "code",
      "metadata": {
        "id": "-7Qa9HJwL6Yz",
        "outputId": "ffda553c-8409-4bd9-ae2f-510bde76533b",
        "colab": {
          "base_uri": "https://localhost:8080/"
        }
      },
      "source": [
        "print('Training Data Shape: ', train_data.shape)\n",
        "print('Test Data Shape: ', test_data.shape)"
      ],
      "execution_count": 97,
      "outputs": [
        {
          "output_type": "stream",
          "text": [
            "Training Data Shape:  (36000, 3)\n",
            "Test Data Shape:  (12000, 3)\n"
          ],
          "name": "stdout"
        }
      ]
    },
    {
      "cell_type": "code",
      "metadata": {
        "id": "DCCQQBd3L6Y2",
        "outputId": "4d07b035-8f9b-43ab-8e38-0f563b31f0d2",
        "colab": {
          "base_uri": "https://localhost:8080/"
        }
      },
      "source": [
        "[len(train_target[train_target == 0]),\n",
        " len(train_target[train_target == 1]),\n",
        " len(train_target[train_target == 2])]"
      ],
      "execution_count": 11,
      "outputs": [
        {
          "output_type": "execute_result",
          "data": {
            "text/plain": [
              "[12029, 12032, 11939]"
            ]
          },
          "metadata": {
            "tags": []
          },
          "execution_count": 11
        }
      ]
    },
    {
      "cell_type": "code",
      "metadata": {
        "id": "JDF3ios6L6Y7",
        "outputId": "2ed4dd6f-3b06-4c2c-b2cb-7ac9e3d39221",
        "colab": {
          "base_uri": "https://localhost:8080/",
          "height": 235
        }
      },
      "source": [
        "train_data.head()"
      ],
      "execution_count": 12,
      "outputs": [
        {
          "output_type": "execute_result",
          "data": {
            "text/html": [
              "<div>\n",
              "<style scoped>\n",
              "    .dataframe tbody tr th:only-of-type {\n",
              "        vertical-align: middle;\n",
              "    }\n",
              "\n",
              "    .dataframe tbody tr th {\n",
              "        vertical-align: top;\n",
              "    }\n",
              "\n",
              "    .dataframe thead th {\n",
              "        text-align: right;\n",
              "    }\n",
              "</style>\n",
              "<table border=\"1\" class=\"dataframe\">\n",
              "  <thead>\n",
              "    <tr style=\"text-align: right;\">\n",
              "      <th></th>\n",
              "      <th>Body</th>\n",
              "      <th>Tags</th>\n",
              "      <th>Title</th>\n",
              "    </tr>\n",
              "    <tr>\n",
              "      <th>Id</th>\n",
              "      <th></th>\n",
              "      <th></th>\n",
              "      <th></th>\n",
              "    </tr>\n",
              "  </thead>\n",
              "  <tbody>\n",
              "    <tr>\n",
              "      <th>41452608</th>\n",
              "      <td>df &lt;- data.frame(id = c(1, 1, 2, 2, 2), desc =...</td>\n",
              "      <td>&lt;r&gt;&lt;dplyr&gt;</td>\n",
              "      <td>R dplyr - count and select first row by group</td>\n",
              "    </tr>\n",
              "    <tr>\n",
              "      <th>39823020</th>\n",
              "      <td>&lt;p&gt;Can anyone tell what could be the solution ...</td>\n",
              "      <td>&lt;java&gt;&lt;android&gt;&lt;ads&gt;</td>\n",
              "      <td>AdMob ads in app not working on some devices</td>\n",
              "    </tr>\n",
              "    <tr>\n",
              "      <th>52003167</th>\n",
              "      <td>&lt;p&gt;Let's say i have &lt;code&gt;a=[1,0,1,0,1,1,1,0,0...</td>\n",
              "      <td>&lt;python&gt;&lt;python-3.x&gt;</td>\n",
              "      <td>How to remove more than one elements from list...</td>\n",
              "    </tr>\n",
              "    <tr>\n",
              "      <th>38850633</th>\n",
              "      <td>&lt;p&gt;I am new in ios development. I have created...</td>\n",
              "      <td>&lt;ios&gt;&lt;app-store&gt;</td>\n",
              "      <td>App submission with coming soon alert</td>\n",
              "    </tr>\n",
              "    <tr>\n",
              "      <th>54208043</th>\n",
              "      <td>&lt;p&gt;I want to change the default colors (curren...</td>\n",
              "      <td>&lt;r&gt;&lt;ggplot2&gt;</td>\n",
              "      <td>How to change default color of points in ggplo...</td>\n",
              "    </tr>\n",
              "  </tbody>\n",
              "</table>\n",
              "</div>"
            ],
            "text/plain": [
              "                                                       Body  ...                                              Title\n",
              "Id                                                           ...                                                   \n",
              "41452608  df <- data.frame(id = c(1, 1, 2, 2, 2), desc =...  ...      R dplyr - count and select first row by group\n",
              "39823020  <p>Can anyone tell what could be the solution ...  ...       AdMob ads in app not working on some devices\n",
              "52003167  <p>Let's say i have <code>a=[1,0,1,0,1,1,1,0,0...  ...  How to remove more than one elements from list...\n",
              "38850633  <p>I am new in ios development. I have created...  ...              App submission with coming soon alert\n",
              "54208043  <p>I want to change the default colors (curren...  ...  How to change default color of points in ggplo...\n",
              "\n",
              "[5 rows x 3 columns]"
            ]
          },
          "metadata": {
            "tags": []
          },
          "execution_count": 12
        }
      ]
    },
    {
      "cell_type": "code",
      "metadata": {
        "id": "q_aEhziRL6Y-",
        "outputId": "53e717bf-e08a-40c4-fc2d-ee5e1244dd46",
        "colab": {
          "base_uri": "https://localhost:8080/",
          "height": 235
        }
      },
      "source": [
        "test_data.head()"
      ],
      "execution_count": 13,
      "outputs": [
        {
          "output_type": "execute_result",
          "data": {
            "text/html": [
              "<div>\n",
              "<style scoped>\n",
              "    .dataframe tbody tr th:only-of-type {\n",
              "        vertical-align: middle;\n",
              "    }\n",
              "\n",
              "    .dataframe tbody tr th {\n",
              "        vertical-align: top;\n",
              "    }\n",
              "\n",
              "    .dataframe thead th {\n",
              "        text-align: right;\n",
              "    }\n",
              "</style>\n",
              "<table border=\"1\" class=\"dataframe\">\n",
              "  <thead>\n",
              "    <tr style=\"text-align: right;\">\n",
              "      <th></th>\n",
              "      <th>Body</th>\n",
              "      <th>Tags</th>\n",
              "      <th>Title</th>\n",
              "    </tr>\n",
              "    <tr>\n",
              "      <th>Id</th>\n",
              "      <th></th>\n",
              "      <th></th>\n",
              "      <th></th>\n",
              "    </tr>\n",
              "  </thead>\n",
              "  <tbody>\n",
              "    <tr>\n",
              "      <th>51918932</th>\n",
              "      <td>&lt;p&gt;the question can maybe be stupid but did no...</td>\n",
              "      <td>&lt;laravel&gt;&lt;npm&gt;&lt;assets&gt;&lt;node-modules&gt;&lt;selectize...</td>\n",
              "      <td>How to properly include a library from node_mo...</td>\n",
              "    </tr>\n",
              "    <tr>\n",
              "      <th>46068744</th>\n",
              "      <td>I am porting unity game to universal windows p...</td>\n",
              "      <td>&lt;c#&gt;&lt;unity3d&gt;&lt;uwp&gt;&lt;visual-studio-2017&gt;&lt;build-e...</td>\n",
              "      <td>Getting error in compiling Unity Universal Win...</td>\n",
              "    </tr>\n",
              "    <tr>\n",
              "      <th>36958873</th>\n",
              "      <td>I just did an upgrade from CRM 2011 to CRM 201...</td>\n",
              "      <td>&lt;html&gt;&lt;dynamics-crm-2015&gt;</td>\n",
              "      <td>crm 2015 unsupported line of code - HTML Resource</td>\n",
              "    </tr>\n",
              "    <tr>\n",
              "      <th>57230064</th>\n",
              "      <td>I have a list of items and for some purpose, I...</td>\n",
              "      <td>&lt;android&gt;&lt;android-fragments&gt;&lt;android-recyclerv...</td>\n",
              "      <td>java.lang.IndexOutOfBoundsException: Invalid i...</td>\n",
              "    </tr>\n",
              "    <tr>\n",
              "      <th>51532513</th>\n",
              "      <td>******************** The html string is. *****...</td>\n",
              "      <td>&lt;ios&gt;&lt;swift&gt;&lt;webview&gt;</td>\n",
              "      <td>ios how to show htmlString into webview the ht...</td>\n",
              "    </tr>\n",
              "  </tbody>\n",
              "</table>\n",
              "</div>"
            ],
            "text/plain": [
              "                                                       Body  ...                                              Title\n",
              "Id                                                           ...                                                   \n",
              "51918932  <p>the question can maybe be stupid but did no...  ...  How to properly include a library from node_mo...\n",
              "46068744  I am porting unity game to universal windows p...  ...  Getting error in compiling Unity Universal Win...\n",
              "36958873  I just did an upgrade from CRM 2011 to CRM 201...  ...  crm 2015 unsupported line of code - HTML Resource\n",
              "57230064  I have a list of items and for some purpose, I...  ...  java.lang.IndexOutOfBoundsException: Invalid i...\n",
              "51532513  ******************** The html string is. *****...  ...  ios how to show htmlString into webview the ht...\n",
              "\n",
              "[5 rows x 3 columns]"
            ]
          },
          "metadata": {
            "tags": []
          },
          "execution_count": 13
        }
      ]
    },
    {
      "cell_type": "markdown",
      "metadata": {
        "id": "fvDjA636L6ZC"
      },
      "source": [
        "## Предварительная обработка данных"
      ]
    },
    {
      "cell_type": "markdown",
      "metadata": {
        "id": "sXCa0XZL6Efc"
      },
      "source": [
        "Реализуем методы, с помощью которых будем пытаться повысить точность моделей на наших данных. \n",
        "\n",
        "\n",
        "1.   Удаление HTML тэгов\n",
        "2.   Удаление всех символов, кроме латиницы и пробелов\n",
        "3.   Токенизация слов (с использованием библиотеки nltk)\n",
        "4.   Удаление \"стоп-слов\"\n",
        "\n"
      ]
    },
    {
      "cell_type": "code",
      "metadata": {
        "id": "AY8m6cFNL6ZF",
        "outputId": "0184b921-88dc-4f3b-aca2-1266dff84bdf",
        "colab": {
          "base_uri": "https://localhost:8080/"
        }
      },
      "source": [
        "import nltk\n",
        "nltk.download('stopwords')"
      ],
      "execution_count": 8,
      "outputs": [
        {
          "output_type": "stream",
          "text": [
            "[nltk_data] Downloading package stopwords to /root/nltk_data...\n",
            "[nltk_data]   Unzipping corpora/stopwords.zip.\n"
          ],
          "name": "stdout"
        },
        {
          "output_type": "execute_result",
          "data": {
            "text/plain": [
              "True"
            ]
          },
          "metadata": {
            "tags": []
          },
          "execution_count": 8
        }
      ]
    },
    {
      "cell_type": "code",
      "metadata": {
        "id": "P58HXaeK-nkN"
      },
      "source": [
        "import re \n",
        "\n",
        "from nltk.tokenize import WordPunctTokenizer\n",
        "from nltk.corpus import stopwords\n",
        "from bs4 import BeautifulSoup\n",
        "\n",
        "\n",
        "def remove_html_tags(html):\n",
        "    return BeautifulSoup(html).get_text()\n",
        "\n",
        "\n",
        "def stay_only_a_z(text):\n",
        "    text = re.sub(r'[^a-zA-Z\\s]','', text)\n",
        "    return text\n",
        "\n",
        "\n",
        "def tokenize_by_word(text):\n",
        "    return ' '.join(__word_punct_tokenizer.tokenize(text))\n",
        "\n",
        "\n",
        "def remove_stop_words(text):\n",
        "    return ' '.join([word for word in text.split() if word.lower() not in __stop_words])\n",
        "\n",
        "__word_punct_tokenizer = WordPunctTokenizer()\n",
        "__stop_words = stopwords.words('english')"
      ],
      "execution_count": 9,
      "outputs": []
    },
    {
      "cell_type": "markdown",
      "metadata": {
        "id": "DbaiQBeDL6ZM"
      },
      "source": [
        "### Демонстрация работы алгоритмов предобработки"
      ]
    },
    {
      "cell_type": "code",
      "metadata": {
        "id": "xhcm7loiL6ZM",
        "outputId": "731579d8-4972-460f-d11d-05e8edc61383",
        "colab": {
          "base_uri": "https://localhost:8080/",
          "height": 52
        }
      },
      "source": [
        "remove_html_tags('''\n",
        "<p>I am using nltk. However, I've just got up to the method like</p>\n",
        "\n",
        "<pre><code>my_text = ['This', 'is', 'my', 'text']\n",
        "</code></pre>\n",
        "\n",
        "<p>I'd like to discover any way to input my \"text\" as:</p>\n",
        "\n",
        "<pre><code>my_text = \"This is my text, this is a nice way to input text.\"\n",
        "</code></pre>\n",
        "''')"
      ],
      "execution_count": 19,
      "outputs": [
        {
          "output_type": "execute_result",
          "data": {
            "application/vnd.google.colaboratory.intrinsic+json": {
              "type": "string"
            },
            "text/plain": [
              "'I am using nltk. However, I\\'ve just got up to the method like\\nmy_text = [\\'This\\', \\'is\\', \\'my\\', \\'text\\']\\n\\nI\\'d like to discover any way to input my \"text\" as:\\nmy_text = \"This is my text, this is a nice way to input text.\"\\n\\n'"
            ]
          },
          "metadata": {
            "tags": []
          },
          "execution_count": 19
        }
      ]
    },
    {
      "cell_type": "code",
      "metadata": {
        "id": "GRZfLdtvL6ZP",
        "outputId": "fb5633e6-e985-4486-b858-b12c6eb13422",
        "colab": {
          "base_uri": "https://localhost:8080/",
          "height": 35
        }
      },
      "source": [
        "stay_only_a_z(\"(A)lgorithmm:\\r\\n\\r\\n**input :** Graph G\\r\\n\\r\\n**output:** Set of MSTs T\\r\\n\\r\\n**begin*\")"
      ],
      "execution_count": 20,
      "outputs": [
        {
          "output_type": "execute_result",
          "data": {
            "application/vnd.google.colaboratory.intrinsic+json": {
              "type": "string"
            },
            "text/plain": [
              "'Algorithmm\\r\\n\\r\\ninput  Graph G\\r\\n\\r\\noutput Set of MSTs T\\r\\n\\r\\nbegin'"
            ]
          },
          "metadata": {
            "tags": []
          },
          "execution_count": 20
        }
      ]
    },
    {
      "cell_type": "code",
      "metadata": {
        "id": "iUZBnwqtL6ZT",
        "outputId": "2018edca-b893-477a-c9ec-97f0a9b2d6c0",
        "colab": {
          "base_uri": "https://localhost:8080/",
          "height": 35
        }
      },
      "source": [
        "tokenize_by_word(\"(A)lgorithmm:\\r\\n\\r\\n**input :** Graph G\\r\\n\\r\\n**output:** Set of MSTs T\\r\\n\\r\\n**begin*\")"
      ],
      "execution_count": 21,
      "outputs": [
        {
          "output_type": "execute_result",
          "data": {
            "application/vnd.google.colaboratory.intrinsic+json": {
              "type": "string"
            },
            "text/plain": [
              "'( A ) lgorithmm : ** input :** Graph G ** output :** Set of MSTs T ** begin *'"
            ]
          },
          "metadata": {
            "tags": []
          },
          "execution_count": 21
        }
      ]
    },
    {
      "cell_type": "code",
      "metadata": {
        "id": "-9K53obML6ZX",
        "outputId": "a08429ef-f050-491b-b116-eeb1858f2bc2",
        "colab": {
          "base_uri": "https://localhost:8080/",
          "height": 35
        }
      },
      "source": [
        "remove_stop_words(\n",
        "    tokenize_by_word('Algorithmm :  you\\'d, your, yours, yourself, yourselves, he, him,   ** input :** '))"
      ],
      "execution_count": 22,
      "outputs": [
        {
          "output_type": "execute_result",
          "data": {
            "application/vnd.google.colaboratory.intrinsic+json": {
              "type": "string"
            },
            "text/plain": [
              "\"Algorithmm : ' , , , , , , , ** input :**\""
            ]
          },
          "metadata": {
            "tags": []
          },
          "execution_count": 22
        }
      ]
    },
    {
      "cell_type": "markdown",
      "metadata": {
        "id": "gm8i3L-cL6Zb"
      },
      "source": [
        "### Выполнение предобработки"
      ]
    },
    {
      "cell_type": "markdown",
      "metadata": {
        "id": "F3jRDXf56wOt"
      },
      "source": [
        "Объединим реализованные ранее методы в единый метод body_preprocess. \n",
        "\n",
        "*Примечание: закомментированные методы показали ухудшение результатов в процессе тестирования.*"
      ]
    },
    {
      "cell_type": "code",
      "metadata": {
        "id": "2KYdWNs8L6Zb"
      },
      "source": [
        "def body_preprocess(text):\n",
        "    #text = remove_html_tags(text)\n",
        "    text = stay_only_a_z(text)\n",
        "    text = tokenize_by_word(text)\n",
        "    #text = remove_stop_words(text)\n",
        "    return text.lower()"
      ],
      "execution_count": 24,
      "outputs": []
    },
    {
      "cell_type": "markdown",
      "metadata": {
        "id": "G9w0joZK7BTa"
      },
      "source": [
        "Демонстрация на тестовом фрагменте:"
      ]
    },
    {
      "cell_type": "code",
      "metadata": {
        "id": "pVowWxNqL6Zf",
        "outputId": "0526938c-8bf0-415e-c3f1-4d421d4e5c78",
        "colab": {
          "base_uri": "https://localhost:8080/",
          "height": 69
        }
      },
      "source": [
        "body_preprocess('''\n",
        "Algorithmm:\n",
        "\n",
        "**input :** Graph G\n",
        "\n",
        "**output:** Set of MSTs T\n",
        "\n",
        "**begin**\n",
        "\n",
        "T=null;\n",
        "E=G.Edges;\n",
        "\n",
        "for all vertices in G,\n",
        "Create a tree t having single vertex b\n",
        "\n",
        "add t to T\n",
        "\n",
        "end for\n",
        "\n",
        "     repeat\n",
        "        Find an edge e ∈ E having minimum weight\n",
        "        such that one end belongs to t ∈ T and the other\n",
        "        end does not belongs to any of the trees in T\n",
        "        Add e to t\n",
        "      until e = NULL\n",
        "\n",
        "I'm stuck on the logic for the highlighted block.\n",
        "I've used simple objects for vertex,edge and tree. And for their sets, used array of Objects.''')"
      ],
      "execution_count": 25,
      "outputs": [
        {
          "output_type": "execute_result",
          "data": {
            "application/vnd.google.colaboratory.intrinsic+json": {
              "type": "string"
            },
            "text/plain": [
              "'algorithmm input graph g output set of msts t begin tnull egedges for all vertices in g create a tree t having single vertex b add t to t end for repeat find an edge e e having minimum weight such that one end belongs to t t and the other end does not belongs to any of the trees in t add e to t until e null im stuck on the logic for the highlighted block ive used simple objects for vertexedge and tree and for their sets used array of objects'"
            ]
          },
          "metadata": {
            "tags": []
          },
          "execution_count": 25
        }
      ]
    },
    {
      "cell_type": "markdown",
      "metadata": {
        "id": "FwE-h5F3L6Zi"
      },
      "source": [
        "#### Препроцессинг для Body"
      ]
    },
    {
      "cell_type": "code",
      "metadata": {
        "id": "mHBR-0eFL6Zi",
        "outputId": "fdebc634-7383-415c-f716-405f3ff5d692",
        "colab": {
          "base_uri": "https://localhost:8080/"
        }
      },
      "source": [
        "train_data['Body'] = train_data['Body'].apply(body_preprocess)\n",
        "test_data ['Body'] = test_data ['Body'].apply(body_preprocess)"
      ],
      "execution_count": 98,
      "outputs": [
        {
          "output_type": "stream",
          "text": [
            "/usr/local/lib/python3.6/dist-packages/ipykernel_launcher.py:1: SettingWithCopyWarning: \n",
            "A value is trying to be set on a copy of a slice from a DataFrame.\n",
            "Try using .loc[row_indexer,col_indexer] = value instead\n",
            "\n",
            "See the caveats in the documentation: https://pandas.pydata.org/pandas-docs/stable/user_guide/indexing.html#returning-a-view-versus-a-copy\n",
            "  \"\"\"Entry point for launching an IPython kernel.\n",
            "/usr/local/lib/python3.6/dist-packages/ipykernel_launcher.py:2: SettingWithCopyWarning: \n",
            "A value is trying to be set on a copy of a slice from a DataFrame.\n",
            "Try using .loc[row_indexer,col_indexer] = value instead\n",
            "\n",
            "See the caveats in the documentation: https://pandas.pydata.org/pandas-docs/stable/user_guide/indexing.html#returning-a-view-versus-a-copy\n",
            "  \n"
          ],
          "name": "stderr"
        }
      ]
    },
    {
      "cell_type": "code",
      "metadata": {
        "id": "ZFxenX_GL6Zl",
        "outputId": "30602ef0-6f43-4289-8857-2a3428e754e8",
        "colab": {
          "base_uri": "https://localhost:8080/",
          "height": 235
        }
      },
      "source": [
        "train_data.head()"
      ],
      "execution_count": 99,
      "outputs": [
        {
          "output_type": "execute_result",
          "data": {
            "text/html": [
              "<div>\n",
              "<style scoped>\n",
              "    .dataframe tbody tr th:only-of-type {\n",
              "        vertical-align: middle;\n",
              "    }\n",
              "\n",
              "    .dataframe tbody tr th {\n",
              "        vertical-align: top;\n",
              "    }\n",
              "\n",
              "    .dataframe thead th {\n",
              "        text-align: right;\n",
              "    }\n",
              "</style>\n",
              "<table border=\"1\" class=\"dataframe\">\n",
              "  <thead>\n",
              "    <tr style=\"text-align: right;\">\n",
              "      <th></th>\n",
              "      <th>Body</th>\n",
              "      <th>Tags</th>\n",
              "      <th>Title</th>\n",
              "    </tr>\n",
              "    <tr>\n",
              "      <th>Id</th>\n",
              "      <th></th>\n",
              "      <th></th>\n",
              "      <th></th>\n",
              "    </tr>\n",
              "  </thead>\n",
              "  <tbody>\n",
              "    <tr>\n",
              "      <th>41452608</th>\n",
              "      <td>df dataframeid c desc ca a b b b i would like ...</td>\n",
              "      <td>&lt;r&gt;&lt;dplyr&gt;</td>\n",
              "      <td>R dplyr - count and select first row by group</td>\n",
              "    </tr>\n",
              "    <tr>\n",
              "      <th>39823020</th>\n",
              "      <td>pcan anyone tell what could be the solution of...</td>\n",
              "      <td>&lt;java&gt;&lt;android&gt;&lt;ads&gt;</td>\n",
              "      <td>AdMob ads in app not working on some devices</td>\n",
              "    </tr>\n",
              "    <tr>\n",
              "      <th>52003167</th>\n",
              "      <td>plets say i have codeacodep p i want to remove...</td>\n",
              "      <td>&lt;python&gt;&lt;python-3.x&gt;</td>\n",
              "      <td>How to remove more than one elements from list...</td>\n",
              "    </tr>\n",
              "    <tr>\n",
              "      <th>38850633</th>\n",
              "      <td>pi am new in ios development i have created on...</td>\n",
              "      <td>&lt;ios&gt;&lt;app-store&gt;</td>\n",
              "      <td>App submission with coming soon alert</td>\n",
              "    </tr>\n",
              "    <tr>\n",
              "      <th>54208043</th>\n",
              "      <td>pi want to change the default colors currently...</td>\n",
              "      <td>&lt;r&gt;&lt;ggplot2&gt;</td>\n",
              "      <td>How to change default color of points in ggplo...</td>\n",
              "    </tr>\n",
              "  </tbody>\n",
              "</table>\n",
              "</div>"
            ],
            "text/plain": [
              "                                                       Body  ...                                              Title\n",
              "Id                                                           ...                                                   \n",
              "41452608  df dataframeid c desc ca a b b b i would like ...  ...      R dplyr - count and select first row by group\n",
              "39823020  pcan anyone tell what could be the solution of...  ...       AdMob ads in app not working on some devices\n",
              "52003167  plets say i have codeacodep p i want to remove...  ...  How to remove more than one elements from list...\n",
              "38850633  pi am new in ios development i have created on...  ...              App submission with coming soon alert\n",
              "54208043  pi want to change the default colors currently...  ...  How to change default color of points in ggplo...\n",
              "\n",
              "[5 rows x 3 columns]"
            ]
          },
          "metadata": {
            "tags": []
          },
          "execution_count": 99
        }
      ]
    },
    {
      "cell_type": "markdown",
      "metadata": {
        "id": "WX2N5QGUL6Zp"
      },
      "source": [
        "#### Препроцессинг для Title"
      ]
    },
    {
      "cell_type": "markdown",
      "metadata": {
        "id": "HNK6bg8_7dZD"
      },
      "source": [
        "Выполнен по аналогии с body_preprocess, но использовался другой набор методов."
      ]
    },
    {
      "cell_type": "code",
      "metadata": {
        "id": "nf1aK37wL6Zp"
      },
      "source": [
        "def title_preprocessing(text):\n",
        "    text = stay_only_a_z(text)\n",
        "    text = tokenize_by_word(text)\n",
        "    return text.lower()"
      ],
      "execution_count": 91,
      "outputs": []
    },
    {
      "cell_type": "code",
      "metadata": {
        "id": "NJdjo99IL6Zt",
        "outputId": "453f777d-b6e3-494b-c09b-12996b45686b",
        "colab": {
          "base_uri": "https://localhost:8080/"
        }
      },
      "source": [
        "train_data['Title'] = train_data['Title'].apply(title_preprocessing)\n",
        "test_data ['Title'] = test_data ['Title'].apply(title_preprocessing)"
      ],
      "execution_count": 100,
      "outputs": [
        {
          "output_type": "stream",
          "text": [
            "/usr/local/lib/python3.6/dist-packages/ipykernel_launcher.py:1: SettingWithCopyWarning: \n",
            "A value is trying to be set on a copy of a slice from a DataFrame.\n",
            "Try using .loc[row_indexer,col_indexer] = value instead\n",
            "\n",
            "See the caveats in the documentation: https://pandas.pydata.org/pandas-docs/stable/user_guide/indexing.html#returning-a-view-versus-a-copy\n",
            "  \"\"\"Entry point for launching an IPython kernel.\n",
            "/usr/local/lib/python3.6/dist-packages/ipykernel_launcher.py:2: SettingWithCopyWarning: \n",
            "A value is trying to be set on a copy of a slice from a DataFrame.\n",
            "Try using .loc[row_indexer,col_indexer] = value instead\n",
            "\n",
            "See the caveats in the documentation: https://pandas.pydata.org/pandas-docs/stable/user_guide/indexing.html#returning-a-view-versus-a-copy\n",
            "  \n"
          ],
          "name": "stderr"
        }
      ]
    },
    {
      "cell_type": "code",
      "metadata": {
        "id": "RPHhVslhL6Zy",
        "outputId": "a0cda26f-1570-473e-e21b-48a3010db368",
        "colab": {
          "base_uri": "https://localhost:8080/",
          "height": 235
        }
      },
      "source": [
        "train_data.head()"
      ],
      "execution_count": 101,
      "outputs": [
        {
          "output_type": "execute_result",
          "data": {
            "text/html": [
              "<div>\n",
              "<style scoped>\n",
              "    .dataframe tbody tr th:only-of-type {\n",
              "        vertical-align: middle;\n",
              "    }\n",
              "\n",
              "    .dataframe tbody tr th {\n",
              "        vertical-align: top;\n",
              "    }\n",
              "\n",
              "    .dataframe thead th {\n",
              "        text-align: right;\n",
              "    }\n",
              "</style>\n",
              "<table border=\"1\" class=\"dataframe\">\n",
              "  <thead>\n",
              "    <tr style=\"text-align: right;\">\n",
              "      <th></th>\n",
              "      <th>Body</th>\n",
              "      <th>Tags</th>\n",
              "      <th>Title</th>\n",
              "    </tr>\n",
              "    <tr>\n",
              "      <th>Id</th>\n",
              "      <th></th>\n",
              "      <th></th>\n",
              "      <th></th>\n",
              "    </tr>\n",
              "  </thead>\n",
              "  <tbody>\n",
              "    <tr>\n",
              "      <th>41452608</th>\n",
              "      <td>df dataframeid c desc ca a b b b i would like ...</td>\n",
              "      <td>&lt;r&gt;&lt;dplyr&gt;</td>\n",
              "      <td>r dplyr count and select first row by group</td>\n",
              "    </tr>\n",
              "    <tr>\n",
              "      <th>39823020</th>\n",
              "      <td>pcan anyone tell what could be the solution of...</td>\n",
              "      <td>&lt;java&gt;&lt;android&gt;&lt;ads&gt;</td>\n",
              "      <td>admob ads in app not working on some devices</td>\n",
              "    </tr>\n",
              "    <tr>\n",
              "      <th>52003167</th>\n",
              "      <td>plets say i have codeacodep p i want to remove...</td>\n",
              "      <td>&lt;python&gt;&lt;python-3.x&gt;</td>\n",
              "      <td>how to remove more than one elements from list...</td>\n",
              "    </tr>\n",
              "    <tr>\n",
              "      <th>38850633</th>\n",
              "      <td>pi am new in ios development i have created on...</td>\n",
              "      <td>&lt;ios&gt;&lt;app-store&gt;</td>\n",
              "      <td>app submission with coming soon alert</td>\n",
              "    </tr>\n",
              "    <tr>\n",
              "      <th>54208043</th>\n",
              "      <td>pi want to change the default colors currently...</td>\n",
              "      <td>&lt;r&gt;&lt;ggplot2&gt;</td>\n",
              "      <td>how to change default color of points in ggplo...</td>\n",
              "    </tr>\n",
              "  </tbody>\n",
              "</table>\n",
              "</div>"
            ],
            "text/plain": [
              "                                                       Body  ...                                              Title\n",
              "Id                                                           ...                                                   \n",
              "41452608  df dataframeid c desc ca a b b b i would like ...  ...        r dplyr count and select first row by group\n",
              "39823020  pcan anyone tell what could be the solution of...  ...       admob ads in app not working on some devices\n",
              "52003167  plets say i have codeacodep p i want to remove...  ...  how to remove more than one elements from list...\n",
              "38850633  pi am new in ios development i have created on...  ...              app submission with coming soon alert\n",
              "54208043  pi want to change the default colors currently...  ...  how to change default color of points in ggplo...\n",
              "\n",
              "[5 rows x 3 columns]"
            ]
          },
          "metadata": {
            "tags": []
          },
          "execution_count": 101
        }
      ]
    },
    {
      "cell_type": "markdown",
      "metadata": {
        "id": "kBRSem-zL6Z1"
      },
      "source": [
        "## Определение исходных фич"
      ]
    },
    {
      "cell_type": "markdown",
      "metadata": {
        "id": "qOMNtFFV8ExG"
      },
      "source": [
        "Была проведена попытка объединить заголовок и текст вопроса.\n",
        "\n",
        "Предлагается также исключить из рассмотрения раздел тэгов.\n"
      ]
    },
    {
      "cell_type": "code",
      "metadata": {
        "id": "7oGJfbL2L6Z1"
      },
      "source": [
        "def get_raw_features(__data):\n",
        "    __data['text'] = __data['Title'] + ' ' + __data['Body']\n",
        "    return __data.drop(['Tags', 'Title', 'Body'], axis=1)"
      ],
      "execution_count": 31,
      "outputs": []
    },
    {
      "cell_type": "code",
      "metadata": {
        "id": "YlmAgFAA-jNC",
        "outputId": "ebaf03cd-343d-4c79-b692-7d9020571a6e",
        "colab": {
          "base_uri": "https://localhost:8080/"
        }
      },
      "source": [
        "train_data = get_raw_features(train_data)\n",
        "test_data = get_raw_features(test_data)"
      ],
      "execution_count": 102,
      "outputs": [
        {
          "output_type": "stream",
          "text": [
            "/usr/local/lib/python3.6/dist-packages/ipykernel_launcher.py:2: SettingWithCopyWarning: \n",
            "A value is trying to be set on a copy of a slice from a DataFrame.\n",
            "Try using .loc[row_indexer,col_indexer] = value instead\n",
            "\n",
            "See the caveats in the documentation: https://pandas.pydata.org/pandas-docs/stable/user_guide/indexing.html#returning-a-view-versus-a-copy\n",
            "  \n"
          ],
          "name": "stderr"
        }
      ]
    },
    {
      "cell_type": "code",
      "metadata": {
        "id": "hC9z6u23Cmd-",
        "outputId": "8b2b3754-583e-4873-c418-6698656994e7",
        "colab": {
          "base_uri": "https://localhost:8080/",
          "height": 235
        }
      },
      "source": [
        "train_data.head()"
      ],
      "execution_count": 103,
      "outputs": [
        {
          "output_type": "execute_result",
          "data": {
            "text/html": [
              "<div>\n",
              "<style scoped>\n",
              "    .dataframe tbody tr th:only-of-type {\n",
              "        vertical-align: middle;\n",
              "    }\n",
              "\n",
              "    .dataframe tbody tr th {\n",
              "        vertical-align: top;\n",
              "    }\n",
              "\n",
              "    .dataframe thead th {\n",
              "        text-align: right;\n",
              "    }\n",
              "</style>\n",
              "<table border=\"1\" class=\"dataframe\">\n",
              "  <thead>\n",
              "    <tr style=\"text-align: right;\">\n",
              "      <th></th>\n",
              "      <th>text</th>\n",
              "    </tr>\n",
              "    <tr>\n",
              "      <th>Id</th>\n",
              "      <th></th>\n",
              "    </tr>\n",
              "  </thead>\n",
              "  <tbody>\n",
              "    <tr>\n",
              "      <th>41452608</th>\n",
              "      <td>r dplyr count and select first row by group df...</td>\n",
              "    </tr>\n",
              "    <tr>\n",
              "      <th>39823020</th>\n",
              "      <td>admob ads in app not working on some devices p...</td>\n",
              "    </tr>\n",
              "    <tr>\n",
              "      <th>52003167</th>\n",
              "      <td>how to remove more than one elements from list...</td>\n",
              "    </tr>\n",
              "    <tr>\n",
              "      <th>38850633</th>\n",
              "      <td>app submission with coming soon alert pi am ne...</td>\n",
              "    </tr>\n",
              "    <tr>\n",
              "      <th>54208043</th>\n",
              "      <td>how to change default color of points in ggplo...</td>\n",
              "    </tr>\n",
              "  </tbody>\n",
              "</table>\n",
              "</div>"
            ],
            "text/plain": [
              "                                                       text\n",
              "Id                                                         \n",
              "41452608  r dplyr count and select first row by group df...\n",
              "39823020  admob ads in app not working on some devices p...\n",
              "52003167  how to remove more than one elements from list...\n",
              "38850633  app submission with coming soon alert pi am ne...\n",
              "54208043  how to change default color of points in ggplo..."
            ]
          },
          "metadata": {
            "tags": []
          },
          "execution_count": 103
        }
      ]
    },
    {
      "cell_type": "code",
      "metadata": {
        "id": "h7HAmM6fL6Z_",
        "outputId": "c3c1f9a5-3baa-40d5-c549-f1127580c6d3",
        "colab": {
          "base_uri": "https://localhost:8080/",
          "height": 235
        }
      },
      "source": [
        "test_data.head()"
      ],
      "execution_count": 104,
      "outputs": [
        {
          "output_type": "execute_result",
          "data": {
            "text/html": [
              "<div>\n",
              "<style scoped>\n",
              "    .dataframe tbody tr th:only-of-type {\n",
              "        vertical-align: middle;\n",
              "    }\n",
              "\n",
              "    .dataframe tbody tr th {\n",
              "        vertical-align: top;\n",
              "    }\n",
              "\n",
              "    .dataframe thead th {\n",
              "        text-align: right;\n",
              "    }\n",
              "</style>\n",
              "<table border=\"1\" class=\"dataframe\">\n",
              "  <thead>\n",
              "    <tr style=\"text-align: right;\">\n",
              "      <th></th>\n",
              "      <th>text</th>\n",
              "    </tr>\n",
              "    <tr>\n",
              "      <th>Id</th>\n",
              "      <th></th>\n",
              "    </tr>\n",
              "  </thead>\n",
              "  <tbody>\n",
              "    <tr>\n",
              "      <th>51918932</th>\n",
              "      <td>how to properly include a library from nodemod...</td>\n",
              "    </tr>\n",
              "    <tr>\n",
              "      <th>46068744</th>\n",
              "      <td>getting error in compiling unity universal win...</td>\n",
              "    </tr>\n",
              "    <tr>\n",
              "      <th>36958873</th>\n",
              "      <td>crm unsupported line of code html resource i j...</td>\n",
              "    </tr>\n",
              "    <tr>\n",
              "      <th>57230064</th>\n",
              "      <td>javalangindexoutofboundsexception invalid inde...</td>\n",
              "    </tr>\n",
              "    <tr>\n",
              "      <th>51532513</th>\n",
              "      <td>ios how to show htmlstring into webview the ht...</td>\n",
              "    </tr>\n",
              "  </tbody>\n",
              "</table>\n",
              "</div>"
            ],
            "text/plain": [
              "                                                       text\n",
              "Id                                                         \n",
              "51918932  how to properly include a library from nodemod...\n",
              "46068744  getting error in compiling unity universal win...\n",
              "36958873  crm unsupported line of code html resource i j...\n",
              "57230064  javalangindexoutofboundsexception invalid inde...\n",
              "51532513  ios how to show htmlstring into webview the ht..."
            ]
          },
          "metadata": {
            "tags": []
          },
          "execution_count": 104
        }
      ]
    },
    {
      "cell_type": "code",
      "metadata": {
        "id": "1QuGcmubL6aC"
      },
      "source": [
        "train_data = train_data['text']\n",
        "test_data = test_data['text']\n",
        "\n",
        "train_target = train_target.values\n",
        "test_target  = test_target.values"
      ],
      "execution_count": 105,
      "outputs": []
    },
    {
      "cell_type": "markdown",
      "metadata": {
        "id": "V5ZOfZPT9Qcx"
      },
      "source": [
        "## Решение задачи классическими методами"
      ]
    },
    {
      "cell_type": "markdown",
      "metadata": {
        "id": "-sfomX7KCdU-"
      },
      "source": [
        "### Классические методы векторизации данных"
      ]
    },
    {
      "cell_type": "markdown",
      "metadata": {
        "id": "iq4cxmmXCoEJ"
      },
      "source": [
        "#### 1. BOW (Bag of words)"
      ]
    },
    {
      "cell_type": "code",
      "metadata": {
        "id": "mJ64NclEIMo2"
      },
      "source": [
        "def bow(train, test):\n",
        "    bow_vectorizer = CountVectorizer()\n",
        "    train_vec = bow_vectorizer.fit_transform(train)\n",
        "    test_vec = bow_vectorizer.transform(test)\n",
        "    return train_vec, test_vec"
      ],
      "execution_count": 36,
      "outputs": []
    },
    {
      "cell_type": "markdown",
      "metadata": {
        "id": "oUHByJaxIEyC"
      },
      "source": [
        "#### 2. tf-idf"
      ]
    },
    {
      "cell_type": "code",
      "metadata": {
        "id": "kusXPLLDCiWR"
      },
      "source": [
        "def tf_idf(train, test):\n",
        "    tfidf_vectorizer = TfidfVectorizer()\n",
        "    train_vec = tfidf_vectorizer.fit_transform(train)\n",
        "    test_vec = tfidf_vectorizer.transform(test)\n",
        "\n",
        "    return train_vec, test_vec"
      ],
      "execution_count": 37,
      "outputs": []
    },
    {
      "cell_type": "markdown",
      "metadata": {
        "id": "gp8HDPeKJadX"
      },
      "source": [
        "### Построение классических классификаторов\n"
      ]
    },
    {
      "cell_type": "markdown",
      "metadata": {
        "id": "-TB9am4TJhBM"
      },
      "source": [
        "#### 1. k Nearest Neighbors (kNN)"
      ]
    },
    {
      "cell_type": "code",
      "metadata": {
        "id": "kv0xxyvMJ8x6"
      },
      "source": [
        "def knn_score(trainX, trainY, testX, testY):\n",
        "    knn_classifier = KNeighborsClassifier()\n",
        "    knn_classifier.fit(trainX, trainY)\n",
        "    return knn_classifier.score(testX, testY)"
      ],
      "execution_count": 38,
      "outputs": []
    },
    {
      "cell_type": "markdown",
      "metadata": {
        "id": "cKuzGUa4JoSD"
      },
      "source": [
        "#### 2. Random Forests"
      ]
    },
    {
      "cell_type": "code",
      "metadata": {
        "id": "LaMW8OEJJj-a"
      },
      "source": [
        "def random_forest_score(trainX, trainY, testX, testY):\n",
        "    rf_classifier = RandomForestClassifier()\n",
        "    rf_classifier.fit(trainX, trainY)\n",
        "    return rf_classifier.score(testX, testY)"
      ],
      "execution_count": 39,
      "outputs": []
    },
    {
      "cell_type": "markdown",
      "metadata": {
        "id": "PTCHZxyhKhIj"
      },
      "source": [
        "#### 3. Логистическая регрессия"
      ]
    },
    {
      "cell_type": "code",
      "metadata": {
        "id": "phyDRDQbKgpe"
      },
      "source": [
        "def lr_score(trainX, trainY, testX, testY):\n",
        "    lr_classifier = LogisticRegression()\n",
        "    lr_classifier.fit(trainX, trainY)\n",
        "    return lr_classifier.score(testX, testY)"
      ],
      "execution_count": 40,
      "outputs": []
    },
    {
      "cell_type": "code",
      "metadata": {
        "id": "XTUyvezPlu3r"
      },
      "source": [
        "def visualize_results(score):\n",
        "    print(score)\n",
        "\n",
        "def base_pipeline(train_x, train_y, test_x, test_y,\n",
        "                  vectorizer, scorer):\n",
        "    vectorized_train_x, vectorized_test_x = vectorizer(train_x, test_x)\n",
        "    score = scorer(vectorized_train_x, train_y, vectorized_test_x, test_y)\n",
        "    visualize_results(score)"
      ],
      "execution_count": 41,
      "outputs": []
    },
    {
      "cell_type": "markdown",
      "metadata": {
        "id": "XrO_OhlG1S--"
      },
      "source": [
        "### Оценка качества классификаторов"
      ]
    },
    {
      "cell_type": "markdown",
      "metadata": {
        "id": "-I9ZvP9U1b5b"
      },
      "source": [
        "1. BOW + Linear Regression"
      ]
    },
    {
      "cell_type": "code",
      "metadata": {
        "id": "tQ1u7-AQput5",
        "outputId": "4394affd-1d63-4b7c-97fc-23cfd78d072d",
        "colab": {
          "base_uri": "https://localhost:8080/"
        }
      },
      "source": [
        "base_pipeline(train_data, train_target, test_data, test_target,\n",
        "              bow, lr_score)"
      ],
      "execution_count": 42,
      "outputs": [
        {
          "output_type": "stream",
          "text": [
            "0.8831666666666667\n"
          ],
          "name": "stdout"
        },
        {
          "output_type": "stream",
          "text": [
            "/usr/local/lib/python3.6/dist-packages/sklearn/linear_model/_logistic.py:940: ConvergenceWarning: lbfgs failed to converge (status=1):\n",
            "STOP: TOTAL NO. of ITERATIONS REACHED LIMIT.\n",
            "\n",
            "Increase the number of iterations (max_iter) or scale the data as shown in:\n",
            "    https://scikit-learn.org/stable/modules/preprocessing.html\n",
            "Please also refer to the documentation for alternative solver options:\n",
            "    https://scikit-learn.org/stable/modules/linear_model.html#logistic-regression\n",
            "  extra_warning_msg=_LOGISTIC_SOLVER_CONVERGENCE_MSG)\n"
          ],
          "name": "stderr"
        }
      ]
    },
    {
      "cell_type": "markdown",
      "metadata": {
        "id": "yiG575Dd1hAZ"
      },
      "source": [
        "2. BOW + kNN"
      ]
    },
    {
      "cell_type": "code",
      "metadata": {
        "id": "Nd1AQja51kNh",
        "outputId": "220c77bd-dced-4488-919d-15cd1ed692a7",
        "colab": {
          "base_uri": "https://localhost:8080/"
        }
      },
      "source": [
        "base_pipeline(train_data, train_target, test_data, test_target,\n",
        "              bow, knn_score)"
      ],
      "execution_count": 43,
      "outputs": [
        {
          "output_type": "stream",
          "text": [
            "0.49683333333333335\n"
          ],
          "name": "stdout"
        }
      ]
    },
    {
      "cell_type": "markdown",
      "metadata": {
        "id": "TTVxvqy91nKB"
      },
      "source": [
        "3. BOW + Random Forests"
      ]
    },
    {
      "cell_type": "code",
      "metadata": {
        "id": "fDyxaz5a1qAS",
        "outputId": "259d5ddd-6fe5-4553-b7ad-7fc3ff16f67f",
        "colab": {
          "base_uri": "https://localhost:8080/"
        }
      },
      "source": [
        "base_pipeline(train_data, train_target, test_data, test_target,\n",
        "              bow, random_forest_score)"
      ],
      "execution_count": 44,
      "outputs": [
        {
          "output_type": "stream",
          "text": [
            "0.82925\n"
          ],
          "name": "stdout"
        }
      ]
    },
    {
      "cell_type": "markdown",
      "metadata": {
        "id": "0-US4L8714WG"
      },
      "source": [
        "4. tf-idf + kNN"
      ]
    },
    {
      "cell_type": "code",
      "metadata": {
        "id": "WjRWpaKV2FaA",
        "outputId": "868eabfc-6164-468d-f5e7-f68902e3793e",
        "colab": {
          "base_uri": "https://localhost:8080/"
        }
      },
      "source": [
        "base_pipeline(train_data, train_target, test_data, test_target,\n",
        "              tf_idf, knn_score)"
      ],
      "execution_count": 45,
      "outputs": [
        {
          "output_type": "stream",
          "text": [
            "0.577\n"
          ],
          "name": "stdout"
        }
      ]
    },
    {
      "cell_type": "markdown",
      "metadata": {
        "id": "qkAtq14l18TA"
      },
      "source": [
        "5. tf-idf + Random Forests"
      ]
    },
    {
      "cell_type": "code",
      "metadata": {
        "id": "B4nZhQOZ2MRx",
        "outputId": "810d9a09-e70c-457a-e848-be4b6624b5f8",
        "colab": {
          "base_uri": "https://localhost:8080/"
        }
      },
      "source": [
        "base_pipeline(train_data, train_target, test_data, test_target,\n",
        "              tf_idf, random_forest_score)"
      ],
      "execution_count": 46,
      "outputs": [
        {
          "output_type": "stream",
          "text": [
            "0.8310833333333333\n"
          ],
          "name": "stdout"
        }
      ]
    },
    {
      "cell_type": "markdown",
      "metadata": {
        "id": "v2T17rzF2Aiz"
      },
      "source": [
        "6. tf-idf + Linear Regression"
      ]
    },
    {
      "cell_type": "code",
      "metadata": {
        "id": "NpYxcWJoL6ap",
        "outputId": "3c5da8e1-05f2-4798-e40d-516476b51a6d",
        "colab": {
          "base_uri": "https://localhost:8080/"
        }
      },
      "source": [
        "base_pipeline(train_data, train_target, test_data, test_target,\n",
        "              tf_idf, lr_score)"
      ],
      "execution_count": 47,
      "outputs": [
        {
          "output_type": "stream",
          "text": [
            "0.8795\n"
          ],
          "name": "stdout"
        },
        {
          "output_type": "stream",
          "text": [
            "/usr/local/lib/python3.6/dist-packages/sklearn/linear_model/_logistic.py:940: ConvergenceWarning: lbfgs failed to converge (status=1):\n",
            "STOP: TOTAL NO. of ITERATIONS REACHED LIMIT.\n",
            "\n",
            "Increase the number of iterations (max_iter) or scale the data as shown in:\n",
            "    https://scikit-learn.org/stable/modules/preprocessing.html\n",
            "Please also refer to the documentation for alternative solver options:\n",
            "    https://scikit-learn.org/stable/modules/linear_model.html#logistic-regression\n",
            "  extra_warning_msg=_LOGISTIC_SOLVER_CONVERGENCE_MSG)\n"
          ],
          "name": "stderr"
        }
      ]
    },
    {
      "cell_type": "markdown",
      "metadata": {
        "id": "rhlgws5J3umY"
      },
      "source": [
        "Полученные результаты сведем в таблицу:\n",
        "\n",
        "Тип | BOW | tf-idf\n",
        ":----- | :----: | -----:\n",
        "**kNN**   | 0.50 | 0.58\n",
        "**Random Forest**  | 0.83  | 0.83\n",
        "**Linear Regression**  | 0.88  | 0.88\n",
        "\n",
        "\n"
      ]
    },
    {
      "cell_type": "markdown",
      "metadata": {
        "id": "sgkzcoXK4SNl"
      },
      "source": [
        "Наилучший результат (score = 0.88) получили при использовании линейной регрессии."
      ]
    },
    {
      "cell_type": "markdown",
      "metadata": {
        "id": "8ZIKIVtu9pSE"
      },
      "source": [
        "## Использование предобученных эмбеддингов для векторизации"
      ]
    },
    {
      "cell_type": "markdown",
      "metadata": {
        "id": "nRcGUrpm7mXj"
      },
      "source": [
        "### Векторизация с использованием w2v"
      ]
    },
    {
      "cell_type": "markdown",
      "metadata": {
        "id": "8Us-XykDyOGk"
      },
      "source": [
        "Первая версия модели, от Google, обученная на новостных данных."
      ]
    },
    {
      "cell_type": "code",
      "metadata": {
        "id": "Ra7rVmw2L6at",
        "outputId": "aae5a3be-86e8-4845-b602-5a508042a967",
        "colab": {
          "base_uri": "https://localhost:8080/"
        }
      },
      "source": [
        "import gensim.downloader as api\n",
        "word2vec_model300 = api.load('word2vec-google-news-300')\n",
        "word2vec_model300['upload']"
      ],
      "execution_count": 58,
      "outputs": [
        {
          "output_type": "stream",
          "text": [
            "[=================================================-] 100.0% 1662.6/1662.8MB downloaded\n"
          ],
          "name": "stdout"
        },
        {
          "output_type": "execute_result",
          "data": {
            "text/plain": [
              "array([-0.08251953, -0.03393555, -0.05200195,  0.08691406,  0.04663086,\n",
              "        0.10205078,  0.11523438,  0.14941406,  0.07617188, -0.02319336,\n",
              "       -0.28515625,  0.06298828, -0.06591797,  0.08105469, -0.18261719,\n",
              "        0.34765625,  0.25390625,  0.21386719, -0.03833008, -0.20800781,\n",
              "       -0.01513672,  0.05859375, -0.31054688,  0.3125    , -0.046875  ,\n",
              "       -0.21386719,  0.09960938, -0.140625  ,  0.13964844, -0.31445312,\n",
              "       -0.25      , -0.00430298, -0.02282715, -0.15625   , -0.19921875,\n",
              "       -0.33398438,  0.00476074, -0.20996094,  0.18164062,  0.16015625,\n",
              "       -0.11425781,  0.23535156,  0.31445312,  0.15722656,  0.01086426,\n",
              "       -0.2890625 , -0.08105469,  0.12988281,  0.0213623 , -0.0625    ,\n",
              "       -0.17871094, -0.30859375,  0.26953125, -0.16308594, -0.00300598,\n",
              "       -0.01782227, -0.05444336,  0.05200195, -0.20507812,  0.31445312,\n",
              "        0.48828125, -0.16601562, -0.23828125, -0.16992188, -0.1484375 ,\n",
              "        0.05541992, -0.19140625,  0.00189209,  0.26171875,  0.34375   ,\n",
              "       -0.1953125 ,  0.31445312,  0.05859375, -0.19238281,  0.06933594,\n",
              "       -0.23242188,  0.13867188, -0.09130859,  0.12109375,  0.09179688,\n",
              "        0.16308594, -0.02783203,  0.06176758,  0.18847656,  0.5390625 ,\n",
              "       -0.13671875, -0.20898438,  0.30859375, -0.07177734,  0.16699219,\n",
              "       -0.19238281, -0.16796875, -0.12304688, -0.38085938, -0.00418091,\n",
              "       -0.01928711,  0.14941406,  0.39648438,  0.26367188,  0.17382812,\n",
              "        0.29492188, -0.05151367, -0.18945312,  0.12792969,  0.003479  ,\n",
              "        0.16699219, -0.0300293 ,  0.29101562,  0.25390625, -0.03637695,\n",
              "       -0.02856445, -0.1328125 , -0.10107422, -0.13476562,  0.24707031,\n",
              "        0.10302734, -0.1953125 , -0.33203125,  0.08935547,  0.04150391,\n",
              "       -0.11083984, -0.328125  , -0.359375  ,  0.09521484,  0.17773438,\n",
              "        0.27148438, -0.35742188, -0.16210938, -0.08447266,  0.13378906,\n",
              "       -0.03979492,  0.04956055,  0.01074219,  0.29101562,  0.06982422,\n",
              "       -0.12353516, -0.04882812, -0.0065918 ,  0.06103516, -0.24609375,\n",
              "        0.08398438, -0.16796875, -0.15234375, -0.03735352,  0.19726562,\n",
              "       -0.0859375 , -0.01635742, -0.17480469, -0.1328125 , -0.35742188,\n",
              "        0.25      , -0.11865234,  0.27148438,  0.05615234,  0.19042969,\n",
              "       -0.49804688,  0.0480957 ,  0.15136719, -0.34765625,  0.24707031,\n",
              "       -0.16796875,  0.12255859, -0.2890625 ,  0.23242188,  0.05517578,\n",
              "       -0.11669922,  0.06835938, -0.25195312, -0.19140625,  0.02124023,\n",
              "       -0.22265625,  0.03417969,  0.24316406,  0.20117188, -0.20898438,\n",
              "       -0.07617188, -0.16113281, -0.17089844, -0.203125  ,  0.06396484,\n",
              "       -0.05541992, -0.12988281, -0.05249023, -0.14257812, -0.01239014,\n",
              "        0.0625    , -0.24316406,  0.00309753, -0.17480469,  0.02770996,\n",
              "        0.01635742, -0.12792969, -0.22851562, -0.18847656,  0.00382996,\n",
              "        0.11035156,  0.16992188, -0.0035553 , -0.03637695, -0.33984375,\n",
              "        0.16796875,  0.28125   , -0.13867188, -0.08837891, -0.02587891,\n",
              "       -0.13183594, -0.10888672, -0.42382812,  0.05029297,  0.0703125 ,\n",
              "       -0.01501465,  0.3203125 ,  0.01708984,  0.24121094, -0.38867188,\n",
              "        0.02893066,  0.04321289, -0.12597656, -0.21386719, -0.47851562,\n",
              "       -0.30664062,  0.30078125, -0.42382812, -0.62109375, -0.24804688,\n",
              "       -0.0279541 , -0.51171875, -0.03881836,  0.06542969, -0.27929688,\n",
              "       -0.13183594, -0.24804688,  0.01385498,  0.09863281,  0.390625  ,\n",
              "       -0.18261719,  0.39648438, -0.15527344,  0.03125   ,  0.14746094,\n",
              "       -0.12792969,  0.125     , -0.09228516, -0.09423828, -0.15917969,\n",
              "       -0.05932617, -0.1640625 ,  0.59375   ,  0.18847656, -0.47460938,\n",
              "        0.01184082,  0.00469971, -0.07763672,  0.06689453,  0.09667969,\n",
              "        0.21289062,  0.06835938,  0.19726562, -0.1953125 , -0.28710938,\n",
              "       -0.13671875, -0.00204468,  0.15722656,  0.01257324,  0.17285156,\n",
              "       -0.31445312, -0.01525879,  0.20019531, -0.25585938, -0.2890625 ,\n",
              "        0.24023438,  0.43359375,  0.19238281,  0.24609375,  0.10693359,\n",
              "       -0.45898438, -0.03881836,  0.06884766, -0.05029297,  0.07519531,\n",
              "        0.05151367, -0.01177979, -0.07128906,  0.12792969,  0.02880859,\n",
              "        0.16503906,  0.07617188,  0.15234375,  0.22753906,  0.07226562,\n",
              "        0.2109375 ,  0.32226562, -0.13183594,  0.08251953, -0.12792969,\n",
              "       -0.10791016,  0.10839844, -0.45507812, -0.16796875,  0.03271484],\n",
              "      dtype=float32)"
            ]
          },
          "metadata": {
            "tags": []
          },
          "execution_count": 58
        }
      ]
    },
    {
      "cell_type": "markdown",
      "metadata": {
        "id": "7c63NxFlyvaE"
      },
      "source": [
        "Вторая модель w2v, обученная на данных StaskOverflow. Попробуем использовать её и сравнить с оригинальной от Google. Гипотеза заключается в том, что на stackoverflow версии точность предсказания должна быть выше, поскольку он был обучен на схожей с нашей выборке."
      ]
    },
    {
      "cell_type": "code",
      "metadata": {
        "id": "CprhL3m7ugzL"
      },
      "source": [
        "from gensim.models.keyedvectors import KeyedVectors\n",
        "so_w2v = KeyedVectors.load_word2vec_format(os.path.join(data_prefix, \"SO_vectors_200.bin\"), binary=True)"
      ],
      "execution_count": 70,
      "outputs": []
    },
    {
      "cell_type": "code",
      "metadata": {
        "id": "KZuImrzOL6ax"
      },
      "source": [
        "def get_w2v_str_representation_mean(text, model):\n",
        "    words = text.split()\n",
        "    words_representation = [model[word] for word in words if word in model.vocab]\n",
        "    return np.mean(words_representation, axis=0)\n",
        "\n",
        "def get_w2v_str_representation_sum(text, model):\n",
        "    words = text.split()\n",
        "    words_representation = [model[word] for word in words if word in model.vocab]\n",
        "    return np.sum(words_representation, axis=0)"
      ],
      "execution_count": 12,
      "outputs": []
    },
    {
      "cell_type": "markdown",
      "metadata": {
        "id": "j1TqmbyDv22Z"
      },
      "source": [
        "Проверим работоспособность на тестовой строке."
      ]
    },
    {
      "cell_type": "code",
      "metadata": {
        "id": "dSzG8G_bv6Gp"
      },
      "source": [
        "w2v_test_str = 'algorithmm input graph g output set of msts t begin tnull egedges for all vertices in g create a tree t having single vertex b add t to t end for repeat find an edge e e having minimum weight such that one end belongs to t t and the other end does not belongs to any of the trees in t add e to t until e null im stuck on the logic for the highlighted block ive used simple objects for vertexedge and tree and for their sets used array of objects'"
      ],
      "execution_count": 77,
      "outputs": []
    },
    {
      "cell_type": "code",
      "metadata": {
        "id": "UgBAgT7Zyal4",
        "outputId": "e53ee3be-c18f-4f4c-f2a1-c530650ae811",
        "colab": {
          "base_uri": "https://localhost:8080/"
        }
      },
      "source": [
        "print(get_w2v_str_representation_sum(w2v_test_str, so_w2v)[:10])\n",
        "print(get_w2v_str_representation_sum(w2v_test_str, word2vec_model300)[:10])"
      ],
      "execution_count": 76,
      "outputs": [
        {
          "output_type": "stream",
          "text": [
            "[  8.154484  12.033579 -41.343773  38.206593 -77.40206   46.77203\n",
            "  28.464117  15.215707 -20.109539  -9.964755]\n",
            "[-1.1984253  3.0158386  1.1643982  8.2055855 -7.5487366 -1.7441101\n",
            "  1.474762  -5.4065857  4.599365   4.1917725]\n"
          ],
          "name": "stdout"
        }
      ]
    },
    {
      "cell_type": "code",
      "metadata": {
        "id": "uNgduka7w7-l"
      },
      "source": [
        "def w2v_vectorizer_sum_news(train, test):\n",
        "    return ([get_w2v_str_representation_sum(text, word2vec_model300) for text in train],\n",
        "            [get_w2v_str_representation_sum(text, word2vec_model300) for text in test])\n",
        "\n",
        "def w2v_vectorizer_mean_news(train, test):\n",
        "    return ([get_w2v_str_representation_mean(text, word2vec_model300) for text in train],\n",
        "            [get_w2v_str_representation_mean(text, word2vec_model300) for text in test])\n",
        "\n",
        "def w2v_vectorizer_sum_so(train, test):\n",
        "    return ([get_w2v_str_representation_sum(text, so_w2v) for text in train],\n",
        "            [get_w2v_str_representation_sum(text, so_w2v) for text in test])\n",
        "\n",
        "def w2v_vectorizer_mean_so(train, test):\n",
        "    return ([get_w2v_str_representation_mean(text, so_w2v) for text in train],\n",
        "            [get_w2v_str_representation_mean(text, so_w2v) for text in test])\n"
      ],
      "execution_count": 78,
      "outputs": []
    },
    {
      "cell_type": "markdown",
      "metadata": {
        "id": "JsBDoCDV0Jqi"
      },
      "source": [
        "### Векторизация с использованием Doc2Vec"
      ]
    },
    {
      "cell_type": "code",
      "metadata": {
        "id": "272vcyGB0PRd",
        "outputId": "2b0c9324-fe8e-4fe4-9e75-85ac23af4e56",
        "colab": {
          "base_uri": "https://localhost:8080/"
        }
      },
      "source": [
        "from gensim.models.doc2vec import Doc2Vec\n",
        "\n",
        "d2v_model= Doc2Vec.load(os.path.join(data_prefix, \"doc2vec.bin\"))"
      ],
      "execution_count": 82,
      "outputs": [
        {
          "output_type": "stream",
          "text": [
            "/usr/local/lib/python3.6/dist-packages/gensim/models/doc2vec.py:566: UserWarning: The parameter `iter` is deprecated, will be removed in 4.0.0, use `epochs` instead.\n",
            "  warnings.warn(\"The parameter `iter` is deprecated, will be removed in 4.0.0, use `epochs` instead.\")\n",
            "/usr/local/lib/python3.6/dist-packages/gensim/models/doc2vec.py:570: UserWarning: The parameter `size` is deprecated, will be removed in 4.0.0, use `vector_size` instead.\n",
            "  warnings.warn(\"The parameter `size` is deprecated, will be removed in 4.0.0, use `vector_size` instead.\")\n"
          ],
          "name": "stderr"
        }
      ]
    },
    {
      "cell_type": "code",
      "metadata": {
        "id": "lyf_vXlx3zBy"
      },
      "source": [
        "def d2v_vectorizer(train, test):\n",
        "    return ([d2v_model.infer_vector([text]) for text in train],\n",
        "            [d2v_model.infer_vector([text]) for text in test])"
      ],
      "execution_count": 89,
      "outputs": []
    },
    {
      "cell_type": "markdown",
      "metadata": {
        "id": "lQCuLgjr386X"
      },
      "source": [
        "### Проверка точности"
      ]
    },
    {
      "cell_type": "markdown",
      "metadata": {
        "id": "2TUikhUG4aNN"
      },
      "source": [
        "Будем использовать линейную регрессию, которая ранее показала наилучший результат на других методах векторизации."
      ]
    },
    {
      "cell_type": "code",
      "metadata": {
        "id": "J6FVvD2y4Agu",
        "outputId": "ad197002-a935-4572-f45a-9c8a7ab9ad38",
        "colab": {
          "base_uri": "https://localhost:8080/"
        }
      },
      "source": [
        "base_pipeline(train_data, train_target, test_data, test_target,\n",
        "              w2v_vectorizer_sum_news, lr_score)"
      ],
      "execution_count": 84,
      "outputs": [
        {
          "output_type": "stream",
          "text": [
            "0.7115\n"
          ],
          "name": "stdout"
        },
        {
          "output_type": "stream",
          "text": [
            "/usr/local/lib/python3.6/dist-packages/sklearn/linear_model/_logistic.py:940: ConvergenceWarning: lbfgs failed to converge (status=1):\n",
            "STOP: TOTAL NO. of ITERATIONS REACHED LIMIT.\n",
            "\n",
            "Increase the number of iterations (max_iter) or scale the data as shown in:\n",
            "    https://scikit-learn.org/stable/modules/preprocessing.html\n",
            "Please also refer to the documentation for alternative solver options:\n",
            "    https://scikit-learn.org/stable/modules/linear_model.html#logistic-regression\n",
            "  extra_warning_msg=_LOGISTIC_SOLVER_CONVERGENCE_MSG)\n"
          ],
          "name": "stderr"
        }
      ]
    },
    {
      "cell_type": "code",
      "metadata": {
        "id": "I38dB-ee4QKE",
        "outputId": "404e0ba3-e2b1-4be5-bca1-1203bc9aa568",
        "colab": {
          "base_uri": "https://localhost:8080/"
        }
      },
      "source": [
        "base_pipeline(train_data, train_target, test_data, test_target,\n",
        "              w2v_vectorizer_mean_news, lr_score)"
      ],
      "execution_count": 85,
      "outputs": [
        {
          "output_type": "stream",
          "text": [
            "0.7126666666666667\n"
          ],
          "name": "stdout"
        },
        {
          "output_type": "stream",
          "text": [
            "/usr/local/lib/python3.6/dist-packages/sklearn/linear_model/_logistic.py:940: ConvergenceWarning: lbfgs failed to converge (status=1):\n",
            "STOP: TOTAL NO. of ITERATIONS REACHED LIMIT.\n",
            "\n",
            "Increase the number of iterations (max_iter) or scale the data as shown in:\n",
            "    https://scikit-learn.org/stable/modules/preprocessing.html\n",
            "Please also refer to the documentation for alternative solver options:\n",
            "    https://scikit-learn.org/stable/modules/linear_model.html#logistic-regression\n",
            "  extra_warning_msg=_LOGISTIC_SOLVER_CONVERGENCE_MSG)\n"
          ],
          "name": "stderr"
        }
      ]
    },
    {
      "cell_type": "code",
      "metadata": {
        "id": "sOPHgGa44rI-",
        "outputId": "0eb5ca1d-4a0f-49a8-a13f-1c40972f699e",
        "colab": {
          "base_uri": "https://localhost:8080/"
        }
      },
      "source": [
        "base_pipeline(train_data, train_target, test_data, test_target,\n",
        "              w2v_vectorizer_sum_so, lr_score)"
      ],
      "execution_count": 86,
      "outputs": [
        {
          "output_type": "stream",
          "text": [
            "0.7144166666666667\n"
          ],
          "name": "stdout"
        },
        {
          "output_type": "stream",
          "text": [
            "/usr/local/lib/python3.6/dist-packages/sklearn/linear_model/_logistic.py:940: ConvergenceWarning: lbfgs failed to converge (status=1):\n",
            "STOP: TOTAL NO. of ITERATIONS REACHED LIMIT.\n",
            "\n",
            "Increase the number of iterations (max_iter) or scale the data as shown in:\n",
            "    https://scikit-learn.org/stable/modules/preprocessing.html\n",
            "Please also refer to the documentation for alternative solver options:\n",
            "    https://scikit-learn.org/stable/modules/linear_model.html#logistic-regression\n",
            "  extra_warning_msg=_LOGISTIC_SOLVER_CONVERGENCE_MSG)\n"
          ],
          "name": "stderr"
        }
      ]
    },
    {
      "cell_type": "code",
      "metadata": {
        "id": "TvVemtWh4tet",
        "outputId": "85d4babb-e115-4937-e53c-fb6a9df0ae55",
        "colab": {
          "base_uri": "https://localhost:8080/"
        }
      },
      "source": [
        "base_pipeline(train_data, train_target, test_data, test_target,\n",
        "              w2v_vectorizer_mean_so, lr_score)"
      ],
      "execution_count": 87,
      "outputs": [
        {
          "output_type": "stream",
          "text": [
            "0.7256666666666667\n"
          ],
          "name": "stdout"
        },
        {
          "output_type": "stream",
          "text": [
            "/usr/local/lib/python3.6/dist-packages/sklearn/linear_model/_logistic.py:940: ConvergenceWarning: lbfgs failed to converge (status=1):\n",
            "STOP: TOTAL NO. of ITERATIONS REACHED LIMIT.\n",
            "\n",
            "Increase the number of iterations (max_iter) or scale the data as shown in:\n",
            "    https://scikit-learn.org/stable/modules/preprocessing.html\n",
            "Please also refer to the documentation for alternative solver options:\n",
            "    https://scikit-learn.org/stable/modules/linear_model.html#logistic-regression\n",
            "  extra_warning_msg=_LOGISTIC_SOLVER_CONVERGENCE_MSG)\n"
          ],
          "name": "stderr"
        }
      ]
    },
    {
      "cell_type": "code",
      "metadata": {
        "id": "0aFGM1mT4wp1",
        "outputId": "415ccfa9-f965-43cb-d540-d1272cc4ff90",
        "colab": {
          "base_uri": "https://localhost:8080/"
        }
      },
      "source": [
        "base_pipeline(train_data, train_target, test_data, test_target,\n",
        "              d2v_vectorizer, lr_score)"
      ],
      "execution_count": 90,
      "outputs": [
        {
          "output_type": "stream",
          "text": [
            "0.3288333333333333\n"
          ],
          "name": "stdout"
        }
      ]
    },
    {
      "cell_type": "markdown",
      "metadata": {
        "id": "TO3vYrjE5JTt"
      },
      "source": [
        "На предобученных эмбеддингах наилучший результат (score = 0.725) получился при использовании w2v, обученного с использованием данных stackoverflow, что подтверждает высказанную ранее гипотезу о его преимуществе над стандартным от Google в условиях нашей задачи. "
      ]
    },
    {
      "cell_type": "markdown",
      "metadata": {
        "id": "s38k1KUc-Eke"
      },
      "source": [
        "## Обучение своего w2v эмбеддинга "
      ]
    },
    {
      "cell_type": "markdown",
      "metadata": {
        "id": "upnEJQc7-Mbl"
      },
      "source": [
        "Проведем попытку обучить собственный w2v эмбеддинг, попытаемся увеличить точность относительно использованного ранее."
      ]
    },
    {
      "cell_type": "code",
      "metadata": {
        "id": "w5aYavMP-75M"
      },
      "source": [
        "def get_sentences(series_data):\n",
        "    list_of_lists_data = [i.split() for i in series_data]\n",
        "    return list_of_lists_data"
      ],
      "execution_count": 106,
      "outputs": []
    },
    {
      "cell_type": "code",
      "metadata": {
        "id": "wGuTWZoZ-yZb",
        "outputId": "9d20cefa-b2f9-4a77-e692-c71838461547",
        "colab": {
          "base_uri": "https://localhost:8080/"
        }
      },
      "source": [
        "from gensim.models import Word2Vec\n",
        "sentences = get_sentences(train_data.append(test_data))\n",
        "\n",
        "try:\n",
        "    our_w2v_model = Word2Vec.load(\"own_w2v\")\n",
        "except Exception:\n",
        "    our_w2v_model = Word2Vec(min_count=1)\n",
        "    our_w2v_model.build_vocab(sentences)  # prepare the model vocabulary\n",
        "    our_w2v_model.train(sentences, total_examples=our_w2v_model.corpus_count, epochs=our_w2v_model.iter)  # train word vectors\n",
        "    our_w2v_model.save(\"own_w2v\")"
      ],
      "execution_count": 107,
      "outputs": [
        {
          "output_type": "stream",
          "text": [
            "/usr/local/lib/python3.6/dist-packages/ipykernel_launcher.py:9: DeprecationWarning: Call to deprecated `iter` (Attribute will be removed in 4.0.0, use self.epochs instead).\n",
            "  if __name__ == '__main__':\n"
          ],
          "name": "stderr"
        }
      ]
    },
    {
      "cell_type": "code",
      "metadata": {
        "id": "VT5LcFqGAT6b"
      },
      "source": [
        "def get_w2v_str_representation_mean(text, model):\n",
        "    words = text.split()\n",
        "    words_representation = [model[word] for word in words if word in model.wv.vocab]\n",
        "    return np.mean(words_representation, axis=0)\n",
        "\n",
        "def get_w2v_str_representation_sum(text, model):\n",
        "    words = text.split()\n",
        "    words_representation = [model[word] for word in words if word in model.wv.vocab]\n",
        "    return np.sum(words_representation, axis=0)\n",
        "\n",
        "def our_w2v_vectorizer_sum(train, test):\n",
        "    return ([get_w2v_str_representation_sum(text, our_w2v_model) for text in train],\n",
        "            [get_w2v_str_representation_sum(text, our_w2v_model) for text in test])\n",
        "\n",
        "def our_w2v_vectorizer_mean(train, test):\n",
        "    return ([get_w2v_str_representation_mean(text, our_w2v_model) for text in train],\n",
        "            [get_w2v_str_representation_mean(text, our_w2v_model) for text in test])"
      ],
      "execution_count": 110,
      "outputs": []
    },
    {
      "cell_type": "code",
      "metadata": {
        "id": "NDLEBxGeAnvQ",
        "outputId": "2a907595-cf30-4eed-8ed0-da440610ffbf",
        "colab": {
          "base_uri": "https://localhost:8080/"
        }
      },
      "source": [
        "base_pipeline(train_data, train_target, test_data, test_target,\n",
        "              our_w2v_vectorizer_sum, lr_score)"
      ],
      "execution_count": 111,
      "outputs": [
        {
          "output_type": "stream",
          "text": [
            "/usr/local/lib/python3.6/dist-packages/ipykernel_launcher.py:8: DeprecationWarning: Call to deprecated `__getitem__` (Method will be removed in 4.0.0, use self.wv.__getitem__() instead).\n",
            "  \n"
          ],
          "name": "stderr"
        },
        {
          "output_type": "stream",
          "text": [
            "0.7949166666666667\n"
          ],
          "name": "stdout"
        },
        {
          "output_type": "stream",
          "text": [
            "/usr/local/lib/python3.6/dist-packages/sklearn/linear_model/_logistic.py:940: ConvergenceWarning: lbfgs failed to converge (status=1):\n",
            "STOP: TOTAL NO. of ITERATIONS REACHED LIMIT.\n",
            "\n",
            "Increase the number of iterations (max_iter) or scale the data as shown in:\n",
            "    https://scikit-learn.org/stable/modules/preprocessing.html\n",
            "Please also refer to the documentation for alternative solver options:\n",
            "    https://scikit-learn.org/stable/modules/linear_model.html#logistic-regression\n",
            "  extra_warning_msg=_LOGISTIC_SOLVER_CONVERGENCE_MSG)\n"
          ],
          "name": "stderr"
        }
      ]
    },
    {
      "cell_type": "code",
      "metadata": {
        "id": "SnjT-_sWBDZV",
        "outputId": "ceba4900-9236-4d79-e50c-38faf8fce377",
        "colab": {
          "base_uri": "https://localhost:8080/"
        }
      },
      "source": [
        "base_pipeline(train_data, train_target, test_data, test_target,\n",
        "              our_w2v_vectorizer_mean, lr_score)"
      ],
      "execution_count": 112,
      "outputs": [
        {
          "output_type": "stream",
          "text": [
            "/usr/local/lib/python3.6/dist-packages/ipykernel_launcher.py:3: DeprecationWarning: Call to deprecated `__getitem__` (Method will be removed in 4.0.0, use self.wv.__getitem__() instead).\n",
            "  This is separate from the ipykernel package so we can avoid doing imports until\n"
          ],
          "name": "stderr"
        },
        {
          "output_type": "stream",
          "text": [
            "0.8065\n"
          ],
          "name": "stdout"
        },
        {
          "output_type": "stream",
          "text": [
            "/usr/local/lib/python3.6/dist-packages/sklearn/linear_model/_logistic.py:940: ConvergenceWarning: lbfgs failed to converge (status=1):\n",
            "STOP: TOTAL NO. of ITERATIONS REACHED LIMIT.\n",
            "\n",
            "Increase the number of iterations (max_iter) or scale the data as shown in:\n",
            "    https://scikit-learn.org/stable/modules/preprocessing.html\n",
            "Please also refer to the documentation for alternative solver options:\n",
            "    https://scikit-learn.org/stable/modules/linear_model.html#logistic-regression\n",
            "  extra_warning_msg=_LOGISTIC_SOLVER_CONVERGENCE_MSG)\n"
          ],
          "name": "stderr"
        }
      ]
    },
    {
      "cell_type": "markdown",
      "metadata": {
        "id": "LFHhSRCSCQ62"
      },
      "source": [
        "Благодаря обучению собственного эмбеддинга удалось увеличить точность до 0.8065. "
      ]
    },
    {
      "cell_type": "markdown",
      "metadata": {
        "id": "44EgOAkW8QCW"
      },
      "source": [
        "## Использование нейронной сети"
      ]
    },
    {
      "cell_type": "markdown",
      "metadata": {
        "id": "pSMmJjoxFKMx"
      },
      "source": [
        "### Предварительная обработка данных для нейронной сети"
      ]
    },
    {
      "cell_type": "code",
      "metadata": {
        "id": "MBoL4PFACoEg"
      },
      "source": [
        "text_columns = [\"Title\", \"Body\"]\n",
        "categorical_columns = ['Tags']\n",
        "target_column = 'target'"
      ],
      "execution_count": 4,
      "outputs": []
    },
    {
      "cell_type": "code",
      "metadata": {
        "id": "nfBkNznSFVuZ"
      },
      "source": [
        "nn_train = raw_train\n",
        "nn_train[\"Body\"] = nn_train[\"Body\"].apply(str).apply(str.lower).apply(tokenize_by_word)\n",
        "nn_train[\"Title\"] = nn_train[\"Title\"].apply(str).apply(str.lower).apply(tokenize_by_word)"
      ],
      "execution_count": 10,
      "outputs": []
    },
    {
      "cell_type": "code",
      "metadata": {
        "id": "ucyCggEgG96w"
      },
      "source": [
        "nn_train['target'] = nn_train['target'].apply(lambda target: np.eye(3, dtype=np.int32)[target])"
      ],
      "execution_count": 15,
      "outputs": []
    },
    {
      "cell_type": "code",
      "metadata": {
        "id": "x2zBEwsgK0Sq"
      },
      "source": [
        "from collections import Counter\n",
        "token_counts = Counter(token for col in text_columns\n",
        "                             for item in nn_train[col]\n",
        "                             for token in item.split())"
      ],
      "execution_count": 17,
      "outputs": []
    },
    {
      "cell_type": "code",
      "metadata": {
        "id": "Gr9LsofaK7Dq",
        "outputId": "ca9690f6-8a81-40b0-b46a-821f43118d3e",
        "colab": {
          "base_uri": "https://localhost:8080/"
        }
      },
      "source": [
        "print(\"Число уникальных токенов:\", len(token_counts))\n",
        "print('\\n'.join(map(str, token_counts.most_common(n=5))))\n",
        "print('...')\n",
        "print('\\n'.join(map(str, token_counts.most_common()[-3:])))\n"
      ],
      "execution_count": 18,
      "outputs": [
        {
          "output_type": "stream",
          "text": [
            "Число уникальных токенов: 230236\n",
            "('.', 543501)\n",
            "('>', 375572)\n",
            "('p', 225299)\n",
            "('<', 215383)\n",
            "(',', 202492)\n",
            "...\n",
            "('3bujt', 1)\n",
            "('9i4jf', 1)\n",
            "('__nscfarray', 1)\n"
          ],
          "name": "stdout"
        }
      ]
    },
    {
      "cell_type": "markdown",
      "metadata": {
        "id": "zB5XeNwYLIXy"
      },
      "source": [
        "Построим гистограмму распределения числа слов в каждом счетчике."
      ]
    },
    {
      "cell_type": "code",
      "metadata": {
        "id": "SWqUMOlrLGSa",
        "outputId": "c8158eb2-b40e-41fd-b088-b8205a70d111",
        "colab": {
          "base_uri": "https://localhost:8080/",
          "height": 279
        }
      },
      "source": [
        "plt.hist(list(token_counts.values()), range=[0, 10**4], bins=50, log=True)\n",
        "plt.xlabel(\"Word counts\");"
      ],
      "execution_count": 19,
      "outputs": [
        {
          "output_type": "display_data",
          "data": {
            "image/png": "[encoded data removed]",
            "text/plain": [
              "<Figure size 432x288 with 1 Axes>"
            ]
          },
          "metadata": {
            "tags": [],
            "needs_background": "light"
          }
        }
      ]
    },
    {
      "cell_type": "markdown",
      "metadata": {
        "id": "OoKmkuJHLUmv"
      },
      "source": [
        "Отфильтруем токены, которые встречаются как минимум 10 раз."
      ]
    },
    {
      "cell_type": "code",
      "metadata": {
        "id": "WEht75fCLX66"
      },
      "source": [
        "tokens = [token for token, count in token_counts.items() if count >= 10]"
      ],
      "execution_count": 20,
      "outputs": []
    },
    {
      "cell_type": "markdown",
      "metadata": {
        "id": "WCq_0CzWLcwS"
      },
      "source": [
        "Введем специальные токены для unknown и пустых слов."
      ]
    },
    {
      "cell_type": "code",
      "metadata": {
        "id": "cOhEikyHLiCq",
        "outputId": "933e56db-7846-41b7-cdb3-70381435e4d7",
        "colab": {
          "base_uri": "https://localhost:8080/"
        }
      },
      "source": [
        "UNK, PAD = \"UNK\", \"PAD\"\n",
        "tokens = [UNK, PAD] + sorted(tokens)\n",
        "print(\"Vocabulary size:\", len(tokens))"
      ],
      "execution_count": 21,
      "outputs": [
        {
          "output_type": "stream",
          "text": [
            "Vocabulary size: 24477\n"
          ],
          "name": "stdout"
        }
      ]
    },
    {
      "cell_type": "code",
      "metadata": {
        "id": "thYgx9h5Ll18"
      },
      "source": [
        "token_to_id = dict(map(reversed, enumerate(tokens)))"
      ],
      "execution_count": 22,
      "outputs": []
    },
    {
      "cell_type": "code",
      "metadata": {
        "id": "q-ifU_vpLrMP"
      },
      "source": [
        "UNK_IX, PAD_IX = map(token_to_id.get, [UNK, PAD])\n",
        "\n",
        "def as_matrix(sequences, max_len=None):\n",
        "    \"\"\" Convert a list of tokens into a matrix with padding \"\"\"\n",
        "    if isinstance(sequences[0], str):\n",
        "        sequences = list(map(str.split, sequences))\n",
        "        \n",
        "    max_len = min(max(map(len, sequences)), max_len or float('inf'))\n",
        "    \n",
        "    matrix = np.full((len(sequences), max_len), np.int32(PAD_IX))\n",
        "    for i,seq in enumerate(sequences):\n",
        "        row_ix = [token_to_id.get(word, UNK_IX) for word in seq[:max_len]]\n",
        "        matrix[i, :len(row_ix)] = row_ix\n",
        "    \n",
        "    return matrix"
      ],
      "execution_count": 23,
      "outputs": []
    },
    {
      "cell_type": "markdown",
      "metadata": {
        "id": "1-n933yMIO1H"
      },
      "source": [
        "### Построение модели нейронной сети"
      ]
    },
    {
      "cell_type": "code",
      "metadata": {
        "id": "Y-21M7BQIzJu",
        "outputId": "8bc57a7e-f091-49b7-9e81-19dd20a500a7",
        "colab": {
          "base_uri": "https://localhost:8080/"
        }
      },
      "source": [
        "from sklearn.model_selection import train_test_split\n",
        "\n",
        "nn_data_train, nn_data_val = train_test_split(nn_train, test_size=0.2, random_state=25)\n",
        "nn_data_train.index = range(len(nn_data_train))\n",
        "nn_data_val.index = range(len(nn_data_val))\n",
        "\n",
        "print(\"Train size = \", len(nn_data_train))\n",
        "print(\"Validation size = \", len(nn_data_val))"
      ],
      "execution_count": 24,
      "outputs": [
        {
          "output_type": "stream",
          "text": [
            "Train size =  38400\n",
            "Validation size =  9600\n"
          ],
          "name": "stdout"
        }
      ]
    },
    {
      "cell_type": "code",
      "metadata": {
        "id": "gXGTo9coMCRw"
      },
      "source": [
        "def convert_array(arr):\n",
        "  result = np.zeros((len(arr), 3),dtype=np.int32)\n",
        "  for i in range(len(arr)):\n",
        "    for j in range(len(arr[i])):\n",
        "      result[i, j] = arr[i][j]\n",
        "  return result"
      ],
      "execution_count": 25,
      "outputs": []
    },
    {
      "cell_type": "code",
      "metadata": {
        "id": "enMo1s8HMcj8"
      },
      "source": [
        "from sklearn.feature_extraction import DictVectorizer\n",
        "\n",
        "categorical_vectorizer = DictVectorizer(dtype=np.float32, sparse=False)\n",
        "categorical_vectorizer.fit(nn_train[categorical_columns].apply(dict, axis=1))\n",
        "\n",
        "top_types, top_counts = zip(*Counter(nn_train['Tags']).most_common(1000))\n",
        "recognized_companies = set(top_types)"
      ],
      "execution_count": 38,
      "outputs": []
    },
    {
      "cell_type": "code",
      "metadata": {
        "id": "NTUv46AKJ6PU",
        "outputId": "51955a07-2d15-4cbe-c885-391984ee0ceb",
        "colab": {
          "base_uri": "https://localhost:8080/"
        }
      },
      "source": [
        "def make_batch(data, max_len=None, word_dropout=0):\n",
        "    \"\"\"\n",
        "    Creates a keras-friendly dict from the batch data.\n",
        "    :param word_dropout: replaces token index with UNK_IX with this probability\n",
        "    :returns: a dict with {'title' : int64[batch, title_max_len]\n",
        "    \"\"\"\n",
        "    batch = {}\n",
        "    batch[\"Title\"] = as_matrix(data[\"Title\"].values, max_len)\n",
        "    batch[\"Body\"] = as_matrix(data[\"Body\"].values, max_len)\n",
        "    batch[\"target\"] = convert_array(data[\"target\"].values)\n",
        "    batch['Categorical'] = categorical_vectorizer.transform(data[categorical_columns].apply(dict, axis=1))\n",
        "    \n",
        "    if word_dropout != 0:\n",
        "        batch[\"Body\"] = apply_word_dropout(batch[\"Body\"], 1. - word_dropout)\n",
        "    \n",
        "    # if target_column in data.columns:\n",
        "    if target_column in ['Title', 'Body', 'Categorical']:\n",
        "        batch[target_column] = data[target_column].values\n",
        "    \n",
        "    return batch\n",
        "\n",
        "def apply_word_dropout(matrix, keep_prop, replace_with=UNK_IX, pad_ix=PAD_IX,):\n",
        "    dropout_mask = np.random.choice(2, np.shape(matrix), p=[keep_prop, 1 - keep_prop])\n",
        "    dropout_mask &= matrix != pad_ix\n",
        "    return np.choose(dropout_mask, [matrix, np.full_like(matrix, replace_with)])\n",
        "\n",
        "{'a': convert_array(nn_train[:3][\"target\"].values)}\n",
        "make_batch(nn_data_train[:3], max_len=10)"
      ],
      "execution_count": 28,
      "outputs": [
        {
          "output_type": "execute_result",
          "data": {
            "text/plain": [
              "{'Body': array([[ 3378, 16759,  3569, 12276, 23884, 14037, 22100,  7886,  4180,\n",
              "         12272],\n",
              "        [12276,   406, 14411, 22437, 22100,  7886,  4180,  7705, 22100,\n",
              "         20958],\n",
              "        [ 3378, 17586,  3656,  7071,  3569, 21015,  4202,  3412,     0,\n",
              "          1304]], dtype=int32),\n",
              " 'Categorical': array([[0., 0., 0., ..., 0., 0., 0.],\n",
              "        [0., 0., 0., ..., 0., 0., 0.],\n",
              "        [0., 0., 0., ..., 0., 0., 0.]], dtype=float32),\n",
              " 'Title': array([[12153, 22100,  7886,  4180, 12272, 12538, 10683, 23721,  3703,\n",
              "             1],\n",
              "        [ 7886,  4843, 20958,  7707, 16297, 16374,  9047,   639,  9340,\n",
              "           903],\n",
              "        [21857,  8346, 18811,  6321, 21857, 21015, 13070, 15980, 21292,\n",
              "          4843]], dtype=int32),\n",
              " 'target': array([[1, 0, 0],\n",
              "        [0, 0, 1],\n",
              "        [0, 1, 0]], dtype=int32)}"
            ]
          },
          "metadata": {
            "tags": []
          },
          "execution_count": 28
        }
      ]
    },
    {
      "cell_type": "code",
      "metadata": {
        "id": "SbyW_eg3KuWO"
      },
      "source": [
        "import keras\n",
        "import keras.layers as L\n",
        "from keras.backend import int_shape, expand_dims"
      ],
      "execution_count": 29,
      "outputs": []
    },
    {
      "cell_type": "code",
      "metadata": {
        "id": "e_i7mGwuMpAd"
      },
      "source": [
        "def build_model(n_tokens=len(tokens), n_cat_features=len(categorical_vectorizer.vocabulary_), hid_size=64):\n",
        "    \"\"\" Build a model that maps three data sources to a single linear output: predicted log1p(salary) \"\"\"\n",
        "    \n",
        "    l_title = L.Input(shape=[None], name=\"Title\")\n",
        "    l_descr = L.Input(shape=[None], name=\"Body\")\n",
        "    l_categ = L.Input(shape=[n_cat_features], name=\"Categorical\")\n",
        "      \n",
        "    l_title_emb = L.Embedding(n_tokens, 64)(l_title)\n",
        "    l_title_emb = L.GlobalMaxPool1D()(l_title_emb)\n",
        "\n",
        "    l_descr_emb = L.Embedding(n_tokens, 64)(l_descr)\n",
        "    l_descr_emb = L.GlobalMaxPool1D()(l_descr_emb)\n",
        "    l_descr_emb = L.Dense(128)(l_descr_emb)\n",
        "    \n",
        "    l_cat_emb = L.Dense(128)(l_categ)\n",
        "\n",
        "    l_all = L.Concatenate()([l_cat_emb, l_descr_emb, l_title_emb])\n",
        "\n",
        "    l_all = expand_dims(l_all, 1)\n",
        "    l_all = L.Conv1D(64, 5, activation='relu', padding='same')(l_all)\n",
        "    l_all = L.GlobalMaxPool1D()(l_all)\n",
        "\n",
        "    l_all = expand_dims(l_all, 1)\n",
        "    l_all = L.Conv1D(128, 3, activation='relu', padding='same')(l_all)\n",
        "    l_all = L.GlobalMaxPool1D()(l_all)\n",
        "\n",
        "    l_all = L.Dense(64)(l_all)\n",
        "    \n",
        "    output_layer = L.Dense(3)(l_all)\n",
        "    output_layer = L.Softmax()(output_layer)\n",
        "    \n",
        "    model = keras.models.Model(inputs=[l_title, l_descr, l_categ], outputs=[output_layer])\n",
        "    model.compile('adam', 'categorical_crossentropy', metrics=['categorical_accuracy'])\n",
        "    return model"
      ],
      "execution_count": 30,
      "outputs": []
    },
    {
      "cell_type": "code",
      "metadata": {
        "id": "lk2e093IMrO8",
        "outputId": "af66c8a2-73bd-48a6-9c25-ba776c528c57",
        "colab": {
          "base_uri": "https://localhost:8080/"
        }
      },
      "source": [
        "model = build_model()\n",
        "model.summary()\n",
        "\n",
        "dummy_pred = model.predict(make_batch(nn_data_train[:100]))\n",
        "dummy_loss = model.train_on_batch(make_batch(nn_data_train[:100]), convert_array(nn_data_train['target'][:100]))[0]"
      ],
      "execution_count": 31,
      "outputs": [
        {
          "output_type": "stream",
          "text": [
            "Model: \"functional_1\"\n",
            "__________________________________________________________________________________________________\n",
            "Layer (type)                    Output Shape         Param #     Connected to                     \n",
            "==================================================================================================\n",
            "Body (InputLayer)               [(None, None)]       0                                            \n",
            "__________________________________________________________________________________________________\n",
            "embedding_1 (Embedding)         (None, None, 64)     1566528     Body[0][0]                       \n",
            "__________________________________________________________________________________________________\n",
            "Title (InputLayer)              [(None, None)]       0                                            \n",
            "__________________________________________________________________________________________________\n",
            "Categorical (InputLayer)        [(None, 27249)]      0                                            \n",
            "__________________________________________________________________________________________________\n",
            "global_max_pooling1d_1 (GlobalM (None, 64)           0           embedding_1[0][0]                \n",
            "__________________________________________________________________________________________________\n",
            "embedding (Embedding)           (None, None, 64)     1566528     Title[0][0]                      \n",
            "__________________________________________________________________________________________________\n",
            "dense_1 (Dense)                 (None, 128)          3488000     Categorical[0][0]                \n",
            "__________________________________________________________________________________________________\n",
            "dense (Dense)                   (None, 128)          8320        global_max_pooling1d_1[0][0]     \n",
            "__________________________________________________________________________________________________\n",
            "global_max_pooling1d (GlobalMax (None, 64)           0           embedding[0][0]                  \n",
            "__________________________________________________________________________________________________\n",
            "concatenate (Concatenate)       (None, 320)          0           dense_1[0][0]                    \n",
            "                                                                 dense[0][0]                      \n",
            "                                                                 global_max_pooling1d[0][0]       \n",
            "__________________________________________________________________________________________________\n",
            "tf_op_layer_ExpandDims (TensorF [(None, 1, 320)]     0           concatenate[0][0]                \n",
            "__________________________________________________________________________________________________\n",
            "conv1d (Conv1D)                 (None, 1, 64)        102464      tf_op_layer_ExpandDims[0][0]     \n",
            "__________________________________________________________________________________________________\n",
            "global_max_pooling1d_2 (GlobalM (None, 64)           0           conv1d[0][0]                     \n",
            "__________________________________________________________________________________________________\n",
            "tf_op_layer_ExpandDims_1 (Tenso [(None, 1, 64)]      0           global_max_pooling1d_2[0][0]     \n",
            "__________________________________________________________________________________________________\n",
            "conv1d_1 (Conv1D)               (None, 1, 128)       24704       tf_op_layer_ExpandDims_1[0][0]   \n",
            "__________________________________________________________________________________________________\n",
            "global_max_pooling1d_3 (GlobalM (None, 128)          0           conv1d_1[0][0]                   \n",
            "__________________________________________________________________________________________________\n",
            "dense_2 (Dense)                 (None, 64)           8256        global_max_pooling1d_3[0][0]     \n",
            "__________________________________________________________________________________________________\n",
            "dense_3 (Dense)                 (None, 3)            195         dense_2[0][0]                    \n",
            "__________________________________________________________________________________________________\n",
            "softmax (Softmax)               (None, 3)            0           dense_3[0][0]                    \n",
            "==================================================================================================\n",
            "Total params: 6,764,995\n",
            "Trainable params: 6,764,995\n",
            "Non-trainable params: 0\n",
            "__________________________________________________________________________________________________\n"
          ],
          "name": "stdout"
        },
        {
          "output_type": "stream",
          "text": [
            "/usr/local/lib/python3.6/dist-packages/tensorflow/python/keras/engine/functional.py:543: UserWarning: Input dict contained keys ['target'] which did not match any model input. They will be ignored by the model.\n",
            "  [n for n in tensors.keys() if n not in ref_input_names])\n"
          ],
          "name": "stderr"
        }
      ]
    },
    {
      "cell_type": "code",
      "metadata": {
        "id": "6l1oRjqbMyd8"
      },
      "source": [
        "def iterate_minibatches(data, batch_size=256, shuffle=True, cycle=False, **kwargs):\n",
        "    \"\"\" iterates minibatches of data in random order \"\"\"\n",
        "    while True:\n",
        "        indices = np.arange(len(data))\n",
        "        if shuffle:\n",
        "            indices = np.random.permutation(indices)\n",
        "\n",
        "        for start in range(0, len(indices), batch_size):\n",
        "            batch = make_batch(data.iloc[indices[start : start + batch_size]], **kwargs)\n",
        "            target = batch.pop(target_column)\n",
        "            yield batch, target\n",
        "        \n",
        "        if not cycle: break"
      ],
      "execution_count": 32,
      "outputs": []
    },
    {
      "cell_type": "markdown",
      "metadata": {
        "id": "ah_4X8JkPQje"
      },
      "source": [
        "### Обучение нейронной сети"
      ]
    },
    {
      "cell_type": "code",
      "metadata": {
        "id": "dOUnk-gsM2KX",
        "outputId": "eaa24d22-218d-493a-eb55-93f0bb8f1eda",
        "colab": {
          "base_uri": "https://localhost:8080/"
        }
      },
      "source": [
        "batch_size = 256\n",
        "epochs = 5 \n",
        "steps_per_epoch = 100 \n",
        "\n",
        "model = build_model()\n",
        "\n",
        "model.fit_generator(iterate_minibatches(nn_data_train, batch_size, cycle=True, word_dropout=0.05), \n",
        "                    epochs=epochs, steps_per_epoch=steps_per_epoch,\n",
        "                    \n",
        "                    validation_data=iterate_minibatches(nn_data_val, batch_size, cycle=True),\n",
        "                    validation_steps=nn_data_val.shape[0]\n",
        "                   )"
      ],
      "execution_count": 33,
      "outputs": [
        {
          "output_type": "stream",
          "text": [
            "WARNING:tensorflow:From <ipython-input-33-71a88a4d102f>:11: Model.fit_generator (from tensorflow.python.keras.engine.training) is deprecated and will be removed in a future version.\n",
            "Instructions for updating:\n",
            "Please use Model.fit, which supports generators.\n",
            "Epoch 1/5\n",
            "100/100 [==============================] - 645s 6s/step - loss: 0.6019 - categorical_accuracy: 0.7214 - val_loss: 0.2515 - val_categorical_accuracy: 0.8904\n",
            "Epoch 2/5\n",
            "100/100 [==============================] - 637s 6s/step - loss: 0.1670 - categorical_accuracy: 0.9347 - val_loss: 0.2148 - val_categorical_accuracy: 0.9124\n",
            "Epoch 3/5\n",
            "100/100 [==============================] - 634s 6s/step - loss: 0.0970 - categorical_accuracy: 0.9670 - val_loss: 0.2086 - val_categorical_accuracy: 0.9145\n",
            "Epoch 4/5\n",
            "100/100 [==============================] - 632s 6s/step - loss: 0.0408 - categorical_accuracy: 0.9860 - val_loss: 0.2139 - val_categorical_accuracy: 0.9174\n",
            "Epoch 5/5\n",
            "100/100 [==============================] - 631s 6s/step - loss: 0.0323 - categorical_accuracy: 0.9884 - val_loss: 0.2399 - val_categorical_accuracy: 0.9162\n"
          ],
          "name": "stdout"
        },
        {
          "output_type": "execute_result",
          "data": {
            "text/plain": [
              "<tensorflow.python.keras.callbacks.History at 0x7f7ec414b748>"
            ]
          },
          "metadata": {
            "tags": []
          },
          "execution_count": 33
        }
      ]
    },
    {
      "cell_type": "markdown",
      "metadata": {
        "id": "QsEP6wZ8fJ5t"
      },
      "source": [
        "Используя нейронную сеть удалось достичь точности в 0.9162.\n",
        "Это наилучший результат из достигнутых.\n",
        "\n",
        "Тестовый набор данных будем классифицировать с её помощью."
      ]
    },
    {
      "cell_type": "markdown",
      "metadata": {
        "id": "dIUfUJOSgDNO"
      },
      "source": [
        "## Формирование ответа"
      ]
    },
    {
      "cell_type": "code",
      "metadata": {
        "id": "rqUTZHqeGhoT"
      },
      "source": [
        "raw_test = pd.read_parquet(os.path.join(data_prefix, 'test.parquet'))\n",
        "nn_test = raw_test\n",
        "nn_test[\"Body\"] = raw_test[\"Body\"].apply(str).apply(str.lower).apply(tokenize_by_word)\n",
        "nn_test[\"Title\"] = raw_test[\"Title\"].apply(str).apply(str.lower).apply(tokenize_by_word)\n",
        "\n",
        "nn_test[\"Tags\"] = nn_test[\"Tags\"].apply(lambda comp: comp if comp in recognized_companies else \"Other\")"
      ],
      "execution_count": 46,
      "outputs": []
    },
    {
      "cell_type": "code",
      "metadata": {
        "id": "Rc73eNiOfqkE"
      },
      "source": [
        "def make_test_batch(data, max_len=None, word_dropout=0):\n",
        "\n",
        "    batch = {}\n",
        "    batch[\"Title\"] = as_matrix(data[\"Title\"].values, max_len)\n",
        "    batch[\"Body\"] = as_matrix(data[\"Body\"].values, max_len)\n",
        "    batch['Categorical'] = categorical_vectorizer.transform(data[categorical_columns].apply(dict, axis=1))\n",
        "    \n",
        "\n",
        "    if target_column in ['Title', 'Body', 'Categorical']:\n",
        "        batch[target_column] = data[target_column].values\n",
        "    \n",
        "    return batch"
      ],
      "execution_count": 39,
      "outputs": []
    },
    {
      "cell_type": "code",
      "metadata": {
        "id": "djldBzrWfj50"
      },
      "source": [
        "pred = model.predict(make_test_batch(nn_test))"
      ],
      "execution_count": null,
      "outputs": []
    },
    {
      "cell_type": "code",
      "metadata": {
        "id": "rfA4Da1ZfyDy"
      },
      "source": [
        "pred = list(map(np.argmax, pred))"
      ],
      "execution_count": null,
      "outputs": []
    },
    {
      "cell_type": "code",
      "metadata": {
        "id": "elSzbo3Zfwtg"
      },
      "source": [
        "answer = pd.DataFrame(data={'Id':test_pr.index.tolist(), 'Predicted': pred})"
      ],
      "execution_count": null,
      "outputs": []
    },
    {
      "cell_type": "code",
      "metadata": {
        "id": "uUmSP9uHfzkg"
      },
      "source": [
        "answer"
      ],
      "execution_count": null,
      "outputs": []
    },
    {
      "cell_type": "code",
      "metadata": {
        "id": "zAUgllI6f0nt"
      },
      "source": [
        "answer.to_csv(\"result.csv\", index=False)"
      ],
      "execution_count": null,
      "outputs": []
    }
  ]
}