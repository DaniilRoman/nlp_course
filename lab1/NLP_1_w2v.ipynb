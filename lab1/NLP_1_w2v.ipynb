{
  "nbformat": 4,
  "nbformat_minor": 0,
  "metadata": {
    "colab": {
      "name": "NLP_1-w2v.ipynb",
      "provenance": [],
      "collapsed_sections": []
    },
    "kernelspec": {
      "name": "python3",
      "display_name": "Python 3"
    }
  },
  "cells": [
    {
      "cell_type": "code",
      "metadata": {
        "id": "uHUidi_S6JC3"
      },
      "source": [
        "import pandas as pd\n",
        "import matplotlib.pyplot as plt\n",
        "import re\n",
        "from sklearn.feature_extraction.text import CountVectorizer, TfidfVectorizer\n",
        "from sklearn.neighbors import KNeighborsClassifier\n",
        "from sklearn.ensemble import RandomForestClassifier\n",
        "from sklearn.linear_model import LogisticRegression"
      ],
      "execution_count": 6,
      "outputs": []
    },
    {
      "cell_type": "code",
      "metadata": {
        "id": "mQYi0n328wHI",
        "outputId": "5d0e7e3e-66eb-462e-e6b2-c48dd548d7a1",
        "colab": {
          "base_uri": "https://localhost:8080/",
          "height": 34
        }
      },
      "source": [
        "from google.colab import drive\n",
        "drive.mount('/content/drive')"
      ],
      "execution_count": 7,
      "outputs": [
        {
          "output_type": "stream",
          "text": [
            "Drive already mounted at /content/drive; to attempt to forcibly remount, call drive.mount(\"/content/drive\", force_remount=True).\n"
          ],
          "name": "stdout"
        }
      ]
    },
    {
      "cell_type": "code",
      "metadata": {
        "id": "on4Ta9G67Dm2"
      },
      "source": [
        "train = pd.read_parquet('/content/drive/My Drive/NLP/train.parquet')\n",
        "test = pd.read_parquet('/content/drive/My Drive/NLP/test.parquet')"
      ],
      "execution_count": 8,
      "outputs": []
    },
    {
      "cell_type": "code",
      "metadata": {
        "id": "-LBvkkyR7-rI",
        "outputId": "3d4e5fa3-4617-4265-bcc5-d6b1eb282b57",
        "colab": {
          "base_uri": "https://localhost:8080/",
          "height": 225
        }
      },
      "source": [
        "train.head()"
      ],
      "execution_count": 9,
      "outputs": [
        {
          "output_type": "execute_result",
          "data": {
            "text/html": [
              "<div>\n",
              "<style scoped>\n",
              "    .dataframe tbody tr th:only-of-type {\n",
              "        vertical-align: middle;\n",
              "    }\n",
              "\n",
              "    .dataframe tbody tr th {\n",
              "        vertical-align: top;\n",
              "    }\n",
              "\n",
              "    .dataframe thead th {\n",
              "        text-align: right;\n",
              "    }\n",
              "</style>\n",
              "<table border=\"1\" class=\"dataframe\">\n",
              "  <thead>\n",
              "    <tr style=\"text-align: right;\">\n",
              "      <th></th>\n",
              "      <th>Body</th>\n",
              "      <th>Tags</th>\n",
              "      <th>Title</th>\n",
              "      <th>target</th>\n",
              "    </tr>\n",
              "    <tr>\n",
              "      <th>Id</th>\n",
              "      <th></th>\n",
              "      <th></th>\n",
              "      <th></th>\n",
              "      <th></th>\n",
              "    </tr>\n",
              "  </thead>\n",
              "  <tbody>\n",
              "    <tr>\n",
              "      <th>34862324</th>\n",
              "      <td>Algorithmm:\\r\\n\\r\\n**input :** Graph G\\r\\n\\r\\n...</td>\n",
              "      <td>&lt;java&gt;&lt;algorithm&gt;&lt;graph-algorithm&gt;</td>\n",
              "      <td>I am implementing a Minimum Spanning Forrest a...</td>\n",
              "      <td>2</td>\n",
              "    </tr>\n",
              "    <tr>\n",
              "      <th>47303682</th>\n",
              "      <td>While converting the data frame to HTML, Date ...</td>\n",
              "      <td>&lt;html&gt;&lt;r&gt;&lt;dataframe&gt;</td>\n",
              "      <td>R Studio: Date is getting converted to number,...</td>\n",
              "      <td>2</td>\n",
              "    </tr>\n",
              "    <tr>\n",
              "      <th>46431243</th>\n",
              "      <td>&lt;p&gt;This should be an easy one, but somehow I c...</td>\n",
              "      <td>&lt;python&gt;&lt;pandas&gt;&lt;dataframe&gt;&lt;pandas-groupby&gt;</td>\n",
              "      <td>Pandas - dataframe groupby - how to get sum of...</td>\n",
              "      <td>0</td>\n",
              "    </tr>\n",
              "    <tr>\n",
              "      <th>45306324</th>\n",
              "      <td>&lt;p&gt;Let say I have a component in Angular 2 tha...</td>\n",
              "      <td>&lt;angular&gt;&lt;typescript&gt;&lt;rxjs&gt;</td>\n",
              "      <td>Casting results from Observable.forkJoin to th...</td>\n",
              "      <td>0</td>\n",
              "    </tr>\n",
              "    <tr>\n",
              "      <th>49479547</th>\n",
              "      <td>&lt;p&gt;I'm setting a var using \\n&lt;code&gt;set TEST_VA...</td>\n",
              "      <td>&lt;c&gt;&lt;windows&gt;&lt;batch-file&gt;</td>\n",
              "      <td>Environment variable set in batch file cannot ...</td>\n",
              "      <td>1</td>\n",
              "    </tr>\n",
              "  </tbody>\n",
              "</table>\n",
              "</div>"
            ],
            "text/plain": [
              "                                                       Body  ... target\n",
              "Id                                                           ...       \n",
              "34862324  Algorithmm:\\r\\n\\r\\n**input :** Graph G\\r\\n\\r\\n...  ...      2\n",
              "47303682  While converting the data frame to HTML, Date ...  ...      2\n",
              "46431243  <p>This should be an easy one, but somehow I c...  ...      0\n",
              "45306324  <p>Let say I have a component in Angular 2 tha...  ...      0\n",
              "49479547  <p>I'm setting a var using \\n<code>set TEST_VA...  ...      1\n",
              "\n",
              "[5 rows x 4 columns]"
            ]
          },
          "metadata": {
            "tags": []
          },
          "execution_count": 9
        }
      ]
    },
    {
      "cell_type": "code",
      "metadata": {
        "id": "YlmAgFAA-jNC"
      },
      "source": [
        "train['text'] = train['Title'] + ' ' + train['Body']\n",
        "data = train.drop(['Tags', 'Title', 'Body'], axis=1)"
      ],
      "execution_count": 11,
      "outputs": []
    },
    {
      "cell_type": "code",
      "metadata": {
        "id": "hC9z6u23Cmd-",
        "outputId": "fad210f3-e317-4396-8db0-6b2e1ee73c57",
        "colab": {
          "base_uri": "https://localhost:8080/",
          "height": 225
        }
      },
      "source": [
        "data.head()"
      ],
      "execution_count": 12,
      "outputs": [
        {
          "output_type": "execute_result",
          "data": {
            "text/html": [
              "<div>\n",
              "<style scoped>\n",
              "    .dataframe tbody tr th:only-of-type {\n",
              "        vertical-align: middle;\n",
              "    }\n",
              "\n",
              "    .dataframe tbody tr th {\n",
              "        vertical-align: top;\n",
              "    }\n",
              "\n",
              "    .dataframe thead th {\n",
              "        text-align: right;\n",
              "    }\n",
              "</style>\n",
              "<table border=\"1\" class=\"dataframe\">\n",
              "  <thead>\n",
              "    <tr style=\"text-align: right;\">\n",
              "      <th></th>\n",
              "      <th>target</th>\n",
              "      <th>text</th>\n",
              "    </tr>\n",
              "    <tr>\n",
              "      <th>Id</th>\n",
              "      <th></th>\n",
              "      <th></th>\n",
              "    </tr>\n",
              "  </thead>\n",
              "  <tbody>\n",
              "    <tr>\n",
              "      <th>34862324</th>\n",
              "      <td>2</td>\n",
              "      <td>I am implementing a Minimum Spanning Forrest a...</td>\n",
              "    </tr>\n",
              "    <tr>\n",
              "      <th>47303682</th>\n",
              "      <td>2</td>\n",
              "      <td>R Studio: Date is getting converted to number,...</td>\n",
              "    </tr>\n",
              "    <tr>\n",
              "      <th>46431243</th>\n",
              "      <td>0</td>\n",
              "      <td>Pandas - dataframe groupby - how to get sum of...</td>\n",
              "    </tr>\n",
              "    <tr>\n",
              "      <th>45306324</th>\n",
              "      <td>0</td>\n",
              "      <td>Casting results from Observable.forkJoin to th...</td>\n",
              "    </tr>\n",
              "    <tr>\n",
              "      <th>49479547</th>\n",
              "      <td>1</td>\n",
              "      <td>Environment variable set in batch file cannot ...</td>\n",
              "    </tr>\n",
              "  </tbody>\n",
              "</table>\n",
              "</div>"
            ],
            "text/plain": [
              "          target                                               text\n",
              "Id                                                                 \n",
              "34862324       2  I am implementing a Minimum Spanning Forrest a...\n",
              "47303682       2  R Studio: Date is getting converted to number,...\n",
              "46431243       0  Pandas - dataframe groupby - how to get sum of...\n",
              "45306324       0  Casting results from Observable.forkJoin to th...\n",
              "49479547       1  Environment variable set in batch file cannot ..."
            ]
          },
          "metadata": {
            "tags": []
          },
          "execution_count": 12
        }
      ]
    },
    {
      "cell_type": "code",
      "metadata": {
        "id": "xJiB1Z0NCnOj",
        "outputId": "25ac7c3e-5628-4713-9d58-20b351604a08",
        "colab": {
          "base_uri": "https://localhost:8080/",
          "height": 626
        }
      },
      "source": [
        "labels = ['HQ', 'LQ_CLOSE', 'LQ_EDIT']\n",
        "values = [len(data[data['target'] == 0]), len(data[data['target'] == 1]), len(data[data['target'] == 2])]\n",
        "plt.style.use('classic')\n",
        "plt.figure(figsize=(16, 9))\n",
        "plt.pie(x=values, labels=labels, autopct=\"%1.1f%%\")\n",
        "plt.title(\"Target Value Distribution\")\n",
        "plt.show()"
      ],
      "execution_count": 13,
      "outputs": [
        {
          "output_type": "display_data",
          "data": {
            "image/png": "[encoded data removed]",
            "text/plain": [
              "<Figure size 1280x720 with 1 Axes>"
            ]
          },
          "metadata": {
            "tags": []
          }
        }
      ]
    },
    {
      "cell_type": "markdown",
      "metadata": {
        "id": "Ert464av2FcC"
      },
      "source": [
        "Данные распределены равномерно по категориям текста.\n",
        "\n",
        "Проведем очистку данных"
      ]
    },
    {
      "cell_type": "code",
      "metadata": {
        "id": "iQ3wx4a_2Bwd"
      },
      "source": [
        "def clean_text(dataframe, field='text'):\n",
        "  def clean_str(text): \n",
        "    text = text.lower()\n",
        "    text = re.sub(r'[^(a-zA-Z)\\s]','', text)\n",
        "    return text\n",
        "  dataframe[field] = dataframe[field].apply(clean_str)\n",
        "  return dataframe\n",
        "\n",
        "data = clean_text(data)"
      ],
      "execution_count": 27,
      "outputs": []
    },
    {
      "cell_type": "code",
      "metadata": {
        "id": "PTyA_FAuTgWW",
        "outputId": "ee9b7967-2b63-45c3-fb28-088eb4deb2ce",
        "colab": {
          "base_uri": "https://localhost:8080/",
          "height": 225
        }
      },
      "source": [
        "data.head()"
      ],
      "execution_count": 28,
      "outputs": [
        {
          "output_type": "execute_result",
          "data": {
            "text/html": [
              "<div>\n",
              "<style scoped>\n",
              "    .dataframe tbody tr th:only-of-type {\n",
              "        vertical-align: middle;\n",
              "    }\n",
              "\n",
              "    .dataframe tbody tr th {\n",
              "        vertical-align: top;\n",
              "    }\n",
              "\n",
              "    .dataframe thead th {\n",
              "        text-align: right;\n",
              "    }\n",
              "</style>\n",
              "<table border=\"1\" class=\"dataframe\">\n",
              "  <thead>\n",
              "    <tr style=\"text-align: right;\">\n",
              "      <th></th>\n",
              "      <th>target</th>\n",
              "      <th>text</th>\n",
              "    </tr>\n",
              "    <tr>\n",
              "      <th>Id</th>\n",
              "      <th></th>\n",
              "      <th></th>\n",
              "    </tr>\n",
              "  </thead>\n",
              "  <tbody>\n",
              "    <tr>\n",
              "      <th>34862324</th>\n",
              "      <td>2</td>\n",
              "      <td>i am implementing a minimum spanning forrest a...</td>\n",
              "    </tr>\n",
              "    <tr>\n",
              "      <th>47303682</th>\n",
              "      <td>2</td>\n",
              "      <td>r studio date is getting converted to number w...</td>\n",
              "    </tr>\n",
              "    <tr>\n",
              "      <th>46431243</th>\n",
              "      <td>0</td>\n",
              "      <td>pandas  dataframe groupby  how to get sum of m...</td>\n",
              "    </tr>\n",
              "    <tr>\n",
              "      <th>45306324</th>\n",
              "      <td>0</td>\n",
              "      <td>casting results from observableforkjoin to the...</td>\n",
              "    </tr>\n",
              "    <tr>\n",
              "      <th>49479547</th>\n",
              "      <td>1</td>\n",
              "      <td>environment variable set in batch file cannot ...</td>\n",
              "    </tr>\n",
              "  </tbody>\n",
              "</table>\n",
              "</div>"
            ],
            "text/plain": [
              "          target                                               text\n",
              "Id                                                                 \n",
              "34862324       2  i am implementing a minimum spanning forrest a...\n",
              "47303682       2  r studio date is getting converted to number w...\n",
              "46431243       0  pandas  dataframe groupby  how to get sum of m...\n",
              "45306324       0  casting results from observableforkjoin to the...\n",
              "49479547       1  environment variable set in batch file cannot ..."
            ]
          },
          "metadata": {
            "tags": []
          },
          "execution_count": 28
        }
      ]
    },
    {
      "cell_type": "markdown",
      "metadata": {
        "id": "TMv5l-ir89v9"
      },
      "source": [
        "# Разделение данных на тренировочную и тестовую выборки"
      ]
    },
    {
      "cell_type": "code",
      "metadata": {
        "id": "HQrvLiuH802O",
        "outputId": "7845e904-2a1c-4bd0-b024-28fd4556e610",
        "colab": {
          "base_uri": "https://localhost:8080/",
          "height": 50
        }
      },
      "source": [
        "def split(data):\n",
        "  split_pcent = 0.25\n",
        "  split = int(split_pcent * len(data))\n",
        "\n",
        "  data = data.sample(frac=1).reset_index(drop=True)\n",
        "\n",
        "  train = data[split:]\n",
        "  trainX = train['text']\n",
        "  trainY = train['target'].values\n",
        "\n",
        "  test = data[:split]\n",
        "  testX = test['text']\n",
        "  testY = test['target'].values\n",
        "\n",
        "  print(f\"Training Data Shape: {trainX.shape}\\nTest Data Shape: {testX.shape}\")\n",
        "  return trainX, trainY, testX, testY\n",
        "\n",
        "trainX, trainY, testX, testY = split(data)"
      ],
      "execution_count": 16,
      "outputs": [
        {
          "output_type": "stream",
          "text": [
            "Training Data Shape: (36000,)\n",
            "Test Data Shape: (12000,)\n"
          ],
          "name": "stdout"
        }
      ]
    },
    {
      "cell_type": "code",
      "metadata": {
        "id": "jaWO8KGN9kQv",
        "outputId": "785db366-c824-4d26-da69-e932bb67bbfa",
        "colab": {
          "base_uri": "https://localhost:8080/",
          "height": 34
        }
      },
      "source": [
        "[len(trainY[trainY == 0]), len(trainY[trainY == 1]), len(trainY[trainY == 2])]"
      ],
      "execution_count": 17,
      "outputs": [
        {
          "output_type": "execute_result",
          "data": {
            "text/plain": [
              "[12012, 12050, 11938]"
            ]
          },
          "metadata": {
            "tags": []
          },
          "execution_count": 17
        }
      ]
    },
    {
      "cell_type": "markdown",
      "metadata": {
        "id": "-sfomX7KCdU-"
      },
      "source": [
        "# Векторизация данных"
      ]
    },
    {
      "cell_type": "markdown",
      "metadata": {
        "id": "iq4cxmmXCoEJ"
      },
      "source": [
        "## 1. BOW (Bag of words)"
      ]
    },
    {
      "cell_type": "code",
      "metadata": {
        "id": "mJ64NclEIMo2"
      },
      "source": [
        "def bow(train, test):\n",
        "  bow_vectorizer = CountVectorizer()\n",
        "  train_vec = bow_vectorizer.fit_transform(train)\n",
        "  test_vec = bow_vectorizer.transform(test)\n",
        "  return train_vec, test_vec"
      ],
      "execution_count": 47,
      "outputs": []
    },
    {
      "cell_type": "markdown",
      "metadata": {
        "id": "oUHByJaxIEyC"
      },
      "source": [
        "## 2. tf-idf"
      ]
    },
    {
      "cell_type": "code",
      "metadata": {
        "id": "kusXPLLDCiWR"
      },
      "source": [
        "def tf_idf(train, test):\n",
        "  tfidf_vectorizer = TfidfVectorizer()\n",
        "  train_vec = tfidf_vectorizer.fit_transform(train)\n",
        "  test_vec = tfidf_vectorizer.transform(test)\n",
        "\n",
        "  return train_vec, test_vec"
      ],
      "execution_count": 62,
      "outputs": []
    },
    {
      "cell_type": "markdown",
      "metadata": {
        "id": "7eIMAmVTaZtq"
      },
      "source": [
        "# 3. W2V (word to vec)"
      ]
    },
    {
      "cell_type": "code",
      "metadata": {
        "id": "3kiJ1aQ8aXks"
      },
      "source": [
        "from gensim.models import Word2Vec\n",
        "import gensim\n",
        "from multiprocessing import cpu_count\n",
        "import numpy as np\n",
        "\n",
        "def split_sentence_to_words(serias, field='text'):\n",
        "  def split_str(text): \n",
        "    return text.split()\n",
        "  serias = serias.apply(split_str)\n",
        "  return serias\n",
        "\n",
        "def get_own_w2v(data):\n",
        "  words = split_sentence_to_words(data)\n",
        "  return Word2Vec(words, min_count = 1, workers=cpu_count())\n",
        "\n",
        "def word_averaging(wv, words):\n",
        "    all_words, mean = set(), []\n",
        "    \n",
        "    for word in words:\n",
        "        if isinstance(word, np.ndarray):\n",
        "            mean.append(word)\n",
        "        elif word in wv.vocab:\n",
        "            mean.append(wv.syn0norm[wv.vocab[word].index])\n",
        "            all_words.add(wv.vocab[word].index)\n",
        "\n",
        "    if not mean:\n",
        "        print(f\"cannot compute similarity with no input {words}\")\n",
        "        # FIXME: remove these examples in pre-processing\n",
        "        return np.zeros(wv.layer1_size,)\n",
        "\n",
        "    mean = gensim.matutils.unitvec(np.array(mean).mean(axis=0)).astype(np.float32)\n",
        "    return mean\n",
        "\n",
        "def  word_averaging_list(wv, text_list):\n",
        "    return np.vstack([word_averaging(wv, review) for review in text_list ])\n",
        "\n",
        "model = get_own_w2v(trainX)\n",
        "\n",
        "# w2v_test_x = word_averaging_list(model,testX)\n",
        "\n",
        "\n",
        "# model.build_vocab(data_part2, update=True)\n",
        "# model.train(data_part2, total_examples=model.corpus_count, epochs=model.iter)"
      ],
      "execution_count": 88,
      "outputs": []
    },
    {
      "cell_type": "code",
      "metadata": {
        "id": "QWXwnNfgB0k5",
        "outputId": "8ee67e9e-6156-418f-88e3-b7ca1d80e6eb",
        "colab": {
          "base_uri": "https://localhost:8080/",
          "height": 337
        }
      },
      "source": [
        "def word_averaging(wv, words):\n",
        "    all_words, mean = set(), []\n",
        "    \n",
        "    for word in words:\n",
        "        # if isinstance(word, np.ndarray) or word is list:\n",
        "        mean.append(word)\n",
        "        # elif word in wv.vocabulary:\n",
        "            # mean.append(wv.syn0norm[wv.vocab[word].index])\n",
        "            # all_words.add(wv.vocab[word].index)\n",
        "\n",
        "    if not mean:\n",
        "        print(f\"cannot compute similarity with no input {words}\")\n",
        "        # FIXME: remove these examples in pre-processing\n",
        "        return np.zeros(wv.layer1_size,)\n",
        "\n",
        "    mean = gensim.matutils.unitvec(np.array(mean).mean(axis=0)).astype(np.float32)\n",
        "    return mean\n",
        "\n",
        "def  word_averaging_list(wv, text_list):\n",
        "    return np.vstack([word_averaging(wv, review) for review in text_list ])\n",
        "\n",
        "\n",
        "test_x = split_sentence_to_words(testX)\n",
        "w2v_test_x = word_averaging_list(model, test_x)"
      ],
      "execution_count": 103,
      "outputs": [
        {
          "output_type": "error",
          "ename": "TypeError",
          "evalue": "ignored",
          "traceback": [
            "\u001b[0;31m---------------------------------------------------------------------------\u001b[0m",
            "\u001b[0;31mTypeError\u001b[0m                                 Traceback (most recent call last)",
            "\u001b[0;32m<ipython-input-103-69683407e493>\u001b[0m in \u001b[0;36m<module>\u001b[0;34m()\u001b[0m\n\u001b[1;32m     22\u001b[0m \u001b[0;34m\u001b[0m\u001b[0m\n\u001b[1;32m     23\u001b[0m \u001b[0mtest_x\u001b[0m \u001b[0;34m=\u001b[0m \u001b[0msplit_sentence_to_words\u001b[0m\u001b[0;34m(\u001b[0m\u001b[0mtestX\u001b[0m\u001b[0;34m)\u001b[0m\u001b[0;34m\u001b[0m\u001b[0;34m\u001b[0m\u001b[0m\n\u001b[0;32m---> 24\u001b[0;31m \u001b[0mw2v_test_x\u001b[0m \u001b[0;34m=\u001b[0m \u001b[0mword_averaging_list\u001b[0m\u001b[0;34m(\u001b[0m\u001b[0mmodel\u001b[0m\u001b[0;34m,\u001b[0m \u001b[0mtest_x\u001b[0m\u001b[0;34m)\u001b[0m\u001b[0;34m\u001b[0m\u001b[0;34m\u001b[0m\u001b[0m\n\u001b[0m",
            "\u001b[0;32m<ipython-input-103-69683407e493>\u001b[0m in \u001b[0;36mword_averaging_list\u001b[0;34m(wv, text_list)\u001b[0m\n\u001b[1;32m     18\u001b[0m \u001b[0;34m\u001b[0m\u001b[0m\n\u001b[1;32m     19\u001b[0m \u001b[0;32mdef\u001b[0m  \u001b[0mword_averaging_list\u001b[0m\u001b[0;34m(\u001b[0m\u001b[0mwv\u001b[0m\u001b[0;34m,\u001b[0m \u001b[0mtext_list\u001b[0m\u001b[0;34m)\u001b[0m\u001b[0;34m:\u001b[0m\u001b[0;34m\u001b[0m\u001b[0;34m\u001b[0m\u001b[0m\n\u001b[0;32m---> 20\u001b[0;31m     \u001b[0;32mreturn\u001b[0m \u001b[0mnp\u001b[0m\u001b[0;34m.\u001b[0m\u001b[0mvstack\u001b[0m\u001b[0;34m(\u001b[0m\u001b[0;34m[\u001b[0m\u001b[0mword_averaging\u001b[0m\u001b[0;34m(\u001b[0m\u001b[0mwv\u001b[0m\u001b[0;34m,\u001b[0m \u001b[0mreview\u001b[0m\u001b[0;34m)\u001b[0m \u001b[0;32mfor\u001b[0m \u001b[0mreview\u001b[0m \u001b[0;32min\u001b[0m \u001b[0mtext_list\u001b[0m \u001b[0;34m]\u001b[0m\u001b[0;34m)\u001b[0m\u001b[0;34m\u001b[0m\u001b[0;34m\u001b[0m\u001b[0m\n\u001b[0m\u001b[1;32m     21\u001b[0m \u001b[0;34m\u001b[0m\u001b[0m\n\u001b[1;32m     22\u001b[0m \u001b[0;34m\u001b[0m\u001b[0m\n",
            "\u001b[0;32m<ipython-input-103-69683407e493>\u001b[0m in \u001b[0;36m<listcomp>\u001b[0;34m(.0)\u001b[0m\n\u001b[1;32m     18\u001b[0m \u001b[0;34m\u001b[0m\u001b[0m\n\u001b[1;32m     19\u001b[0m \u001b[0;32mdef\u001b[0m  \u001b[0mword_averaging_list\u001b[0m\u001b[0;34m(\u001b[0m\u001b[0mwv\u001b[0m\u001b[0;34m,\u001b[0m \u001b[0mtext_list\u001b[0m\u001b[0;34m)\u001b[0m\u001b[0;34m:\u001b[0m\u001b[0;34m\u001b[0m\u001b[0;34m\u001b[0m\u001b[0m\n\u001b[0;32m---> 20\u001b[0;31m     \u001b[0;32mreturn\u001b[0m \u001b[0mnp\u001b[0m\u001b[0;34m.\u001b[0m\u001b[0mvstack\u001b[0m\u001b[0;34m(\u001b[0m\u001b[0;34m[\u001b[0m\u001b[0mword_averaging\u001b[0m\u001b[0;34m(\u001b[0m\u001b[0mwv\u001b[0m\u001b[0;34m,\u001b[0m \u001b[0mreview\u001b[0m\u001b[0;34m)\u001b[0m \u001b[0;32mfor\u001b[0m \u001b[0mreview\u001b[0m \u001b[0;32min\u001b[0m \u001b[0mtext_list\u001b[0m \u001b[0;34m]\u001b[0m\u001b[0;34m)\u001b[0m\u001b[0;34m\u001b[0m\u001b[0;34m\u001b[0m\u001b[0m\n\u001b[0m\u001b[1;32m     21\u001b[0m \u001b[0;34m\u001b[0m\u001b[0m\n\u001b[1;32m     22\u001b[0m \u001b[0;34m\u001b[0m\u001b[0m\n",
            "\u001b[0;32m<ipython-input-103-69683407e493>\u001b[0m in \u001b[0;36mword_averaging\u001b[0;34m(wv, words)\u001b[0m\n\u001b[1;32m     14\u001b[0m         \u001b[0;32mreturn\u001b[0m \u001b[0mnp\u001b[0m\u001b[0;34m.\u001b[0m\u001b[0mzeros\u001b[0m\u001b[0;34m(\u001b[0m\u001b[0mwv\u001b[0m\u001b[0;34m.\u001b[0m\u001b[0mlayer1_size\u001b[0m\u001b[0;34m,\u001b[0m\u001b[0;34m)\u001b[0m\u001b[0;34m\u001b[0m\u001b[0;34m\u001b[0m\u001b[0m\n\u001b[1;32m     15\u001b[0m \u001b[0;34m\u001b[0m\u001b[0m\n\u001b[0;32m---> 16\u001b[0;31m     \u001b[0mmean\u001b[0m \u001b[0;34m=\u001b[0m \u001b[0mgensim\u001b[0m\u001b[0;34m.\u001b[0m\u001b[0mmatutils\u001b[0m\u001b[0;34m.\u001b[0m\u001b[0munitvec\u001b[0m\u001b[0;34m(\u001b[0m\u001b[0mnp\u001b[0m\u001b[0;34m.\u001b[0m\u001b[0marray\u001b[0m\u001b[0;34m(\u001b[0m\u001b[0mmean\u001b[0m\u001b[0;34m)\u001b[0m\u001b[0;34m.\u001b[0m\u001b[0mmean\u001b[0m\u001b[0;34m(\u001b[0m\u001b[0maxis\u001b[0m\u001b[0;34m=\u001b[0m\u001b[0;36m0\u001b[0m\u001b[0;34m)\u001b[0m\u001b[0;34m)\u001b[0m\u001b[0;34m.\u001b[0m\u001b[0mastype\u001b[0m\u001b[0;34m(\u001b[0m\u001b[0mnp\u001b[0m\u001b[0;34m.\u001b[0m\u001b[0mfloat32\u001b[0m\u001b[0;34m)\u001b[0m\u001b[0;34m\u001b[0m\u001b[0;34m\u001b[0m\u001b[0m\n\u001b[0m\u001b[1;32m     17\u001b[0m     \u001b[0;32mreturn\u001b[0m \u001b[0mmean\u001b[0m\u001b[0;34m\u001b[0m\u001b[0;34m\u001b[0m\u001b[0m\n\u001b[1;32m     18\u001b[0m \u001b[0;34m\u001b[0m\u001b[0m\n",
            "\u001b[0;32m/usr/local/lib/python3.6/dist-packages/numpy/core/_methods.py\u001b[0m in \u001b[0;36m_mean\u001b[0;34m(a, axis, dtype, out, keepdims)\u001b[0m\n\u001b[1;32m    149\u001b[0m             \u001b[0mis_float16_result\u001b[0m \u001b[0;34m=\u001b[0m \u001b[0;32mTrue\u001b[0m\u001b[0;34m\u001b[0m\u001b[0;34m\u001b[0m\u001b[0m\n\u001b[1;32m    150\u001b[0m \u001b[0;34m\u001b[0m\u001b[0m\n\u001b[0;32m--> 151\u001b[0;31m     \u001b[0mret\u001b[0m \u001b[0;34m=\u001b[0m \u001b[0mumr_sum\u001b[0m\u001b[0;34m(\u001b[0m\u001b[0marr\u001b[0m\u001b[0;34m,\u001b[0m \u001b[0maxis\u001b[0m\u001b[0;34m,\u001b[0m \u001b[0mdtype\u001b[0m\u001b[0;34m,\u001b[0m \u001b[0mout\u001b[0m\u001b[0;34m,\u001b[0m \u001b[0mkeepdims\u001b[0m\u001b[0;34m)\u001b[0m\u001b[0;34m\u001b[0m\u001b[0;34m\u001b[0m\u001b[0m\n\u001b[0m\u001b[1;32m    152\u001b[0m     \u001b[0;32mif\u001b[0m \u001b[0misinstance\u001b[0m\u001b[0;34m(\u001b[0m\u001b[0mret\u001b[0m\u001b[0;34m,\u001b[0m \u001b[0mmu\u001b[0m\u001b[0;34m.\u001b[0m\u001b[0mndarray\u001b[0m\u001b[0;34m)\u001b[0m\u001b[0;34m:\u001b[0m\u001b[0;34m\u001b[0m\u001b[0;34m\u001b[0m\u001b[0m\n\u001b[1;32m    153\u001b[0m         ret = um.true_divide(\n",
            "\u001b[0;31mTypeError\u001b[0m: cannot perform reduce with flexible type"
          ]
        }
      ]
    },
    {
      "cell_type": "code",
      "metadata": {
        "id": "5v4RR2vE6dDG",
        "outputId": "6c647bdb-ba5e-44d2-e6d7-8c1f3ec80771",
        "colab": {
          "base_uri": "https://localhost:8080/",
          "height": 1000
        }
      },
      "source": [
        "import gensim.downloader as api\n",
        "word2vec_model300 = api.load('word2vec-google-news-300')\n",
        "word2vec_model300['upload']"
      ],
      "execution_count": 80,
      "outputs": [
        {
          "output_type": "stream",
          "text": [
            "[=================================================-] 99.8% 1659.2/1662.8MB downloaded\n"
          ],
          "name": "stdout"
        },
        {
          "output_type": "stream",
          "text": [
            "/usr/local/lib/python3.6/dist-packages/smart_open/smart_open_lib.py:252: UserWarning: This function is deprecated, use smart_open.open instead. See the migration notes for details: https://github.com/RaRe-Technologies/smart_open/blob/master/README.rst#migrating-to-the-new-open-function\n",
            "  'See the migration notes for details: %s' % _MIGRATION_NOTES_URL\n"
          ],
          "name": "stderr"
        },
        {
          "output_type": "execute_result",
          "data": {
            "text/plain": [
              "array([-0.08251953, -0.03393555, -0.05200195,  0.08691406,  0.04663086,\n",
              "        0.10205078,  0.11523438,  0.14941406,  0.07617188, -0.02319336,\n",
              "       -0.28515625,  0.06298828, -0.06591797,  0.08105469, -0.18261719,\n",
              "        0.34765625,  0.25390625,  0.21386719, -0.03833008, -0.20800781,\n",
              "       -0.01513672,  0.05859375, -0.31054688,  0.3125    , -0.046875  ,\n",
              "       -0.21386719,  0.09960938, -0.140625  ,  0.13964844, -0.31445312,\n",
              "       -0.25      , -0.00430298, -0.02282715, -0.15625   , -0.19921875,\n",
              "       -0.33398438,  0.00476074, -0.20996094,  0.18164062,  0.16015625,\n",
              "       -0.11425781,  0.23535156,  0.31445312,  0.15722656,  0.01086426,\n",
              "       -0.2890625 , -0.08105469,  0.12988281,  0.0213623 , -0.0625    ,\n",
              "       -0.17871094, -0.30859375,  0.26953125, -0.16308594, -0.00300598,\n",
              "       -0.01782227, -0.05444336,  0.05200195, -0.20507812,  0.31445312,\n",
              "        0.48828125, -0.16601562, -0.23828125, -0.16992188, -0.1484375 ,\n",
              "        0.05541992, -0.19140625,  0.00189209,  0.26171875,  0.34375   ,\n",
              "       -0.1953125 ,  0.31445312,  0.05859375, -0.19238281,  0.06933594,\n",
              "       -0.23242188,  0.13867188, -0.09130859,  0.12109375,  0.09179688,\n",
              "        0.16308594, -0.02783203,  0.06176758,  0.18847656,  0.5390625 ,\n",
              "       -0.13671875, -0.20898438,  0.30859375, -0.07177734,  0.16699219,\n",
              "       -0.19238281, -0.16796875, -0.12304688, -0.38085938, -0.00418091,\n",
              "       -0.01928711,  0.14941406,  0.39648438,  0.26367188,  0.17382812,\n",
              "        0.29492188, -0.05151367, -0.18945312,  0.12792969,  0.003479  ,\n",
              "        0.16699219, -0.0300293 ,  0.29101562,  0.25390625, -0.03637695,\n",
              "       -0.02856445, -0.1328125 , -0.10107422, -0.13476562,  0.24707031,\n",
              "        0.10302734, -0.1953125 , -0.33203125,  0.08935547,  0.04150391,\n",
              "       -0.11083984, -0.328125  , -0.359375  ,  0.09521484,  0.17773438,\n",
              "        0.27148438, -0.35742188, -0.16210938, -0.08447266,  0.13378906,\n",
              "       -0.03979492,  0.04956055,  0.01074219,  0.29101562,  0.06982422,\n",
              "       -0.12353516, -0.04882812, -0.0065918 ,  0.06103516, -0.24609375,\n",
              "        0.08398438, -0.16796875, -0.15234375, -0.03735352,  0.19726562,\n",
              "       -0.0859375 , -0.01635742, -0.17480469, -0.1328125 , -0.35742188,\n",
              "        0.25      , -0.11865234,  0.27148438,  0.05615234,  0.19042969,\n",
              "       -0.49804688,  0.0480957 ,  0.15136719, -0.34765625,  0.24707031,\n",
              "       -0.16796875,  0.12255859, -0.2890625 ,  0.23242188,  0.05517578,\n",
              "       -0.11669922,  0.06835938, -0.25195312, -0.19140625,  0.02124023,\n",
              "       -0.22265625,  0.03417969,  0.24316406,  0.20117188, -0.20898438,\n",
              "       -0.07617188, -0.16113281, -0.17089844, -0.203125  ,  0.06396484,\n",
              "       -0.05541992, -0.12988281, -0.05249023, -0.14257812, -0.01239014,\n",
              "        0.0625    , -0.24316406,  0.00309753, -0.17480469,  0.02770996,\n",
              "        0.01635742, -0.12792969, -0.22851562, -0.18847656,  0.00382996,\n",
              "        0.11035156,  0.16992188, -0.0035553 , -0.03637695, -0.33984375,\n",
              "        0.16796875,  0.28125   , -0.13867188, -0.08837891, -0.02587891,\n",
              "       -0.13183594, -0.10888672, -0.42382812,  0.05029297,  0.0703125 ,\n",
              "       -0.01501465,  0.3203125 ,  0.01708984,  0.24121094, -0.38867188,\n",
              "        0.02893066,  0.04321289, -0.12597656, -0.21386719, -0.47851562,\n",
              "       -0.30664062,  0.30078125, -0.42382812, -0.62109375, -0.24804688,\n",
              "       -0.0279541 , -0.51171875, -0.03881836,  0.06542969, -0.27929688,\n",
              "       -0.13183594, -0.24804688,  0.01385498,  0.09863281,  0.390625  ,\n",
              "       -0.18261719,  0.39648438, -0.15527344,  0.03125   ,  0.14746094,\n",
              "       -0.12792969,  0.125     , -0.09228516, -0.09423828, -0.15917969,\n",
              "       -0.05932617, -0.1640625 ,  0.59375   ,  0.18847656, -0.47460938,\n",
              "        0.01184082,  0.00469971, -0.07763672,  0.06689453,  0.09667969,\n",
              "        0.21289062,  0.06835938,  0.19726562, -0.1953125 , -0.28710938,\n",
              "       -0.13671875, -0.00204468,  0.15722656,  0.01257324,  0.17285156,\n",
              "       -0.31445312, -0.01525879,  0.20019531, -0.25585938, -0.2890625 ,\n",
              "        0.24023438,  0.43359375,  0.19238281,  0.24609375,  0.10693359,\n",
              "       -0.45898438, -0.03881836,  0.06884766, -0.05029297,  0.07519531,\n",
              "        0.05151367, -0.01177979, -0.07128906,  0.12792969,  0.02880859,\n",
              "        0.16503906,  0.07617188,  0.15234375,  0.22753906,  0.07226562,\n",
              "        0.2109375 ,  0.32226562, -0.13183594,  0.08251953, -0.12792969,\n",
              "       -0.10791016,  0.10839844, -0.45507812, -0.16796875,  0.03271484],\n",
              "      dtype=float32)"
            ]
          },
          "metadata": {
            "tags": []
          },
          "execution_count": 80
        }
      ]
    },
    {
      "cell_type": "markdown",
      "metadata": {
        "id": "gp8HDPeKJadX"
      },
      "source": [
        "# Построение классификаторов\n"
      ]
    },
    {
      "cell_type": "markdown",
      "metadata": {
        "id": "-TB9am4TJhBM"
      },
      "source": [
        "## 1. kNN"
      ]
    },
    {
      "cell_type": "code",
      "metadata": {
        "id": "kv0xxyvMJ8x6"
      },
      "source": [
        "def knn_score(trainX, trainY, testX, testY):\n",
        "  knn_classifier = KNeighborsClassifier()\n",
        "  knn_classifier.fit(trainX, trainY)\n",
        "  return knn_classifier.score(testX, testY)"
      ],
      "execution_count": 20,
      "outputs": []
    },
    {
      "cell_type": "markdown",
      "metadata": {
        "id": "cKuzGUa4JoSD"
      },
      "source": [
        "## 2. Random Forests"
      ]
    },
    {
      "cell_type": "code",
      "metadata": {
        "id": "LaMW8OEJJj-a"
      },
      "source": [
        "def random_forest_score(trainX, trainY, testX, testY):\n",
        "  rf_classifier = RandomForestClassifier()\n",
        "  rf_classifier.fit(trainX, trainY)\n",
        "  return rf_classifier.score(testX, testY)"
      ],
      "execution_count": 21,
      "outputs": []
    },
    {
      "cell_type": "markdown",
      "metadata": {
        "id": "PTCHZxyhKhIj"
      },
      "source": [
        "## 3. Логистическая регрессия"
      ]
    },
    {
      "cell_type": "code",
      "metadata": {
        "id": "phyDRDQbKgpe"
      },
      "source": [
        "def lr_score(trainX, trainY, testX, testY):\n",
        "  lr_classifier = LogisticRegression()\n",
        "  lr_classifier.fit(trainX, trainY)\n",
        "  return lr_classifier.score(testX, testY)"
      ],
      "execution_count": 22,
      "outputs": []
    },
    {
      "cell_type": "code",
      "metadata": {
        "id": "803CUXuNlpoR"
      },
      "source": [
        "========================================================================================================================\n",
        "========================================================================================================================\n",
        "========================================================================================================================"
      ],
      "execution_count": null,
      "outputs": []
    },
    {
      "cell_type": "code",
      "metadata": {
        "id": "XTUyvezPlu3r",
        "outputId": "5e3ce545-1bb9-4837-ca08-2ca9b93ee9e5",
        "colab": {
          "base_uri": "https://localhost:8080/",
          "height": 168
        }
      },
      "source": [
        "data = data[:1000]\n",
        "\n",
        "def visualize_results(score):\n",
        "  print(score)\n",
        "\n",
        "def base_pipeline(data, cleaner, spliter, vectorizer, scorer):\n",
        "  cleared_text = cleaner(data)\n",
        "  train_x, train_y, test_x, test_y = spliter(cleared_text)\n",
        "  print(train_x.head())\n",
        "  vectorized_train_x, vectorized_test_x = vectorizer(train_x, test_x)\n",
        "  score = scorer(vectorized_train_x, train_y, vectorized_test_x, test_y)\n",
        "\n",
        "  visualize_results(score)\n",
        "\n",
        "\n",
        "\n",
        "# 1 attempt: basic cleaner, bow, knn \n",
        "base_pipeline(data, clean_text, split, tf_idf, random_forest_score)"
      ],
      "execution_count": 52,
      "outputs": [
        {
          "output_type": "stream",
          "text": [
            "Training Data Shape: (750,)\n",
            "Test Data Shape: (250,)\n",
            "250    how to make sublists comprised of unique value...\n",
            "251    numbering each element of an arraylist in java...\n",
            "252    how to cout with input in c phello guys actual...\n",
            "253    why after i connection to sql server with libr...\n",
            "254    how to use and operator between string values ...\n",
            "Name: text, dtype: object\n",
            "0.756\n"
          ],
          "name": "stdout"
        }
      ]
    },
    {
      "cell_type": "code",
      "metadata": {
        "id": "tQ1u7-AQput5"
      },
      "source": [
        ""
      ],
      "execution_count": null,
      "outputs": []
    }
  ]
}