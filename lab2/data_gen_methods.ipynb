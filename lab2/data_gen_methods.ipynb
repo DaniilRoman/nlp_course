{
 "nbformat": 4,
 "nbformat_minor": 0,
 "metadata": {
  "kernelspec": {
   "display_name": "Python 3",
   "language": "python",
   "name": "python3"
  },
  "language_info": {
   "codemirror_mode": {
    "name": "ipython",
    "version": 3
   },
   "file_extension": ".py",
   "mimetype": "text/x-python",
   "name": "python",
   "nbconvert_exporter": "python",
   "pygments_lexer": "ipython3",
   "version": "3.8.2"
  },
  "colab": {
   "name": "Naming baseline.ipynb",
   "provenance": [],
   "collapsed_sections": [
    "0MTRniWAxqtb"
   ],
   "toc_visible": true
  }
 },
 "cells": [
  {
   "cell_type": "code",
   "execution_count": 125,
   "outputs": [
    {
     "name": "stderr",
     "output_type": "stream",
     "text": [
      "/home/droman/Documents/stuff/dl_course/venv/lib/python3.8/site-packages/tqdm/std.py:670: FutureWarning: The Panel class is removed from pandas. Accessing it from the top-level namespace will also be removed in the next version\n",
      "  from pandas import Panel\n"
     ]
    }
   ],
   "source": [
    "import pandas as pd\n",
    "\n",
    "from tqdm import tqdm\n",
    "tqdm.pandas()\n",
    "from functools import reduce"
   ],
   "metadata": {
    "collapsed": false,
    "pycharm": {
     "name": "#%%\n"
    }
   }
  },
  {
   "cell_type": "code",
   "execution_count": 16,
   "outputs": [],
   "source": [
    "train = pd.read_csv(\"./train_converted.csv\")\n"
   ],
   "metadata": {
    "collapsed": false,
    "pycharm": {
     "name": "#%%\n"
    }
   }
  },
  {
   "cell_type": "code",
   "execution_count": null,
   "outputs": [],
   "source": [],
   "metadata": {
    "collapsed": false,
    "pycharm": {
     "name": "#%%\n"
    }
   }
  },
  {
   "cell_type": "code",
   "execution_count": 46,
   "outputs": [],
   "source": [
    "train = train[train.is_duplicate==1]\n",
    "short_train = train\n",
    "short_train = short_train[['name_1','name_2']]"
   ],
   "metadata": {
    "collapsed": false,
    "pycharm": {
     "name": "#%%\n"
    }
   }
  },
  {
   "cell_type": "code",
   "execution_count": 99,
   "outputs": [
    {
     "data": {
      "text/plain": "497819"
     },
     "execution_count": 99,
     "metadata": {},
     "output_type": "execute_result"
    }
   ],
   "source": [
    "len(pd.read_csv(\"./train_converted.csv\"))"
   ],
   "metadata": {
    "collapsed": false,
    "pycharm": {
     "name": "#%%\n"
    }
   }
  },
  {
   "cell_type": "code",
   "execution_count": 94,
   "outputs": [],
   "source": [
    "def get_same_companies_graph(companies_dataframe):\n",
    "    result = [] # [[[a,b,c], {a: [b, c], b: [c]}, 3], [[d,e], {d: [e]}], 2]\n",
    "    for i, pair in tqdm(companies_dataframe.iterrows()):\n",
    "        first = pair['name_1']\n",
    "        second = pair['name_2']\n",
    "        if first != second:\n",
    "            flag = True\n",
    "\n",
    "            for list_same_companies in result:\n",
    "                if first in list_same_companies[0]:\n",
    "                    if second not in list_same_companies[0]:\n",
    "                        list_same_companies[0].append(second)\n",
    "                        try:\n",
    "                            list_same_companies[1][first].append(second)\n",
    "                        except:\n",
    "                            list_same_companies[1].update({first: [second]})\n",
    "                        list_same_companies[2]+=1\n",
    "                        flag = False\n",
    "                else:\n",
    "                    if second in list_same_companies[0]:\n",
    "                        if first not in list_same_companies[0]:\n",
    "                            list_same_companies[0].append(first)\n",
    "                            try:\n",
    "                                list_same_companies[1][second].append(first)\n",
    "                            except:\n",
    "                                list_same_companies[1].update({second: [first]})\n",
    "                            list_same_companies[2]+=1\n",
    "                            flag = False\n",
    "            if flag:\n",
    "                result.append([[first, second], {first: [second]}, 1])\n",
    "    return result\n",
    "\n"
   ],
   "metadata": {
    "collapsed": false,
    "pycharm": {
     "name": "#%%\n"
    }
   }
  },
  {
   "cell_type": "code",
   "execution_count": 101,
   "outputs": [
    {
     "name": "stderr",
     "output_type": "stream",
     "text": [
      "3658it [00:00, 4388.58it/s]\n"
     ]
    }
   ],
   "source": [
    "companies_graph = get_same_companies_graph(short_train)"
   ],
   "metadata": {
    "collapsed": false,
    "pycharm": {
     "name": "#%%\n"
    }
   }
  },
  {
   "cell_type": "code",
   "execution_count": 85,
   "outputs": [
    {
     "data": {
      "text/plain": "1"
     },
     "execution_count": 85,
     "metadata": {},
     "output_type": "execute_result"
    }
   ],
   "source": [
    "len(list(filter(lambda x: len(x[0])>35, companies_graph)))"
   ],
   "metadata": {
    "collapsed": false,
    "pycharm": {
     "name": "#%%\n"
    }
   }
  },
  {
   "cell_type": "code",
   "execution_count": 104,
   "outputs": [
    {
     "data": {
      "text/plain": "[7, 9, 9, 5, 10, 29, 1, 3, 1, 29]"
     },
     "execution_count": 104,
     "metadata": {},
     "output_type": "execute_result"
    }
   ],
   "source": [
    "# изначальное количество дубликатов компаний\n",
    "list(map(lambda x: x[2], companies_graph))[:10]"
   ],
   "metadata": {
    "collapsed": false,
    "pycharm": {
     "name": "#%%\n"
    }
   }
  },
  {
   "cell_type": "code",
   "execution_count": 87,
   "outputs": [],
   "source": [
    "most_longest_same_companies_list = (list(filter(lambda x: len(x[0])>35,companies_graph)))"
   ],
   "metadata": {
    "collapsed": false,
    "pycharm": {
     "name": "#%%\n"
    }
   }
  },
  {
   "cell_type": "code",
   "execution_count": 88,
   "outputs": [
    {
     "data": {
      "text/plain": "[[['zeon  private limited',\n   'zeonporation',\n   'zeon trading shanghaico',\n   'zeon medical inc',\n   'zeon chemicals lp',\n   'zeon',\n   'zeon specialty materials',\n   'zeon cscporation',\n   'zeon medical',\n   'zeon chemicals yonezawaltd',\n   'zeon advance polymix',\n   'zs elastomers',\n   'zeon asia  sdn bhd',\n   'zeon north',\n   'zeon trading',\n   'zeon nano technology ltd',\n   'zeon kaseiltd',\n   'zeon korea ltd',\n   'zeon belts private',\n   'zeon chemicals ltd',\n   'zeon produtos quimicos do brasil',\n   'zeon research vietnam ltd',\n   'zeon asia pte ltd',\n   'zeon advanced polymix',\n   'zeon chemicals l p',\n   'zeon kasei  sa de cv',\n   'zeon chemicals europe limited',\n   'zeon polymixrporation',\n   'zeon do brasil',\n   'zeon shinhwa',\n   'zeon kasei',\n   'zeon europe',\n   'zeon rim ltd',\n   'zeon fb ltd',\n   'zeon manufacturing vietnam ltd',\n   'zeon '],\n  {'zeon  private limited': ['zeonporation'],\n   'zeonporation': ['zeon trading shanghaico',\n    'zeon medical inc',\n    'zeon chemicals lp',\n    'zeon specialty materials',\n    'zeon cscporation',\n    'zeon medical',\n    'zeon chemicals yonezawaltd',\n    'zeon advance polymix',\n    'zs elastomers',\n    'zeon asia  sdn bhd',\n    'zeon north',\n    'zeon trading',\n    'zeon nano technology ltd',\n    'zeon kaseiltd',\n    'zeon korea ltd',\n    'zeon belts private',\n    'zeon chemicals ltd',\n    'zeon produtos quimicos do brasil',\n    'zeon research vietnam ltd',\n    'zeon asia pte ltd',\n    'zeon advanced polymix',\n    'zeon chemicals l p',\n    'zeon kasei  sa de cv',\n    'zeon chemicals europe limited',\n    'zeon polymixrporation',\n    'zeon do brasil',\n    'zeon shinhwa',\n    'zeon kasei',\n    'zeon europe',\n    'zeon rim ltd',\n    'zeon fb ltd',\n    'zeon manufacturing vietnam ltd'],\n   'zeon trading shanghaico': ['zeon'],\n   'zeon europe': ['zeon ']}]]"
     },
     "execution_count": 88,
     "metadata": {},
     "output_type": "execute_result"
    }
   ],
   "source": [
    "most_longest_same_companies_list"
   ],
   "metadata": {
    "collapsed": false,
    "pycharm": {
     "name": "#%%\n"
    }
   }
  },
  {
   "cell_type": "code",
   "execution_count": 105,
   "outputs": [],
   "source": [
    "LIST_UNIQUE_COMPANIES_ID = 0\n",
    "DICT_OF_RELATIONS_ID = 1\n",
    "COUNT_OF_RELATIONS_ID = 2\n",
    "EXTRA_RELATIONS_ID = 3\n",
    "def get_extra_relations(inner_companies_graph):\n",
    "    extra_relations = []\n",
    "    for unique_companies in tqdm(inner_companies_graph):\n",
    "        unique_companies.append([])\n",
    "        companies = unique_companies[LIST_UNIQUE_COMPANIES_ID]\n",
    "        company_relations = unique_companies[DICT_OF_RELATIONS_ID]\n",
    "        for company in companies:\n",
    "            try:\n",
    "                relations = company_relations[company]\n",
    "                excluded_companies = relations\n",
    "            except:\n",
    "                excluded_companies = []\n",
    "            excluded_companies.append(company)\n",
    "            for extra_relation_company in companies:\n",
    "                if extra_relation_company not in excluded_companies:\n",
    "                    extra_relations.append([company, extra_relation_company])\n",
    "                    unique_companies[COUNT_OF_RELATIONS_ID]+=1\n",
    "                    unique_companies[EXTRA_RELATIONS_ID].append([company, extra_relation_company])\n",
    "    return extra_relations\n"
   ],
   "metadata": {
    "collapsed": false,
    "pycharm": {
     "name": "#%%\n"
    }
   }
  },
  {
   "cell_type": "code",
   "execution_count": null,
   "outputs": [],
   "source": [
    "extra_relations = get_extra_relations(companies_graph)"
   ],
   "metadata": {
    "collapsed": false,
    "pycharm": {
     "name": "#%%\n"
    }
   }
  },
  {
   "cell_type": "code",
   "execution_count": 110,
   "outputs": [
    {
     "data": {
      "text/plain": "[56, 90, 90, 30, 110, 870, 2, 12, 2, 870]"
     },
     "execution_count": 110,
     "metadata": {},
     "output_type": "execute_result"
    }
   ],
   "source": [
    "# итоговое количество дубликатов компаний\n",
    "list(map(lambda x: x[COUNT_OF_RELATIONS_ID], companies_graph))[:10]"
   ],
   "metadata": {
    "collapsed": false,
    "pycharm": {
     "name": "#%%\n"
    }
   }
  },
  {
   "cell_type": "code",
   "execution_count": 108,
   "outputs": [
    {
     "data": {
      "text/plain": "143806"
     },
     "execution_count": 108,
     "metadata": {},
     "output_type": "execute_result"
    }
   ],
   "source": [
    "len(extra_relations)"
   ],
   "metadata": {
    "collapsed": false,
    "pycharm": {
     "name": "#%%\n"
    }
   }
  },
  {
   "cell_type": "code",
   "execution_count": 109,
   "outputs": [
    {
     "data": {
      "text/plain": "[['jx nippon oil  gas exploration', 'nippon oil exploration usa limited'],\n ['jx nippon oil  gas exploration', 'jx nippon oil  gas explorationporation'],\n ['jx nippon oil  gas exploration', 'nippon oil exploration limited'],\n ['jx nippon oil  gas exploration technical servicesporation',\n  'jx nippon oil  gas exploration'],\n ['jx nippon oil  gas exploration technical servicesporation',\n  'jx nippon oil  gas exploration ltd'],\n ['jx nippon oil  gas exploration technical servicesporation',\n  'jx nippon oil  gas exploration limited'],\n ['jx nippon oil  gas exploration technical servicesporation',\n  'jx nippon oil  gas explorationporation'],\n ['jx nippon oil  gas exploration technical servicesporation',\n  'jx nippon oil  gas exploration  pty'],\n ['jx nippon oil  gas exploration ltd', 'jx nippon oil  gas exploration'],\n ['jx nippon oil  gas exploration ltd',\n  'jx nippon oil  gas exploration technical servicesporation'],\n ['jx nippon oil  gas exploration ltd',\n  'jx nippon oil  gas exploration limited'],\n ['jx nippon oil  gas exploration ltd', 'nippon oil exploration usa limited'],\n ['jx nippon oil  gas exploration ltd',\n  'jx nippon oil  gas explorationporation'],\n ['jx nippon oil  gas exploration ltd', 'jx nippon oil  gas exploration  pty'],\n ['jx nippon oil  gas exploration ltd', 'nippon oil exploration limited'],\n ['jx nippon oil  gas exploration limited', 'jx nippon oil  gas exploration'],\n ['jx nippon oil  gas exploration limited',\n  'jx nippon oil  gas exploration technical servicesporation'],\n ['jx nippon oil  gas exploration limited',\n  'jx nippon oil  gas exploration ltd'],\n ['jx nippon oil  gas exploration limited',\n  'nippon oil exploration usa limited'],\n ['jx nippon oil  gas exploration limited',\n  'jx nippon oil  gas exploration  pty'],\n ['jx nippon oil  gas exploration limited', 'nippon oil exploration limited'],\n ['nippon oil exploration usa limited', 'jx nippon oil  gas exploration'],\n ['nippon oil exploration usa limited',\n  'jx nippon oil  gas exploration technical servicesporation'],\n ['nippon oil exploration usa limited', 'jx nippon oil  gas exploration ltd'],\n ['nippon oil exploration usa limited',\n  'jx nippon oil  gas exploration limited'],\n ['nippon oil exploration usa limited',\n  'jx nippon oil  gas explorationporation'],\n ['nippon oil exploration usa limited', 'jx nippon oil  gas exploration  pty'],\n ['nippon oil exploration usa limited', 'nippon oil exploration limited'],\n ['jx nippon oil  gas explorationporation', 'jx nippon oil  gas exploration'],\n ['jx nippon oil  gas explorationporation',\n  'jx nippon oil  gas exploration technical servicesporation']]"
     },
     "execution_count": 109,
     "metadata": {},
     "output_type": "execute_result"
    }
   ],
   "source": [
    "extra_relations[:30]"
   ],
   "metadata": {
    "collapsed": false,
    "pycharm": {
     "name": "#%%\n"
    }
   }
  },
  {
   "cell_type": "code",
   "execution_count": 113,
   "outputs": [],
   "source": [
    "companies_graph.sort(key=lambda x: x[COUNT_OF_RELATIONS_ID])"
   ],
   "metadata": {
    "collapsed": false,
    "pycharm": {
     "name": "#%%\n"
    }
   }
  },
  {
   "cell_type": "code",
   "execution_count": 132,
   "outputs": [
    {
     "data": {
      "text/plain": "[919, 919, 920, 920, 920, 920, 920, 920, 922, 1260]"
     },
     "execution_count": 132,
     "metadata": {},
     "output_type": "execute_result"
    }
   ],
   "source": [
    "list(map(lambda x: x[COUNT_OF_RELATIONS_ID], companies_graph))[-10:]"
   ],
   "metadata": {
    "collapsed": false,
    "pycharm": {
     "name": "#%%\n"
    }
   }
  },
  {
   "cell_type": "code",
   "execution_count": 126,
   "outputs": [
    {
     "data": {
      "text/plain": "152030"
     },
     "execution_count": 126,
     "metadata": {},
     "output_type": "execute_result"
    }
   ],
   "source": [
    "total_companies_number = reduce(lambda x1, x2: x1+x2, map(lambda x: x[COUNT_OF_RELATIONS_ID], companies_graph))\n",
    "total_companies_number"
   ],
   "metadata": {
    "collapsed": false,
    "pycharm": {
     "name": "#%%\n"
    }
   }
  },
  {
   "cell_type": "code",
   "execution_count": 127,
   "outputs": [],
   "source": [
    "PERCENT_OF_COMPANIES_ID = 4\n",
    "for company in companies_graph:\n",
    "    company.append(100*(company[COUNT_OF_RELATIONS_ID]/total_companies_number))"
   ],
   "metadata": {
    "collapsed": false,
    "pycharm": {
     "name": "#%%\n"
    }
   }
  },
  {
   "cell_type": "code",
   "execution_count": 131,
   "outputs": [
    {
     "data": {
      "text/plain": "[0.6044859567190687,\n 0.6044859567190687,\n 0.6051437216338881,\n 0.6051437216338881,\n 0.6051437216338881,\n 0.6051437216338881,\n 0.6051437216338881,\n 0.6051437216338881,\n 0.6064592514635269,\n 0.8287837926724988]"
     },
     "execution_count": 131,
     "metadata": {},
     "output_type": "execute_result"
    }
   ],
   "source": [
    "list(map(lambda x: x[PERCENT_OF_COMPANIES_ID], companies_graph))[-10:]"
   ],
   "metadata": {
    "collapsed": false,
    "pycharm": {
     "name": "#%%\n"
    }
   }
  },
  {
   "cell_type": "code",
   "execution_count": 145,
   "outputs": [],
   "source": [
    "def get_split_index(inner_companies_graph, input_percent=20):\n",
    "    percent_count = 0\n",
    "    for i in range(len(inner_companies_graph)-1, -1, -1):\n",
    "        if percent_count >= input_percent:\n",
    "            return i\n",
    "        percent_count+=inner_companies_graph[i][PERCENT_OF_COMPANIES_ID]"
   ],
   "metadata": {
    "collapsed": false,
    "pycharm": {
     "name": "#%%\n"
    }
   }
  },
  {
   "cell_type": "code",
   "execution_count": 146,
   "outputs": [
    {
     "data": {
      "text/plain": "1079"
     },
     "execution_count": 146,
     "metadata": {},
     "output_type": "execute_result"
    }
   ],
   "source": [
    "split_index = get_split_index(companies_graph, 20)\n",
    "split_index"
   ],
   "metadata": {
    "collapsed": false,
    "pycharm": {
     "name": "#%%\n"
    }
   }
  },
  {
   "cell_type": "code",
   "execution_count": null,
   "outputs": [],
   "source": [],
   "metadata": {
    "collapsed": false,
    "pycharm": {
     "name": "#%%\n"
    }
   }
  },
  {
   "cell_type": "code",
   "execution_count": null,
   "outputs": [],
   "source": [],
   "metadata": {
    "collapsed": false,
    "pycharm": {
     "name": "#%%\n"
    }
   }
  },
  {
   "cell_type": "code",
   "execution_count": null,
   "outputs": [],
   "source": [
    "short_train = pd.DataFrame(short_train, columns=['name_1', 'name_2'])"
   ],
   "metadata": {
    "collapsed": false,
    "pycharm": {
     "name": "#%%\n"
    }
   }
  },
  {
   "cell_type": "code",
   "execution_count": null,
   "outputs": [],
   "source": [
    "short_train.to_csv('./data/abbreviation_data.csv', index=False)"
   ],
   "metadata": {
    "collapsed": false,
    "pycharm": {
     "name": "#%%\n"
    }
   }
  },
  {
   "cell_type": "code",
   "execution_count": null,
   "outputs": [],
   "source": [],
   "metadata": {
    "collapsed": false,
    "pycharm": {
     "name": "#%%\n"
    }
   }
  },
  {
   "cell_type": "code",
   "execution_count": null,
   "outputs": [],
   "source": [],
   "metadata": {
    "collapsed": false,
    "pycharm": {
     "name": "#%%\n"
    }
   }
  },
  {
   "cell_type": "code",
   "execution_count": null,
   "outputs": [],
   "source": [],
   "metadata": {
    "collapsed": false,
    "pycharm": {
     "name": "#%%\n"
    }
   }
  },
  {
   "cell_type": "code",
   "execution_count": null,
   "outputs": [],
   "source": [],
   "metadata": {
    "collapsed": false,
    "pycharm": {
     "name": "#%%\n"
    }
   }
  }
 ]
}