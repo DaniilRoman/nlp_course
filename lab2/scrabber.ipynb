{
 "cells": [
  {
   "cell_type": "code",
   "execution_count": 1,
   "metadata": {
    "collapsed": true,
    "pycharm": {
     "name": "#%%\n"
    }
   },
   "outputs": [
    {
     "name": "stderr",
     "output_type": "stream",
     "text": [
      "/home/droman/Documents/stuff/dl_course/venv/lib/python3.8/site-packages/tqdm/std.py:670: FutureWarning: The Panel class is removed from pandas. Accessing it from the top-level namespace will also be removed in the next version\n",
      "  from pandas import Panel\n"
     ]
    }
   ],
   "source": [
    "import pandas as pd\n",
    "\n",
    "from tqdm import tqdm\n",
    "tqdm.pandas()\n",
    "import re\n",
    "\n",
    "from bs4 import BeautifulSoup\n",
    "import requests"
   ]
  },
  {
   "cell_type": "code",
   "execution_count": 9,
   "outputs": [],
   "source": [
    "response = requests.get(\"https://en.wikipedia.org/wiki/List_of_conglomerates\")"
   ],
   "metadata": {
    "collapsed": false,
    "pycharm": {
     "name": "#%%\n"
    }
   }
  },
  {
   "cell_type": "code",
   "execution_count": 10,
   "outputs": [],
   "source": [
    "html_tree = BeautifulSoup(response.content, 'html.parser')"
   ],
   "metadata": {
    "collapsed": false,
    "pycharm": {
     "name": "#%%\n"
    }
   }
  },
  {
   "cell_type": "code",
   "execution_count": 11,
   "outputs": [],
   "source": [
    "li_list = html_tree.findAll('li')"
   ],
   "metadata": {
    "collapsed": false,
    "pycharm": {
     "name": "#%%\n"
    }
   }
  },
  {
   "cell_type": "code",
   "execution_count": 20,
   "outputs": [],
   "source": [
    "def filter_condition(x):\n",
    "    try:\n",
    "        return x.find('a').get('title') is not None and x.find('a').get('href') is not None\n",
    "    except:\n",
    "        return False\n",
    "\n",
    "li_list = list(filter(filter_condition, li_list))"
   ],
   "metadata": {
    "collapsed": false,
    "pycharm": {
     "name": "#%%\n"
    }
   }
  },
  {
   "cell_type": "code",
   "execution_count": 30,
   "outputs": [],
   "source": [
    "result = []"
   ],
   "metadata": {
    "collapsed": false,
    "pycharm": {
     "name": "#%%\n"
    }
   }
  },
  {
   "cell_type": "code",
   "execution_count": 31,
   "outputs": [],
   "source": [
    "def scrab_companies_from_list(links_list, result):\n",
    "    error_count = 0\n",
    "    for link in tqdm(links_list):\n",
    "        try:\n",
    "            title = link.find('a').get('title')\n",
    "            href = link.find('a').get('href')\n",
    "            company_page = requests.get(f\"https://en.wikipedia.org/{href}\")\n",
    "            company_page_html_tree = BeautifulSoup(company_page.content, 'html.parser')\n",
    "\n",
    "            result.extend(\n",
    "                get_relation_from_first_paragraph(company_page_html_tree, title)\n",
    "            )\n",
    "            get_relations(company_page_html_tree, title, result)\n",
    "\n",
    "        except:\n",
    "            error_count+=1\n",
    "            print(\"error\")\n",
    "    print(f\"Error count: {error_count}\")\n",
    "    df = pd.DataFrame(result)\n",
    "    df.to_csv(\"wiki_data.csv\", index=False, header=['name_1','name_2'])"
   ],
   "metadata": {
    "collapsed": false,
    "pycharm": {
     "name": "#%%\n"
    }
   }
  },
  {
   "cell_type": "code",
   "execution_count": 32,
   "outputs": [
    {
     "name": "stderr",
     "output_type": "stream",
     "text": [
      "100%|██████████| 1046/1046 [10:23<00:00,  1.68it/s]\n"
     ]
    },
    {
     "name": "stdout",
     "output_type": "stream",
     "text": [
      "Error count: 0\n"
     ]
    }
   ],
   "source": [
    "scrab_companies_from_list(li_list, result)"
   ],
   "metadata": {
    "collapsed": false,
    "pycharm": {
     "name": "#%%\n"
    }
   }
  },
  {
   "cell_type": "code",
   "execution_count": 33,
   "outputs": [
    {
     "data": {
      "text/plain": "6011"
     },
     "execution_count": 33,
     "metadata": {},
     "output_type": "execute_result"
    }
   ],
   "source": [
    "len(result)"
   ],
   "metadata": {
    "collapsed": false,
    "pycharm": {
     "name": "#%%\n"
    }
   }
  },
  {
   "cell_type": "code",
   "execution_count": null,
   "outputs": [],
   "source": [
    "example_company = li_list[3]"
   ],
   "metadata": {
    "collapsed": false,
    "pycharm": {
     "name": "#%%\n"
    }
   }
  },
  {
   "cell_type": "code",
   "execution_count": 17,
   "outputs": [],
   "source": [
    "title = example_company.find('a').get('title')\n",
    "href = example_company.find('a').get('href')\n",
    "company_page = requests.get(f\"https://en.wikipedia.org/{href}\")"
   ],
   "metadata": {
    "collapsed": false,
    "pycharm": {
     "name": "#%%\n"
    }
   }
  },
  {
   "cell_type": "code",
   "execution_count": 9,
   "outputs": [],
   "source": [
    "company_page_html_tree = BeautifulSoup(company_page.content, 'html.parser')"
   ],
   "metadata": {
    "collapsed": false,
    "pycharm": {
     "name": "#%%\n"
    }
   }
  },
  {
   "cell_type": "code",
   "execution_count": 19,
   "outputs": [],
   "source": [
    "def get_relation_from_first_paragraph(company_page_html_tree, title):\n",
    "    final_list = []\n",
    "    try:\n",
    "        b_list = company_page_html_tree.find('p').findAll('b')\n",
    "        if b_list is not None:\n",
    "            for b in b_list:\n",
    "                b = b.text\n",
    "                if b != title:\n",
    "                    final_list.append([title, b])\n",
    "    except:\n",
    "        pass\n",
    "    return final_list"
   ],
   "metadata": {
    "collapsed": false,
    "pycharm": {
     "name": "#%%\n"
    }
   }
  },
  {
   "cell_type": "code",
   "execution_count": 11,
   "outputs": [
    {
     "data": {
      "text/plain": "[['Nation Media Group', 'NMG']]"
     },
     "execution_count": 11,
     "metadata": {},
     "output_type": "execute_result"
    }
   ],
   "source": [
    "get_relation_from_first_paragraph(company_page_html_tree, title)"
   ],
   "metadata": {
    "collapsed": false,
    "pycharm": {
     "name": "#%%\n"
    }
   }
  },
  {
   "cell_type": "code",
   "execution_count": 18,
   "outputs": [],
   "source": [
    "def _get_relations(company_page_html_tree, title, final_list, regexp):\n",
    "    subsidary_companies = company_page_html_tree.find('span', id=lambda x: x and re.match(regexp, x))\n",
    "    if subsidary_companies != None:\n",
    "        if subsidary_companies.find_next_sibling('ul') is None:\n",
    "            subsidary_companies = subsidary_companies.parent\n",
    "        ul = subsidary_companies.find_next_sibling('ul')\n",
    "        if ul is not None:\n",
    "            companies_list = ul.findChildren('li')\n",
    "            companies_list = list(map(lambda x: [title, x.text], companies_list))\n",
    "            final_list.extend(companies_list)\n",
    "        else:\n",
    "            companies_list = subsidary_companies.find_next_siblings('dl')\n",
    "            if companies_list is not None:\n",
    "                companies_list = list(map(lambda x: [title, x.text], companies_list))\n",
    "                final_list.extend(companies_list)\n",
    "\n",
    "    return final_list\n",
    "\n",
    "def get_relations(company_page_html_tree, title, final_list):\n",
    "    regexp_list = [r'.*(Subsidiar|subsidiar).*', r'.*(Divisions|divisions).*', r'List of developments', r'.*(Business|business).*',\n",
    "                    r'.*(Associated|associated).*',r'.*(Financial|financial).*', r'.*(Affiliates|affiliates).*', r'Group companies',\n",
    "\n",
    "                   r'Shipping',r'Logistics',r'Finance', r'.*(Manufacturing|manufacturing).*', r'Shipping Services', r'Social Services',\n",
    "                   r'Internet & Business', r'Joint ventures and foreign brands', r'Engineering',\n",
    "\n",
    "                   r'Related organizations', r'Core members', r'Other members', r'Oil and gas', r'Real estate', r'Other business',  r'Other core businesses',\n",
    "\n",
    "                   r'Japan', r'East Asia',r'Europe', r'North America', r'Oceania', r'South America', r'South Asia', r'Southeast Asia',r'Regional',\n",
    "                   r'Long distance and international',\n",
    "\n",
    "                   r'Mobile', r'.*(data|Data).*', r'Information security', r'Soft drink business', r'Alcoholic beverage business', r'Alcohol business',\n",
    "                   r'Health', r'Food', r'Agribio', r'Nutrient food', r'Restaurants', r'Pharmaceutical business', r'Agribio business'\n",
    "\n",
    "                   r'Electronics.*',r'Chemical.*',r'Telecommunications.*',r'Utilities.*',r'Banking.*', r'Foods.*', r'.*(Infrastructure|infrastructure).*',\n",
    "                   r'Divestment', r'Motion Pictures', r'Television Production.*', r'Media.*']\n",
    "    for regexp in regexp_list:\n",
    "        _get_relations(company_page_html_tree, title, final_list, regexp)\n",
    "\n",
    "get_relations(company_page_html_tree, title, [])"
   ],
   "metadata": {
    "collapsed": false,
    "pycharm": {
     "name": "#%%\n"
    }
   }
  },
  {
   "cell_type": "code",
   "execution_count": 3,
   "outputs": [],
   "source": [
    "company_page = requests.get(\"https://en.wikipedia.org/wiki/Nass_Corporation\")\n",
    "company_page_html_tree = BeautifulSoup(company_page.content, 'html.parser')"
   ],
   "metadata": {
    "collapsed": false,
    "pycharm": {
     "name": "#%%\n"
    }
   }
  },
  {
   "cell_type": "code",
   "execution_count": 7,
   "outputs": [
    {
     "data": {
      "text/plain": "['Nass Industrial Services (NIS)',\n 'Nass Scafform Contracting',\n 'Nass Sand Processing Plant (NSPP)',\n 'Nass Commercial Services',\n 'Nass Ice Plant',\n 'Nass Foods',\n 'Nass Dredging Company',\n 'Nass Contracting Co. W.L.L.',\n 'Nass Electrical Contracting Co. W.L.L.',\n 'Delmon Ready Mixed Concrete and Products Co. W.L.L. (DRMC)',\n 'Delmon Precast Co. W.L.L. (DPC)']"
     },
     "execution_count": 7,
     "metadata": {},
     "output_type": "execute_result"
    }
   ],
   "source": [
    "tag = company_page_html_tree.find('span', id=lambda x: x and re.match(r'(Divisions|divisions).*', x))\n",
    "tag = tag.parent\n",
    "\n",
    "tag = tag.find_next_siblings('dl')\n",
    "# companies_list = tag.findChildren('li')\n",
    "\n",
    "companies_list = list(map(lambda x: x.text, tag))\n",
    "# companies_list\n",
    "companies_list"
   ],
   "metadata": {
    "collapsed": false,
    "pycharm": {
     "name": "#%%\n"
    }
   }
  },
  {
   "cell_type": "code",
   "execution_count": 60,
   "outputs": [],
   "source": [],
   "metadata": {
    "collapsed": false,
    "pycharm": {
     "name": "#%%\n"
    }
   }
  },
  {
   "cell_type": "code",
   "execution_count": 27,
   "outputs": [],
   "source": [
    "test = [[1, 2], [3,4]]\n",
    "h = [[\"qwe\", \"rty\"]]\n",
    "test = h + test\n",
    "test = pd.DataFrame(test)\n",
    "test.to_csv(\"test1.csv\", index=False, header=[\"q\", \"w\"])"
   ],
   "metadata": {
    "collapsed": false,
    "pycharm": {
     "name": "#%%\n"
    }
   }
  },
  {
   "cell_type": "code",
   "execution_count": 2,
   "outputs": [],
   "source": [
    "wiki_data = pd.read_csv(\"./wiki_data.csv\")"
   ],
   "metadata": {
    "collapsed": false,
    "pycharm": {
     "name": "#%%\n"
    }
   }
  },
  {
   "cell_type": "code",
   "execution_count": 4,
   "outputs": [
    {
     "data": {
      "text/plain": "                                  name_1                            name_2\n0                                Cevital  Cevital Food Processing Industry\n1                                Cevital  Cevital Food Processing Industry\n2                                Cevital  Cevital Food Processing Industry\n3            Kenya Commercial Bank Group                 KCB Group Limited\n4            Kenya Commercial Bank Group                         KCB Group\n...                                  ...                               ...\n6006  Printable version of this page [p]                        Andritz AG\n6007  Printable version of this page [p]                     Red Bull GmbH\n6008  Printable version of this page [p]                    Voestalpine AG\n6009  Printable version of this page [p]                          Infratil\n6010  Printable version of this page [p]               The Warehouse Group\n\n[6011 rows x 2 columns]",
      "text/html": "<div>\n<style scoped>\n    .dataframe tbody tr th:only-of-type {\n        vertical-align: middle;\n    }\n\n    .dataframe tbody tr th {\n        vertical-align: top;\n    }\n\n    .dataframe thead th {\n        text-align: right;\n    }\n</style>\n<table border=\"1\" class=\"dataframe\">\n  <thead>\n    <tr style=\"text-align: right;\">\n      <th></th>\n      <th>name_1</th>\n      <th>name_2</th>\n    </tr>\n  </thead>\n  <tbody>\n    <tr>\n      <th>0</th>\n      <td>Cevital</td>\n      <td>Cevital Food Processing Industry</td>\n    </tr>\n    <tr>\n      <th>1</th>\n      <td>Cevital</td>\n      <td>Cevital Food Processing Industry</td>\n    </tr>\n    <tr>\n      <th>2</th>\n      <td>Cevital</td>\n      <td>Cevital Food Processing Industry</td>\n    </tr>\n    <tr>\n      <th>3</th>\n      <td>Kenya Commercial Bank Group</td>\n      <td>KCB Group Limited</td>\n    </tr>\n    <tr>\n      <th>4</th>\n      <td>Kenya Commercial Bank Group</td>\n      <td>KCB Group</td>\n    </tr>\n    <tr>\n      <th>...</th>\n      <td>...</td>\n      <td>...</td>\n    </tr>\n    <tr>\n      <th>6006</th>\n      <td>Printable version of this page [p]</td>\n      <td>Andritz AG</td>\n    </tr>\n    <tr>\n      <th>6007</th>\n      <td>Printable version of this page [p]</td>\n      <td>Red Bull GmbH</td>\n    </tr>\n    <tr>\n      <th>6008</th>\n      <td>Printable version of this page [p]</td>\n      <td>Voestalpine AG</td>\n    </tr>\n    <tr>\n      <th>6009</th>\n      <td>Printable version of this page [p]</td>\n      <td>Infratil</td>\n    </tr>\n    <tr>\n      <th>6010</th>\n      <td>Printable version of this page [p]</td>\n      <td>The Warehouse Group</td>\n    </tr>\n  </tbody>\n</table>\n<p>6011 rows × 2 columns</p>\n</div>"
     },
     "execution_count": 4,
     "metadata": {},
     "output_type": "execute_result"
    }
   ],
   "source": [
    "wiki_data"
   ],
   "metadata": {
    "collapsed": false,
    "pycharm": {
     "name": "#%%\n"
    }
   }
  },
  {
   "cell_type": "code",
   "execution_count": 39,
   "outputs": [],
   "source": [
    "wiki_data = wiki_data.drop_duplicates()"
   ],
   "metadata": {
    "collapsed": false,
    "pycharm": {
     "name": "#%%\n"
    }
   }
  },
  {
   "cell_type": "code",
   "execution_count": 40,
   "outputs": [],
   "source": [
    "wiki_data = wiki_data.dropna()"
   ],
   "metadata": {
    "collapsed": false,
    "pycharm": {
     "name": "#%%\n"
    }
   }
  },
  {
   "cell_type": "code",
   "execution_count": 41,
   "outputs": [
    {
     "data": {
      "text/plain": "[]"
     },
     "execution_count": 41,
     "metadata": {},
     "output_type": "execute_result"
    }
   ],
   "source": [
    "# qqq = list(filter(lambda x_: type(x_[1]) != str, wiki_data.values.tolist()))\n",
    "# list(map(lambda x1: x1[1], qqq))"
   ],
   "metadata": {
    "collapsed": false,
    "pycharm": {
     "name": "#%%\n"
    }
   }
  },
  {
   "cell_type": "code",
   "execution_count": 103,
   "outputs": [
    {
     "data": {
      "text/plain": "399"
     },
     "execution_count": 103,
     "metadata": {},
     "output_type": "execute_result"
    }
   ],
   "source": [],
   "metadata": {
    "collapsed": false,
    "pycharm": {
     "name": "#%%\n"
    }
   }
  },
  {
   "cell_type": "code",
   "execution_count": 120,
   "outputs": [
    {
     "data": {
      "text/plain": "2976"
     },
     "execution_count": 120,
     "metadata": {},
     "output_type": "execute_result"
    }
   ],
   "source": [
    "filtered_data = list(filter(lambda x_: len(x_[1].split()) <= 5 and re.search(r\":\", x_[1]) is None, wiki_data.values.tolist()))\n",
    "len(list(map(lambda x1: x1[1], filtered_data)))"
   ],
   "metadata": {
    "collapsed": false,
    "pycharm": {
     "name": "#%%\n"
    }
   }
  },
  {
   "cell_type": "code",
   "execution_count": 121,
   "outputs": [],
   "source": [
    "def clear(pair):\n",
    "    def _clear(company):\n",
    "        company = re.sub(\"\\d+\", \"\", company)\n",
    "        company = re.sub(\"\\(.*\\)|\\[.*\\]\", \"\", company)\n",
    "        company = re.sub(\"\\n+\", \"\", company)\n",
    "        return company\n",
    "    return [_clear(pair[0]), _clear(pair[1])]\n",
    "cleared_data = list(map(clear, filtered_data))"
   ],
   "metadata": {
    "collapsed": false,
    "pycharm": {
     "name": "#%%\n"
    }
   }
  },
  {
   "cell_type": "code",
   "execution_count": 125,
   "outputs": [],
   "source": [
    "cleared_data_df = pd.DataFrame(cleared_data, columns=['name_1', 'name_2'])\n",
    "cleared_data_df = cleared_data_df.drop_duplicates()\n",
    "cleared_data_df.to_csv('./cleared_wiki_data.csv', index=False)"
   ],
   "metadata": {
    "collapsed": false,
    "pycharm": {
     "name": "#%%\n"
    }
   }
  },
  {
   "cell_type": "code",
   "execution_count": null,
   "outputs": [],
   "source": [],
   "metadata": {
    "collapsed": false,
    "pycharm": {
     "name": "#%%\n"
    }
   }
  }
 ],
 "metadata": {
  "kernelspec": {
   "display_name": "Python 3",
   "language": "python",
   "name": "python3"
  },
  "language_info": {
   "codemirror_mode": {
    "name": "ipython",
    "version": 2
   },
   "file_extension": ".py",
   "mimetype": "text/x-python",
   "name": "python",
   "nbconvert_exporter": "python",
   "pygments_lexer": "ipython2",
   "version": "2.7.6"
  }
 },
 "nbformat": 4,
 "nbformat_minor": 0
}