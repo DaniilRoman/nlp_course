{
  "nbformat": 4,
  "nbformat_minor": 0,
  "metadata": {
    "colab": {
      "name": "sibur.ipynb",
      "provenance": [],
      "collapsed_sections": [
        "aNieNf9jY1gi",
        "9qtW7qHZDvDF",
        "x7KSajkVY-vs",
        "eh4NKr3FZPqt"
      ]
    },
    "kernelspec": {
      "display_name": "Python 3",
      "language": "python",
      "name": "python3"
    },
    "language_info": {
      "codemirror_mode": {
        "name": "ipython",
        "version": 3
      },
      "file_extension": ".py",
      "mimetype": "text/x-python",
      "name": "python",
      "nbconvert_exporter": "python",
      "pygments_lexer": "ipython3",
      "version": "3.8.2"
    }
  },
  "cells": [
    {
      "cell_type": "code",
      "metadata": {
        "colab": {
          "base_uri": "https://localhost:8080/"
        },
        "id": "ZlV27lMwxqtV",
        "outputId": "09d84fe5-2698-442d-a18c-e47b3481019d"
      },
      "source": [
        "%pylab inline\n",
        "plt.style.use(\"bmh\")"
      ],
      "execution_count": null,
      "outputs": [
        {
          "output_type": "stream",
          "text": [
            "Populating the interactive namespace from numpy and matplotlib\n"
          ],
          "name": "stdout"
        }
      ]
    },
    {
      "cell_type": "code",
      "metadata": {
        "id": "5FtvY9dPxqtX"
      },
      "source": [
        "import pathlib\n",
        "import pandas as pd\n",
        "\n",
        "from sklearn.metrics import classification_report, f1_score\n",
        "from sklearn.model_selection import StratifiedShuffleSplit\n",
        "from sklearn.ensemble import RandomForestClassifier\n",
        "from sklearn.linear_model import LogisticRegression"
      ],
      "execution_count": null,
      "outputs": []
    },
    {
      "cell_type": "code",
      "metadata": {
        "id": "RVokqkcvxqtX"
      },
      "source": [
        "from tqdm import tqdm\n",
        "tqdm.pandas()"
      ],
      "execution_count": null,
      "outputs": []
    },
    {
      "cell_type": "code",
      "metadata": {
        "id": "PPzqhvclxqtX"
      },
      "source": [
        "RS = 7345"
      ],
      "execution_count": null,
      "outputs": []
    },
    {
      "cell_type": "markdown",
      "metadata": {
        "id": "rPK-98h_xqtY"
      },
      "source": [
        "# Загрузка данных"
      ]
    },
    {
      "cell_type": "code",
      "metadata": {
        "id": "DNxknZRlxqtY"
      },
      "source": [
        "train = pd.read_csv(\"train.csv\", index_col=\"pair_id\")\n",
        "test = pd.read_csv(\"test.csv\", index_col=\"pair_id\")"
      ],
      "execution_count": null,
      "outputs": []
    },
    {
      "cell_type": "code",
      "metadata": {
        "colab": {
          "base_uri": "https://localhost:8080/",
          "height": 228
        },
        "id": "pyHRx1aaxqtY",
        "outputId": "c799310c-56a1-4e95-8516-afa5e0507a9e"
      },
      "source": [
        "train.head()"
      ],
      "execution_count": null,
      "outputs": [
        {
          "output_type": "execute_result",
          "data": {
            "text/html": [
              "<div>\n",
              "<style scoped>\n",
              "    .dataframe tbody tr th:only-of-type {\n",
              "        vertical-align: middle;\n",
              "    }\n",
              "\n",
              "    .dataframe tbody tr th {\n",
              "        vertical-align: top;\n",
              "    }\n",
              "\n",
              "    .dataframe thead th {\n",
              "        text-align: right;\n",
              "    }\n",
              "</style>\n",
              "<table border=\"1\" class=\"dataframe\">\n",
              "  <thead>\n",
              "    <tr style=\"text-align: right;\">\n",
              "      <th></th>\n",
              "      <th>name_1</th>\n",
              "      <th>name_2</th>\n",
              "      <th>is_duplicate</th>\n",
              "    </tr>\n",
              "    <tr>\n",
              "      <th>pair_id</th>\n",
              "      <th></th>\n",
              "      <th></th>\n",
              "      <th></th>\n",
              "    </tr>\n",
              "  </thead>\n",
              "  <tbody>\n",
              "    <tr>\n",
              "      <th>1</th>\n",
              "      <td>Iko Industries Ltd.</td>\n",
              "      <td>Enormous Industrial Trade Pvt., Ltd.</td>\n",
              "      <td>0</td>\n",
              "    </tr>\n",
              "    <tr>\n",
              "      <th>2</th>\n",
              "      <td>Apcotex Industries Ltd.</td>\n",
              "      <td>Technocraft Industries (India) Ltd.</td>\n",
              "      <td>0</td>\n",
              "    </tr>\n",
              "    <tr>\n",
              "      <th>3</th>\n",
              "      <td>Rishichem Distributors Pvt., Ltd.</td>\n",
              "      <td>Dsa</td>\n",
              "      <td>0</td>\n",
              "    </tr>\n",
              "    <tr>\n",
              "      <th>4</th>\n",
              "      <td>Powermax Rubber Factory</td>\n",
              "      <td>Co. One</td>\n",
              "      <td>0</td>\n",
              "    </tr>\n",
              "    <tr>\n",
              "      <th>5</th>\n",
              "      <td>Tress A/S</td>\n",
              "      <td>Longyou Industries Park Zhejiang</td>\n",
              "      <td>0</td>\n",
              "    </tr>\n",
              "  </tbody>\n",
              "</table>\n",
              "</div>"
            ],
            "text/plain": [
              "                                    name_1  ... is_duplicate\n",
              "pair_id                                     ...             \n",
              "1                      Iko Industries Ltd.  ...            0\n",
              "2                  Apcotex Industries Ltd.  ...            0\n",
              "3        Rishichem Distributors Pvt., Ltd.  ...            0\n",
              "4                  Powermax Rubber Factory  ...            0\n",
              "5                                Tress A/S  ...            0\n",
              "\n",
              "[5 rows x 3 columns]"
            ]
          },
          "metadata": {
            "tags": []
          },
          "execution_count": 105
        }
      ]
    },
    {
      "cell_type": "code",
      "metadata": {
        "colab": {
          "base_uri": "https://localhost:8080/",
          "height": 228
        },
        "id": "a8OK3jfxxqtY",
        "outputId": "82ac5be9-75c5-4720-cdbe-b304fab3b217"
      },
      "source": [
        "test.head()"
      ],
      "execution_count": null,
      "outputs": [
        {
          "output_type": "execute_result",
          "data": {
            "text/html": [
              "<div>\n",
              "<style scoped>\n",
              "    .dataframe tbody tr th:only-of-type {\n",
              "        vertical-align: middle;\n",
              "    }\n",
              "\n",
              "    .dataframe tbody tr th {\n",
              "        vertical-align: top;\n",
              "    }\n",
              "\n",
              "    .dataframe thead th {\n",
              "        text-align: right;\n",
              "    }\n",
              "</style>\n",
              "<table border=\"1\" class=\"dataframe\">\n",
              "  <thead>\n",
              "    <tr style=\"text-align: right;\">\n",
              "      <th></th>\n",
              "      <th>name_1</th>\n",
              "      <th>name_2</th>\n",
              "    </tr>\n",
              "    <tr>\n",
              "      <th>pair_id</th>\n",
              "      <th></th>\n",
              "      <th></th>\n",
              "    </tr>\n",
              "  </thead>\n",
              "  <tbody>\n",
              "    <tr>\n",
              "      <th>1</th>\n",
              "      <td>Sun Blinds Decoration Inc.</td>\n",
              "      <td>Indl De Cuautitlan Sa Cv</td>\n",
              "    </tr>\n",
              "    <tr>\n",
              "      <th>2</th>\n",
              "      <td>Eih Ltd.</td>\n",
              "      <td>Dongguan Wei Shi Plastic Product Co., Ltd.</td>\n",
              "    </tr>\n",
              "    <tr>\n",
              "      <th>3</th>\n",
              "      <td>Jsh Ltd. (Hk)</td>\n",
              "      <td>Arab Shipbuilding And Repair Yard C</td>\n",
              "    </tr>\n",
              "    <tr>\n",
              "      <th>4</th>\n",
              "      <td>Better Industrial Ltd.</td>\n",
              "      <td>Farmacap Industria E Comercio Ltda</td>\n",
              "    </tr>\n",
              "    <tr>\n",
              "      <th>5</th>\n",
              "      <td>Equipos Inoxidables Del Norte Sa De Cv</td>\n",
              "      <td>Bel Inc.</td>\n",
              "    </tr>\n",
              "  </tbody>\n",
              "</table>\n",
              "</div>"
            ],
            "text/plain": [
              "                                         name_1                                      name_2\n",
              "pair_id                                                                                    \n",
              "1                    Sun Blinds Decoration Inc.                    Indl De Cuautitlan Sa Cv\n",
              "2                                      Eih Ltd.  Dongguan Wei Shi Plastic Product Co., Ltd.\n",
              "3                                 Jsh Ltd. (Hk)         Arab Shipbuilding And Repair Yard C\n",
              "4                        Better Industrial Ltd.          Farmacap Industria E Comercio Ltda\n",
              "5        Equipos Inoxidables Del Norte Sa De Cv                                    Bel Inc."
            ]
          },
          "metadata": {
            "tags": []
          },
          "execution_count": 106
        }
      ]
    },
    {
      "cell_type": "code",
      "metadata": {
        "colab": {
          "base_uri": "https://localhost:8080/"
        },
        "id": "yTF9UQ6vxqtY",
        "outputId": "6ed55ba6-2d41-4cce-a8ff-19c289357cbb"
      },
      "source": [
        "train.info()"
      ],
      "execution_count": null,
      "outputs": [
        {
          "output_type": "stream",
          "text": [
            "<class 'pandas.core.frame.DataFrame'>\n",
            "Int64Index: 497819 entries, 1 to 497819\n",
            "Data columns (total 3 columns):\n",
            " #   Column        Non-Null Count   Dtype \n",
            "---  ------        --------------   ----- \n",
            " 0   name_1        497819 non-null  object\n",
            " 1   name_2        497819 non-null  object\n",
            " 2   is_duplicate  497819 non-null  int64 \n",
            "dtypes: int64(1), object(2)\n",
            "memory usage: 15.2+ MB\n"
          ],
          "name": "stdout"
        }
      ]
    },
    {
      "cell_type": "code",
      "metadata": {
        "colab": {
          "base_uri": "https://localhost:8080/"
        },
        "id": "SzQBw2bkxqtY",
        "outputId": "f4f32e66-71f6-48d9-c0e4-bb7aa462742f"
      },
      "source": [
        "test.info()"
      ],
      "execution_count": null,
      "outputs": [
        {
          "output_type": "stream",
          "text": [
            "<class 'pandas.core.frame.DataFrame'>\n",
            "Int64Index: 213249 entries, 1 to 213249\n",
            "Data columns (total 2 columns):\n",
            " #   Column  Non-Null Count   Dtype \n",
            "---  ------  --------------   ----- \n",
            " 0   name_1  213249 non-null  object\n",
            " 1   name_2  213249 non-null  object\n",
            "dtypes: object(2)\n",
            "memory usage: 4.9+ MB\n"
          ],
          "name": "stdout"
        }
      ]
    },
    {
      "cell_type": "markdown",
      "metadata": {
        "id": "napIuPS7xqtZ"
      },
      "source": [
        "# Статистика таргета"
      ]
    },
    {
      "cell_type": "code",
      "metadata": {
        "colab": {
          "base_uri": "https://localhost:8080/"
        },
        "id": "A4SOpUDfxqtZ",
        "outputId": "30b47a4b-ac4d-4682-b196-7d3d6e06bdd5"
      },
      "source": [
        "train.is_duplicate.value_counts()"
      ],
      "execution_count": null,
      "outputs": [
        {
          "output_type": "execute_result",
          "data": {
            "text/plain": [
              "0    494161\n",
              "1      3658\n",
              "Name: is_duplicate, dtype: int64"
            ]
          },
          "metadata": {
            "tags": []
          },
          "execution_count": 10
        }
      ]
    },
    {
      "cell_type": "code",
      "metadata": {
        "colab": {
          "base_uri": "https://localhost:8080/",
          "height": 545
        },
        "id": "TfCqxcrFxqtZ",
        "outputId": "99bca3ce-c5b0-4bf7-af7c-d074e03a5fe2"
      },
      "source": [
        "train[train.is_duplicate==1].sample(15)"
      ],
      "execution_count": null,
      "outputs": [
        {
          "output_type": "execute_result",
          "data": {
            "text/html": [
              "<div>\n",
              "<style scoped>\n",
              "    .dataframe tbody tr th:only-of-type {\n",
              "        vertical-align: middle;\n",
              "    }\n",
              "\n",
              "    .dataframe tbody tr th {\n",
              "        vertical-align: top;\n",
              "    }\n",
              "\n",
              "    .dataframe thead th {\n",
              "        text-align: right;\n",
              "    }\n",
              "</style>\n",
              "<table border=\"1\" class=\"dataframe\">\n",
              "  <thead>\n",
              "    <tr style=\"text-align: right;\">\n",
              "      <th></th>\n",
              "      <th>name_1</th>\n",
              "      <th>name_2</th>\n",
              "      <th>is_duplicate</th>\n",
              "    </tr>\n",
              "    <tr>\n",
              "      <th>pair_id</th>\n",
              "      <th></th>\n",
              "      <th></th>\n",
              "      <th></th>\n",
              "    </tr>\n",
              "  </thead>\n",
              "  <tbody>\n",
              "    <tr>\n",
              "      <th>395382</th>\n",
              "      <td>Ikea Distribution Services Gmb H</td>\n",
              "      <td>Ikea Distribution Service(Shanghai)</td>\n",
              "      <td>1</td>\n",
              "    </tr>\n",
              "    <tr>\n",
              "      <th>209566</th>\n",
              "      <td>Bridgestone Tire</td>\n",
              "      <td>Bridgestone (China) Research And Development C...</td>\n",
              "      <td>1</td>\n",
              "    </tr>\n",
              "    <tr>\n",
              "      <th>263594</th>\n",
              "      <td>Dow Chemical Thailand Ltd.</td>\n",
              "      <td>Dow Chemical Pacific</td>\n",
              "      <td>1</td>\n",
              "    </tr>\n",
              "    <tr>\n",
              "      <th>458214</th>\n",
              "      <td>Freudenberg Nok De Mexico Sa De Cv</td>\n",
              "      <td>Freudenberg Nok Componentes Brasil Ltda</td>\n",
              "      <td>1</td>\n",
              "    </tr>\n",
              "    <tr>\n",
              "      <th>388667</th>\n",
              "      <td>Arlanxeo Brasil Sa</td>\n",
              "      <td>Arlanxeo Singapore Pte.</td>\n",
              "      <td>1</td>\n",
              "    </tr>\n",
              "    <tr>\n",
              "      <th>158075</th>\n",
              "      <td>Basf Pakistan (Private) Ltd.</td>\n",
              "      <td>Basf Co., Ltd.</td>\n",
              "      <td>1</td>\n",
              "    </tr>\n",
              "    <tr>\n",
              "      <th>163396</th>\n",
              "      <td>Soprema Canada</td>\n",
              "      <td>SOPREMA OBERROSSBACH</td>\n",
              "      <td>1</td>\n",
              "    </tr>\n",
              "    <tr>\n",
              "      <th>390723</th>\n",
              "      <td>Sumitomo Rubber (Changshu) Co., Ltd.</td>\n",
              "      <td>Sumitomo Rubber Do Brasil Ltda</td>\n",
              "      <td>1</td>\n",
              "    </tr>\n",
              "    <tr>\n",
              "      <th>56580</th>\n",
              "      <td>Yokohama Tire Canada</td>\n",
              "      <td>Yokohama Re Mfg.</td>\n",
              "      <td>1</td>\n",
              "    </tr>\n",
              "    <tr>\n",
              "      <th>114960</th>\n",
              "      <td>Bridgestone (Tianjin) Tire Co., Ltd.</td>\n",
              "      <td>Bridgestone (Huizhou) Tire Co., Ltd.</td>\n",
              "      <td>1</td>\n",
              "    </tr>\n",
              "    <tr>\n",
              "      <th>19122</th>\n",
              "      <td>Bridgestone India Automotive Products Private ...</td>\n",
              "      <td>Bridgestone International Group</td>\n",
              "      <td>1</td>\n",
              "    </tr>\n",
              "    <tr>\n",
              "      <th>291037</th>\n",
              "      <td>Bridgestone International Group</td>\n",
              "      <td>Bridgestone Canada Inc.</td>\n",
              "      <td>1</td>\n",
              "    </tr>\n",
              "    <tr>\n",
              "      <th>70705</th>\n",
              "      <td>Bridgestone International Group</td>\n",
              "      <td>Bridgestone India Pvt., Ltd.</td>\n",
              "      <td>1</td>\n",
              "    </tr>\n",
              "    <tr>\n",
              "      <th>214980</th>\n",
              "      <td>ARLANXEO</td>\n",
              "      <td>ARLANXEO BRASIL S.A.</td>\n",
              "      <td>1</td>\n",
              "    </tr>\n",
              "    <tr>\n",
              "      <th>20824</th>\n",
              "      <td>Pirelli Neumaticos S.A. De Cv</td>\n",
              "      <td>Pirelli Neumaticos Sa De</td>\n",
              "      <td>1</td>\n",
              "    </tr>\n",
              "  </tbody>\n",
              "</table>\n",
              "</div>"
            ],
            "text/plain": [
              "                                                    name_1  ... is_duplicate\n",
              "pair_id                                                     ...             \n",
              "395382                    Ikea Distribution Services Gmb H  ...            1\n",
              "209566                                    Bridgestone Tire  ...            1\n",
              "263594                          Dow Chemical Thailand Ltd.  ...            1\n",
              "458214                  Freudenberg Nok De Mexico Sa De Cv  ...            1\n",
              "388667                                  Arlanxeo Brasil Sa  ...            1\n",
              "158075                        Basf Pakistan (Private) Ltd.  ...            1\n",
              "163396                                      Soprema Canada  ...            1\n",
              "390723                Sumitomo Rubber (Changshu) Co., Ltd.  ...            1\n",
              "56580                                 Yokohama Tire Canada  ...            1\n",
              "114960                Bridgestone (Tianjin) Tire Co., Ltd.  ...            1\n",
              "19122    Bridgestone India Automotive Products Private ...  ...            1\n",
              "291037                     Bridgestone International Group  ...            1\n",
              "70705                      Bridgestone International Group  ...            1\n",
              "214980                                           ARLANXEO   ...            1\n",
              "20824                        Pirelli Neumaticos S.A. De Cv  ...            1\n",
              "\n",
              "[15 rows x 3 columns]"
            ]
          },
          "metadata": {
            "tags": []
          },
          "execution_count": 11
        }
      ]
    },
    {
      "cell_type": "code",
      "metadata": {
        "colab": {
          "base_uri": "https://localhost:8080/",
          "height": 545
        },
        "id": "KZRWMaKcxqtZ",
        "outputId": "addff9ca-ddf9-4854-aff7-ff4b416d1028"
      },
      "source": [
        "train[train.is_duplicate==0].sample(15)"
      ],
      "execution_count": null,
      "outputs": [
        {
          "output_type": "execute_result",
          "data": {
            "text/html": [
              "<div>\n",
              "<style scoped>\n",
              "    .dataframe tbody tr th:only-of-type {\n",
              "        vertical-align: middle;\n",
              "    }\n",
              "\n",
              "    .dataframe tbody tr th {\n",
              "        vertical-align: top;\n",
              "    }\n",
              "\n",
              "    .dataframe thead th {\n",
              "        text-align: right;\n",
              "    }\n",
              "</style>\n",
              "<table border=\"1\" class=\"dataframe\">\n",
              "  <thead>\n",
              "    <tr style=\"text-align: right;\">\n",
              "      <th></th>\n",
              "      <th>name_1</th>\n",
              "      <th>name_2</th>\n",
              "      <th>is_duplicate</th>\n",
              "    </tr>\n",
              "    <tr>\n",
              "      <th>pair_id</th>\n",
              "      <th></th>\n",
              "      <th></th>\n",
              "      <th></th>\n",
              "    </tr>\n",
              "  </thead>\n",
              "  <tbody>\n",
              "    <tr>\n",
              "      <th>130514</th>\n",
              "      <td>R.H. Claydon Ltd.(Saxham)</td>\n",
              "      <td>R.I.Intl</td>\n",
              "      <td>0</td>\n",
              "    </tr>\n",
              "    <tr>\n",
              "      <th>213799</th>\n",
              "      <td>Solid Cement</td>\n",
              "      <td>Lg Chem Ltd.</td>\n",
              "      <td>0</td>\n",
              "    </tr>\n",
              "    <tr>\n",
              "      <th>237941</th>\n",
              "      <td>Zara Brasil Ltd. Av Ribeirao Dos Cri</td>\n",
              "      <td>V.D.</td>\n",
              "      <td>0</td>\n",
              "    </tr>\n",
              "    <tr>\n",
              "      <th>62414</th>\n",
              "      <td>Carlton Overseas Pvt., Ltd.</td>\n",
              "      <td>Infusion Overseas Private Ltd.</td>\n",
              "      <td>0</td>\n",
              "    </tr>\n",
              "    <tr>\n",
              "      <th>275797</th>\n",
              "      <td>Sportworx 2012 Ltd.</td>\n",
              "      <td>Elisei Nastri Trasportatori</td>\n",
              "      <td>0</td>\n",
              "    </tr>\n",
              "    <tr>\n",
              "      <th>138235</th>\n",
              "      <td>Genius Industrial Supply Co., Ltd.</td>\n",
              "      <td>D S International</td>\n",
              "      <td>0</td>\n",
              "    </tr>\n",
              "    <tr>\n",
              "      <th>154412</th>\n",
              "      <td>Great Worldwide Logistics</td>\n",
              "      <td>Ez Logistics Llc</td>\n",
              "      <td>0</td>\n",
              "    </tr>\n",
              "    <tr>\n",
              "      <th>284958</th>\n",
              "      <td>Hps North America Inc.</td>\n",
              "      <td>Icl America Ltd.</td>\n",
              "      <td>0</td>\n",
              "    </tr>\n",
              "    <tr>\n",
              "      <th>150053</th>\n",
              "      <td>Gates India P. Ltd.</td>\n",
              "      <td>Indo Rama Synthetics (India) Ltd.</td>\n",
              "      <td>0</td>\n",
              "    </tr>\n",
              "    <tr>\n",
              "      <th>201895</th>\n",
              "      <td>Industria Servimetal Sa De Cv</td>\n",
              "      <td>Shenzhen Z P C Industry Development Co., Ltd.</td>\n",
              "      <td>0</td>\n",
              "    </tr>\n",
              "    <tr>\n",
              "      <th>439434</th>\n",
              "      <td>Roar Logistics Inc.</td>\n",
              "      <td>Task Logistica Transportes Nacionais E Interna...</td>\n",
              "      <td>0</td>\n",
              "    </tr>\n",
              "    <tr>\n",
              "      <th>254332</th>\n",
              "      <td>Ict</td>\n",
              "      <td>Dura De Mexico Sa De Cv</td>\n",
              "      <td>0</td>\n",
              "    </tr>\n",
              "    <tr>\n",
              "      <th>26284</th>\n",
              "      <td>Han Gia Co., Ltd.</td>\n",
              "      <td>Shanghai Medical Technology Co., Ltd. Will Be ...</td>\n",
              "      <td>0</td>\n",
              "    </tr>\n",
              "    <tr>\n",
              "      <th>305484</th>\n",
              "      <td>Dsi</td>\n",
              "      <td>Cauchos Vulcanizados Colombia Ltda</td>\n",
              "      <td>0</td>\n",
              "    </tr>\n",
              "    <tr>\n",
              "      <th>275632</th>\n",
              "      <td>Shanghai Smith Adhesive Tape Development Co., ...</td>\n",
              "      <td>I B International</td>\n",
              "      <td>0</td>\n",
              "    </tr>\n",
              "  </tbody>\n",
              "</table>\n",
              "</div>"
            ],
            "text/plain": [
              "                                                    name_1  ... is_duplicate\n",
              "pair_id                                                     ...             \n",
              "130514                           R.H. Claydon Ltd.(Saxham)  ...            0\n",
              "213799                                        Solid Cement  ...            0\n",
              "237941                Zara Brasil Ltd. Av Ribeirao Dos Cri  ...            0\n",
              "62414                          Carlton Overseas Pvt., Ltd.  ...            0\n",
              "275797                                 Sportworx 2012 Ltd.  ...            0\n",
              "138235                  Genius Industrial Supply Co., Ltd.  ...            0\n",
              "154412                           Great Worldwide Logistics  ...            0\n",
              "284958                              Hps North America Inc.  ...            0\n",
              "150053                                 Gates India P. Ltd.  ...            0\n",
              "201895                       Industria Servimetal Sa De Cv  ...            0\n",
              "439434                                 Roar Logistics Inc.  ...            0\n",
              "254332                                                 Ict  ...            0\n",
              "26284                                    Han Gia Co., Ltd.  ...            0\n",
              "305484                                                 Dsi  ...            0\n",
              "275632   Shanghai Smith Adhesive Tape Development Co., ...  ...            0\n",
              "\n",
              "[15 rows x 3 columns]"
            ]
          },
          "metadata": {
            "tags": []
          },
          "execution_count": 12
        }
      ]
    },
    {
      "cell_type": "markdown",
      "metadata": {
        "id": "Eo0ykkbVxqtZ"
      },
      "source": [
        "# Очистка данных"
      ]
    },
    {
      "cell_type": "code",
      "metadata": {
        "colab": {
          "base_uri": "https://localhost:8080/"
        },
        "id": "9g_G3LY1zN7r",
        "outputId": "41499870-b9da-428b-d178-a24dbc7d547b"
      },
      "source": [
        "!pip install pycountry"
      ],
      "execution_count": null,
      "outputs": [
        {
          "output_type": "stream",
          "text": [
            "Collecting pycountry\n",
            "\u001b[?25l  Downloading https://files.pythonhosted.org/packages/76/73/6f1a412f14f68c273feea29a6ea9b9f1e268177d32e0e69ad6790d306312/pycountry-20.7.3.tar.gz (10.1MB)\n",
            "\u001b[K     |████████████████████████████████| 10.1MB 3.7MB/s \n",
            "\u001b[?25hBuilding wheels for collected packages: pycountry\n",
            "  Building wheel for pycountry (setup.py) ... \u001b[?25l\u001b[?25hdone\n",
            "  Created wheel for pycountry: filename=pycountry-20.7.3-py2.py3-none-any.whl size=10746864 sha256=34a264e1ff4c056af58f26f5daa8505fead06ab4a40f4381eca71d37a5196dfd\n",
            "  Stored in directory: /root/.cache/pip/wheels/33/4e/a6/be297e6b83567e537bed9df4a93f8590ec01c1acfbcd405348\n",
            "Successfully built pycountry\n",
            "Installing collected packages: pycountry\n",
            "Successfully installed pycountry-20.7.3\n"
          ],
          "name": "stdout"
        }
      ]
    },
    {
      "cell_type": "code",
      "metadata": {
        "id": "HYkZMvVSxqtZ"
      },
      "source": [
        "import pycountry\n",
        "import re"
      ],
      "execution_count": null,
      "outputs": []
    },
    {
      "cell_type": "code",
      "metadata": {
        "id": "loHuAf58xqtZ"
      },
      "source": [
        "countries = [country.name.lower() for country in pycountry.countries]"
      ],
      "execution_count": null,
      "outputs": []
    },
    {
      "cell_type": "code",
      "metadata": {
        "id": "I1ogOvbdxqtZ"
      },
      "source": [
        "train[\"name_1\"] = train[\"name_1\"].str.lower()\n",
        "train[\"name_2\"] = train[\"name_2\"].str.lower()\n",
        "\n",
        "test[\"name_1\"] = test[\"name_1\"].str.lower()\n",
        "test[\"name_2\"] = test[\"name_2\"].str.lower()"
      ],
      "execution_count": null,
      "outputs": []
    },
    {
      "cell_type": "code",
      "metadata": {
        "colab": {
          "base_uri": "https://localhost:8080/",
          "height": 437
        },
        "id": "sLAfbun7xqtZ",
        "outputId": "60f51678-4898-4227-814c-818c7ff17337"
      },
      "source": [
        "train[train.name_1.str.contains(\"gmbh\")]"
      ],
      "execution_count": null,
      "outputs": [
        {
          "output_type": "execute_result",
          "data": {
            "text/html": [
              "<div>\n",
              "<style scoped>\n",
              "    .dataframe tbody tr th:only-of-type {\n",
              "        vertical-align: middle;\n",
              "    }\n",
              "\n",
              "    .dataframe tbody tr th {\n",
              "        vertical-align: top;\n",
              "    }\n",
              "\n",
              "    .dataframe thead th {\n",
              "        text-align: right;\n",
              "    }\n",
              "</style>\n",
              "<table border=\"1\" class=\"dataframe\">\n",
              "  <thead>\n",
              "    <tr style=\"text-align: right;\">\n",
              "      <th></th>\n",
              "      <th>name_1</th>\n",
              "      <th>name_2</th>\n",
              "      <th>is_duplicate</th>\n",
              "    </tr>\n",
              "    <tr>\n",
              "      <th>pair_id</th>\n",
              "      <th></th>\n",
              "      <th></th>\n",
              "      <th></th>\n",
              "    </tr>\n",
              "  </thead>\n",
              "  <tbody>\n",
              "    <tr>\n",
              "      <th>40</th>\n",
              "      <td>isoliererzeugnisse grobrohrsdorf gmbh</td>\n",
              "      <td>total rumunia</td>\n",
              "      <td>0</td>\n",
              "    </tr>\n",
              "    <tr>\n",
              "      <th>410</th>\n",
              "      <td>dortmunder gussasphalt gmbh &amp; co. kg</td>\n",
              "      <td>bitoumina s.a.</td>\n",
              "      <td>0</td>\n",
              "    </tr>\n",
              "    <tr>\n",
              "      <th>440</th>\n",
              "      <td>celanese chemicals europe gmbh</td>\n",
              "      <td>inreco - emulsja sp. z o.o.</td>\n",
              "      <td>0</td>\n",
              "    </tr>\n",
              "    <tr>\n",
              "      <th>583</th>\n",
              "      <td>tremco illbruck group gmbh</td>\n",
              "      <td>wakol gmbh</td>\n",
              "      <td>0</td>\n",
              "    </tr>\n",
              "    <tr>\n",
              "      <th>681</th>\n",
              "      <td>rasco bitumentechnik gmbh</td>\n",
              "      <td>technpvinyl polymers india ltd.</td>\n",
              "      <td>0</td>\n",
              "    </tr>\n",
              "    <tr>\n",
              "      <th>...</th>\n",
              "      <td>...</td>\n",
              "      <td>...</td>\n",
              "      <td>...</td>\n",
              "    </tr>\n",
              "    <tr>\n",
              "      <th>497197</th>\n",
              "      <td>binne &amp; sohn gmbh &amp; co kg</td>\n",
              "      <td>buscher hoffmann</td>\n",
              "      <td>0</td>\n",
              "    </tr>\n",
              "    <tr>\n",
              "      <th>497306</th>\n",
              "      <td>mct gmbh &amp; co. kg</td>\n",
              "      <td>valli zabban</td>\n",
              "      <td>0</td>\n",
              "    </tr>\n",
              "    <tr>\n",
              "      <th>497366</th>\n",
              "      <td>mct misch &amp; compoundier technik gmbh</td>\n",
              "      <td>nknh</td>\n",
              "      <td>0</td>\n",
              "    </tr>\n",
              "    <tr>\n",
              "      <th>497772</th>\n",
              "      <td>saint-gobain isover austria gmbh</td>\n",
              "      <td>soprema soprema sas</td>\n",
              "      <td>0</td>\n",
              "    </tr>\n",
              "    <tr>\n",
              "      <th>497798</th>\n",
              "      <td>famos gmbh &amp; co. kg</td>\n",
              "      <td>soprema drummondville</td>\n",
              "      <td>0</td>\n",
              "    </tr>\n",
              "  </tbody>\n",
              "</table>\n",
              "<p>3382 rows × 3 columns</p>\n",
              "</div>"
            ],
            "text/plain": [
              "                                        name_1  ... is_duplicate\n",
              "pair_id                                         ...             \n",
              "40       isoliererzeugnisse grobrohrsdorf gmbh  ...            0\n",
              "410       dortmunder gussasphalt gmbh & co. kg  ...            0\n",
              "440             celanese chemicals europe gmbh  ...            0\n",
              "583                 tremco illbruck group gmbh  ...            0\n",
              "681                  rasco bitumentechnik gmbh  ...            0\n",
              "...                                        ...  ...          ...\n",
              "497197               binne & sohn gmbh & co kg  ...            0\n",
              "497306                       mct gmbh & co. kg  ...            0\n",
              "497366    mct misch & compoundier technik gmbh  ...            0\n",
              "497772        saint-gobain isover austria gmbh  ...            0\n",
              "497798                     famos gmbh & co. kg  ...            0\n",
              "\n",
              "[3382 rows x 3 columns]"
            ]
          },
          "metadata": {
            "tags": []
          },
          "execution_count": 111
        }
      ]
    },
    {
      "cell_type": "code",
      "metadata": {
        "colab": {
          "base_uri": "https://localhost:8080/"
        },
        "id": "nKuGRuc3xqtZ",
        "outputId": "b9196d04-3590-4915-ec20-a6e04a989b00"
      },
      "source": [
        "legal_entities = [\"ltd.\", \"co.\", \"inc.\", \"b.v.\", \"s.c.r.l.\", \"gmbh\", \"pvt.\"]\n",
        "\n",
        "for entity in tqdm(legal_entities):\n",
        "    train.replace(re.compile(f\"\\s+{entity}\\s*\"), \"\", inplace=True)\n",
        "    test.replace(re.compile(f\"\\s+{entity}\\s*\"), \"\", inplace=True)"
      ],
      "execution_count": null,
      "outputs": [
        {
          "output_type": "stream",
          "text": [
            "100%|██████████| 7/7 [00:14<00:00,  2.14s/it]\n"
          ],
          "name": "stderr"
        }
      ]
    },
    {
      "cell_type": "code",
      "metadata": {
        "colab": {
          "base_uri": "https://localhost:8080/",
          "height": 228
        },
        "id": "ygWHiGDBxqtZ",
        "outputId": "9ceb7ffc-de8a-4e5f-ddf5-2b34eab0fa11"
      },
      "source": [
        "train.head()"
      ],
      "execution_count": null,
      "outputs": [
        {
          "output_type": "execute_result",
          "data": {
            "text/html": [
              "<div>\n",
              "<style scoped>\n",
              "    .dataframe tbody tr th:only-of-type {\n",
              "        vertical-align: middle;\n",
              "    }\n",
              "\n",
              "    .dataframe tbody tr th {\n",
              "        vertical-align: top;\n",
              "    }\n",
              "\n",
              "    .dataframe thead th {\n",
              "        text-align: right;\n",
              "    }\n",
              "</style>\n",
              "<table border=\"1\" class=\"dataframe\">\n",
              "  <thead>\n",
              "    <tr style=\"text-align: right;\">\n",
              "      <th></th>\n",
              "      <th>name_1</th>\n",
              "      <th>name_2</th>\n",
              "      <th>is_duplicate</th>\n",
              "    </tr>\n",
              "    <tr>\n",
              "      <th>pair_id</th>\n",
              "      <th></th>\n",
              "      <th></th>\n",
              "      <th></th>\n",
              "    </tr>\n",
              "  </thead>\n",
              "  <tbody>\n",
              "    <tr>\n",
              "      <th>1</th>\n",
              "      <td>iko industries</td>\n",
              "      <td>enormous industrial trade,</td>\n",
              "      <td>0</td>\n",
              "    </tr>\n",
              "    <tr>\n",
              "      <th>2</th>\n",
              "      <td>apcotex industries</td>\n",
              "      <td>technocraft industries (india)</td>\n",
              "      <td>0</td>\n",
              "    </tr>\n",
              "    <tr>\n",
              "      <th>3</th>\n",
              "      <td>rishichem distributors,</td>\n",
              "      <td>dsa</td>\n",
              "      <td>0</td>\n",
              "    </tr>\n",
              "    <tr>\n",
              "      <th>4</th>\n",
              "      <td>powermax rubber factory</td>\n",
              "      <td>co. one</td>\n",
              "      <td>0</td>\n",
              "    </tr>\n",
              "    <tr>\n",
              "      <th>5</th>\n",
              "      <td>tress a/s</td>\n",
              "      <td>longyou industries park zhejiang</td>\n",
              "      <td>0</td>\n",
              "    </tr>\n",
              "  </tbody>\n",
              "</table>\n",
              "</div>"
            ],
            "text/plain": [
              "                          name_1  ... is_duplicate\n",
              "pair_id                           ...             \n",
              "1                 iko industries  ...            0\n",
              "2             apcotex industries  ...            0\n",
              "3        rishichem distributors,  ...            0\n",
              "4        powermax rubber factory  ...            0\n",
              "5                      tress a/s  ...            0\n",
              "\n",
              "[5 rows x 3 columns]"
            ]
          },
          "metadata": {
            "tags": []
          },
          "execution_count": 13
        }
      ]
    },
    {
      "cell_type": "code",
      "metadata": {
        "colab": {
          "base_uri": "https://localhost:8080/",
          "height": 228
        },
        "id": "K-oKXYk3xqta",
        "outputId": "27eba06c-612d-4f40-c15d-cf170500ea69"
      },
      "source": [
        "test.head()"
      ],
      "execution_count": null,
      "outputs": [
        {
          "output_type": "execute_result",
          "data": {
            "text/html": [
              "<div>\n",
              "<style scoped>\n",
              "    .dataframe tbody tr th:only-of-type {\n",
              "        vertical-align: middle;\n",
              "    }\n",
              "\n",
              "    .dataframe tbody tr th {\n",
              "        vertical-align: top;\n",
              "    }\n",
              "\n",
              "    .dataframe thead th {\n",
              "        text-align: right;\n",
              "    }\n",
              "</style>\n",
              "<table border=\"1\" class=\"dataframe\">\n",
              "  <thead>\n",
              "    <tr style=\"text-align: right;\">\n",
              "      <th></th>\n",
              "      <th>name_1</th>\n",
              "      <th>name_2</th>\n",
              "    </tr>\n",
              "    <tr>\n",
              "      <th>pair_id</th>\n",
              "      <th></th>\n",
              "      <th></th>\n",
              "    </tr>\n",
              "  </thead>\n",
              "  <tbody>\n",
              "    <tr>\n",
              "      <th>1</th>\n",
              "      <td>sun blinds decoration</td>\n",
              "      <td>indl de cuautitlan sa cv</td>\n",
              "    </tr>\n",
              "    <tr>\n",
              "      <th>2</th>\n",
              "      <td>eih</td>\n",
              "      <td>dongguan wei shi plastic product,</td>\n",
              "    </tr>\n",
              "    <tr>\n",
              "      <th>3</th>\n",
              "      <td>jsh(hk)</td>\n",
              "      <td>arab shipbuilding and repair yard c</td>\n",
              "    </tr>\n",
              "    <tr>\n",
              "      <th>4</th>\n",
              "      <td>better industrial</td>\n",
              "      <td>farmacap industria eercio</td>\n",
              "    </tr>\n",
              "    <tr>\n",
              "      <th>5</th>\n",
              "      <td>equipos inoxidables del norte sa de cv</td>\n",
              "      <td>bel</td>\n",
              "    </tr>\n",
              "  </tbody>\n",
              "</table>\n",
              "</div>"
            ],
            "text/plain": [
              "                                         name_1                               name_2\n",
              "pair_id                                                                             \n",
              "1                         sun blinds decoration             indl de cuautitlan sa cv\n",
              "2                                           eih    dongguan wei shi plastic product,\n",
              "3                                       jsh(hk)  arab shipbuilding and repair yard c\n",
              "4                             better industrial            farmacap industria eercio\n",
              "5        equipos inoxidables del norte sa de cv                                  bel"
            ]
          },
          "metadata": {
            "tags": []
          },
          "execution_count": 14
        }
      ]
    },
    {
      "cell_type": "code",
      "metadata": {
        "id": "0-debyUvxqta"
      },
      "source": [
        "train.replace(re.compile(r\"\\s+\\(.*\\)\"), \"\", inplace=True)\n",
        "test.replace(re.compile(r\"\\s+\\(.*\\)\"), \"\", inplace=True)"
      ],
      "execution_count": null,
      "outputs": []
    },
    {
      "cell_type": "code",
      "metadata": {
        "colab": {
          "base_uri": "https://localhost:8080/"
        },
        "id": "QnGcXh3oxqta",
        "outputId": "2fe23f35-b590-46eb-a4fa-ee801c97a902"
      },
      "source": [
        "for country in tqdm(countries):\n",
        "    train.replace(re.compile(country), \"\", inplace=True)\n",
        "    test.replace(re.compile(country), \"\", inplace=True)"
      ],
      "execution_count": null,
      "outputs": [
        {
          "output_type": "stream",
          "text": [
            "100%|██████████| 249/249 [06:31<00:00,  1.57s/it]\n"
          ],
          "name": "stderr"
        }
      ]
    },
    {
      "cell_type": "code",
      "metadata": {
        "id": "Sjvfu20Gxqta"
      },
      "source": [
        "train.replace(re.compile(r\"[^\\w\\s]\"), \"\", inplace=True)\n",
        "test.replace(re.compile(r\"[^\\w\\s]\"), \"\", inplace=True)"
      ],
      "execution_count": null,
      "outputs": []
    },
    {
      "cell_type": "code",
      "metadata": {
        "colab": {
          "base_uri": "https://localhost:8080/",
          "height": 228
        },
        "id": "XH3g86qXxqta",
        "outputId": "479db496-fc4d-4f1d-e214-91eb8dfc3bd2"
      },
      "source": [
        "train.sample(5)"
      ],
      "execution_count": null,
      "outputs": [
        {
          "output_type": "execute_result",
          "data": {
            "text/html": [
              "<div>\n",
              "<style scoped>\n",
              "    .dataframe tbody tr th:only-of-type {\n",
              "        vertical-align: middle;\n",
              "    }\n",
              "\n",
              "    .dataframe tbody tr th {\n",
              "        vertical-align: top;\n",
              "    }\n",
              "\n",
              "    .dataframe thead th {\n",
              "        text-align: right;\n",
              "    }\n",
              "</style>\n",
              "<table border=\"1\" class=\"dataframe\">\n",
              "  <thead>\n",
              "    <tr style=\"text-align: right;\">\n",
              "      <th></th>\n",
              "      <th>name_1</th>\n",
              "      <th>name_2</th>\n",
              "      <th>is_duplicate</th>\n",
              "    </tr>\n",
              "    <tr>\n",
              "      <th>pair_id</th>\n",
              "      <th></th>\n",
              "      <th></th>\n",
              "      <th></th>\n",
              "    </tr>\n",
              "  </thead>\n",
              "  <tbody>\n",
              "    <tr>\n",
              "      <th>454977</th>\n",
              "      <td>alpha enterprises</td>\n",
              "      <td>sankalp enterprises</td>\n",
              "      <td>0</td>\n",
              "    </tr>\n",
              "    <tr>\n",
              "      <th>356406</th>\n",
              "      <td>optimas oe solutions  private</td>\n",
              "      <td>ohsung electronics  private limtied</td>\n",
              "      <td>0</td>\n",
              "    </tr>\n",
              "    <tr>\n",
              "      <th>341593</th>\n",
              "      <td>embatiba industria eercio</td>\n",
              "      <td>socer brasil industries e</td>\n",
              "      <td>0</td>\n",
              "    </tr>\n",
              "    <tr>\n",
              "      <th>161073</th>\n",
              "      <td>logistics usa</td>\n",
              "      <td>b  m logistica international</td>\n",
              "      <td>0</td>\n",
              "    </tr>\n",
              "    <tr>\n",
              "      <th>411256</th>\n",
              "      <td>ford vietnam</td>\n",
              "      <td>risun vietnam one member</td>\n",
              "      <td>0</td>\n",
              "    </tr>\n",
              "  </tbody>\n",
              "</table>\n",
              "</div>"
            ],
            "text/plain": [
              "                                name_1  ... is_duplicate\n",
              "pair_id                                 ...             \n",
              "454977               alpha enterprises  ...            0\n",
              "356406   optimas oe solutions  private  ...            0\n",
              "341593       embatiba industria eercio  ...            0\n",
              "161073                   logistics usa  ...            0\n",
              "411256                    ford vietnam  ...            0\n",
              "\n",
              "[5 rows x 3 columns]"
            ]
          },
          "metadata": {
            "tags": []
          },
          "execution_count": 116
        }
      ]
    },
    {
      "cell_type": "code",
      "metadata": {
        "colab": {
          "base_uri": "https://localhost:8080/",
          "height": 228
        },
        "id": "XpFwzIuOxqta",
        "outputId": "f757d58a-b935-4eb3-8456-0a30f2581255"
      },
      "source": [
        "test.sample(5)"
      ],
      "execution_count": null,
      "outputs": [
        {
          "output_type": "execute_result",
          "data": {
            "text/html": [
              "<div>\n",
              "<style scoped>\n",
              "    .dataframe tbody tr th:only-of-type {\n",
              "        vertical-align: middle;\n",
              "    }\n",
              "\n",
              "    .dataframe tbody tr th {\n",
              "        vertical-align: top;\n",
              "    }\n",
              "\n",
              "    .dataframe thead th {\n",
              "        text-align: right;\n",
              "    }\n",
              "</style>\n",
              "<table border=\"1\" class=\"dataframe\">\n",
              "  <thead>\n",
              "    <tr style=\"text-align: right;\">\n",
              "      <th></th>\n",
              "      <th>name_1</th>\n",
              "      <th>name_2</th>\n",
              "    </tr>\n",
              "    <tr>\n",
              "      <th>pair_id</th>\n",
              "      <th></th>\n",
              "      <th></th>\n",
              "    </tr>\n",
              "  </thead>\n",
              "  <tbody>\n",
              "    <tr>\n",
              "      <th>15927</th>\n",
              "      <td>litrans logistica international de transportesepp</td>\n",
              "      <td>nrs logisticsas agent for</td>\n",
              "    </tr>\n",
              "    <tr>\n",
              "      <th>38955</th>\n",
              "      <td>apl logistics for</td>\n",
              "      <td>ares international logistics</td>\n",
              "    </tr>\n",
              "    <tr>\n",
              "      <th>63827</th>\n",
              "      <td>ubi banca</td>\n",
              "      <td>i b international</td>\n",
              "    </tr>\n",
              "    <tr>\n",
              "      <th>86003</th>\n",
              "      <td>beyond materials</td>\n",
              "      <td>chem trendercial sa de cv</td>\n",
              "    </tr>\n",
              "    <tr>\n",
              "      <th>168249</th>\n",
              "      <td>volkswagen  private</td>\n",
              "      <td>sas engineering</td>\n",
              "    </tr>\n",
              "  </tbody>\n",
              "</table>\n",
              "</div>"
            ],
            "text/plain": [
              "                                                    name_1                        name_2\n",
              "pair_id                                                                                 \n",
              "15927    litrans logistica international de transportesepp     nrs logisticsas agent for\n",
              "38955                                    apl logistics for  ares international logistics\n",
              "63827                                            ubi banca             i b international\n",
              "86003                                     beyond materials     chem trendercial sa de cv\n",
              "168249                                 volkswagen  private               sas engineering"
            ]
          },
          "metadata": {
            "tags": []
          },
          "execution_count": 19
        }
      ]
    },
    {
      "cell_type": "markdown",
      "metadata": {
        "id": "-fV5064Wnitw"
      },
      "source": [
        "# Замена на транскрипцию всех слов"
      ]
    },
    {
      "cell_type": "code",
      "metadata": {
        "colab": {
          "base_uri": "https://localhost:8080/"
        },
        "id": "I5Ibp6EBnm7q",
        "outputId": "77fa4f3c-746e-42a2-c917-6f59c74a3c8b"
      },
      "source": [
        "!pip install transliterate"
      ],
      "execution_count": null,
      "outputs": [
        {
          "output_type": "stream",
          "text": [
            "Collecting transliterate\n",
            "\u001b[?25l  Downloading https://files.pythonhosted.org/packages/a1/6e/9a9d597dbdd6d0172427c8cc07c35736471e631060df9e59eeb87687f817/transliterate-1.10.2-py2.py3-none-any.whl (45kB)\n",
            "\r\u001b[K     |███████▏                        | 10kB 16.6MB/s eta 0:00:01\r\u001b[K     |██████████████▎                 | 20kB 13.5MB/s eta 0:00:01\r\u001b[K     |█████████████████████▌          | 30kB 9.0MB/s eta 0:00:01\r\u001b[K     |████████████████████████████▋   | 40kB 7.7MB/s eta 0:00:01\r\u001b[K     |████████████████████████████████| 51kB 3.0MB/s \n",
            "\u001b[?25hRequirement already satisfied: six>=1.1.0 in /usr/local/lib/python3.6/dist-packages (from transliterate) (1.15.0)\n",
            "Installing collected packages: transliterate\n",
            "Successfully installed transliterate-1.10.2\n"
          ],
          "name": "stdout"
        }
      ]
    },
    {
      "cell_type": "code",
      "metadata": {
        "id": "X7ygZ4t2nnAR"
      },
      "source": [
        "from transliterate import translit, get_available_language_codes, slugify\n",
        "\n",
        "def transliterate_text(text):\n",
        "  t = slugify(text)\n",
        "  return t if t is not None else text"
      ],
      "execution_count": null,
      "outputs": []
    },
    {
      "cell_type": "code",
      "metadata": {
        "id": "U2QSOtH5pmzm"
      },
      "source": [
        "train['trans_name_1'] = train['name_1'].apply(transliterate_text)\n",
        "train['trans_name_2'] = train['name_2'].apply(transliterate_text)\n",
        "test['trans_name_1']  = test['name_1'].apply(transliterate_text)\n",
        "test['trans_name_2']  = test['name_2'].apply(transliterate_text)"
      ],
      "execution_count": null,
      "outputs": []
    },
    {
      "cell_type": "code",
      "metadata": {
        "colab": {
          "base_uri": "https://localhost:8080/",
          "height": 263
        },
        "id": "a5KagDjqqOVd",
        "outputId": "dad09ae2-0747-4f9a-e205-1457fe493696"
      },
      "source": [
        "train[(train.name_1 != train.trans_name_1) & (train.is_duplicate == 1)].head()"
      ],
      "execution_count": null,
      "outputs": [
        {
          "output_type": "execute_result",
          "data": {
            "text/html": [
              "<div>\n",
              "<style scoped>\n",
              "    .dataframe tbody tr th:only-of-type {\n",
              "        vertical-align: middle;\n",
              "    }\n",
              "\n",
              "    .dataframe tbody tr th {\n",
              "        vertical-align: top;\n",
              "    }\n",
              "\n",
              "    .dataframe thead th {\n",
              "        text-align: right;\n",
              "    }\n",
              "</style>\n",
              "<table border=\"1\" class=\"dataframe\">\n",
              "  <thead>\n",
              "    <tr style=\"text-align: right;\">\n",
              "      <th></th>\n",
              "      <th>name_1</th>\n",
              "      <th>name_2</th>\n",
              "      <th>is_duplicate</th>\n",
              "      <th>trans_name_1</th>\n",
              "      <th>trans_name_2</th>\n",
              "    </tr>\n",
              "    <tr>\n",
              "      <th>pair_id</th>\n",
              "      <th></th>\n",
              "      <th></th>\n",
              "      <th></th>\n",
              "      <th></th>\n",
              "      <th></th>\n",
              "    </tr>\n",
              "  </thead>\n",
              "  <tbody>\n",
              "    <tr>\n",
              "      <th>3372</th>\n",
              "      <td>ооо химинвест групп</td>\n",
              "      <td>химинвест групп ооо</td>\n",
              "      <td>1</td>\n",
              "      <td>ooo-himinvest-grupp</td>\n",
              "      <td>himinvest-grupp-ooo</td>\n",
              "    </tr>\n",
              "    <tr>\n",
              "      <th>5118</th>\n",
              "      <td>оооимпорт мода</td>\n",
              "      <td>оооимпорт мода</td>\n",
              "      <td>1</td>\n",
              "      <td>oooimport-moda</td>\n",
              "      <td>oooimport-moda</td>\n",
              "    </tr>\n",
              "    <tr>\n",
              "      <th>11654</th>\n",
              "      <td>onur taahhüt</td>\n",
              "      <td>onur taahhut tasimacilik insaat ticaret ve san...</td>\n",
              "      <td>1</td>\n",
              "      <td>onur-taahhuet</td>\n",
              "      <td>onur taahhut tasimacilik insaat ticaret ve san...</td>\n",
              "    </tr>\n",
              "    <tr>\n",
              "      <th>12161</th>\n",
              "      <td>ооогуччи рус</td>\n",
              "      <td>ооогуччи рус</td>\n",
              "      <td>1</td>\n",
              "      <td>oooguchchi-rus</td>\n",
              "      <td>oooguchchi-rus</td>\n",
              "    </tr>\n",
              "    <tr>\n",
              "      <th>24519</th>\n",
              "      <td>филиал компании эксон нефтегаз лимитед</td>\n",
              "      <td>филиал компанииэксон нефтегаз лимитед</td>\n",
              "      <td>1</td>\n",
              "      <td>filial-kompanii-ekson-neftegaz-limited</td>\n",
              "      <td>filial-kompaniiekson-neftegaz-limited</td>\n",
              "    </tr>\n",
              "  </tbody>\n",
              "</table>\n",
              "</div>"
            ],
            "text/plain": [
              "                                         name_1  ...                                       trans_name_2\n",
              "pair_id                                          ...                                                   \n",
              "3372                        ооо химинвест групп  ...                                himinvest-grupp-ooo\n",
              "5118                             оооимпорт мода  ...                                     oooimport-moda\n",
              "11654                             onur taahhüt   ...  onur taahhut tasimacilik insaat ticaret ve san...\n",
              "12161                              ооогуччи рус  ...                                     oooguchchi-rus\n",
              "24519    филиал компании эксон нефтегаз лимитед  ...              filial-kompaniiekson-neftegaz-limited\n",
              "\n",
              "[5 rows x 5 columns]"
            ]
          },
          "metadata": {
            "tags": []
          },
          "execution_count": 135
        }
      ]
    },
    {
      "cell_type": "markdown",
      "metadata": {
        "id": "-FGBrocv_3IH"
      },
      "source": [
        "# Lemmatizer"
      ]
    },
    {
      "cell_type": "code",
      "metadata": {
        "colab": {
          "base_uri": "https://localhost:8080/"
        },
        "id": "dfRTLoyFAkm0",
        "outputId": "ef4df492-aab2-4364-bbf3-c1b2fdd44ca1"
      },
      "source": [
        "import nltk\n",
        "from nltk.stem import PorterStemmer, WordNetLemmatizer\n",
        "from nltk.corpus import wordnet\n",
        "\n",
        "nltk.download('wordnet')\n",
        "nltk.download('punkt')\n",
        "nltk.download('stopwords')"
      ],
      "execution_count": null,
      "outputs": [
        {
          "output_type": "stream",
          "text": [
            "[nltk_data] Downloading package wordnet to /root/nltk_data...\n",
            "[nltk_data]   Package wordnet is already up-to-date!\n",
            "[nltk_data] Downloading package punkt to /root/nltk_data...\n",
            "[nltk_data]   Package punkt is already up-to-date!\n",
            "[nltk_data] Downloading package stopwords to /root/nltk_data...\n",
            "[nltk_data]   Package stopwords is already up-to-date!\n"
          ],
          "name": "stdout"
        },
        {
          "output_type": "execute_result",
          "data": {
            "text/plain": [
              "True"
            ]
          },
          "metadata": {
            "tags": []
          },
          "execution_count": 15
        }
      ]
    },
    {
      "cell_type": "code",
      "metadata": {
        "id": "LnLqfmfnCW8c"
      },
      "source": [
        "lemmatizer = WordNetLemmatizer() #  lemmatizer.lemmatize(word)\n",
        "# stemmer = PorterStemmer() # stemmer.stem(word)\n",
        "\n",
        "train['lemm_name_1'] = train['trans_name_1'].apply(lambda sentence: ' '.join([lemmatizer.lemmatize(w) for w in sentence.rstrip().split()])) \n",
        "train['lemm_name_2'] = train['trans_name_2'].apply(lambda sentence: ' '.join([lemmatizer.lemmatize(w) for w in sentence.rstrip().split()])) \n",
        "\n",
        "test['lemm_name_1']  = test['trans_name_1'].apply(lambda sentence: ' '.join([lemmatizer.lemmatize(w) for w in sentence.rstrip().split()])) \n",
        "test['lemm_name_2']  = test['trans_name_2'].apply(lambda sentence: ' '.join([lemmatizer.lemmatize(w) for w in sentence.rstrip().split()])) "
      ],
      "execution_count": null,
      "outputs": []
    },
    {
      "cell_type": "code",
      "metadata": {
        "id": "CFBr8379DjHC"
      },
      "source": [
        "from nltk.corpus import stopwords\n",
        "\n",
        "en = stopwords.words(\"english\")\n",
        "# rus = stopwords.words(\"russian\")\n",
        "# stop_words = en + rus\n",
        "stop_words = en \n",
        "\n",
        "train['stopw_name_1'] = train['lemm_name_1'].apply(lambda sentence: ' '.join([w for w in sentence.rstrip().split() if not w in stop_words])) \n",
        "train['stopw_name_2'] = train['lemm_name_2'].apply(lambda sentence: ' '.join([w for w in sentence.rstrip().split() if not w in stop_words])) \n",
        "\n",
        "test['stopw_name_1']  = test['lemm_name_1'].apply(lambda sentence: ' '.join([w for w in sentence.rstrip().split() if not w in stop_words])) \n",
        "test['stopw_name_2']  = test['lemm_name_2'].apply(lambda sentence: ' '.join([w for w in sentence.rstrip().split() if not w in stop_words])) "
      ],
      "execution_count": null,
      "outputs": []
    },
    {
      "cell_type": "code",
      "metadata": {
        "colab": {
          "base_uri": "https://localhost:8080/",
          "height": 315
        },
        "id": "eXE8NbrSUjb-",
        "outputId": "4eec4abb-5951-4eaa-d155-318a94587b40"
      },
      "source": [
        "train.head()"
      ],
      "execution_count": null,
      "outputs": [
        {
          "output_type": "execute_result",
          "data": {
            "text/html": [
              "<div>\n",
              "<style scoped>\n",
              "    .dataframe tbody tr th:only-of-type {\n",
              "        vertical-align: middle;\n",
              "    }\n",
              "\n",
              "    .dataframe tbody tr th {\n",
              "        vertical-align: top;\n",
              "    }\n",
              "\n",
              "    .dataframe thead th {\n",
              "        text-align: right;\n",
              "    }\n",
              "</style>\n",
              "<table border=\"1\" class=\"dataframe\">\n",
              "  <thead>\n",
              "    <tr style=\"text-align: right;\">\n",
              "      <th></th>\n",
              "      <th>name_1</th>\n",
              "      <th>name_2</th>\n",
              "      <th>is_duplicate</th>\n",
              "      <th>trans_name_1</th>\n",
              "      <th>trans_name_2</th>\n",
              "      <th>lemm_name_1</th>\n",
              "      <th>lemm_name_2</th>\n",
              "      <th>stopw_name_1</th>\n",
              "      <th>stopw_name_2</th>\n",
              "    </tr>\n",
              "    <tr>\n",
              "      <th>pair_id</th>\n",
              "      <th></th>\n",
              "      <th></th>\n",
              "      <th></th>\n",
              "      <th></th>\n",
              "      <th></th>\n",
              "      <th></th>\n",
              "      <th></th>\n",
              "      <th></th>\n",
              "      <th></th>\n",
              "    </tr>\n",
              "  </thead>\n",
              "  <tbody>\n",
              "    <tr>\n",
              "      <th>1</th>\n",
              "      <td>iko industries</td>\n",
              "      <td>enormous industrial trade</td>\n",
              "      <td>0</td>\n",
              "      <td>iko industries</td>\n",
              "      <td>enormous industrial trade</td>\n",
              "      <td>iko industry</td>\n",
              "      <td>enormous industrial trade</td>\n",
              "      <td>iko industry</td>\n",
              "      <td>enormous industrial trade</td>\n",
              "    </tr>\n",
              "    <tr>\n",
              "      <th>2</th>\n",
              "      <td>apcotex industries</td>\n",
              "      <td>technocraft industries</td>\n",
              "      <td>0</td>\n",
              "      <td>apcotex industries</td>\n",
              "      <td>technocraft industries</td>\n",
              "      <td>apcotex industry</td>\n",
              "      <td>technocraft industry</td>\n",
              "      <td>apcotex industry</td>\n",
              "      <td>technocraft industry</td>\n",
              "    </tr>\n",
              "    <tr>\n",
              "      <th>3</th>\n",
              "      <td>rishichem distributors</td>\n",
              "      <td>dsa</td>\n",
              "      <td>0</td>\n",
              "      <td>rishichem distributors</td>\n",
              "      <td>dsa</td>\n",
              "      <td>rishichem distributor</td>\n",
              "      <td>dsa</td>\n",
              "      <td>rishichem distributor</td>\n",
              "      <td>dsa</td>\n",
              "    </tr>\n",
              "    <tr>\n",
              "      <th>4</th>\n",
              "      <td>powermax rubber factory</td>\n",
              "      <td>co one</td>\n",
              "      <td>0</td>\n",
              "      <td>powermax rubber factory</td>\n",
              "      <td>co one</td>\n",
              "      <td>powermax rubber factory</td>\n",
              "      <td>co one</td>\n",
              "      <td>powermax rubber factory</td>\n",
              "      <td>co one</td>\n",
              "    </tr>\n",
              "    <tr>\n",
              "      <th>5</th>\n",
              "      <td>tress as</td>\n",
              "      <td>longyou industries park zhejiang</td>\n",
              "      <td>0</td>\n",
              "      <td>tress as</td>\n",
              "      <td>longyou industries park zhejiang</td>\n",
              "      <td>tress a</td>\n",
              "      <td>longyou industry park zhejiang</td>\n",
              "      <td>tress</td>\n",
              "      <td>longyou industry park zhejiang</td>\n",
              "    </tr>\n",
              "  </tbody>\n",
              "</table>\n",
              "</div>"
            ],
            "text/plain": [
              "                          name_1  ...                    stopw_name_2\n",
              "pair_id                           ...                                \n",
              "1                 iko industries  ...       enormous industrial trade\n",
              "2             apcotex industries  ...            technocraft industry\n",
              "3         rishichem distributors  ...                             dsa\n",
              "4        powermax rubber factory  ...                          co one\n",
              "5                       tress as  ...  longyou industry park zhejiang\n",
              "\n",
              "[5 rows x 9 columns]"
            ]
          },
          "metadata": {
            "tags": []
          },
          "execution_count": 140
        }
      ]
    },
    {
      "cell_type": "markdown",
      "metadata": {
        "id": "Xk2UM-3eZ6FL"
      },
      "source": [
        "# CountVectorizer"
      ]
    },
    {
      "cell_type": "code",
      "metadata": {
        "id": "WK6i87qAZ7xu"
      },
      "source": [
        "from sklearn.feature_extraction.text import CountVectorizer\n",
        "\n",
        "documents = pd.concat([train['stopw_name_1'], train['stopw_name_2']]).values.astype('U')\n",
        "count_vectorizer = CountVectorizer(max_features=500) # memory limit: ngram_range=(2, 5),\n",
        "values = count_vectorizer.fit_transform(documents)\n",
        "frequency = values.toarray().sum(axis=0)\n",
        "\n",
        "feature_names = count_vectorizer.get_feature_names()\n",
        "count_train = pd.DataFrame({'feature_names': feature_names, 'frequency': frequency})"
      ],
      "execution_count": null,
      "outputs": []
    },
    {
      "cell_type": "code",
      "metadata": {
        "colab": {
          "base_uri": "https://localhost:8080/",
          "height": 348
        },
        "id": "8Fm2Z6D6cDAu",
        "outputId": "b1c326cd-538e-4586-bccc-27bd496fa9fb"
      },
      "source": [
        "count_train.head(10)"
      ],
      "execution_count": null,
      "outputs": [
        {
          "output_type": "execute_result",
          "data": {
            "text/html": [
              "<div>\n",
              "<style scoped>\n",
              "    .dataframe tbody tr th:only-of-type {\n",
              "        vertical-align: middle;\n",
              "    }\n",
              "\n",
              "    .dataframe tbody tr th {\n",
              "        vertical-align: top;\n",
              "    }\n",
              "\n",
              "    .dataframe thead th {\n",
              "        text-align: right;\n",
              "    }\n",
              "</style>\n",
              "<table border=\"1\" class=\"dataframe\">\n",
              "  <thead>\n",
              "    <tr style=\"text-align: right;\">\n",
              "      <th></th>\n",
              "      <th>feature_names</th>\n",
              "      <th>frequency</th>\n",
              "    </tr>\n",
              "  </thead>\n",
              "  <tbody>\n",
              "    <tr>\n",
              "      <th>433</th>\n",
              "      <td>international</td>\n",
              "      <td>96481</td>\n",
              "    </tr>\n",
              "    <tr>\n",
              "      <th>207</th>\n",
              "      <td>de</td>\n",
              "      <td>88605</td>\n",
              "    </tr>\n",
              "    <tr>\n",
              "      <th>421</th>\n",
              "      <td>industry</td>\n",
              "      <td>73258</td>\n",
              "    </tr>\n",
              "    <tr>\n",
              "      <th>736</th>\n",
              "      <td>sa</td>\n",
              "      <td>72389</td>\n",
              "    </tr>\n",
              "    <tr>\n",
              "      <th>900</th>\n",
              "      <td>trading</td>\n",
              "      <td>50473</td>\n",
              "    </tr>\n",
              "    <tr>\n",
              "      <th>508</th>\n",
              "      <td>logistics</td>\n",
              "      <td>49826</td>\n",
              "    </tr>\n",
              "    <tr>\n",
              "      <th>198</th>\n",
              "      <td>cv</td>\n",
              "      <td>46391</td>\n",
              "    </tr>\n",
              "    <tr>\n",
              "      <th>731</th>\n",
              "      <td>rubber</td>\n",
              "      <td>38804</td>\n",
              "    </tr>\n",
              "    <tr>\n",
              "      <th>672</th>\n",
              "      <td>private</td>\n",
              "      <td>33319</td>\n",
              "    </tr>\n",
              "    <tr>\n",
              "      <th>502</th>\n",
              "      <td>llc</td>\n",
              "      <td>31425</td>\n",
              "    </tr>\n",
              "  </tbody>\n",
              "</table>\n",
              "</div>"
            ],
            "text/plain": [
              "     feature_names  frequency\n",
              "433  international      96481\n",
              "207             de      88605\n",
              "421       industry      73258\n",
              "736             sa      72389\n",
              "900        trading      50473\n",
              "508      logistics      49826\n",
              "198             cv      46391\n",
              "731         rubber      38804\n",
              "672        private      33319\n",
              "502            llc      31425"
            ]
          },
          "metadata": {
            "tags": []
          },
          "execution_count": 68
        }
      ]
    },
    {
      "cell_type": "markdown",
      "metadata": {
        "id": "rgcPs6K_Eeqi"
      },
      "source": [
        "# TF-IDF"
      ]
    },
    {
      "cell_type": "code",
      "metadata": {
        "id": "FMnG2uLvEeKY"
      },
      "source": [
        "from sklearn.feature_extraction.text import TfidfVectorizer\n",
        "\n",
        "documents = pd.concat([train['stopw_name_1'], train['stopw_name_2']]).values.astype('U')\n",
        "tfidf_vectorizer = TfidfVectorizer(max_features=500) # memory limit: ngram_range=(2, 5),\n",
        "values = tfidf_vectorizer.fit_transform(documents)\n",
        "frequency = values.toarray().sum(axis=0)\n",
        "\n",
        "# Show the Model as a pandas DataFrame\n",
        "feature_names = tfidf_vectorizer.get_feature_names()\n",
        "tf_idf_train = pd.DataFrame({'feature_names': feature_names, 'frequency': frequency})"
      ],
      "execution_count": null,
      "outputs": []
    },
    {
      "cell_type": "code",
      "metadata": {
        "colab": {
          "base_uri": "https://localhost:8080/",
          "height": 348
        },
        "id": "EB0_nd5vdmks",
        "outputId": "d374ca3f-9edf-4cb7-ef90-5439b3d86f35"
      },
      "source": [
        "tf_idf_train = tf_idf_train.sort_values(by=['frequency'], ascending=False)\n",
        "tf_idf_train.head(10)"
      ],
      "execution_count": null,
      "outputs": [
        {
          "output_type": "execute_result",
          "data": {
            "text/html": [
              "<div>\n",
              "<style scoped>\n",
              "    .dataframe tbody tr th:only-of-type {\n",
              "        vertical-align: middle;\n",
              "    }\n",
              "\n",
              "    .dataframe tbody tr th {\n",
              "        vertical-align: top;\n",
              "    }\n",
              "\n",
              "    .dataframe thead th {\n",
              "        text-align: right;\n",
              "    }\n",
              "</style>\n",
              "<table border=\"1\" class=\"dataframe\">\n",
              "  <thead>\n",
              "    <tr style=\"text-align: right;\">\n",
              "      <th></th>\n",
              "      <th>feature_names</th>\n",
              "      <th>frequency</th>\n",
              "    </tr>\n",
              "  </thead>\n",
              "  <tbody>\n",
              "    <tr>\n",
              "      <th>433</th>\n",
              "      <td>international</td>\n",
              "      <td>54241.109687</td>\n",
              "    </tr>\n",
              "    <tr>\n",
              "      <th>421</th>\n",
              "      <td>industry</td>\n",
              "      <td>45633.147254</td>\n",
              "    </tr>\n",
              "    <tr>\n",
              "      <th>736</th>\n",
              "      <td>sa</td>\n",
              "      <td>37276.041315</td>\n",
              "    </tr>\n",
              "    <tr>\n",
              "      <th>207</th>\n",
              "      <td>de</td>\n",
              "      <td>33893.185439</td>\n",
              "    </tr>\n",
              "    <tr>\n",
              "      <th>508</th>\n",
              "      <td>logistics</td>\n",
              "      <td>30495.161240</td>\n",
              "    </tr>\n",
              "    <tr>\n",
              "      <th>900</th>\n",
              "      <td>trading</td>\n",
              "      <td>30255.941137</td>\n",
              "    </tr>\n",
              "    <tr>\n",
              "      <th>731</th>\n",
              "      <td>rubber</td>\n",
              "      <td>22605.982851</td>\n",
              "    </tr>\n",
              "    <tr>\n",
              "      <th>672</th>\n",
              "      <td>private</td>\n",
              "      <td>22603.325698</td>\n",
              "    </tr>\n",
              "    <tr>\n",
              "      <th>198</th>\n",
              "      <td>cv</td>\n",
              "      <td>20228.930637</td>\n",
              "    </tr>\n",
              "    <tr>\n",
              "      <th>502</th>\n",
              "      <td>llc</td>\n",
              "      <td>17986.533492</td>\n",
              "    </tr>\n",
              "  </tbody>\n",
              "</table>\n",
              "</div>"
            ],
            "text/plain": [
              "     feature_names     frequency\n",
              "433  international  54241.109687\n",
              "421       industry  45633.147254\n",
              "736             sa  37276.041315\n",
              "207             de  33893.185439\n",
              "508      logistics  30495.161240\n",
              "900        trading  30255.941137\n",
              "731         rubber  22605.982851\n",
              "672        private  22603.325698\n",
              "198             cv  20228.930637\n",
              "502            llc  17986.533492"
            ]
          },
          "metadata": {
            "tags": []
          },
          "execution_count": 61
        }
      ]
    },
    {
      "cell_type": "code",
      "metadata": {
        "id": "_KOnGodddtTi"
      },
      "source": [
        "tf_idf_train.to_csv('train_tf_idf.csv', index=False)"
      ],
      "execution_count": null,
      "outputs": []
    },
    {
      "cell_type": "code",
      "metadata": {
        "colab": {
          "base_uri": "https://localhost:8080/",
          "height": 282
        },
        "id": "xL2HBqk3e7bK",
        "outputId": "ad4049a5-c8a1-41d3-b015-8d445e2bb48e"
      },
      "source": [
        "tf_idf_train['frequency'].hist(bins=50)"
      ],
      "execution_count": null,
      "outputs": [
        {
          "output_type": "execute_result",
          "data": {
            "text/plain": [
              "<matplotlib.axes._subplots.AxesSubplot at 0x7f6db9be0ef0>"
            ]
          },
          "metadata": {
            "tags": []
          },
          "execution_count": 75
        },
        {
          "output_type": "display_data",
          "data": {
            "image/png": "[encoded data removed]",
            "text/plain": [
              "<Figure size 432x288 with 1 Axes>"
            ]
          },
          "metadata": {
            "tags": []
          }
        }
      ]
    },
    {
      "cell_type": "markdown",
      "metadata": {
        "id": "54q11dCeeAfQ"
      },
      "source": [
        "# Delete popular words"
      ]
    },
    {
      "cell_type": "code",
      "metadata": {
        "id": "IeddUq1LeCnc"
      },
      "source": [
        "# remove 20% most popular words\n",
        "\n",
        "perc = 0.2\n",
        "size = int(len(count_train) * perc)\n",
        "\n",
        "count_stop = count_train['feature_names'].iloc[:size].values\n",
        "tf_idf_stop = tf_idf_train['feature_names'].iloc[:size].values"
      ],
      "execution_count": null,
      "outputs": []
    },
    {
      "cell_type": "code",
      "metadata": {
        "colab": {
          "base_uri": "https://localhost:8080/"
        },
        "id": "XmfbNShVjqZ0",
        "outputId": "c21b7fc5-90da-4b38-fa81-24ce32913bac"
      },
      "source": [
        "train.dtypes"
      ],
      "execution_count": null,
      "outputs": [
        {
          "output_type": "execute_result",
          "data": {
            "text/plain": [
              "name_1          object\n",
              "name_2          object\n",
              "is_duplicate     int64\n",
              "lemm_name_1     object\n",
              "lemm_name_2     object\n",
              "stopw_name_1    object\n",
              "stopw_name_2    object\n",
              "dtype: object"
            ]
          },
          "metadata": {
            "tags": []
          },
          "execution_count": 99
        }
      ]
    },
    {
      "cell_type": "code",
      "metadata": {
        "id": "W7QFco9tjWAD"
      },
      "source": [
        "popular_words = set(count_stop) | set(tf_idf_stop)"
      ],
      "execution_count": null,
      "outputs": []
    },
    {
      "cell_type": "code",
      "metadata": {
        "id": "DdiH1P0EkdHo"
      },
      "source": [
        "train.fillna('', inplace=True)\n",
        "test.fillna('', inplace=True)"
      ],
      "execution_count": null,
      "outputs": []
    },
    {
      "cell_type": "code",
      "metadata": {
        "id": "EgHiG8dkjAxT"
      },
      "source": [
        "train['clean_name_1'] = train['stopw_name_1'].apply(lambda s: ' '.join([w for w in s.rstrip().split() if not w in popular_words])) \n",
        "train['clean_name_2'] = train['stopw_name_2'].apply(lambda s: ' '.join([w for w in s.rstrip().split() if not w in popular_words])) \n",
        "\n",
        "test['clean_name_1'] = test['stopw_name_1'].apply(lambda s: ' '.join([w for w in s.rstrip().split() if not w in popular_words]))\n",
        "test['clean_name_2'] = test['stopw_name_2'].apply(lambda s: ' '.join([w for w in s.rstrip().split() if not w in popular_words])) "
      ],
      "execution_count": null,
      "outputs": []
    },
    {
      "cell_type": "code",
      "metadata": {
        "colab": {
          "base_uri": "https://localhost:8080/",
          "height": 302
        },
        "id": "3C4dr0IwknTW",
        "outputId": "1dc9d778-15fb-4a3c-f2da-c19d39736601"
      },
      "source": [
        "train[train.is_duplicate == True].head()"
      ],
      "execution_count": null,
      "outputs": [
        {
          "output_type": "execute_result",
          "data": {
            "text/html": [
              "<div>\n",
              "<style scoped>\n",
              "    .dataframe tbody tr th:only-of-type {\n",
              "        vertical-align: middle;\n",
              "    }\n",
              "\n",
              "    .dataframe tbody tr th {\n",
              "        vertical-align: top;\n",
              "    }\n",
              "\n",
              "    .dataframe thead th {\n",
              "        text-align: right;\n",
              "    }\n",
              "</style>\n",
              "<table border=\"1\" class=\"dataframe\">\n",
              "  <thead>\n",
              "    <tr style=\"text-align: right;\">\n",
              "      <th></th>\n",
              "      <th>name_1</th>\n",
              "      <th>name_2</th>\n",
              "      <th>is_duplicate</th>\n",
              "      <th>lemm_name_1</th>\n",
              "      <th>lemm_name_2</th>\n",
              "      <th>stopw_name_1</th>\n",
              "      <th>stopw_name_2</th>\n",
              "      <th>clean_name_1</th>\n",
              "      <th>clean_name_2</th>\n",
              "    </tr>\n",
              "  </thead>\n",
              "  <tbody>\n",
              "    <tr>\n",
              "      <th>161</th>\n",
              "      <td>jx nippon oil  gas exploration</td>\n",
              "      <td>jx nippon oil  gas exploration technical servi...</td>\n",
              "      <td>1</td>\n",
              "      <td>jx nippon oil gas exploration</td>\n",
              "      <td>jx nippon oil gas exploration technical servic...</td>\n",
              "      <td>jx nippon oil gas exploration</td>\n",
              "      <td>jx nippon oil gas exploration technical servic...</td>\n",
              "      <td>jx nippon oil gas exploration</td>\n",
              "      <td>jx nippon oil gas exploration technical servic...</td>\n",
              "    </tr>\n",
              "    <tr>\n",
              "      <th>603</th>\n",
              "      <td>pirelli neumaticos saic</td>\n",
              "      <td>pirelli tyre</td>\n",
              "      <td>1</td>\n",
              "      <td>pirelli neumaticos saic</td>\n",
              "      <td>pirelli tyre</td>\n",
              "      <td>pirelli neumaticos saic</td>\n",
              "      <td>pirelli tyre</td>\n",
              "      <td>pirelli neumaticos saic</td>\n",
              "      <td>pirelli</td>\n",
              "    </tr>\n",
              "    <tr>\n",
              "      <th>835</th>\n",
              "      <td>brenntag</td>\n",
              "      <td>brenntag group</td>\n",
              "      <td>1</td>\n",
              "      <td>brenntag</td>\n",
              "      <td>brenntag group</td>\n",
              "      <td>brenntag</td>\n",
              "      <td>brenntag group</td>\n",
              "      <td>brenntag</td>\n",
              "      <td>brenntag</td>\n",
              "    </tr>\n",
              "    <tr>\n",
              "      <th>1328</th>\n",
              "      <td>paul bauderkg bochum plant</td>\n",
              "      <td>paul bauder ag</td>\n",
              "      <td>1</td>\n",
              "      <td>paul bauderkg bochum plant</td>\n",
              "      <td>paul bauder ag</td>\n",
              "      <td>paul bauderkg bochum plant</td>\n",
              "      <td>paul bauder ag</td>\n",
              "      <td>paul bauderkg bochum plant</td>\n",
              "      <td>paul bauder</td>\n",
              "    </tr>\n",
              "    <tr>\n",
              "      <th>1562</th>\n",
              "      <td>total ceska republika sro</td>\n",
              "      <td>total</td>\n",
              "      <td>1</td>\n",
              "      <td>total ceska republika sro</td>\n",
              "      <td>total</td>\n",
              "      <td>total ceska republika sro</td>\n",
              "      <td>total</td>\n",
              "      <td>ceska republika sro</td>\n",
              "      <td></td>\n",
              "    </tr>\n",
              "  </tbody>\n",
              "</table>\n",
              "</div>"
            ],
            "text/plain": [
              "                              name_1  ...                                       clean_name_2\n",
              "161   jx nippon oil  gas exploration  ...  jx nippon oil gas exploration technical servic...\n",
              "603          pirelli neumaticos saic  ...                                            pirelli\n",
              "835                        brenntag   ...                                           brenntag\n",
              "1328      paul bauderkg bochum plant  ...                                        paul bauder\n",
              "1562       total ceska republika sro  ...                                                   \n",
              "\n",
              "[5 rows x 9 columns]"
            ]
          },
          "metadata": {
            "tags": []
          },
          "execution_count": 108
        }
      ]
    },
    {
      "cell_type": "markdown",
      "metadata": {
        "id": "QTeusfay5gyS"
      },
      "source": [
        "# Мои расстояния"
      ]
    },
    {
      "cell_type": "code",
      "metadata": {
        "colab": {
          "base_uri": "https://localhost:8080/"
        },
        "id": "6Ljud8Cn5kfd",
        "outputId": "6fcedeb3-d3be-41b8-9a62-ce2ad6e295bd"
      },
      "source": [
        "!pip install fuzzywuzzy"
      ],
      "execution_count": null,
      "outputs": [
        {
          "output_type": "stream",
          "text": [
            "Collecting fuzzywuzzy\n",
            "  Downloading https://files.pythonhosted.org/packages/43/ff/74f23998ad2f93b945c0309f825be92e04e0348e062026998b5eefef4c33/fuzzywuzzy-0.18.0-py2.py3-none-any.whl\n",
            "Installing collected packages: fuzzywuzzy\n",
            "Successfully installed fuzzywuzzy-0.18.0\n"
          ],
          "name": "stdout"
        }
      ]
    },
    {
      "cell_type": "code",
      "metadata": {
        "colab": {
          "base_uri": "https://localhost:8080/"
        },
        "id": "dNVaEwxp5ki3",
        "outputId": "50b9e6cc-1708-4fcc-daa9-ce7787bb6434"
      },
      "source": [
        "from fuzzywuzzy import fuzz\n",
        "from fuzzywuzzy import process"
      ],
      "execution_count": null,
      "outputs": [
        {
          "output_type": "stream",
          "text": [
            "/usr/local/lib/python3.6/dist-packages/fuzzywuzzy/fuzz.py:11: UserWarning: Using slow pure-python SequenceMatcher. Install python-Levenshtein to remove this warning\n",
            "  warnings.warn('Using slow pure-python SequenceMatcher. Install python-Levenshtein to remove this warning')\n"
          ],
          "name": "stderr"
        }
      ]
    },
    {
      "cell_type": "code",
      "metadata": {
        "id": "bX9qz3_K6I9z"
      },
      "source": [
        "train[\"partial_ratio\"]    = train.apply(lambda r: fuzz.partial_ratio(r.trans_name_1, r.trans_name_2) / 100, axis=1)\n",
        "test[\"partial_ratio\"]     = test.apply(lambda r:  fuzz.partial_ratio(r.trans_name_1, r.trans_name_2) / 100, axis=1)\n",
        "\n",
        "train[\"token_sort_ratio\"] = train.apply(lambda r: fuzz.token_sort_ratio(r.trans_name_1, r.trans_name_2) / 100, axis=1)\n",
        "test[\"token_sort_ratio\"]  = test.apply(lambda r:  fuzz.token_sort_ratio(r.trans_name_1, r.trans_name_2)  / 100, axis=1)\n",
        "\n",
        "train[\"token_set_ratio\"]  = train.apply(lambda r: fuzz.token_set_ratio(r.trans_name_1, r.trans_name_2) / 100, axis=1)\n",
        "test[\"token_set_ratio\"]   = test.apply(lambda r:  fuzz.token_set_ratio(r.trans_name_1, r.trans_name_2) / 100, axis=1)\n",
        "\n",
        "train[\"WRatio\"]           = train.apply(lambda r: fuzz.WRatio(r.trans_name_1, r.trans_name_2) / 100, axis=1)\n",
        "test[\"WRatio\"]            = test.apply(lambda r:  fuzz.WRatio(r.trans_name_1, r.trans_name_2) / 100, axis=1)"
      ],
      "execution_count": null,
      "outputs": []
    },
    {
      "cell_type": "code",
      "metadata": {
        "id": "jDqsahApFOEz"
      },
      "source": [
        "train[\"stopw_partial_ratio\"] = train.apply(lambda r: fuzz.partial_ratio(r.stopw_name_1, r.stopw_name_2) / 100, axis=1)\n",
        "test[\"stopw_partial_ratio\"] = test.apply(lambda r: fuzz.partial_ratio(r.stopw_name_1, r.stopw_name_2) / 100, axis=1)\n",
        "\n",
        "train[\"stopw_token_sort_ratio\"] = train.apply(lambda r: fuzz.token_sort_ratio(r.stopw_name_1, r.stopw_name_2) / 100, axis=1)\n",
        "test[\"stopw_token_sort_ratio\"] = test.apply(lambda r: fuzz.token_sort_ratio(r.stopw_name_1, r.stopw_name_2)  / 100, axis=1)\n",
        "\n",
        "train[\"stopw_token_set_ratio\"] = train.apply(lambda r: fuzz.token_set_ratio(r.stopw_name_1, r.stopw_name_2) / 100, axis=1)\n",
        "test[\"stopw_token_set_ratio\"] = test.apply(lambda r: fuzz.token_set_ratio(r.stopw_name_1, r.stopw_name_2) / 100, axis=1)\n",
        "\n",
        "train[\"stopw_WRatio\"] = train.apply(lambda r: fuzz.WRatio(r.stopw_name_1, r.stopw_name_2) / 100, axis=1)\n",
        "test[\"stopw_WRatio\"] = test.apply(lambda r: fuzz.WRatio(r.stopw_name_1, r.stopw_name_2) / 100, axis=1)"
      ],
      "execution_count": null,
      "outputs": []
    },
    {
      "cell_type": "markdown",
      "metadata": {
        "id": "P_LxDhvgP_Ab"
      },
      "source": [
        "# textdistance"
      ]
    },
    {
      "cell_type": "code",
      "metadata": {
        "colab": {
          "base_uri": "https://localhost:8080/"
        },
        "id": "bzAebJViP_WL",
        "outputId": "148fc6ff-c397-4a4a-9abb-50087a64bea7"
      },
      "source": [
        "!pip install textdistance"
      ],
      "execution_count": null,
      "outputs": [
        {
          "output_type": "stream",
          "text": [
            "Collecting textdistance\n",
            "  Downloading https://files.pythonhosted.org/packages/35/71/87133323736b9b0180f600d477507318dae0abde613a54df33bfd0248614/textdistance-4.2.0-py3-none-any.whl\n",
            "Installing collected packages: textdistance\n",
            "Successfully installed textdistance-4.2.0\n"
          ],
          "name": "stdout"
        }
      ]
    },
    {
      "cell_type": "code",
      "metadata": {
        "id": "Nb5vzdGTQBu8"
      },
      "source": [
        "import textdistance as dist"
      ],
      "execution_count": null,
      "outputs": []
    },
    {
      "cell_type": "code",
      "metadata": {
        "id": "BeUDWHsjQBzK"
      },
      "source": [
        "def calculate_distance(df, col_1, col_2, prefix=\"\"):\n",
        "    df[prefix + \"jaccard\"] = df.apply(lambda r: dist.jaccard(r[col_1], r[col_2]), axis=1)\n",
        "    df[prefix + \"cosine\"]  = df.apply(lambda r: dist.cosine(r[col_1], r[col_2]), axis=1)\n",
        "    df[prefix + \"mra\"]     = df.apply(lambda r: dist.mra(r[col_1], r[col_2]), axis=1)\n",
        "\n",
        "    dist.jaro_winkler.external = False \n",
        "    df[prefix + \"jaro_winkler\"] = df.apply(lambda r: dist.jaro_winkler(r[col_1], r[col_2]), axis=1)\n",
        "\n",
        "    df[prefix + \"hamming\"] = df.apply(lambda r: dist.hamming(r[col_1], r[col_2]), axis=1)\n",
        "    df[prefix + \"mlipns\"]  = df.apply(lambda r: dist.mlipns(r[col_1], r[col_2]), axis=1)\n",
        "    df[prefix + \"damerau_levenshtein\"] = df.apply(lambda r: dist.damerau_levenshtein(r[col_1], r[col_2]), axis=1)\n",
        "    df[prefix + \"strcmp95\"] = df.apply(lambda r: dist.strcmp95(r[col_1], r[col_2]), axis=1)\n",
        "    df[prefix + \"needleman_wunsch\"] = df.apply(lambda r: dist.needleman_wunsch(r[col_1], r[col_2]), axis=1)\n",
        "\n",
        "    # error # df[prefix + \"gotoh\"] = df.apply(lambda r: dist.gotoh(r[col_1], r[col_2]), axis=1)\n",
        "    df[prefix + \"sorensen\"] = df.apply(lambda r: dist.sorensen(r[col_1], r[col_2]), axis=1)\n",
        "    df[prefix + \"tversky\"]  = df.apply(lambda r: dist.tversky(r[col_1], r[col_2]), axis=1)\n",
        "    df[prefix + \"overlap\"]  = df.apply(lambda r: dist.overlap(r[col_1], r[col_2]), axis=1)\n",
        "    #  many inf #df[prefix + \"tanimoto\"] = df.apply(lambda r: dist.tanimoto(r[col_1], r[col_2]), axis=1)\n",
        "    df[prefix + \"monge_elkan\"] = df.apply(lambda r: dist.monge_elkan(r[col_1], r[col_2]), axis=1)\n",
        "    \n",
        "    df[prefix + \"bag\"]    = df.apply(lambda r: dist.bag(r[col_1], r[col_2]), axis=1)\n",
        "    df[prefix + \"lcsseq\"] = df.apply(lambda r: dist.lcsseq(r[col_1], r[col_2]), axis=1)\n",
        "    df[prefix + \"lcsstr\"] = df.apply(lambda r: dist.lcsstr(r[col_1], r[col_2]), axis=1)\n",
        "    df[prefix + \"ratcliff_obershelp\"] = df.apply(lambda r: dist.ratcliff_obershelp(r[col_1], r[col_2]), axis=1)\n",
        "    return df"
      ],
      "execution_count": null,
      "outputs": []
    },
    {
      "cell_type": "code",
      "metadata": {
        "colab": {
          "base_uri": "https://localhost:8080/",
          "height": 404
        },
        "id": "lU3IrEpemr9s",
        "outputId": "82dce029-2a15-4e78-e788-b42349e76ce5"
      },
      "source": [
        "train.head()"
      ],
      "execution_count": null,
      "outputs": [
        {
          "output_type": "execute_result",
          "data": {
            "text/html": [
              "<div>\n",
              "<style scoped>\n",
              "    .dataframe tbody tr th:only-of-type {\n",
              "        vertical-align: middle;\n",
              "    }\n",
              "\n",
              "    .dataframe tbody tr th {\n",
              "        vertical-align: top;\n",
              "    }\n",
              "\n",
              "    .dataframe thead th {\n",
              "        text-align: right;\n",
              "    }\n",
              "</style>\n",
              "<table border=\"1\" class=\"dataframe\">\n",
              "  <thead>\n",
              "    <tr style=\"text-align: right;\">\n",
              "      <th></th>\n",
              "      <th>name_1</th>\n",
              "      <th>name_2</th>\n",
              "      <th>is_duplicate</th>\n",
              "      <th>trans_name_1</th>\n",
              "      <th>trans_name_2</th>\n",
              "      <th>lemm_name_1</th>\n",
              "      <th>lemm_name_2</th>\n",
              "      <th>stopw_name_1</th>\n",
              "      <th>stopw_name_2</th>\n",
              "      <th>clean_name_1</th>\n",
              "      <th>clean_name_2</th>\n",
              "      <th>partial_ratio</th>\n",
              "      <th>token_sort_ratio</th>\n",
              "      <th>token_set_ratio</th>\n",
              "      <th>WRatio</th>\n",
              "      <th>stopw_partial_ratio</th>\n",
              "      <th>stopw_token_sort_ratio</th>\n",
              "      <th>stopw_token_set_ratio</th>\n",
              "      <th>stopw_WRatio</th>\n",
              "    </tr>\n",
              "    <tr>\n",
              "      <th>pair_id</th>\n",
              "      <th></th>\n",
              "      <th></th>\n",
              "      <th></th>\n",
              "      <th></th>\n",
              "      <th></th>\n",
              "      <th></th>\n",
              "      <th></th>\n",
              "      <th></th>\n",
              "      <th></th>\n",
              "      <th></th>\n",
              "      <th></th>\n",
              "      <th></th>\n",
              "      <th></th>\n",
              "      <th></th>\n",
              "      <th></th>\n",
              "      <th></th>\n",
              "      <th></th>\n",
              "      <th></th>\n",
              "      <th></th>\n",
              "    </tr>\n",
              "  </thead>\n",
              "  <tbody>\n",
              "    <tr>\n",
              "      <th>1</th>\n",
              "      <td>iko industries</td>\n",
              "      <td>enormous industrial trade</td>\n",
              "      <td>0</td>\n",
              "      <td>iko industries</td>\n",
              "      <td>enormous industrial trade</td>\n",
              "      <td>iko industry</td>\n",
              "      <td>enormous industrial trade</td>\n",
              "      <td>iko industry</td>\n",
              "      <td>enormous industrial trade</td>\n",
              "      <td>iko</td>\n",
              "      <td>enormous</td>\n",
              "      <td>0.71</td>\n",
              "      <td>0.56</td>\n",
              "      <td>0.56</td>\n",
              "      <td>0.64</td>\n",
              "      <td>0.75</td>\n",
              "      <td>0.49</td>\n",
              "      <td>0.49</td>\n",
              "      <td>0.68</td>\n",
              "    </tr>\n",
              "    <tr>\n",
              "      <th>2</th>\n",
              "      <td>apcotex industries</td>\n",
              "      <td>technocraft industries</td>\n",
              "      <td>0</td>\n",
              "      <td>apcotex industries</td>\n",
              "      <td>technocraft industries</td>\n",
              "      <td>apcotex industry</td>\n",
              "      <td>technocraft industry</td>\n",
              "      <td>apcotex industry</td>\n",
              "      <td>technocraft industry</td>\n",
              "      <td>apcotex</td>\n",
              "      <td>technocraft</td>\n",
              "      <td>0.72</td>\n",
              "      <td>0.50</td>\n",
              "      <td>0.71</td>\n",
              "      <td>0.67</td>\n",
              "      <td>0.69</td>\n",
              "      <td>0.44</td>\n",
              "      <td>0.67</td>\n",
              "      <td>0.64</td>\n",
              "    </tr>\n",
              "    <tr>\n",
              "      <th>3</th>\n",
              "      <td>rishichem distributors</td>\n",
              "      <td>dsa</td>\n",
              "      <td>0</td>\n",
              "      <td>rishichem distributors</td>\n",
              "      <td>dsa</td>\n",
              "      <td>rishichem distributor</td>\n",
              "      <td>dsa</td>\n",
              "      <td>rishichem distributor</td>\n",
              "      <td>dsa</td>\n",
              "      <td>rishichem</td>\n",
              "      <td>dsa</td>\n",
              "      <td>0.67</td>\n",
              "      <td>0.16</td>\n",
              "      <td>0.16</td>\n",
              "      <td>0.60</td>\n",
              "      <td>0.67</td>\n",
              "      <td>0.17</td>\n",
              "      <td>0.17</td>\n",
              "      <td>0.60</td>\n",
              "    </tr>\n",
              "    <tr>\n",
              "      <th>4</th>\n",
              "      <td>powermax rubber factory</td>\n",
              "      <td>co one</td>\n",
              "      <td>0</td>\n",
              "      <td>powermax rubber factory</td>\n",
              "      <td>co one</td>\n",
              "      <td>powermax rubber factory</td>\n",
              "      <td>co one</td>\n",
              "      <td>powermax rubber factory</td>\n",
              "      <td>co one</td>\n",
              "      <td>powermax factory</td>\n",
              "      <td></td>\n",
              "      <td>0.36</td>\n",
              "      <td>0.34</td>\n",
              "      <td>0.34</td>\n",
              "      <td>0.43</td>\n",
              "      <td>0.36</td>\n",
              "      <td>0.34</td>\n",
              "      <td>0.34</td>\n",
              "      <td>0.43</td>\n",
              "    </tr>\n",
              "    <tr>\n",
              "      <th>5</th>\n",
              "      <td>tress as</td>\n",
              "      <td>longyou industries park zhejiang</td>\n",
              "      <td>0</td>\n",
              "      <td>tress as</td>\n",
              "      <td>longyou industries park zhejiang</td>\n",
              "      <td>tress a</td>\n",
              "      <td>longyou industry park zhejiang</td>\n",
              "      <td>tress</td>\n",
              "      <td>longyou industry park zhejiang</td>\n",
              "      <td>tress</td>\n",
              "      <td>longyou park zhejiang</td>\n",
              "      <td>0.75</td>\n",
              "      <td>0.20</td>\n",
              "      <td>0.20</td>\n",
              "      <td>0.68</td>\n",
              "      <td>0.40</td>\n",
              "      <td>0.17</td>\n",
              "      <td>0.17</td>\n",
              "      <td>0.36</td>\n",
              "    </tr>\n",
              "  </tbody>\n",
              "</table>\n",
              "</div>"
            ],
            "text/plain": [
              "                          name_1  ... stopw_WRatio\n",
              "pair_id                           ...             \n",
              "1                 iko industries  ...         0.68\n",
              "2             apcotex industries  ...         0.64\n",
              "3         rishichem distributors  ...         0.60\n",
              "4        powermax rubber factory  ...         0.43\n",
              "5                       tress as  ...         0.36\n",
              "\n",
              "[5 rows x 19 columns]"
            ]
          },
          "metadata": {
            "tags": []
          },
          "execution_count": 39
        }
      ]
    },
    {
      "cell_type": "code",
      "metadata": {
        "id": "F2q3hkWulKxY"
      },
      "source": [
        "train = calculate_distance(train, col_1='clean_name_1', col_2='clean_name_2', prefix='clean_')\n",
        "test  = calculate_distance(test, col_1='clean_name_1', col_2='clean_name_2', prefix='clean_')\n",
        "\n",
        "train = calculate_distance(train, col_1='lemm_name_1', col_2='lemm_name_2', prefix='lemm_')\n",
        "test  = calculate_distance(test, col_1='lemm_name_1', col_2='lemm_name_2', prefix='lemm_')"
      ],
      "execution_count": null,
      "outputs": []
    },
    {
      "cell_type": "code",
      "metadata": {
        "id": "o0YlRpeLnYQF"
      },
      "source": [
        "train.to_csv('train_distance.csv', index=False)\n",
        "test.to_csv('test_distance.csv', index=False)"
      ],
      "execution_count": null,
      "outputs": []
    },
    {
      "cell_type": "code",
      "metadata": {
        "colab": {
          "base_uri": "https://localhost:8080/",
          "height": 391
        },
        "id": "vuyJEkRn5FTa",
        "outputId": "afb67f88-2bc1-4727-d5f2-8f8391669e5e"
      },
      "source": [
        "train = pd.read_csv(\"train_dist.csv\")\n",
        "test  = pd.read_csv(\"test_dist.csv\")\n",
        "train.head()"
      ],
      "execution_count": null,
      "outputs": [
        {
          "output_type": "execute_result",
          "data": {
            "text/html": [
              "<div>\n",
              "<style scoped>\n",
              "    .dataframe tbody tr th:only-of-type {\n",
              "        vertical-align: middle;\n",
              "    }\n",
              "\n",
              "    .dataframe tbody tr th {\n",
              "        vertical-align: top;\n",
              "    }\n",
              "\n",
              "    .dataframe thead th {\n",
              "        text-align: right;\n",
              "    }\n",
              "</style>\n",
              "<table border=\"1\" class=\"dataframe\">\n",
              "  <thead>\n",
              "    <tr style=\"text-align: right;\">\n",
              "      <th></th>\n",
              "      <th>Unnamed: 0</th>\n",
              "      <th>name_1</th>\n",
              "      <th>name_2</th>\n",
              "      <th>is_duplicate</th>\n",
              "      <th>lemm_name_1</th>\n",
              "      <th>lemm_name_2</th>\n",
              "      <th>stopw_name_1</th>\n",
              "      <th>stopw_name_2</th>\n",
              "      <th>clean_name_1</th>\n",
              "      <th>clean_name_2</th>\n",
              "      <th>cleanjaccard</th>\n",
              "      <th>cleancosine</th>\n",
              "      <th>cleanmra</th>\n",
              "      <th>cleanjaro_winkler</th>\n",
              "      <th>cleanhamming</th>\n",
              "      <th>cleanmlipns</th>\n",
              "      <th>cleandamerau_levenshtein</th>\n",
              "      <th>cleanstrcmp95</th>\n",
              "      <th>cleanneedleman_wunsch</th>\n",
              "      <th>cleansorensen</th>\n",
              "      <th>cleantversky</th>\n",
              "      <th>cleanoverlap</th>\n",
              "      <th>cleantanimoto</th>\n",
              "      <th>cleanmonge_elkan</th>\n",
              "      <th>cleanbag</th>\n",
              "      <th>cleanlcsseq</th>\n",
              "      <th>cleanlcsstr</th>\n",
              "      <th>cleanratcliff_obershelp</th>\n",
              "      <th>lemm_sorensen</th>\n",
              "      <th>lemm_tversky</th>\n",
              "      <th>lemm_overlap</th>\n",
              "      <th>lemm_tanimoto</th>\n",
              "      <th>lemm_monge_elkan</th>\n",
              "      <th>lemm_bag</th>\n",
              "      <th>lemm_lcsseq</th>\n",
              "      <th>lemm_lcsstr</th>\n",
              "      <th>lemm_ratcliff_obershelp</th>\n",
              "    </tr>\n",
              "  </thead>\n",
              "  <tbody>\n",
              "    <tr>\n",
              "      <th>0</th>\n",
              "      <td>0</td>\n",
              "      <td>iko industries</td>\n",
              "      <td>enormous industrial trade</td>\n",
              "      <td>0</td>\n",
              "      <td>iko industry</td>\n",
              "      <td>enormous industrial trade</td>\n",
              "      <td>iko industry</td>\n",
              "      <td>enormous industrial trade</td>\n",
              "      <td>iko</td>\n",
              "      <td>enormous</td>\n",
              "      <td>0.100000</td>\n",
              "      <td>0.204124</td>\n",
              "      <td>0</td>\n",
              "      <td>0.486111</td>\n",
              "      <td>7</td>\n",
              "      <td>0</td>\n",
              "      <td>7</td>\n",
              "      <td>0.531944</td>\n",
              "      <td>-4.0</td>\n",
              "      <td>0.181818</td>\n",
              "      <td>0.100000</td>\n",
              "      <td>0.333333</td>\n",
              "      <td>-3.321928</td>\n",
              "      <td>0.111111</td>\n",
              "      <td>7</td>\n",
              "      <td>o</td>\n",
              "      <td>o</td>\n",
              "      <td>0.181818</td>\n",
              "      <td>0.540541</td>\n",
              "      <td>0.370370</td>\n",
              "      <td>0.833333</td>\n",
              "      <td>-1.432959</td>\n",
              "      <td>0.069444</td>\n",
              "      <td>15</td>\n",
              "      <td>o industr</td>\n",
              "      <td>industr</td>\n",
              "      <td>0.486486</td>\n",
              "    </tr>\n",
              "    <tr>\n",
              "      <th>1</th>\n",
              "      <td>1</td>\n",
              "      <td>apcotex industries</td>\n",
              "      <td>technocraft industries</td>\n",
              "      <td>0</td>\n",
              "      <td>apcotex industry</td>\n",
              "      <td>technocraft industry</td>\n",
              "      <td>apcotex industry</td>\n",
              "      <td>technocraft industry</td>\n",
              "      <td>apcotex</td>\n",
              "      <td>technocraft</td>\n",
              "      <td>0.384615</td>\n",
              "      <td>0.569803</td>\n",
              "      <td>0</td>\n",
              "      <td>0.478355</td>\n",
              "      <td>10</td>\n",
              "      <td>0</td>\n",
              "      <td>9</td>\n",
              "      <td>0.501732</td>\n",
              "      <td>-2.0</td>\n",
              "      <td>0.555556</td>\n",
              "      <td>0.384615</td>\n",
              "      <td>0.714286</td>\n",
              "      <td>-1.378512</td>\n",
              "      <td>0.102041</td>\n",
              "      <td>6</td>\n",
              "      <td>cot</td>\n",
              "      <td>te</td>\n",
              "      <td>0.222222</td>\n",
              "      <td>0.777778</td>\n",
              "      <td>0.636364</td>\n",
              "      <td>0.875000</td>\n",
              "      <td>-0.652077</td>\n",
              "      <td>0.054688</td>\n",
              "      <td>6</td>\n",
              "      <td>cot industry</td>\n",
              "      <td>industry</td>\n",
              "      <td>0.611111</td>\n",
              "    </tr>\n",
              "    <tr>\n",
              "      <th>2</th>\n",
              "      <td>2</td>\n",
              "      <td>rishichem distributors</td>\n",
              "      <td>dsa</td>\n",
              "      <td>0</td>\n",
              "      <td>rishichem distributor</td>\n",
              "      <td>dsa</td>\n",
              "      <td>rishichem distributor</td>\n",
              "      <td>dsa</td>\n",
              "      <td>rishichem distributor</td>\n",
              "      <td>NaN</td>\n",
              "      <td>0.000000</td>\n",
              "      <td>0.000000</td>\n",
              "      <td>0</td>\n",
              "      <td>0.000000</td>\n",
              "      <td>21</td>\n",
              "      <td>0</td>\n",
              "      <td>21</td>\n",
              "      <td>0.000000</td>\n",
              "      <td>-21.0</td>\n",
              "      <td>0.000000</td>\n",
              "      <td>0.000000</td>\n",
              "      <td>0.000000</td>\n",
              "      <td>-inf</td>\n",
              "      <td>0.000000</td>\n",
              "      <td>21</td>\n",
              "      <td>NaN</td>\n",
              "      <td>NaN</td>\n",
              "      <td>0.000000</td>\n",
              "      <td>0.166667</td>\n",
              "      <td>0.090909</td>\n",
              "      <td>0.666667</td>\n",
              "      <td>-3.459432</td>\n",
              "      <td>0.006803</td>\n",
              "      <td>19</td>\n",
              "      <td>ds</td>\n",
              "      <td>s</td>\n",
              "      <td>0.083333</td>\n",
              "    </tr>\n",
              "    <tr>\n",
              "      <th>3</th>\n",
              "      <td>3</td>\n",
              "      <td>powermax rubber factory</td>\n",
              "      <td>co one</td>\n",
              "      <td>0</td>\n",
              "      <td>powermax rubber factory</td>\n",
              "      <td>co one</td>\n",
              "      <td>powermax rubber factory</td>\n",
              "      <td>co one</td>\n",
              "      <td>powermax factory</td>\n",
              "      <td>NaN</td>\n",
              "      <td>0.000000</td>\n",
              "      <td>0.000000</td>\n",
              "      <td>0</td>\n",
              "      <td>0.000000</td>\n",
              "      <td>16</td>\n",
              "      <td>0</td>\n",
              "      <td>16</td>\n",
              "      <td>0.000000</td>\n",
              "      <td>-16.0</td>\n",
              "      <td>0.000000</td>\n",
              "      <td>0.000000</td>\n",
              "      <td>0.000000</td>\n",
              "      <td>-inf</td>\n",
              "      <td>0.000000</td>\n",
              "      <td>16</td>\n",
              "      <td>NaN</td>\n",
              "      <td>NaN</td>\n",
              "      <td>0.000000</td>\n",
              "      <td>0.344828</td>\n",
              "      <td>0.208333</td>\n",
              "      <td>0.833333</td>\n",
              "      <td>-2.263034</td>\n",
              "      <td>0.013233</td>\n",
              "      <td>18</td>\n",
              "      <td>o e</td>\n",
              "      <td>o</td>\n",
              "      <td>0.137931</td>\n",
              "    </tr>\n",
              "    <tr>\n",
              "      <th>4</th>\n",
              "      <td>4</td>\n",
              "      <td>tress as</td>\n",
              "      <td>longyou industries park zhejiang</td>\n",
              "      <td>0</td>\n",
              "      <td>tress a</td>\n",
              "      <td>longyou industry park zhejiang</td>\n",
              "      <td>tress</td>\n",
              "      <td>longyou industry park zhejiang</td>\n",
              "      <td>tress</td>\n",
              "      <td>longyou park</td>\n",
              "      <td>0.062500</td>\n",
              "      <td>0.129099</td>\n",
              "      <td>0</td>\n",
              "      <td>0.000000</td>\n",
              "      <td>12</td>\n",
              "      <td>0</td>\n",
              "      <td>12</td>\n",
              "      <td>0.000000</td>\n",
              "      <td>-7.0</td>\n",
              "      <td>0.117647</td>\n",
              "      <td>0.062500</td>\n",
              "      <td>0.200000</td>\n",
              "      <td>-4.000000</td>\n",
              "      <td>0.040000</td>\n",
              "      <td>11</td>\n",
              "      <td>r</td>\n",
              "      <td>r</td>\n",
              "      <td>0.117647</td>\n",
              "      <td>0.324324</td>\n",
              "      <td>0.193548</td>\n",
              "      <td>0.857143</td>\n",
              "      <td>-2.369234</td>\n",
              "      <td>0.142857</td>\n",
              "      <td>24</td>\n",
              "      <td>tr a</td>\n",
              "      <td>tr</td>\n",
              "      <td>0.216216</td>\n",
              "    </tr>\n",
              "  </tbody>\n",
              "</table>\n",
              "</div>"
            ],
            "text/plain": [
              "   Unnamed: 0                   name_1  ... lemm_lcsstr  lemm_ratcliff_obershelp\n",
              "0           0           iko industries  ...     industr                 0.486486\n",
              "1           1       apcotex industries  ...    industry                 0.611111\n",
              "2           2   rishichem distributors  ...           s                 0.083333\n",
              "3           3  powermax rubber factory  ...           o                 0.137931\n",
              "4           4                 tress as  ...          tr                 0.216216\n",
              "\n",
              "[5 rows x 37 columns]"
            ]
          },
          "metadata": {
            "tags": []
          },
          "execution_count": 5
        }
      ]
    },
    {
      "cell_type": "code",
      "metadata": {
        "id": "YvWicip09PyJ"
      },
      "source": [
        "train.drop(columns=['Unnamed: 0'], inplace=True)\n",
        "test.drop(columns=['Unnamed: 0'], inplace=True)"
      ],
      "execution_count": null,
      "outputs": []
    },
    {
      "cell_type": "markdown",
      "metadata": {
        "id": "0f93Unux62s7"
      },
      "source": [
        "# Модели"
      ]
    },
    {
      "cell_type": "markdown",
      "metadata": {
        "id": "MB0eeb2iCEun"
      },
      "source": [
        "C norm_levenstein logisticRegression - максимально 0.27 на пороге 0.85\n",
        "Без него 0.38 "
      ]
    },
    {
      "cell_type": "code",
      "metadata": {
        "id": "iFq-2cowns2t"
      },
      "source": [
        "FTS = train.loc[:, train.dtypes != 'object'].columns.values\n",
        "FTS = np.delete(FTS, np.where(FTS == 'is_duplicate'))"
      ],
      "execution_count": null,
      "outputs": []
    },
    {
      "cell_type": "code",
      "metadata": {
        "colab": {
          "base_uri": "https://localhost:8080/"
        },
        "id": "vmXun_vLrh8_",
        "outputId": "e52d73cf-c202-4731-83d6-55835d5dffd4"
      },
      "source": [
        "FTS"
      ],
      "execution_count": null,
      "outputs": [
        {
          "output_type": "execute_result",
          "data": {
            "text/plain": [
              "array(['cleanjaccard', 'cleancosine', 'cleanmra', 'cleanjaro_winkler',\n",
              "       'cleanhamming', 'cleanmlipns', 'cleandamerau_levenshtein',\n",
              "       'cleanstrcmp95', 'cleanneedleman_wunsch', 'cleansorensen',\n",
              "       'cleantversky', 'cleanoverlap', 'cleantanimoto',\n",
              "       'cleanmonge_elkan', 'cleanbag', 'cleanratcliff_obershelp',\n",
              "       'lemm_sorensen', 'lemm_tversky', 'lemm_overlap', 'lemm_tanimoto',\n",
              "       'lemm_monge_elkan', 'lemm_bag', 'lemm_ratcliff_obershelp'],\n",
              "      dtype=object)"
            ]
          },
          "metadata": {
            "tags": []
          },
          "execution_count": 249
        }
      ]
    },
    {
      "cell_type": "code",
      "metadata": {
        "id": "hbOTx2btW4bQ"
      },
      "source": [
        "from sklearn.preprocessing import MinMaxScaler\n",
        "\n",
        "scaler = MinMaxScaler()\n",
        "train[FTS] = scaler.fit_transform(train[FTS])\n",
        "test[FTS] = scaler.transform(test[FTS])"
      ],
      "execution_count": null,
      "outputs": []
    },
    {
      "cell_type": "code",
      "metadata": {
        "id": "fWg2UP7k6-9Q"
      },
      "source": [
        "split = StratifiedShuffleSplit(1, train_size=0.8, random_state=42)\n",
        "tridx, cvidx = list(split.split(train[FTS], train[\"is_duplicate\"]))[0]"
      ],
      "execution_count": null,
      "outputs": []
    },
    {
      "cell_type": "code",
      "metadata": {
        "id": "xru8D8DYuJZi"
      },
      "source": [
        "def choose_thr(model, train, tridx, cvidx, cols=FTS):\n",
        "    tr_preds = model.predict_proba(train.iloc[tridx][cols].values)\n",
        "    cv_preds = model.predict_proba(train.iloc[cvidx][cols].values)\n",
        "\n",
        "    for thr in np.arange(0.5, 1, 0.05):\n",
        "        tr_pred = (tr_preds[:, 1] > thr).astype(np.int)\n",
        "        cv_pred = (cv_preds[:, 1] > thr).astype(np.int)\n",
        "\n",
        "        print(\"thr =\", thr, f1_score(train.iloc[tridx][\"is_duplicate\"].values, tr_pred))\n",
        "        print(\"thr =\", thr, f1_score(train.iloc[cvidx][\"is_duplicate\"].values, cv_pred))"
      ],
      "execution_count": null,
      "outputs": []
    },
    {
      "cell_type": "markdown",
      "metadata": {
        "id": "aNieNf9jY1gi"
      },
      "source": [
        "## Градиентный бустинг на числовых признаках"
      ]
    },
    {
      "cell_type": "code",
      "metadata": {
        "colab": {
          "base_uri": "https://localhost:8080/"
        },
        "id": "nMYXGCf-67r-",
        "outputId": "367e86fa-4790-49e7-e0a9-6465019c7b85"
      },
      "source": [
        "!pip install lightgbm"
      ],
      "execution_count": null,
      "outputs": [
        {
          "output_type": "stream",
          "text": [
            "Requirement already satisfied: lightgbm in /usr/local/lib/python3.6/dist-packages (2.2.3)\n",
            "Requirement already satisfied: numpy in /usr/local/lib/python3.6/dist-packages (from lightgbm) (1.18.5)\n",
            "Requirement already satisfied: scikit-learn in /usr/local/lib/python3.6/dist-packages (from lightgbm) (0.22.2.post1)\n",
            "Requirement already satisfied: scipy in /usr/local/lib/python3.6/dist-packages (from lightgbm) (1.4.1)\n",
            "Requirement already satisfied: joblib>=0.11 in /usr/local/lib/python3.6/dist-packages (from scikit-learn->lightgbm) (0.17.0)\n"
          ],
          "name": "stdout"
        }
      ]
    },
    {
      "cell_type": "code",
      "metadata": {
        "colab": {
          "base_uri": "https://localhost:8080/"
        },
        "id": "n3mz1H0T-CBG",
        "outputId": "36b54ea6-a1b5-42db-ff43-08df47ecac44"
      },
      "source": [
        "from lightgbm import LGBMClassifier\n",
        "\n",
        "model = LGBMClassifier()\n",
        "model.fit(train.iloc[tridx][FTS].values,\n",
        "          train.iloc[tridx][\"is_duplicate\"].values)\n",
        "\n",
        "choose_thr(model, train, tridx, cvidx)\n",
        "\n",
        "# thr = 0.5 server = 0.3616"
      ],
      "execution_count": null,
      "outputs": [
        {
          "output_type": "stream",
          "text": [
            "thr = 0.5 0.5893317469760063\n",
            "thr = 0.5 0.48988764044943817\n",
            "thr = 0.55 0.5773322422258592\n",
            "thr = 0.55 0.4824961948249619\n",
            "thr = 0.6000000000000001 0.5567186498611407\n",
            "thr = 0.6000000000000001 0.4608076009501188\n",
            "thr = 0.6500000000000001 0.5305574210879785\n",
            "thr = 0.6500000000000001 0.424192212096106\n",
            "thr = 0.7000000000000002 0.5024401580292818\n",
            "thr = 0.7000000000000002 0.4126712328767123\n",
            "thr = 0.7500000000000002 0.4772618477740546\n",
            "thr = 0.7500000000000002 0.3978779840848806\n",
            "thr = 0.8000000000000003 0.449100320433818\n",
            "thr = 0.8000000000000003 0.36296975252062325\n",
            "thr = 0.8500000000000003 0.3949340914965107\n",
            "thr = 0.8500000000000003 0.3218390804597701\n",
            "thr = 0.9000000000000004 0.3113673805601318\n",
            "thr = 0.9000000000000004 0.27027027027027023\n",
            "thr = 0.9500000000000004 0.27331642716258103\n",
            "thr = 0.9500000000000004 0.23076923076923078\n"
          ],
          "name": "stdout"
        }
      ]
    },
    {
      "cell_type": "markdown",
      "metadata": {
        "id": "uuE0dFz--UD0"
      },
      "source": [
        "Добавить регуляризацию и взвесим классы"
      ]
    },
    {
      "cell_type": "code",
      "metadata": {
        "colab": {
          "base_uri": "https://localhost:8080/"
        },
        "id": "PtKcnm0a68Hj",
        "outputId": "3e0a5ddc-771c-4655-ac37-67825a442fca"
      },
      "source": [
        "from lightgbm import LGBMClassifier\n",
        "\n",
        "# Tuning for imbalanced data\n",
        "sample_pos_weight = sum( train[\"is_duplicate\"] == 0) / sum( train[\"is_duplicate\"] == 1)\n",
        "\n",
        "lgbm = LGBMClassifier(n_estimators=100, sample_pos_weight=sample_pos_weight, objective='binary', lambda_l2=0.5, lambda_l1=0.5)\n",
        "\n",
        "lgbm.fit(train.iloc[tridx][FTS].values,\n",
        "          train.iloc[tridx][\"is_duplicate\"].values)\n",
        "\n",
        "choose_thr(lgbm, train, tridx, cvidx)\n",
        "\n",
        "# thr = 0.5 server = 0.4"
      ],
      "execution_count": null,
      "outputs": [
        {
          "output_type": "stream",
          "text": [
            "thr = 0.1 0.6102278749337573\n",
            "thr = 0.1 0.5421363392377885\n",
            "thr = 0.15000000000000002 0.654387541179994\n",
            "thr = 0.15000000000000002 0.5656934306569343\n",
            "thr = 0.20000000000000004 0.6721417069243156\n",
            "thr = 0.20000000000000004 0.5851413543721236\n",
            "thr = 0.25000000000000006 0.6693766937669376\n",
            "thr = 0.25000000000000006 0.5816678152997933\n",
            "thr = 0.30000000000000004 0.6656017039403621\n",
            "thr = 0.30000000000000004 0.5837526959022287\n",
            "thr = 0.3500000000000001 0.6626954579300075\n",
            "thr = 0.3500000000000001 0.5761440360090022\n",
            "thr = 0.40000000000000013 0.6563106796116505\n",
            "thr = 0.40000000000000013 0.5691699604743082\n",
            "thr = 0.45000000000000007 0.6445344129554657\n",
            "thr = 0.45000000000000007 0.5582163501238645\n",
            "thr = 0.5000000000000001 0.6263829787234043\n",
            "thr = 0.5000000000000001 0.5421686746987951\n",
            "thr = 0.5500000000000002 0.5984780662488809\n",
            "thr = 0.5500000000000002 0.5122171945701357\n",
            "thr = 0.6000000000000002 0.5545861825041264\n",
            "thr = 0.6000000000000002 0.4669856459330143\n",
            "thr = 0.6500000000000001 0.5066864784546805\n",
            "thr = 0.6500000000000001 0.4323232323232324\n",
            "thr = 0.7000000000000002 0.4466423737636647\n",
            "thr = 0.7000000000000002 0.3957894736842106\n",
            "thr = 0.7500000000000002 0.37561509021323125\n",
            "thr = 0.7500000000000002 0.3384615384615385\n",
            "thr = 0.8000000000000002 0.3107683518994573\n",
            "thr = 0.8000000000000002 0.2798165137614678\n",
            "thr = 0.8500000000000002 0.25516834022445367\n",
            "thr = 0.8500000000000002 0.23431952662721894\n",
            "thr = 0.9000000000000002 0.18221124150710316\n",
            "thr = 0.9000000000000002 0.17914110429447852\n",
            "thr = 0.9500000000000003 0.08927989573150864\n",
            "thr = 0.9500000000000003 0.09067357512953367\n"
          ],
          "name": "stdout"
        }
      ]
    },
    {
      "cell_type": "markdown",
      "metadata": {
        "id": "9qtW7qHZDvDF"
      },
      "source": [
        "## Ансамбль "
      ]
    },
    {
      "cell_type": "code",
      "metadata": {
        "colab": {
          "base_uri": "https://localhost:8080/"
        },
        "id": "HMVqd1f0DpYn",
        "outputId": "8087ce43-0174-41d0-8eda-cf4491f79090"
      },
      "source": [
        "sample_pos_weight = sum( train[\"is_duplicate\"] == 0) / sum( train[\"is_duplicate\"] == 1)\n",
        "\n",
        "models = []\n",
        "tr_preds = np.zeros((len(train.iloc[tridx][FTS]), 2))\n",
        "cv_preds = np.zeros((len(train.iloc[cvidx][FTS]), 2))\n",
        "\n",
        "for i in range(10):\n",
        "    alpha = np.random.rand(1)\n",
        "    model = LGBMClassifier(n_estimators=100, sample_pos_weight=sample_pos_weight, objective='binary', lambda_l2=alpha, lambda_l1=1-alpha)\n",
        "    model.fit(train.iloc[tridx][FTS].values,\n",
        "            train.iloc[tridx][\"is_duplicate\"].values)\n",
        "    \n",
        "    models.append(model)\n",
        "    tr_preds += model.predict_proba(train.iloc[tridx][FTS].values)\n",
        "    cv_preds += model.predict_proba(train.iloc[cvidx][FTS].values)\n",
        "\n",
        "tr_preds /= len(models)\n",
        "cv_preds /= len(models)\n",
        "\n",
        "for thr in np.arange(0.5, 1, 0.05):\n",
        "    tr_pred = (tr_preds[:, 1] > thr).astype(np.int)\n",
        "    cv_pred = (cv_preds[:, 1] > thr).astype(np.int)\n",
        "\n",
        "    print(\"thr =\", thr, f1_score(train.iloc[tridx][\"is_duplicate\"].values, tr_pred))\n",
        "    print(\"thr =\", thr, f1_score(train.iloc[cvidx][\"is_duplicate\"].values, cv_pred))"
      ],
      "execution_count": null,
      "outputs": [
        {
          "output_type": "stream",
          "text": [
            "thr = 0.5 0.6237389997853617\n",
            "thr = 0.5 0.5341506129597198\n",
            "thr = 0.55 0.5953718265558302\n",
            "thr = 0.55 0.5141294439380127\n",
            "thr = 0.6000000000000001 0.5552154461973157\n",
            "thr = 0.6000000000000001 0.4851957975167144\n",
            "thr = 0.6500000000000001 0.5021086579012651\n",
            "thr = 0.6500000000000001 0.43592330978809285\n",
            "thr = 0.7000000000000002 0.4444444444444445\n",
            "thr = 0.7000000000000002 0.3928571428571429\n",
            "thr = 0.7500000000000002 0.36792970895112576\n",
            "thr = 0.7500000000000002 0.3303769401330377\n",
            "thr = 0.8000000000000003 0.31287467884670284\n",
            "thr = 0.8000000000000003 0.28243398392652125\n",
            "thr = 0.8500000000000003 0.24238805970149255\n",
            "thr = 0.8500000000000003 0.22115384615384615\n",
            "thr = 0.9000000000000004 0.1781502172563625\n",
            "thr = 0.9000000000000004 0.1596009975062344\n",
            "thr = 0.9500000000000004 0.04542418169672678\n",
            "thr = 0.9500000000000004 0.047936085219707054\n"
          ],
          "name": "stdout"
        }
      ]
    },
    {
      "cell_type": "markdown",
      "metadata": {
        "id": "3S-2sGEK94MH"
      },
      "source": [
        "Локально ансамбль не дал прироста, лишь немного сократился разброс между тренировочной выборкой и валидационной"
      ]
    },
    {
      "cell_type": "markdown",
      "metadata": {
        "id": "x7KSajkVY-vs"
      },
      "source": [
        "## Случайный лес"
      ]
    },
    {
      "cell_type": "code",
      "metadata": {
        "colab": {
          "base_uri": "https://localhost:8080/"
        },
        "id": "LEvXvNXG_52_",
        "outputId": "8a8f62db-5c9a-4597-d0d0-a29c8e8b503c"
      },
      "source": [
        "from sklearn.ensemble import RandomForestClassifier\n",
        "from sklearn.model_selection import GridSearchCV\n",
        "\n",
        "clf = RandomForestClassifier(random_state=42, criterion='entropy', max_features='auto')\n",
        "parameters = {#'n_estimators' : [50, 100, 200, 300, 500],\n",
        "            #   'max_depth': [2, 3, 5, 7, 9],\n",
        "              'class_weight': ['balanced', 'balanced_subsample']\n",
        "              }\n",
        "cv = GridSearchCV(clf, parameters, scoring='f1', cv=3, n_jobs=-1)\n",
        "\n",
        "cv.fit(train.iloc[tridx[:10000]][FTS].values,\n",
        "       train.iloc[tridx[:10000]][\"is_duplicate\"].values)\n",
        "print(cv.best_score_, cv.best_params_)"
      ],
      "execution_count": null,
      "outputs": [
        {
          "output_type": "stream",
          "text": [
            "0.21666666666666667 {'class_weight': 'balanced'}\n"
          ],
          "name": "stdout"
        }
      ]
    },
    {
      "cell_type": "code",
      "metadata": {
        "colab": {
          "base_uri": "https://localhost:8080/"
        },
        "id": "0_WnMA3mTB-v",
        "outputId": "e36fead7-b4e1-49b5-e90a-76061114cfa9"
      },
      "source": [
        "from sklearn.ensemble import RandomForestClassifier\n",
        "from sklearn.model_selection import GridSearchCV\n",
        "\n",
        "clf = RandomForestClassifier(random_state=42, criterion='entropy', max_features='auto', class_weight='balanced')\n",
        "parameters = {'n_estimators' : [50, 100, 200, 300, 500],\n",
        "               'max_depth': [2, 3, 5, 7, 9]\n",
        "              }\n",
        "cv = GridSearchCV(clf, parameters, scoring='f1', cv=3, n_jobs=-1)\n",
        "\n",
        "cv.fit(train.iloc[tridx[:1000]][FTS].values,\n",
        "       train.iloc[tridx[:1000]][\"is_duplicate\"].values)\n",
        "print(cv.best_score_, cv.best_params_)"
      ],
      "execution_count": null,
      "outputs": [
        {
          "output_type": "stream",
          "text": [
            "0.42857142857142855 {'max_depth': 2, 'n_estimators': 50}\n"
          ],
          "name": "stdout"
        }
      ]
    },
    {
      "cell_type": "code",
      "metadata": {
        "colab": {
          "base_uri": "https://localhost:8080/"
        },
        "id": "zSDHV3k4T9WT",
        "outputId": "7c77950f-98c4-4f52-9dc0-3a3899314bdb"
      },
      "source": [
        "rfc = RandomForestClassifier(random_state=42, criterion='entropy', class_weight='balanced',\n",
        "                             n_estimators=50, max_features='auto', max_depth=2)\n",
        "rfc.fit(train.iloc[tridx][FTS].values,\n",
        "          train.iloc[tridx][\"is_duplicate\"].values)\n",
        "\n",
        "choose_thr(rfc, train, tridx, cvidx)"
      ],
      "execution_count": null,
      "outputs": [
        {
          "output_type": "stream",
          "text": [
            "thr = 0.5 0.28556356602778266\n",
            "thr = 0.5 0.2889842632331903\n",
            "thr = 0.55 0.30094357308004743\n",
            "thr = 0.55 0.3008581524482585\n",
            "thr = 0.6000000000000001 0.31012741363457247\n",
            "thr = 0.6000000000000001 0.3073661897191309\n",
            "thr = 0.6500000000000001 0.3181755735677978\n",
            "thr = 0.6500000000000001 0.3137902559867878\n",
            "thr = 0.7000000000000002 0.32848353239232714\n",
            "thr = 0.7000000000000002 0.31900058105752466\n",
            "thr = 0.7500000000000002 0.35037893897088157\n",
            "thr = 0.7500000000000002 0.3407501589319771\n",
            "thr = 0.8000000000000003 0.4625783458277007\n",
            "thr = 0.8000000000000003 0.44563627498781083\n",
            "thr = 0.8500000000000003 0.4632665452337583\n",
            "thr = 0.8500000000000003 0.4462006079027355\n",
            "thr = 0.9000000000000004 0.46635367762128327\n",
            "thr = 0.9000000000000004 0.4529008109794136\n",
            "thr = 0.9500000000000004 0.3779603673272112\n",
            "thr = 0.9500000000000004 0.378698224852071\n"
          ],
          "name": "stdout"
        }
      ]
    },
    {
      "cell_type": "markdown",
      "metadata": {
        "id": "HLb8lW62ZFAb"
      },
      "source": [
        "Не очень высокий скор, может подойти для блендинга с другими алгоритмами"
      ]
    },
    {
      "cell_type": "markdown",
      "metadata": {
        "id": "IVxOhCniW-Tv"
      },
      "source": [
        "## Логическая регрессия"
      ]
    },
    {
      "cell_type": "code",
      "metadata": {
        "colab": {
          "base_uri": "https://localhost:8080/"
        },
        "id": "KQ99OvGmXmTM",
        "outputId": "c71f261d-7add-4872-d54c-cc373bdb8553"
      },
      "source": [
        "model = LogisticRegression(class_weight=\"balanced\", max_iter=1000, C=10, penalty='l1', solver='saga')\n",
        "model.fit(train.iloc[tridx][FTS].values,\n",
        "          train.iloc[tridx][\"is_duplicate\"].values)\n",
        "\n",
        "choose_thr(model, train, tridx, cvidx)"
      ],
      "execution_count": null,
      "outputs": [
        {
          "output_type": "stream",
          "text": [
            "/usr/local/lib/python3.6/dist-packages/sklearn/linear_model/_sag.py:330: ConvergenceWarning: The max_iter was reached which means the coef_ did not converge\n",
            "  \"the coef_ did not converge\", ConvergenceWarning)\n"
          ],
          "name": "stderr"
        },
        {
          "output_type": "stream",
          "text": [
            "thr = 0.5 0.047854858767098954\n",
            "thr = 0.5 0.04710290378696642\n",
            "thr = 0.55 0.04923779433131155\n",
            "thr = 0.55 0.04800296543415809\n",
            "thr = 0.6000000000000001 0.050650223139306116\n",
            "thr = 0.6000000000000001 0.049527847369435336\n",
            "thr = 0.6500000000000001 0.052348825587206396\n",
            "thr = 0.6500000000000001 0.051511645455002766\n",
            "thr = 0.7000000000000002 0.05413726078505551\n",
            "thr = 0.7000000000000002 0.05327588924499553\n",
            "thr = 0.7500000000000002 0.05615716339242933\n",
            "thr = 0.7500000000000002 0.05526083112290008\n",
            "thr = 0.8000000000000003 0.058725777784200114\n",
            "thr = 0.8000000000000003 0.058244510454889625\n",
            "thr = 0.8500000000000003 0.06222455890766829\n",
            "thr = 0.8500000000000003 0.0613833032434788\n",
            "thr = 0.9000000000000004 0.06733175515725397\n",
            "thr = 0.9000000000000004 0.06616398342503907\n",
            "thr = 0.9500000000000004 0.07673214111208834\n",
            "thr = 0.9500000000000004 0.07562628013234599\n"
          ],
          "name": "stdout"
        }
      ]
    },
    {
      "cell_type": "markdown",
      "metadata": {
        "id": "sgWEB19cXC7C"
      },
      "source": [
        "Очень низкое качество, будем использовать l2 регуляризацию"
      ]
    },
    {
      "cell_type": "code",
      "metadata": {
        "colab": {
          "base_uri": "https://localhost:8080/"
        },
        "id": "lZK7xpsMU7aj",
        "outputId": "5b1077e1-bf4c-4540-9f51-6da1750bc96c"
      },
      "source": [
        "from sklearn.model_selection import GridSearchCV\n",
        "\n",
        "clf = LogisticRegression(random_state=42, max_iter=500, class_weight='balanced')\n",
        "parameters = {'C' : [0, 0.1, 1, 10]}\n",
        "cv = GridSearchCV(clf, parameters, scoring='f1', cv=3, n_jobs=-1)\n",
        "cv.fit(train.iloc[tridx][FTS].values,\n",
        "          train.iloc[tridx][\"is_duplicate\"].values)\n",
        "print(cv.best_score_, cv.best_params_)\n",
        "# 0.38 server"
      ],
      "execution_count": null,
      "outputs": [
        {
          "output_type": "stream",
          "text": [
            "0.18617500353194494 {'C': 1}\n"
          ],
          "name": "stdout"
        },
        {
          "output_type": "stream",
          "text": [
            "/usr/local/lib/python3.6/dist-packages/sklearn/linear_model/_logistic.py:940: ConvergenceWarning: lbfgs failed to converge (status=1):\n",
            "STOP: TOTAL NO. of ITERATIONS REACHED LIMIT.\n",
            "\n",
            "Increase the number of iterations (max_iter) or scale the data as shown in:\n",
            "    https://scikit-learn.org/stable/modules/preprocessing.html\n",
            "Please also refer to the documentation for alternative solver options:\n",
            "    https://scikit-learn.org/stable/modules/linear_model.html#logistic-regression\n",
            "  extra_warning_msg=_LOGISTIC_SOLVER_CONVERGENCE_MSG)\n"
          ],
          "name": "stderr"
        }
      ]
    },
    {
      "cell_type": "code",
      "metadata": {
        "colab": {
          "base_uri": "https://localhost:8080/"
        },
        "id": "U9BFMhdrCl3F",
        "outputId": "5eb81c24-a15c-47a2-ee8f-d65d88060066"
      },
      "source": [
        "logregr = LogisticRegression(class_weight=\"balanced\", max_iter=1000, C=1)\n",
        "logregr.fit(train.iloc[tridx][FTS].values,\n",
        "          train.iloc[tridx][\"is_duplicate\"].values)\n",
        "\n",
        "choose_thr(logregr, train, tridx, cvidx)"
      ],
      "execution_count": null,
      "outputs": [
        {
          "output_type": "stream",
          "text": [
            "thr = 0.5 0.1867146689255965\n",
            "thr = 0.5 0.18412162162162166\n",
            "thr = 0.55 0.2049931197169255\n",
            "thr = 0.55 0.20464969160208762\n",
            "thr = 0.6000000000000001 0.22535087719298247\n",
            "thr = 0.6000000000000001 0.22598272518949408\n",
            "thr = 0.6500000000000001 0.24644457432300798\n",
            "thr = 0.6500000000000001 0.24827586206896549\n",
            "thr = 0.7000000000000002 0.27295095412543063\n",
            "thr = 0.7000000000000002 0.27333038478549315\n",
            "thr = 0.7500000000000002 0.3029515500278448\n",
            "thr = 0.7500000000000002 0.30398009950248756\n",
            "thr = 0.8000000000000003 0.33891541366778305\n",
            "thr = 0.8000000000000003 0.3396870554765291\n",
            "thr = 0.8500000000000003 0.3825208971281966\n",
            "thr = 0.8500000000000003 0.38347107438016526\n",
            "thr = 0.9000000000000004 0.4344302796719044\n",
            "thr = 0.9000000000000004 0.4342993251290194\n",
            "thr = 0.9500000000000004 0.5077234742972905\n",
            "thr = 0.9500000000000004 0.5071574642126789\n"
          ],
          "name": "stdout"
        }
      ]
    },
    {
      "cell_type": "markdown",
      "metadata": {
        "id": "4hx-epZwWyKh"
      },
      "source": [
        "Посмотрим, какие фичи вносят наибольший вклад"
      ]
    },
    {
      "cell_type": "code",
      "metadata": {
        "colab": {
          "base_uri": "https://localhost:8080/"
        },
        "id": "r-URl_Z8iut0",
        "outputId": "a783ab3b-96ed-4373-de1d-67dcb0fd6119"
      },
      "source": [
        "for col, coef in zip(FTS, logregr.coef_[0]):\n",
        "    print(col, coef)"
      ],
      "execution_count": null,
      "outputs": [
        {
          "output_type": "stream",
          "text": [
            "partial_ratio -5.911660124133711\n",
            "token_sort_ratio -7.225385605748473\n",
            "token_set_ratio 6.142231775916364\n",
            "WRatio 4.74404914887451\n",
            "stopw_partial_ratio 3.0082990006046684\n",
            "stopw_token_sort_ratio 9.06990711108511\n",
            "stopw_token_set_ratio -1.096995883423667\n",
            "stopw_WRatio -1.082991932670864\n",
            "clean_jaccard 7.822311722574007\n",
            "clean_cosine -8.309802908170353\n",
            "clean_mra 0.3610630890506276\n",
            "clean_jaro_winkler -0.21140401540844364\n",
            "clean_hamming 4.3644658601244135\n",
            "clean_mlipns -2.4028445022425697\n",
            "clean_damerau_levenshtein 15.364684226160483\n",
            "clean_strcmp95 -0.6208141593353106\n",
            "clean_needleman_wunsch 14.009464428612594\n",
            "clean_sorensen -6.5621004888924395\n",
            "clean_tversky 7.822311722574206\n",
            "clean_overlap 1.47012239118065\n",
            "clean_monge_elkan 0.39411127400010404\n",
            "clean_bag 0.45941330561269766\n",
            "clean_ratcliff_obershelp 4.600516203433273\n",
            "lemm_jaccard -3.2963376829937565\n",
            "lemm_cosine -5.623906577150324\n",
            "lemm_mra 1.4788912585016756\n",
            "lemm_jaro_winkler 0.1179538479829372\n",
            "lemm_hamming -38.56857355186885\n",
            "lemm_mlipns -1.1214770685431186\n",
            "lemm_damerau_levenshtein 40.28230035370854\n",
            "lemm_strcmp95 9.93133088857301\n",
            "lemm_needleman_wunsch -3.3827641780955626\n",
            "lemm_sorensen 6.931335537914227\n",
            "lemm_tversky -3.2963376829937565\n",
            "lemm_overlap 2.019998355669081\n",
            "lemm_monge_elkan -1.4816253385084852\n",
            "lemm_bag -5.357912396108918\n",
            "lemm_ratcliff_obershelp -0.8059598232221867\n"
          ],
          "name": "stdout"
        }
      ]
    },
    {
      "cell_type": "markdown",
      "metadata": {
        "id": "hrJc2D9AX9h0"
      },
      "source": [
        "На сервере - 0.4366"
      ]
    },
    {
      "cell_type": "markdown",
      "metadata": {
        "id": "eh4NKr3FZPqt"
      },
      "source": [
        "## CatBoost \n",
        "Попробуем добавить столбцы с текстом в модель"
      ]
    },
    {
      "cell_type": "code",
      "metadata": {
        "colab": {
          "base_uri": "https://localhost:8080/"
        },
        "id": "Xaa1EqLKgYrw",
        "outputId": "5211b927-26d3-4bf7-bcd6-c5789523a501"
      },
      "source": [
        "!pip install catboost"
      ],
      "execution_count": null,
      "outputs": [
        {
          "output_type": "stream",
          "text": [
            "Requirement already satisfied: catboost in /usr/local/lib/python3.6/dist-packages (0.24.3)\n",
            "Requirement already satisfied: matplotlib in /usr/local/lib/python3.6/dist-packages (from catboost) (3.2.2)\n",
            "Requirement already satisfied: plotly in /usr/local/lib/python3.6/dist-packages (from catboost) (4.4.1)\n",
            "Requirement already satisfied: six in /usr/local/lib/python3.6/dist-packages (from catboost) (1.15.0)\n",
            "Requirement already satisfied: pandas>=0.24.0 in /usr/local/lib/python3.6/dist-packages (from catboost) (1.1.5)\n",
            "Requirement already satisfied: graphviz in /usr/local/lib/python3.6/dist-packages (from catboost) (0.10.1)\n",
            "Requirement already satisfied: numpy>=1.16.0 in /usr/local/lib/python3.6/dist-packages (from catboost) (1.18.5)\n",
            "Requirement already satisfied: scipy in /usr/local/lib/python3.6/dist-packages (from catboost) (1.4.1)\n",
            "Requirement already satisfied: kiwisolver>=1.0.1 in /usr/local/lib/python3.6/dist-packages (from matplotlib->catboost) (1.3.1)\n",
            "Requirement already satisfied: cycler>=0.10 in /usr/local/lib/python3.6/dist-packages (from matplotlib->catboost) (0.10.0)\n",
            "Requirement already satisfied: pyparsing!=2.0.4,!=2.1.2,!=2.1.6,>=2.0.1 in /usr/local/lib/python3.6/dist-packages (from matplotlib->catboost) (2.4.7)\n",
            "Requirement already satisfied: python-dateutil>=2.1 in /usr/local/lib/python3.6/dist-packages (from matplotlib->catboost) (2.8.1)\n",
            "Requirement already satisfied: retrying>=1.3.3 in /usr/local/lib/python3.6/dist-packages (from plotly->catboost) (1.3.3)\n",
            "Requirement already satisfied: pytz>=2017.2 in /usr/local/lib/python3.6/dist-packages (from pandas>=0.24.0->catboost) (2018.9)\n"
          ],
          "name": "stdout"
        }
      ]
    },
    {
      "cell_type": "code",
      "metadata": {
        "colab": {
          "base_uri": "https://localhost:8080/"
        },
        "id": "4lXHlnquYKJf",
        "outputId": "82fb13df-adc1-42a9-aae7-69312cb9aa59"
      },
      "source": [
        "train.columns[train.dtypes == object]"
      ],
      "execution_count": null,
      "outputs": [
        {
          "output_type": "execute_result",
          "data": {
            "text/plain": [
              "Index(['name_1', 'name_2', 'trans_name_1', 'trans_name_2', 'lemm_name_1',\n",
              "       'lemm_name_2', 'stopw_name_1', 'stopw_name_2', 'clean_name_1',\n",
              "       'clean_name_2', 'clean_lcsseq', 'clean_lcsstr', 'lemm_lcsseq',\n",
              "       'lemm_lcsstr'],\n",
              "      dtype='object')"
            ]
          },
          "metadata": {
            "tags": []
          },
          "execution_count": 75
        }
      ]
    },
    {
      "cell_type": "code",
      "metadata": {
        "id": "NDsSYbN8ZI6v"
      },
      "source": [
        "cols = list(FTS)\n",
        "cols.extend(list(train.columns[train.dtypes == object][:-4]))\n",
        "\n",
        "for col in list(train.columns[train.dtypes == object][:-4]):\n",
        "    train[col] = train[col].apply(lambda x: str(x))\n",
        "    test[col] = test[col].apply(lambda x: str(x))"
      ],
      "execution_count": null,
      "outputs": []
    },
    {
      "cell_type": "code",
      "metadata": {
        "colab": {
          "base_uri": "https://localhost:8080/"
        },
        "id": "O4uXQQT4gYuv",
        "outputId": "e1b3d89d-eceb-4f72-eba8-860904e636fa"
      },
      "source": [
        "from catboost import CatBoostClassifier\n",
        "\n",
        "# text_features = list(np.where(train.dtypes == object)[:-4])\n",
        "text_features = np.arange(len(FTS), len(FTS) + len(np.where(train.dtypes == object)[0]))[:-4]\n",
        "\n",
        "model = CatBoostClassifier(iterations=30, eval_metric='F1', text_features=text_features)\n",
        "\n",
        "model.fit(train.iloc[tridx][cols].values, train.iloc[tridx][\"is_duplicate\"].values)\n",
        "choose_thr(model, train, tridx, cvidx, cols)"
      ],
      "execution_count": null,
      "outputs": [
        {
          "output_type": "stream",
          "text": [
            "Learning rate set to 0.5\n",
            "0:\tlearn: 0.0960998\ttotal: 6.81s\tremaining: 3m 17s\n",
            "1:\tlearn: 0.6143177\ttotal: 13.8s\tremaining: 3m 13s\n",
            "2:\tlearn: 0.6881136\ttotal: 20.4s\tremaining: 3m 3s\n",
            "3:\tlearn: 0.7417033\ttotal: 26.7s\tremaining: 2m 53s\n",
            "4:\tlearn: 0.7737819\ttotal: 34.2s\tremaining: 2m 51s\n",
            "5:\tlearn: 0.7822736\ttotal: 40.2s\tremaining: 2m 40s\n",
            "6:\tlearn: 0.7956785\ttotal: 46.1s\tremaining: 2m 31s\n",
            "7:\tlearn: 0.8045155\ttotal: 54s\tremaining: 2m 28s\n",
            "8:\tlearn: 0.8132733\ttotal: 1m 1s\tremaining: 2m 24s\n",
            "9:\tlearn: 0.8174855\ttotal: 1m 7s\tremaining: 2m 15s\n",
            "10:\tlearn: 0.8232671\ttotal: 1m 13s\tremaining: 2m 7s\n",
            "11:\tlearn: 0.8303769\ttotal: 1m 20s\tremaining: 2m 1s\n",
            "12:\tlearn: 0.8360626\ttotal: 1m 27s\tremaining: 1m 54s\n",
            "13:\tlearn: 0.8412001\ttotal: 1m 34s\tremaining: 1m 47s\n",
            "14:\tlearn: 0.8462659\ttotal: 1m 40s\tremaining: 1m 40s\n",
            "15:\tlearn: 0.8520947\ttotal: 1m 46s\tremaining: 1m 33s\n",
            "16:\tlearn: 0.8539855\ttotal: 1m 52s\tremaining: 1m 26s\n",
            "17:\tlearn: 0.8588512\ttotal: 2m\tremaining: 1m 20s\n",
            "18:\tlearn: 0.8600830\ttotal: 2m 7s\tremaining: 1m 13s\n",
            "19:\tlearn: 0.8660166\ttotal: 2m 14s\tremaining: 1m 7s\n",
            "20:\tlearn: 0.8666908\ttotal: 2m 20s\tremaining: 1m\n",
            "21:\tlearn: 0.8691876\ttotal: 2m 26s\tremaining: 53.4s\n",
            "22:\tlearn: 0.8748648\ttotal: 2m 34s\tremaining: 47s\n",
            "23:\tlearn: 0.8796396\ttotal: 2m 40s\tremaining: 40.2s\n",
            "24:\tlearn: 0.8817592\ttotal: 2m 47s\tremaining: 33.4s\n",
            "25:\tlearn: 0.8869252\ttotal: 2m 53s\tremaining: 26.6s\n",
            "26:\tlearn: 0.8938387\ttotal: 3m 1s\tremaining: 20.1s\n",
            "27:\tlearn: 0.8957363\ttotal: 3m 9s\tremaining: 13.5s\n",
            "28:\tlearn: 0.8965764\ttotal: 3m 16s\tremaining: 6.78s\n",
            "29:\tlearn: 0.8965764\ttotal: 3m 22s\tremaining: 0us\n",
            "thr = 0.5 0.9265516628134448\n",
            "thr = 0.5 0.8900071890726096\n",
            "thr = 0.55 0.9223875246459939\n",
            "thr = 0.55 0.8913043478260869\n",
            "thr = 0.6000000000000001 0.9211813734372168\n",
            "thr = 0.6000000000000001 0.884333821376281\n",
            "thr = 0.6500000000000001 0.9178832116788321\n",
            "thr = 0.6500000000000001 0.8818316100443131\n",
            "thr = 0.7000000000000002 0.9112338858195211\n",
            "thr = 0.7000000000000002 0.8763040238450075\n",
            "thr = 0.7500000000000002 0.9038854805725971\n",
            "thr = 0.7500000000000002 0.8738738738738738\n",
            "thr = 0.8000000000000003 0.8931527464258842\n",
            "thr = 0.8000000000000003 0.8653992395437263\n",
            "thr = 0.8500000000000003 0.8776016803513462\n",
            "thr = 0.8500000000000003 0.8462732919254657\n",
            "thr = 0.9000000000000004 0.837495045580658\n",
            "thr = 0.9000000000000004 0.8189102564102565\n",
            "thr = 0.9500000000000004 0.7681311751103637\n",
            "thr = 0.9500000000000004 0.7586790855207451\n"
          ],
          "name": "stdout"
        }
      ]
    },
    {
      "cell_type": "markdown",
      "metadata": {
        "id": "-jJYcLn0Z6uZ"
      },
      "source": [
        "Обучается достаточно долго, поэтому ограничимся 30 эпохами. Качество на них примерно стабилизировалось."
      ]
    },
    {
      "cell_type": "markdown",
      "metadata": {
        "id": "Ugn5DZy-xqtb"
      },
      "source": [
        "# Генерация сабмита"
      ]
    },
    {
      "cell_type": "code",
      "metadata": {
        "id": "Lq6cT29Sxqtb"
      },
      "source": [
        "sample_sub = pd.read_csv(\"sample_submission.csv\", index_col=\"pair_id\")"
      ],
      "execution_count": null,
      "outputs": []
    },
    {
      "cell_type": "code",
      "metadata": {
        "id": "d24_gDgPxqtb"
      },
      "source": [
        "THR = 0.05\n",
        "sample_sub[\"is_duplicate\"] = (model.predict_proba(test[cols].values)[:, 1] > THR).astype(np.int)"
      ],
      "execution_count": null,
      "outputs": []
    },
    {
      "cell_type": "code",
      "metadata": {
        "colab": {
          "base_uri": "https://localhost:8080/"
        },
        "id": "3l7wM_xgV3Eb",
        "outputId": "4345a42f-5803-4d24-acad-839e6d0b3de8"
      },
      "source": [
        "cv_preds = 0.5*logregr.predict_proba(train.iloc[cvidx][FTS].values) + \\\n",
        "           0.5*model.predict_proba(train.iloc[cvidx][cols].values * 5) # catboost\n",
        "\n",
        "for thr in np.arange(0.1, 1, 0.05):\n",
        "    cv_pred = (cv_preds[:, 1] > thr).astype(np.int)\n",
        "\n",
        "    print(\"thr =\", thr, f1_score(train.iloc[cvidx][\"is_duplicate\"].values, cv_pred))\n",
        "\n",
        "# 0.2 thr = 0.9500000000000004 server=0.4557"
      ],
      "execution_count": null,
      "outputs": [
        {
          "output_type": "stream",
          "text": [
            "thr = 0.1 0.07824912185895704\n",
            "thr = 0.15000000000000002 0.11654104870735069\n",
            "thr = 0.20000000000000004 0.156897118439794\n",
            "thr = 0.25000000000000006 0.19743803954330272\n",
            "thr = 0.30000000000000004 0.24457182560361299\n",
            "thr = 0.3500000000000001 0.30071289695398573\n",
            "thr = 0.40000000000000013 0.37901675363911014\n",
            "thr = 0.45000000000000007 0.49834131957242905\n",
            "thr = 0.5000000000000001 0.7337409672040023\n",
            "thr = 0.5500000000000002 0.8527027027027028\n",
            "thr = 0.6000000000000002 0.8647512263489838\n",
            "thr = 0.6500000000000001 0.8628858578607322\n",
            "thr = 0.7000000000000002 0.8560939794419972\n",
            "thr = 0.7500000000000002 0.8453453453453453\n",
            "thr = 0.8000000000000002 0.8323076923076922\n",
            "thr = 0.8500000000000002 0.8176100628930818\n",
            "thr = 0.9000000000000002 0.7853061224489796\n",
            "thr = 0.9500000000000003 0.7077464788732394\n"
          ],
          "name": "stdout"
        }
      ]
    },
    {
      "cell_type": "code",
      "metadata": {
        "id": "zel3P65SFvas"
      },
      "source": [
        "sample_sub[\"is_duplicate\"] = (0.5*logregr.predict_proba(test[FTS].values)[:, 1] + \n",
        "                              0.5*model.predict_proba(test[cols].values)[:, 1] > 0.6).astype(np.int)"
      ],
      "execution_count": null,
      "outputs": []
    },
    {
      "cell_type": "code",
      "metadata": {
        "colab": {
          "base_uri": "https://localhost:8080/"
        },
        "id": "sNYfunufQiRD",
        "outputId": "7b135d2d-6897-4d86-9be5-7822ee83db8d"
      },
      "source": [
        "sample_sub.is_duplicate.value_counts() # score=0.4302 logregr"
      ],
      "execution_count": null,
      "outputs": [
        {
          "output_type": "execute_result",
          "data": {
            "text/plain": [
              "0    211509\n",
              "1      1740\n",
              "Name: is_duplicate, dtype: int64"
            ]
          },
          "metadata": {
            "tags": []
          },
          "execution_count": 326
        }
      ]
    },
    {
      "cell_type": "code",
      "metadata": {
        "colab": {
          "base_uri": "https://localhost:8080/"
        },
        "id": "Hmtxdyh4kgsS",
        "outputId": "854bd76e-21cf-4c08-e26e-931cf52ea930"
      },
      "source": [
        "sample_sub.is_duplicate.value_counts() # score=0.4387 catboost 130 epoch on numeric "
      ],
      "execution_count": null,
      "outputs": [
        {
          "output_type": "execute_result",
          "data": {
            "text/plain": [
              "0    212486\n",
              "1       763\n",
              "Name: is_duplicate, dtype: int64"
            ]
          },
          "metadata": {
            "tags": []
          },
          "execution_count": 454
        }
      ]
    },
    {
      "cell_type": "code",
      "metadata": {
        "colab": {
          "base_uri": "https://localhost:8080/"
        },
        "id": "VVCdYfsklSz6",
        "outputId": "ac47b3ad-6a3e-404c-8d88-eac2c5a68b78"
      },
      "source": [
        "#(0.7*logregr.predict_proba(test[FTS].values)[:, 1] + 0.3*lgbm.predict_proba(test[FTS].values)[:, 1] > 0.75).astype(np.int) \n",
        "sample_sub.is_duplicate.value_counts() # 0.4366"
      ],
      "execution_count": null,
      "outputs": [
        {
          "output_type": "execute_result",
          "data": {
            "text/plain": [
              "0    210828\n",
              "1      2421\n",
              "Name: is_duplicate, dtype: int64"
            ]
          },
          "metadata": {
            "tags": []
          },
          "execution_count": 72
        }
      ]
    },
    {
      "cell_type": "code",
      "metadata": {
        "colab": {
          "base_uri": "https://localhost:8080/"
        },
        "id": "5VB7LtvcfDt3",
        "outputId": "0eb5a703-51d9-49a9-9654-6b3f4fac6924"
      },
      "source": [
        "sample_sub.is_duplicate.value_counts() # score=0.47  catboost numeric + text"
      ],
      "execution_count": null,
      "outputs": [
        {
          "output_type": "execute_result",
          "data": {
            "text/plain": [
              "0    212151\n",
              "1      1098\n",
              "Name: is_duplicate, dtype: int64"
            ]
          },
          "metadata": {
            "tags": []
          },
          "execution_count": 421
        }
      ]
    },
    {
      "cell_type": "code",
      "metadata": {
        "colab": {
          "base_uri": "https://localhost:8080/"
        },
        "id": "7_EDVj5Wdp2p",
        "outputId": "39e17e8f-3c24-4ebe-e1b4-5e7907c631aa"
      },
      "source": [
        "sample_sub.is_duplicate.value_counts() # score=0.4613 catboost numeric with translate only"
      ],
      "execution_count": null,
      "outputs": [
        {
          "output_type": "execute_result",
          "data": {
            "text/plain": [
              "0    212045\n",
              "1      1204\n",
              "Name: is_duplicate, dtype: int64"
            ]
          },
          "metadata": {
            "tags": []
          },
          "execution_count": 96
        }
      ]
    },
    {
      "cell_type": "code",
      "metadata": {
        "colab": {
          "base_uri": "https://localhost:8080/"
        },
        "id": "Rz4xejLUS2-x",
        "outputId": "af783a76-aa02-4aa9-a349-2c9edace7414"
      },
      "source": [
        "sample_sub.is_duplicate.value_counts() # 0.45 logregr 0.2*lgbm.predict_proba(test[FTS].values)[:, 1] + 0.8*model.predict_proba(test[FTS].values)[:, 1] > 0.8"
      ],
      "execution_count": null,
      "outputs": [
        {
          "output_type": "execute_result",
          "data": {
            "text/plain": [
              "0    211958\n",
              "1      1291\n",
              "Name: is_duplicate, dtype: int64"
            ]
          },
          "metadata": {
            "tags": []
          },
          "execution_count": 417
        }
      ]
    },
    {
      "cell_type": "code",
      "metadata": {
        "colab": {
          "base_uri": "https://localhost:8080/"
        },
        "id": "8Iik6ryKiLj-",
        "outputId": "a77c0927-3590-49e8-b015-6721d61b6504"
      },
      "source": [
        "sample_sub.is_duplicate.value_counts() # score=0.47  catboost numeric + text without translate"
      ],
      "execution_count": null,
      "outputs": [
        {
          "output_type": "execute_result",
          "data": {
            "text/plain": [
              "0    212583\n",
              "1       666\n",
              "Name: is_duplicate, dtype: int64"
            ]
          },
          "metadata": {
            "tags": []
          },
          "execution_count": 436
        }
      ]
    },
    {
      "cell_type": "code",
      "metadata": {
        "id": "hvUV5_DFxqtc"
      },
      "source": [
        "sample_sub.to_csv(\"submission_catboost.csv\") "
      ],
      "execution_count": null,
      "outputs": []
    },
    {
      "cell_type": "markdown",
      "metadata": {
        "id": "gXoTxXlejsNO"
      },
      "source": [
        "Лучший результат удалось получить при использовании CatBoost на числовых и текстовых признаках - 0.47, но на private score упал до 0.43. Самой стабильной моделью оказался блендинг лог регрессии и CatBoost на числовых и текстовых признаках - 0.45"
      ]
    }
  ]
}